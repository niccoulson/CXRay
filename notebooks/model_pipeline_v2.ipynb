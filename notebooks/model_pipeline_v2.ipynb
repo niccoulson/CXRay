{
 "cells": [
  {
   "cell_type": "code",
   "execution_count": 80,
   "id": "5c07d8f8-e079-4e45-9b1a-05c75a56bd25",
   "metadata": {
    "execution": {
     "iopub.execute_input": "2023-03-06T11:41:22.119595Z",
     "iopub.status.busy": "2023-03-06T11:41:22.118578Z",
     "iopub.status.idle": "2023-03-06T11:41:22.131197Z",
     "shell.execute_reply": "2023-03-06T11:41:22.127270Z",
     "shell.execute_reply.started": "2023-03-06T11:41:22.119542Z"
    },
    "id": "5c07d8f8-e079-4e45-9b1a-05c75a56bd25",
    "tags": []
   },
   "outputs": [],
   "source": [
    "import os\n",
    "import pathlib\n",
    "\n",
    "import matplotlib.pyplot as plt\n",
    "import numpy as np\n",
    "import pandas as pd\n",
    "import tensorflow as tf\n",
    "\n",
    "# import PIL"
   ]
  },
  {
   "cell_type": "code",
   "execution_count": 81,
   "id": "gMxZCgA7XHG0",
   "metadata": {
    "colab": {
     "base_uri": "https://localhost:8080/"
    },
    "execution": {
     "iopub.execute_input": "2023-03-06T11:41:22.370905Z",
     "iopub.status.busy": "2023-03-06T11:41:22.370413Z",
     "iopub.status.idle": "2023-03-06T11:41:22.379226Z",
     "shell.execute_reply": "2023-03-06T11:41:22.378107Z",
     "shell.execute_reply.started": "2023-03-06T11:41:22.370817Z"
    },
    "id": "gMxZCgA7XHG0",
    "outputId": "4ce7714e-e799-4d72-e151-62661abc3357",
    "tags": []
   },
   "outputs": [
    {
     "name": "stdout",
     "output_type": "stream",
     "text": [
      "The tensorboard extension is already loaded. To reload it, use:\n",
      "  %reload_ext tensorboard\n"
     ]
    }
   ],
   "source": [
    "# %load_ext tensorboard"
   ]
  },
  {
   "cell_type": "code",
   "execution_count": null,
   "id": "1af4382c-bbd9-42f8-9e90-84c56aa00e77",
   "metadata": {
    "tags": []
   },
   "outputs": [],
   "source": [
    "# %tensorboard --logdir logs"
   ]
  },
  {
   "cell_type": "code",
   "execution_count": 82,
   "id": "pGXHVtqxYW8X",
   "metadata": {
    "colab": {
     "base_uri": "https://localhost:8080/"
    },
    "execution": {
     "iopub.execute_input": "2023-03-06T11:41:22.567830Z",
     "iopub.status.busy": "2023-03-06T11:41:22.567433Z",
     "iopub.status.idle": "2023-03-06T11:41:22.572936Z",
     "shell.execute_reply": "2023-03-06T11:41:22.570827Z",
     "shell.execute_reply.started": "2023-03-06T11:41:22.567804Z"
    },
    "id": "pGXHVtqxYW8X",
    "outputId": "6c16cb54-9aae-4e2e-ae51-13dca98214af",
    "tags": []
   },
   "outputs": [],
   "source": [
    "# # For Google Colab Only\n",
    "# # Mount GDrive\n",
    "# from google.colab import drive\n",
    "\n",
    "# drive.mount(\"/content/drive\")"
   ]
  },
  {
   "cell_type": "code",
   "execution_count": 83,
   "id": "BvwZuVysYaIm",
   "metadata": {
    "execution": {
     "iopub.execute_input": "2023-03-06T11:41:22.761742Z",
     "iopub.status.busy": "2023-03-06T11:41:22.761181Z",
     "iopub.status.idle": "2023-03-06T11:41:22.769165Z",
     "shell.execute_reply": "2023-03-06T11:41:22.768282Z",
     "shell.execute_reply.started": "2023-03-06T11:41:22.761709Z"
    },
    "id": "BvwZuVysYaIm",
    "tags": []
   },
   "outputs": [],
   "source": [
    "# # For Google Colab Only\n",
    "# # Put Colab in the context of this challenge\n",
    "\n",
    "# # os.chdir allows you to change directories, like cd in the Terminal\n",
    "# os.chdir(\"/content/drive/MyDrive/Colab Notebooks/CXRay/notebooks\")"
   ]
  },
  {
   "cell_type": "code",
   "execution_count": null,
   "id": "91096e4d-09fd-4b97-913e-d77c6967f53d",
   "metadata": {},
   "outputs": [],
   "source": [
    "# # For Google Colab Only\n",
    "# # If caching to disk instead of RAM:\n",
    "# !mkdir tmp"
   ]
  },
  {
   "cell_type": "code",
   "execution_count": null,
   "id": "e1b816c1-fe84-4a3e-80c4-3fe1537f5212",
   "metadata": {},
   "outputs": [],
   "source": [
    "IMG_SOURCE = \"GS\" # Enter \"GS\" for Google Cloud storage bucket or \"local\" to read from the local disk"
   ]
  },
  {
   "cell_type": "markdown",
   "id": "8504600a-f546-4258-92e7-61283f3f68f2",
   "metadata": {
    "id": "8504600a-f546-4258-92e7-61283f3f68f2"
   },
   "source": [
    "# Data Pre-Processing"
   ]
  },
  {
   "cell_type": "code",
   "execution_count": 84,
   "id": "7d1f0e05-7f0a-423b-8e60-d43afe9d30b1",
   "metadata": {
    "colab": {
     "base_uri": "https://localhost:8080/",
     "height": 270
    },
    "execution": {
     "iopub.execute_input": "2023-03-06T11:41:25.107741Z",
     "iopub.status.busy": "2023-03-06T11:41:25.107119Z",
     "iopub.status.idle": "2023-03-06T11:41:25.220107Z",
     "shell.execute_reply": "2023-03-06T11:41:25.219794Z",
     "shell.execute_reply.started": "2023-03-06T11:41:25.107710Z"
    },
    "id": "7d1f0e05-7f0a-423b-8e60-d43afe9d30b1",
    "outputId": "114d54c9-f337-4298-b61b-1ab513b899a9",
    "tags": []
   },
   "outputs": [
    {
     "data": {
      "text/html": [
       "<div>\n",
       "<style scoped>\n",
       "    .dataframe tbody tr th:only-of-type {\n",
       "        vertical-align: middle;\n",
       "    }\n",
       "\n",
       "    .dataframe tbody tr th {\n",
       "        vertical-align: top;\n",
       "    }\n",
       "\n",
       "    .dataframe thead th {\n",
       "        text-align: right;\n",
       "    }\n",
       "</style>\n",
       "<table border=\"1\" class=\"dataframe\">\n",
       "  <thead>\n",
       "    <tr style=\"text-align: right;\">\n",
       "      <th></th>\n",
       "      <th>img_idx</th>\n",
       "      <th>labels</th>\n",
       "      <th>age</th>\n",
       "      <th>gender</th>\n",
       "      <th>view_pos</th>\n",
       "      <th>label_cardiomegaly</th>\n",
       "      <th>label_effusion</th>\n",
       "      <th>label_no_finding</th>\n",
       "      <th>label_pneumothorax</th>\n",
       "      <th>label_pleural_thickening</th>\n",
       "      <th>label_pneumonia</th>\n",
       "      <th>label_consolidation</th>\n",
       "      <th>label_other</th>\n",
       "    </tr>\n",
       "  </thead>\n",
       "  <tbody>\n",
       "    <tr>\n",
       "      <th>0</th>\n",
       "      <td>00000001_000.png</td>\n",
       "      <td>Cardiomegaly</td>\n",
       "      <td>58</td>\n",
       "      <td>M</td>\n",
       "      <td>PA</td>\n",
       "      <td>True</td>\n",
       "      <td>False</td>\n",
       "      <td>False</td>\n",
       "      <td>False</td>\n",
       "      <td>False</td>\n",
       "      <td>False</td>\n",
       "      <td>False</td>\n",
       "      <td>False</td>\n",
       "    </tr>\n",
       "    <tr>\n",
       "      <th>1</th>\n",
       "      <td>00000001_001.png</td>\n",
       "      <td>Cardiomegaly|Emphysema</td>\n",
       "      <td>58</td>\n",
       "      <td>M</td>\n",
       "      <td>PA</td>\n",
       "      <td>True</td>\n",
       "      <td>False</td>\n",
       "      <td>False</td>\n",
       "      <td>False</td>\n",
       "      <td>False</td>\n",
       "      <td>False</td>\n",
       "      <td>False</td>\n",
       "      <td>True</td>\n",
       "    </tr>\n",
       "    <tr>\n",
       "      <th>2</th>\n",
       "      <td>00000001_002.png</td>\n",
       "      <td>Cardiomegaly|Effusion</td>\n",
       "      <td>58</td>\n",
       "      <td>M</td>\n",
       "      <td>PA</td>\n",
       "      <td>True</td>\n",
       "      <td>True</td>\n",
       "      <td>False</td>\n",
       "      <td>False</td>\n",
       "      <td>False</td>\n",
       "      <td>False</td>\n",
       "      <td>False</td>\n",
       "      <td>False</td>\n",
       "    </tr>\n",
       "    <tr>\n",
       "      <th>3</th>\n",
       "      <td>00000002_000.png</td>\n",
       "      <td>No Finding</td>\n",
       "      <td>81</td>\n",
       "      <td>M</td>\n",
       "      <td>PA</td>\n",
       "      <td>False</td>\n",
       "      <td>False</td>\n",
       "      <td>True</td>\n",
       "      <td>False</td>\n",
       "      <td>False</td>\n",
       "      <td>False</td>\n",
       "      <td>False</td>\n",
       "      <td>False</td>\n",
       "    </tr>\n",
       "    <tr>\n",
       "      <th>4</th>\n",
       "      <td>00000003_000.png</td>\n",
       "      <td>Hernia</td>\n",
       "      <td>81</td>\n",
       "      <td>F</td>\n",
       "      <td>PA</td>\n",
       "      <td>False</td>\n",
       "      <td>False</td>\n",
       "      <td>False</td>\n",
       "      <td>False</td>\n",
       "      <td>False</td>\n",
       "      <td>False</td>\n",
       "      <td>False</td>\n",
       "      <td>True</td>\n",
       "    </tr>\n",
       "  </tbody>\n",
       "</table>\n",
       "</div>"
      ],
      "text/plain": [
       "            img_idx                  labels  age gender view_pos  \\\n",
       "0  00000001_000.png            Cardiomegaly   58      M       PA   \n",
       "1  00000001_001.png  Cardiomegaly|Emphysema   58      M       PA   \n",
       "2  00000001_002.png   Cardiomegaly|Effusion   58      M       PA   \n",
       "3  00000002_000.png              No Finding   81      M       PA   \n",
       "4  00000003_000.png                  Hernia   81      F       PA   \n",
       "\n",
       "   label_cardiomegaly  label_effusion  label_no_finding  label_pneumothorax  \\\n",
       "0                True           False             False               False   \n",
       "1                True           False             False               False   \n",
       "2                True            True             False               False   \n",
       "3               False           False              True               False   \n",
       "4               False           False             False               False   \n",
       "\n",
       "   label_pleural_thickening  label_pneumonia  label_consolidation  label_other  \n",
       "0                     False            False                False        False  \n",
       "1                     False            False                False         True  \n",
       "2                     False            False                False        False  \n",
       "3                     False            False                False        False  \n",
       "4                     False            False                False         True  "
      ]
     },
     "execution_count": 84,
     "metadata": {},
     "output_type": "execute_result"
    }
   ],
   "source": [
    "cwd = os.getcwd()\n",
    "data_path = pathlib.Path(cwd, \"..\", \"clean_data\", \"cleaned_data.csv\")\n",
    "\n",
    "data = pd.read_csv(data_path)\n",
    "data.head()"
   ]
  },
  {
   "cell_type": "code",
   "execution_count": 85,
   "id": "254d3054-b153-4396-938e-3ad847c559c7",
   "metadata": {
    "colab": {
     "base_uri": "https://localhost:8080/"
    },
    "execution": {
     "iopub.execute_input": "2023-03-06T11:41:25.683618Z",
     "iopub.status.busy": "2023-03-06T11:41:25.683114Z",
     "iopub.status.idle": "2023-03-06T11:41:25.702854Z",
     "shell.execute_reply": "2023-03-06T11:41:25.702103Z",
     "shell.execute_reply.started": "2023-03-06T11:41:25.683590Z"
    },
    "id": "254d3054-b153-4396-938e-3ad847c559c7",
    "outputId": "f4924c19-c748-494d-ee62-5872100262ba",
    "tags": []
   },
   "outputs": [
    {
     "data": {
      "text/plain": [
       "(112104, 12)"
      ]
     },
     "execution_count": 85,
     "metadata": {},
     "output_type": "execute_result"
    }
   ],
   "source": [
    "# data = data.drop(columns=\"label_other\")\n",
    "data = data.drop(columns=\"label_no_finding\")\n",
    "data.shape"
   ]
  },
  {
   "cell_type": "code",
   "execution_count": 86,
   "id": "6b869784-c376-4e9b-a6f7-d52d59463f8a",
   "metadata": {
    "colab": {
     "base_uri": "https://localhost:8080/"
    },
    "execution": {
     "iopub.execute_input": "2023-03-06T11:41:26.994837Z",
     "iopub.status.busy": "2023-03-06T11:41:26.994182Z",
     "iopub.status.idle": "2023-03-06T11:41:27.017637Z",
     "shell.execute_reply": "2023-03-06T11:41:27.016962Z",
     "shell.execute_reply.started": "2023-03-06T11:41:26.994795Z"
    },
    "id": "6b869784-c376-4e9b-a6f7-d52d59463f8a",
    "outputId": "66a1246c-a188-4fb2-f1cb-0f4f084f5097",
    "tags": []
   },
   "outputs": [
    {
     "data": {
      "text/plain": [
       "['label_cardiomegaly',\n",
       " 'label_effusion',\n",
       " 'label_pneumothorax',\n",
       " 'label_pleural_thickening',\n",
       " 'label_pneumonia',\n",
       " 'label_consolidation',\n",
       " 'label_other']"
      ]
     },
     "execution_count": 86,
     "metadata": {},
     "output_type": "execute_result"
    }
   ],
   "source": [
    "label_names = [l for l in data.columns if l.startswith(\"label_\")]\n",
    "label_names"
   ]
  },
  {
   "cell_type": "code",
   "execution_count": 87,
   "id": "e4300583-52ac-44a7-8651-f7030d22a219",
   "metadata": {
    "colab": {
     "base_uri": "https://localhost:8080/"
    },
    "execution": {
     "iopub.execute_input": "2023-03-06T11:41:28.957055Z",
     "iopub.status.busy": "2023-03-06T11:41:28.956486Z",
     "iopub.status.idle": "2023-03-06T11:41:28.987270Z",
     "shell.execute_reply": "2023-03-06T11:41:28.986838Z",
     "shell.execute_reply.started": "2023-03-06T11:41:28.957017Z"
    },
    "id": "e4300583-52ac-44a7-8651-f7030d22a219",
    "outputId": "04695b2f-c057-4889-f8e1-aaab3634bb70",
    "tags": []
   },
   "outputs": [
    {
     "data": {
      "text/plain": [
       "label_pneumonia               630\n",
       "label_consolidation          1521\n",
       "label_cardiomegaly           1563\n",
       "label_pleural_thickening     2418\n",
       "label_pneumothorax           3406\n",
       "label_effusion               6589\n",
       "label_other                 21132\n",
       "dtype: int64"
      ]
     },
     "execution_count": 87,
     "metadata": {},
     "output_type": "execute_result"
    }
   ],
   "source": [
    "data_pa = data.query(\"view_pos == 'PA'\").copy()\n",
    "data_pa[label_names].sum(axis=0).sort_values()"
   ]
  },
  {
   "cell_type": "code",
   "execution_count": 88,
   "id": "s6_gFuCh7nwG",
   "metadata": {
    "colab": {
     "base_uri": "https://localhost:8080/"
    },
    "execution": {
     "iopub.execute_input": "2023-03-06T11:41:29.278226Z",
     "iopub.status.busy": "2023-03-06T11:41:29.277531Z",
     "iopub.status.idle": "2023-03-06T11:41:29.292318Z",
     "shell.execute_reply": "2023-03-06T11:41:29.291549Z",
     "shell.execute_reply.started": "2023-03-06T11:41:29.278174Z"
    },
    "id": "s6_gFuCh7nwG",
    "outputId": "c9713cd8-151d-4758-fddf-5cdbd46807dd",
    "tags": []
   },
   "outputs": [
    {
     "data": {
      "text/plain": [
       "(67299, 12)"
      ]
     },
     "execution_count": 88,
     "metadata": {},
     "output_type": "execute_result"
    }
   ],
   "source": [
    "data_pa.shape"
   ]
  },
  {
   "cell_type": "code",
   "execution_count": 89,
   "id": "aXTwuF1I1uyi",
   "metadata": {
    "colab": {
     "base_uri": "https://localhost:8080/",
     "height": 376
    },
    "execution": {
     "iopub.execute_input": "2023-03-06T11:41:29.714203Z",
     "iopub.status.busy": "2023-03-06T11:41:29.713208Z",
     "iopub.status.idle": "2023-03-06T11:41:29.829756Z",
     "shell.execute_reply": "2023-03-06T11:41:29.829181Z",
     "shell.execute_reply.started": "2023-03-06T11:41:29.714163Z"
    },
    "id": "aXTwuF1I1uyi",
    "outputId": "f34ed119-7328-45e5-cd88-e2633e3fc4c2",
    "tags": []
   },
   "outputs": [
    {
     "data": {
      "image/png": "[encoded data removed]",
      "text/plain": [
       "<Figure size 640x480 with 1 Axes>"
      ]
     },
     "metadata": {},
     "output_type": "display_data"
    }
   ],
   "source": [
    "data_pa[label_names].sum(axis=0).sort_values().plot(kind=\"bar\");"
   ]
  },
  {
   "cell_type": "code",
   "execution_count": 90,
   "id": "021eef09-60d1-400a-ac62-e7485351d995",
   "metadata": {
    "execution": {
     "iopub.execute_input": "2023-03-06T11:41:56.022679Z",
     "iopub.status.busy": "2023-03-06T11:41:56.021825Z",
     "iopub.status.idle": "2023-03-06T11:41:56.048299Z",
     "shell.execute_reply": "2023-03-06T11:41:56.047741Z",
     "shell.execute_reply.started": "2023-03-06T11:41:56.022638Z"
    },
    "tags": []
   },
   "outputs": [
    {
     "name": "stdout",
     "output_type": "stream",
     "text": [
      "n_patients_not_healthy = 28003\n",
      "n_patients_healthy = 39296\n",
      "Percentage of healthy patients in all PA data: 58.39%\n"
     ]
    }
   ],
   "source": [
    "if \"label_no_finding\" not in label_names:\n",
    "    n_patients_not_healthy = data_pa[np.sum(data_pa[label_names], axis=1) != 0].shape[0]\n",
    "    print(f\"{n_patients_not_healthy = }\")\n",
    "    n_patients_healthy = data_pa[np.sum(data_pa[label_names], axis=1) == 0].shape[0]\n",
    "    print(f\"{n_patients_healthy = }\")\n",
    "    print(\n",
    "        \"Percentage of healthy patients in all PA data:\"\n",
    "        f\" {n_patients_healthy / data_pa.shape[0]:.2%}\"\n",
    "    )"
   ]
  },
  {
   "cell_type": "code",
   "execution_count": 91,
   "id": "3cf34114-2cd5-4e38-905c-537dafed3d25",
   "metadata": {
    "colab": {
     "base_uri": "https://localhost:8080/"
    },
    "execution": {
     "iopub.execute_input": "2023-03-06T11:41:57.025716Z",
     "iopub.status.busy": "2023-03-06T11:41:57.023616Z",
     "iopub.status.idle": "2023-03-06T11:41:57.044276Z",
     "shell.execute_reply": "2023-03-06T11:41:57.043228Z",
     "shell.execute_reply.started": "2023-03-06T11:41:57.025655Z"
    },
    "id": "3cf34114-2cd5-4e38-905c-537dafed3d25",
    "outputId": "d1c19eec-8ec4-4214-e0c1-f3c97f7036c7",
    "tags": []
   },
   "outputs": [
    {
     "name": "stdout",
     "output_type": "stream",
     "text": [
      "Percentages of each condition:\n",
      "\n"
     ]
    },
    {
     "data": {
      "text/plain": [
       "label_pneumonia              0.94%\n",
       "label_consolidation          2.26%\n",
       "label_cardiomegaly           2.32%\n",
       "label_pleural_thickening     3.59%\n",
       "label_pneumothorax           5.06%\n",
       "label_effusion               9.79%\n",
       "label_other                 31.40%\n",
       "dtype: object"
      ]
     },
     "metadata": {},
     "output_type": "display_data"
    },
    {
     "name": "stdout",
     "output_type": "stream",
     "text": [
      "\n",
      "NOTE: The percentages will add up to more than 100% as each patient can have multiple afflictions at the same time (except for 'no finding').\n"
     ]
    }
   ],
   "source": [
    "label_counts_sorted = data_pa[label_names].sum(axis=0).sort_values()\n",
    "print(\"Percentages of each condition:\\n\")\n",
    "display((label_counts_sorted / data_pa.shape[0]).apply(lambda x: f\"{x:.2%}\"))\n",
    "print(\n",
    "    \"\\nNOTE: The percentages will add up to more than 100% as each patient can have\"\n",
    "    \" multiple afflictions at the same time (except for 'no finding').\"\n",
    ")"
   ]
  },
  {
   "cell_type": "code",
   "execution_count": 92,
   "id": "5cox0gfapQF8",
   "metadata": {
    "execution": {
     "iopub.execute_input": "2023-03-06T11:42:02.257762Z",
     "iopub.status.busy": "2023-03-06T11:42:02.257046Z",
     "iopub.status.idle": "2023-03-06T11:42:02.282348Z",
     "shell.execute_reply": "2023-03-06T11:42:02.281861Z",
     "shell.execute_reply.started": "2023-03-06T11:42:02.257731Z"
    },
    "id": "5cox0gfapQF8",
    "tags": []
   },
   "outputs": [
    {
     "data": {
      "text/plain": [
       "(60569, 12)"
      ]
     },
     "execution_count": 92,
     "metadata": {},
     "output_type": "execute_result"
    }
   ],
   "source": [
    "data_train_and_cv = data_pa.sample(frac=0.9)\n",
    "data_train_and_cv.shape"
   ]
  },
  {
   "cell_type": "code",
   "execution_count": 93,
   "id": "1e9ab967-8e37-484b-93cc-ddc3ed6429fb",
   "metadata": {
    "colab": {
     "base_uri": "https://localhost:8080/",
     "height": 376
    },
    "execution": {
     "iopub.execute_input": "2023-03-06T11:42:02.728096Z",
     "iopub.status.busy": "2023-03-06T11:42:02.727342Z",
     "iopub.status.idle": "2023-03-06T11:42:02.839770Z",
     "shell.execute_reply": "2023-03-06T11:42:02.839068Z",
     "shell.execute_reply.started": "2023-03-06T11:42:02.728062Z"
    },
    "id": "1e9ab967-8e37-484b-93cc-ddc3ed6429fb",
    "outputId": "ac9d3453-55da-4ef8-f7de-2cc92bca0061",
    "tags": []
   },
   "outputs": [
    {
     "data": {
      "image/png": "[encoded data removed]",
      "text/plain": [
       "<Figure size 640x480 with 1 Axes>"
      ]
     },
     "metadata": {},
     "output_type": "display_data"
    }
   ],
   "source": [
    "data_train_and_cv[label_names].sum(axis=0).sort_values().plot(kind=\"bar\");"
   ]
  },
  {
   "cell_type": "code",
   "execution_count": 94,
   "id": "b07f411b-f620-4d95-b13b-3177ada0082e",
   "metadata": {
    "execution": {
     "iopub.execute_input": "2023-03-06T11:42:13.300162Z",
     "iopub.status.busy": "2023-03-06T11:42:13.299104Z",
     "iopub.status.idle": "2023-03-06T11:42:13.322659Z",
     "shell.execute_reply": "2023-03-06T11:42:13.322211Z",
     "shell.execute_reply.started": "2023-03-06T11:42:13.300106Z"
    },
    "tags": []
   },
   "outputs": [
    {
     "name": "stdout",
     "output_type": "stream",
     "text": [
      "Percentage of healthy patients in train/cv PA data: 58.34%\n"
     ]
    }
   ],
   "source": [
    "if \"label_no_finding\" not in label_names:\n",
    "    n_patients_not_healthy = data_train_and_cv[\n",
    "        np.sum(data_train_and_cv[label_names], axis=1) != 0\n",
    "    ].shape[0]\n",
    "    # print(f\"{n_patients_not_healthy = }\")\n",
    "    n_patients_healthy = data_train_and_cv[\n",
    "        np.sum(data_train_and_cv[label_names], axis=1) == 0\n",
    "    ].shape[0]\n",
    "    # print(f\"{n_patients_healthy = }\")\n",
    "    print(\n",
    "        \"Percentage of healthy patients in train/cv PA data:\"\n",
    "        f\" {n_patients_healthy / data_train_and_cv.shape[0]:.2%}\"\n",
    "    )"
   ]
  },
  {
   "cell_type": "code",
   "execution_count": 95,
   "id": "5d10494d-7dc3-4a3f-996e-91dd2b3c3fac",
   "metadata": {
    "execution": {
     "iopub.execute_input": "2023-03-06T11:42:13.789943Z",
     "iopub.status.busy": "2023-03-06T11:42:13.789551Z",
     "iopub.status.idle": "2023-03-06T11:42:13.802481Z",
     "shell.execute_reply": "2023-03-06T11:42:13.801437Z",
     "shell.execute_reply.started": "2023-03-06T11:42:13.789916Z"
    },
    "tags": []
   },
   "outputs": [
    {
     "name": "stdout",
     "output_type": "stream",
     "text": [
      "Percentages of each condition in the training/cross-validation dataset:\n",
      "\n"
     ]
    },
    {
     "data": {
      "text/plain": [
       "label_pneumonia              0.92%\n",
       "label_consolidation          2.27%\n",
       "label_cardiomegaly           2.33%\n",
       "label_pleural_thickening     3.61%\n",
       "label_pneumothorax           5.08%\n",
       "label_effusion               9.80%\n",
       "label_other                 31.44%\n",
       "dtype: object"
      ]
     },
     "metadata": {},
     "output_type": "display_data"
    }
   ],
   "source": [
    "label_counts_sorted = data_train_and_cv[label_names].sum(axis=0).sort_values()\n",
    "print(\"Percentages of each condition in the training/cross-validation dataset:\\n\")\n",
    "display((label_counts_sorted / data_train_and_cv.shape[0]).apply(lambda x: f\"{x:.2%}\"))"
   ]
  },
  {
   "cell_type": "markdown",
   "id": "597a13e7-7211-4cec-9e80-edbba78afcca",
   "metadata": {
    "id": "597a13e7-7211-4cec-9e80-edbba78afcca"
   },
   "source": [
    "We can use the remaining (i.e. not selected) data for our test set later on..."
   ]
  },
  {
   "cell_type": "code",
   "execution_count": 96,
   "id": "11123ac4-4c52-4ad9-8f8b-f54d2cd91990",
   "metadata": {
    "colab": {
     "base_uri": "https://localhost:8080/",
     "height": 376
    },
    "execution": {
     "iopub.execute_input": "2023-03-06T11:42:16.270712Z",
     "iopub.status.busy": "2023-03-06T11:42:16.269885Z",
     "iopub.status.idle": "2023-03-06T11:42:16.372899Z",
     "shell.execute_reply": "2023-03-06T11:42:16.372324Z",
     "shell.execute_reply.started": "2023-03-06T11:42:16.270666Z"
    },
    "id": "11123ac4-4c52-4ad9-8f8b-f54d2cd91990",
    "outputId": "0a564697-21dc-4c82-b85f-daf13deb5191",
    "tags": []
   },
   "outputs": [
    {
     "data": {
      "image/png": "[encoded data removed]",
      "text/plain": [
       "<Figure size 640x480 with 1 Axes>"
      ]
     },
     "metadata": {},
     "output_type": "display_data"
    }
   ],
   "source": [
    "remaining_indices = data_pa.index.difference(data_train_and_cv.index)\n",
    "remaining_data = data_pa.loc[remaining_indices]\n",
    "remaining_data[label_names].sum(axis=0).sort_values().plot(kind=\"bar\");"
   ]
  },
  {
   "cell_type": "code",
   "execution_count": 98,
   "id": "c078f2fb-6246-434d-97b6-55b336c7aad2",
   "metadata": {
    "execution": {
     "iopub.execute_input": "2023-03-06T11:42:26.774532Z",
     "iopub.status.busy": "2023-03-06T11:42:26.773697Z",
     "iopub.status.idle": "2023-03-06T11:42:26.788754Z",
     "shell.execute_reply": "2023-03-06T11:42:26.787493Z",
     "shell.execute_reply.started": "2023-03-06T11:42:26.774484Z"
    },
    "tags": []
   },
   "outputs": [
    {
     "name": "stdout",
     "output_type": "stream",
     "text": [
      "Percentage of healthy patients in train/cv PA data: 58.86%\n"
     ]
    }
   ],
   "source": [
    "if \"label_no_finding\" not in label_names:\n",
    "    n_patients_not_healthy = remaining_data[\n",
    "        np.sum(remaining_data[label_names], axis=1) != 0\n",
    "    ].shape[0]\n",
    "    # print(f\"{n_patients_not_healthy = }\")\n",
    "    n_patients_healthy = remaining_data[\n",
    "        np.sum(remaining_data[label_names], axis=1) == 0\n",
    "    ].shape[0]\n",
    "    # print(f\"{n_patients_healthy = }\")\n",
    "    print(\n",
    "        \"Percentage of healthy patients in train/cv PA data:\"\n",
    "        f\" {n_patients_healthy / remaining_data.shape[0]:.2%}\"\n",
    "    )"
   ]
  },
  {
   "cell_type": "code",
   "execution_count": 99,
   "id": "340d0d5b-1c46-47fa-b1b7-58ab5ac36e64",
   "metadata": {
    "execution": {
     "iopub.execute_input": "2023-03-06T11:42:26.930972Z",
     "iopub.status.busy": "2023-03-06T11:42:26.929172Z",
     "iopub.status.idle": "2023-03-06T11:42:26.953754Z",
     "shell.execute_reply": "2023-03-06T11:42:26.953366Z",
     "shell.execute_reply.started": "2023-03-06T11:42:26.930917Z"
    },
    "tags": []
   },
   "outputs": [
    {
     "name": "stdout",
     "output_type": "stream",
     "text": [
      "Percentages of each condition in the testing dataset:\n",
      "\n"
     ]
    },
    {
     "data": {
      "text/plain": [
       "label_pneumonia              1.08%\n",
       "label_consolidation          2.14%\n",
       "label_cardiomegaly           2.23%\n",
       "label_pleural_thickening     3.42%\n",
       "label_pneumothorax           4.86%\n",
       "label_effusion               9.73%\n",
       "label_other                 31.08%\n",
       "dtype: object"
      ]
     },
     "metadata": {},
     "output_type": "display_data"
    }
   ],
   "source": [
    "label_counts_sorted = remaining_data[label_names].sum(axis=0).sort_values()\n",
    "print(\"Percentages of each condition in the testing dataset:\\n\")\n",
    "display((label_counts_sorted / remaining_data.shape[0]).apply(lambda x: f\"{x:.2%}\"))"
   ]
  },
  {
   "cell_type": "code",
   "execution_count": 100,
   "id": "WsZw7rJZ7OMu",
   "metadata": {
    "colab": {
     "base_uri": "https://localhost:8080/"
    },
    "execution": {
     "iopub.execute_input": "2023-03-06T11:42:29.766654Z",
     "iopub.status.busy": "2023-03-06T11:42:29.766236Z",
     "iopub.status.idle": "2023-03-06T11:42:29.776918Z",
     "shell.execute_reply": "2023-03-06T11:42:29.776193Z",
     "shell.execute_reply.started": "2023-03-06T11:42:29.766628Z"
    },
    "id": "WsZw7rJZ7OMu",
    "outputId": "93c1532f-ec08-43d2-d200-d43917828417",
    "tags": []
   },
   "outputs": [
    {
     "data": {
      "text/plain": [
       "3671"
      ]
     },
     "execution_count": 100,
     "metadata": {},
     "output_type": "execute_result"
    }
   ],
   "source": [
    "remaining_data[label_names].sum(axis=0).sort_values().sum()"
   ]
  },
  {
   "cell_type": "code",
   "execution_count": 101,
   "id": "PfzUcVMg7RqS",
   "metadata": {
    "colab": {
     "base_uri": "https://localhost:8080/"
    },
    "execution": {
     "iopub.execute_input": "2023-03-06T11:42:35.014033Z",
     "iopub.status.busy": "2023-03-06T11:42:35.013619Z",
     "iopub.status.idle": "2023-03-06T11:42:35.021009Z",
     "shell.execute_reply": "2023-03-06T11:42:35.019569Z",
     "shell.execute_reply.started": "2023-03-06T11:42:35.014004Z"
    },
    "id": "PfzUcVMg7RqS",
    "outputId": "03ca91cf-f2bf-443b-d304-2794e5578f2f",
    "tags": []
   },
   "outputs": [
    {
     "data": {
      "text/plain": [
       "(6730, 12)"
      ]
     },
     "execution_count": 101,
     "metadata": {},
     "output_type": "execute_result"
    }
   ],
   "source": [
    "remaining_data.shape"
   ]
  },
  {
   "cell_type": "markdown",
   "id": "f2580dc2-80cc-4f47-9e28-37fb905bb4a1",
   "metadata": {
    "id": "f2580dc2-80cc-4f47-9e28-37fb905bb4a1"
   },
   "source": [
    "# Loading the Images"
   ]
  },
  {
   "cell_type": "markdown",
   "id": "69babdb7-55d8-4e5d-9227-c5bb74bdd3ff",
   "metadata": {
    "id": "69babdb7-55d8-4e5d-9227-c5bb74bdd3ff"
   },
   "source": [
    "## Generating the Dataset on the Fly"
   ]
  },
  {
   "cell_type": "markdown",
   "id": "5e184236-774c-4fbd-b8e0-af301d53a897",
   "metadata": {
    "id": "5e184236-774c-4fbd-b8e0-af301d53a897"
   },
   "source": [
    "It turns out [`tf.keras.preprocessing.image.ImageDataGenerator`](https://www.tensorflow.org/api_docs/python/tf/keras/preprocessing/image/ImageDataGenerator) is deprecated and hence not recommended for new code. Neither it nor its successor, [`tf.keras.utils.image_dataset_from_directory`](https://www.tensorflow.org/api_docs/python/tf/keras/utils/image_dataset_from_directory) are really applicable to our multi-label problem. (They are suited to single-label classification problems). I found [this blog post](https://towardsdatascience.com/multi-label-image-classification-in-tensorflow-2-0-7d4cf8a4bc72) on how to leverage the underlying API, [`tf.data`](https://www.tensorflow.org/guide/data) for multi-label problems. Let us explore that."
   ]
  },
  {
   "cell_type": "code",
   "execution_count": 102,
   "id": "2f73f540-5c71-4830-b4f9-d6a1000af377",
   "metadata": {
    "execution": {
     "iopub.execute_input": "2023-03-06T11:42:38.141042Z",
     "iopub.status.busy": "2023-03-06T11:42:38.140544Z",
     "iopub.status.idle": "2023-03-06T11:42:38.149006Z",
     "shell.execute_reply": "2023-03-06T11:42:38.148010Z",
     "shell.execute_reply.started": "2023-03-06T11:42:38.141011Z"
    },
    "id": "2f73f540-5c71-4830-b4f9-d6a1000af377",
    "tags": []
   },
   "outputs": [],
   "source": [
    "# In order to do 'transfer learning' using VGG16, ResNet, etc. our image needs to have three channels.\n",
    "# We will simply duplicate the one grayscale channel 2 more times.\n",
    "def expand_greyscale_image_channels(image):\n",
    "    if image.shape[-1] == 1:\n",
    "        grey_image_3_channel = tf.tile(image, tf.constant([1, 1, 3], tf.int32))\n",
    "    else:\n",
    "        grey_image_3_channel = image\n",
    "\n",
    "    return tf.keras.applications.mobilenet_v2.preprocess_input(grey_image_3_channel)"
   ]
  },
  {
   "cell_type": "code",
   "execution_count": 103,
   "id": "7fcbfe1b-02be-4c54-859f-ffb5fc700d66",
   "metadata": {
    "execution": {
     "iopub.execute_input": "2023-03-06T11:42:39.172178Z",
     "iopub.status.busy": "2023-03-06T11:42:39.170252Z",
     "iopub.status.idle": "2023-03-06T11:42:39.184547Z",
     "shell.execute_reply": "2023-03-06T11:42:39.183056Z",
     "shell.execute_reply.started": "2023-03-06T11:42:39.172137Z"
    },
    "id": "7fcbfe1b-02be-4c54-859f-ffb5fc700d66",
    "tags": []
   },
   "outputs": [],
   "source": [
    "IMG_SIZE = 224  # img_dims[0]\n",
    "CHANNELS = 3  # The images WERE grayscale but we converted them to 3-channel\n",
    "\n",
    "\n",
    "def parse_function(filename, label):\n",
    "    \"\"\"Function that returns a tuple of normalized image array and labels array.\n",
    "    Args:\n",
    "        filename: string representing path to image\n",
    "        label: 0/1 one-dimensional array of size N_LABELS\n",
    "    \"\"\"\n",
    "    # Read an image from a file\n",
    "    if IMG_SOURCE == \"GS\":\n",
    "        filepath = \"gs://cxray-bucket/images_224_224/\" + filename\n",
    "        image_string = tf.io.read_file(filepath)\n",
    "    elif IMG_SOURCE == \"local\":\n",
    "        image_string = tf.io.read_file(filename)\n",
    "    # Decode it into a dense vector\n",
    "    image_decoded = tf.image.decode_png(image_string, channels=CHANNELS)\n",
    "    # Resize it to fixed shape\n",
    "    image_resized = (\n",
    "        image_decoded  # tf.image.resize(image_decoded, [IMG_SIZE, IMG_SIZE])\n",
    "    )\n",
    "    # If necessary, normalize it from [0, 255] to [0.0, 1.0]\n",
    "    image_normalized = tf.cast(\n",
    "        image_resized, tf.float32\n",
    "    )  # / 255.0 (the scaling/\"normalization\" step is actually taken care of by `preprocess_input()` above)\n",
    "    image_normalized_rgb = expand_greyscale_image_channels(image_normalized)\n",
    "    label_tensor = tf.convert_to_tensor(label, dtype=tf.uint8)\n",
    "    return image_normalized_rgb, label_tensor"
   ]
  },
  {
   "cell_type": "code",
   "execution_count": 104,
   "id": "52d232b7-4da7-4f28-bc46-d0bd28699c28",
   "metadata": {
    "colab": {
     "base_uri": "https://localhost:8080/"
    },
    "execution": {
     "iopub.execute_input": "2023-03-06T11:42:40.353899Z",
     "iopub.status.busy": "2023-03-06T11:42:40.353361Z",
     "iopub.status.idle": "2023-03-06T11:42:40.643868Z",
     "shell.execute_reply": "2023-03-06T11:42:40.638724Z",
     "shell.execute_reply.started": "2023-03-06T11:42:40.353861Z"
    },
    "id": "52d232b7-4da7-4f28-bc46-d0bd28699c28",
    "outputId": "ec227c65-801f-43c4-cf30-7b566e4420e7",
    "tags": []
   },
   "outputs": [
    {
     "data": {
      "text/plain": [
       "TensorShape([224, 224, 3])"
      ]
     },
     "execution_count": 104,
     "metadata": {},
     "output_type": "execute_result"
    }
   ],
   "source": [
    "# cwd = os.getcwd()\n",
    "# data_dir = pathlib.Path(cwd, \"..\", \"raw_data\", \"images_224_224\")\n",
    "\n",
    "# This works\n",
    "img_norm_rgb, label_tensor = parse_function(\n",
    "    \"00000009_000.png\",  # str(pathlib.Path(data_dir, \"00000009_000.png\")),\n",
    "    np.array([True, False, False, True]) + 0,\n",
    ")\n",
    "img_norm_rgb.shape"
   ]
  },
  {
   "cell_type": "code",
   "execution_count": 105,
   "id": "72789baf-a72d-4f39-b9f3-3b28a84b5dfa",
   "metadata": {
    "execution": {
     "iopub.execute_input": "2023-03-06T11:42:40.888030Z",
     "iopub.status.busy": "2023-03-06T11:42:40.887628Z",
     "iopub.status.idle": "2023-03-06T11:42:40.896693Z",
     "shell.execute_reply": "2023-03-06T11:42:40.893513Z",
     "shell.execute_reply.started": "2023-03-06T11:42:40.888003Z"
    },
    "id": "72789baf-a72d-4f39-b9f3-3b28a84b5dfa",
    "tags": []
   },
   "outputs": [],
   "source": [
    "BATCH_SIZE = 256  # 256  # 256 is big enough to measure an F1-score but if running locally, this will likely crash due to insufficient RAM\n",
    "AUTOTUNE = (\n",
    "    tf.data.experimental.AUTOTUNE\n",
    ")  # Adapt preprocessing and prefetching dynamically to reduce GPU and CPU idle time\n",
    "SHUFFLE_BUFFER_SIZE = (\n",
    "    1024  # 1024  # Shuffle the training data by a chunck of 1024 observations\n",
    ")\n",
    "\n",
    "N_LABELS = len(label_names)"
   ]
  },
  {
   "cell_type": "code",
   "execution_count": 106,
   "id": "cd029e70-ca81-47dc-9ea4-14ac9ffa93b6",
   "metadata": {
    "execution": {
     "iopub.execute_input": "2023-03-06T11:42:42.930522Z",
     "iopub.status.busy": "2023-03-06T11:42:42.929807Z",
     "iopub.status.idle": "2023-03-06T11:42:42.939852Z",
     "shell.execute_reply": "2023-03-06T11:42:42.939021Z",
     "shell.execute_reply.started": "2023-03-06T11:42:42.930469Z"
    },
    "id": "cd029e70-ca81-47dc-9ea4-14ac9ffa93b6",
    "tags": []
   },
   "outputs": [],
   "source": [
    "def create_dataset(filenames, labels, is_training=True):\n",
    "    \"\"\"Load and parse dataset.\n",
    "    Args:\n",
    "        filenames: list of image paths\n",
    "        labels: numpy array of shape (BATCH_SIZE, N_LABELS)\n",
    "        is_training: boolean to indicate training mode\n",
    "    \"\"\"\n",
    "\n",
    "    # Create a first dataset of file paths and labels\n",
    "    dataset = tf.data.Dataset.from_tensor_slices((filenames, labels))\n",
    "    # Parse and preprocess observations in parallel\n",
    "    dataset = dataset.map(parse_function, num_parallel_calls=AUTOTUNE)\n",
    "\n",
    "    if is_training == True:\n",
    "        # This is a small dataset, only load it once, and keep it in memory.\n",
    "        dataset = (\n",
    "            dataset.cache()\n",
    "        )  # (\"/content/tmp/\") # If training locally, reduce batch size or else you'll run out of RAM.\n",
    "        # If on Colab: caching to disk appears to be as fast as caching to RAM, at least on Premium. Your choice.\n",
    "        # Shuffle the data each buffer size\n",
    "        dataset = dataset.shuffle(buffer_size=SHUFFLE_BUFFER_SIZE)\n",
    "\n",
    "    # Batch the data for multiple steps\n",
    "    dataset = dataset.batch(BATCH_SIZE)\n",
    "    # Fetch batches in the background while the model is training.\n",
    "    dataset = dataset.prefetch(buffer_size=AUTOTUNE)\n",
    "\n",
    "    return dataset"
   ]
  },
  {
   "cell_type": "code",
   "execution_count": 107,
   "id": "48448164-e18a-4908-b810-a4cc53243565",
   "metadata": {
    "execution": {
     "iopub.execute_input": "2023-03-06T11:42:46.856932Z",
     "iopub.status.busy": "2023-03-06T11:42:46.856070Z",
     "iopub.status.idle": "2023-03-06T11:42:46.879660Z",
     "shell.execute_reply": "2023-03-06T11:42:46.878946Z",
     "shell.execute_reply.started": "2023-03-06T11:42:46.856897Z"
    },
    "id": "48448164-e18a-4908-b810-a4cc53243565",
    "tags": []
   },
   "outputs": [],
   "source": [
    "filenames = data_train_and_cv.img_idx.to_list()\n",
    "filepaths = (\n",
    "    filenames  # [str(pathlib.Path(data_dir, filename)) for filename in filenames]\n",
    ")\n",
    "label_sets_binarized = np.array(\n",
    "    data_train_and_cv[label_names].apply(lambda x: x + 0), dtype=np.uint8\n",
    ")"
   ]
  },
  {
   "cell_type": "code",
   "execution_count": 108,
   "id": "578427ce-6145-4fc5-88ce-48a910850f84",
   "metadata": {
    "execution": {
     "iopub.execute_input": "2023-03-06T11:42:47.047253Z",
     "iopub.status.busy": "2023-03-06T11:42:47.046854Z",
     "iopub.status.idle": "2023-03-06T11:42:47.071887Z",
     "shell.execute_reply": "2023-03-06T11:42:47.071497Z",
     "shell.execute_reply.started": "2023-03-06T11:42:47.047227Z"
    },
    "id": "578427ce-6145-4fc5-88ce-48a910850f84",
    "tags": []
   },
   "outputs": [],
   "source": [
    "from sklearn.model_selection import train_test_split\n",
    "\n",
    "X_train, X_val, y_train_bin, y_val_bin = train_test_split(\n",
    "    filepaths, label_sets_binarized, test_size=0.2\n",
    ")"
   ]
  },
  {
   "cell_type": "code",
   "execution_count": 109,
   "id": "07f321de-c8e3-4561-853e-ed558b2cae3d",
   "metadata": {
    "execution": {
     "iopub.execute_input": "2023-03-06T11:42:47.466765Z",
     "iopub.status.busy": "2023-03-06T11:42:47.466211Z",
     "iopub.status.idle": "2023-03-06T11:42:47.590401Z",
     "shell.execute_reply": "2023-03-06T11:42:47.590059Z",
     "shell.execute_reply.started": "2023-03-06T11:42:47.466732Z"
    },
    "id": "07f321de-c8e3-4561-853e-ed558b2cae3d",
    "tags": []
   },
   "outputs": [],
   "source": [
    "train_ds = create_dataset(X_train, y_train_bin)\n",
    "val_ds = create_dataset(X_val, y_val_bin)"
   ]
  },
  {
   "cell_type": "markdown",
   "id": "dc07afce-e819-4c6b-be05-3f5579954531",
   "metadata": {
    "id": "dc07afce-e819-4c6b-be05-3f5579954531"
   },
   "source": [
    "We now, finally, have our training and validation data sets with the correct tensor sizes and data types.  \n",
    "Now let's create the test set from the data that was _not_ selected while creating the balanced dataset. (Stored in `remaining_data`)"
   ]
  },
  {
   "cell_type": "code",
   "execution_count": 110,
   "id": "0Dz8ktSe-dFn",
   "metadata": {
    "colab": {
     "base_uri": "https://localhost:8080/"
    },
    "execution": {
     "iopub.execute_input": "2023-03-06T11:42:49.372272Z",
     "iopub.status.busy": "2023-03-06T11:42:49.371648Z",
     "iopub.status.idle": "2023-03-06T11:42:49.389277Z",
     "shell.execute_reply": "2023-03-06T11:42:49.386345Z",
     "shell.execute_reply.started": "2023-03-06T11:42:49.372233Z"
    },
    "id": "0Dz8ktSe-dFn",
    "outputId": "7ce9f543-18ba-4eae-c555-8fa7b5c3f852",
    "tags": []
   },
   "outputs": [
    {
     "data": {
      "text/plain": [
       "label_pneumonia               73\n",
       "label_consolidation          144\n",
       "label_cardiomegaly           150\n",
       "label_pleural_thickening     230\n",
       "label_pneumothorax           327\n",
       "label_effusion               655\n",
       "label_other                 2092\n",
       "dtype: int64"
      ]
     },
     "execution_count": 110,
     "metadata": {},
     "output_type": "execute_result"
    }
   ],
   "source": [
    "test_data = remaining_data\n",
    "\n",
    "test_data[label_names].sum(axis=0).sort_values()"
   ]
  },
  {
   "cell_type": "code",
   "execution_count": 111,
   "id": "8416c797-34f4-49b0-a869-8ba9c6eaa80c",
   "metadata": {
    "execution": {
     "iopub.execute_input": "2023-03-06T11:42:50.650014Z",
     "iopub.status.busy": "2023-03-06T11:42:50.649592Z",
     "iopub.status.idle": "2023-03-06T11:42:50.962039Z",
     "shell.execute_reply": "2023-03-06T11:42:50.961665Z",
     "shell.execute_reply.started": "2023-03-06T11:42:50.649987Z"
    },
    "id": "8416c797-34f4-49b0-a869-8ba9c6eaa80c",
    "tags": []
   },
   "outputs": [],
   "source": [
    "filenames_test = test_data.img_idx.to_list()\n",
    "X_test = filenames_test  # [str(pathlib.Path(data_dir, filename)) for filename in filenames_test]\n",
    "y_test_bin = np.array(test_data[label_names].apply(lambda x: x + 0), dtype=np.uint8)\n",
    "test_ds = create_dataset(X_test, y_test_bin)"
   ]
  },
  {
   "cell_type": "markdown",
   "id": "1ac05cae-cfc0-4306-b611-1fab5552e390",
   "metadata": {
    "id": "1ac05cae-cfc0-4306-b611-1fab5552e390"
   },
   "source": [
    "# Modelling"
   ]
  },
  {
   "cell_type": "markdown",
   "id": "05b49c66-669b-4057-899b-3290537cdeee",
   "metadata": {
    "id": "05b49c66-669b-4057-899b-3290537cdeee"
   },
   "source": [
    "## Loss Function and Evaluation Metrics"
   ]
  },
  {
   "cell_type": "markdown",
   "id": "7f72d6ae-de4d-477a-adab-c9e2010af3a1",
   "metadata": {
    "id": "7f72d6ae-de4d-477a-adab-c9e2010af3a1"
   },
   "source": [
    "The function below, from [the Medium post mentioned earlier](https://towardsdatascience.com/multi-label-image-classification-in-tensorflow-2-0-7d4cf8a4bc72), will provide our evaluation metric:"
   ]
  },
  {
   "cell_type": "code",
   "execution_count": 55,
   "id": "2c3a2129-0689-4629-9138-ee2243b8e26f",
   "metadata": {
    "execution": {
     "iopub.execute_input": "2023-03-05T09:10:09.642267Z",
     "iopub.status.busy": "2023-03-05T09:10:09.642139Z",
     "iopub.status.idle": "2023-03-05T09:10:09.646105Z",
     "shell.execute_reply": "2023-03-05T09:10:09.645612Z",
     "shell.execute_reply.started": "2023-03-05T09:10:09.642256Z"
    },
    "id": "2c3a2129-0689-4629-9138-ee2243b8e26f"
   },
   "outputs": [],
   "source": [
    "def macro_f1(y, y_hat, thresh=0.5):\n",
    "    \"\"\"Compute the macro F1-score on a batch of observations (average F1 across labels)\n",
    "\n",
    "    Args:\n",
    "        y (int32 Tensor): labels array of shape (BATCH_SIZE, N_LABELS)\n",
    "        y_hat (float32 Tensor): probability matrix from forward propagation of shape (BATCH_SIZE, N_LABELS)\n",
    "        thresh: probability value above which we predict positive\n",
    "\n",
    "    Returns:\n",
    "        macro_f1 (scalar Tensor): value of macro F1 for the batch\n",
    "    \"\"\"\n",
    "    y_pred = tf.cast(tf.greater(y_hat, thresh), tf.float32)\n",
    "    tp = tf.cast(tf.math.count_nonzero(y_pred * y, axis=0), tf.float32)\n",
    "    fp = tf.cast(tf.math.count_nonzero(y_pred * (1 - y), axis=0), tf.float32)\n",
    "    fn = tf.cast(tf.math.count_nonzero((1 - y_pred) * y, axis=0), tf.float32)\n",
    "    f1 = 2 * tp / (2 * tp + fn + fp + 1e-16)\n",
    "    macro_f1 = tf.reduce_mean(f1)\n",
    "    return macro_f1"
   ]
  },
  {
   "cell_type": "markdown",
   "id": "5552cd2b-c1f2-4de6-a113-a224aa7b7bfc",
   "metadata": {
    "id": "5552cd2b-c1f2-4de6-a113-a224aa7b7bfc"
   },
   "source": [
    "And the one below, from a related blog post ([here](https://towardsdatascience.com/the-unknown-benefits-of-using-a-soft-f1-loss-in-classification-systems-753902c0105d)), provides a differentiable version of the above, for our loss function:"
   ]
  },
  {
   "cell_type": "code",
   "execution_count": 56,
   "id": "d7bfd91f-e5d4-4911-8ff9-5ec9fc05bdae",
   "metadata": {
    "execution": {
     "iopub.execute_input": "2023-03-05T09:10:09.646730Z",
     "iopub.status.busy": "2023-03-05T09:10:09.646639Z",
     "iopub.status.idle": "2023-03-05T09:10:09.649502Z",
     "shell.execute_reply": "2023-03-05T09:10:09.649086Z",
     "shell.execute_reply.started": "2023-03-05T09:10:09.646721Z"
    },
    "id": "d7bfd91f-e5d4-4911-8ff9-5ec9fc05bdae"
   },
   "outputs": [],
   "source": [
    "def macro_soft_f1(y, y_hat):\n",
    "    \"\"\"Compute the macro soft F1-score as a cost.\n",
    "    Average (1 - soft-F1) across all labels.\n",
    "    Use probability values instead of binary predictions.\n",
    "\n",
    "    Args:\n",
    "        y (int32 Tensor): targets array of shape (BATCH_SIZE, N_LABELS)\n",
    "        y_hat (float32 Tensor): probability matrix of shape (BATCH_SIZE, N_LABELS)\n",
    "\n",
    "    Returns:\n",
    "        cost (scalar Tensor): value of the cost function for the batch\n",
    "    \"\"\"\n",
    "\n",
    "    y = tf.cast(y, tf.float32)\n",
    "    y_hat = tf.cast(y_hat, tf.float32)\n",
    "    tp = tf.reduce_sum(y_hat * y, axis=0)\n",
    "    fp = tf.reduce_sum(y_hat * (1 - y), axis=0)\n",
    "    fn = tf.reduce_sum((1 - y_hat) * y, axis=0)\n",
    "    soft_f1 = 2 * tp / (2 * tp + fn + fp + 1e-16)\n",
    "    cost = 1 - soft_f1  # reduce 1 - soft-f1 in order to increase soft-f1\n",
    "    macro_cost = tf.reduce_mean(cost)  # average on all labels\n",
    "\n",
    "    return macro_cost"
   ]
  },
  {
   "cell_type": "markdown",
   "id": "397a5ec4-72cf-4ffd-9c16-288e6a3195cf",
   "metadata": {
    "id": "397a5ec4-72cf-4ffd-9c16-288e6a3195cf"
   },
   "source": [
    "## Baseline Model"
   ]
  },
  {
   "cell_type": "markdown",
   "id": "95a5978b-c44a-4879-a5df-b451bb85f3d0",
   "metadata": {
    "id": "95a5978b-c44a-4879-a5df-b451bb85f3d0"
   },
   "source": [
    "We need _something_ to compare our eventual model's evaluation metrics to.  \n",
    "Let us explore this further now."
   ]
  },
  {
   "cell_type": "markdown",
   "id": "bd5c8637-7673-4813-8466-32b58645237a",
   "metadata": {},
   "source": [
    "### Naive baseline #1: Most-Frequent"
   ]
  },
  {
   "cell_type": "markdown",
   "id": "99e236d8-100f-42f5-8d9d-f08adc390731",
   "metadata": {},
   "source": [
    "What if we just predicted the most frequent class, i.e. naively predict that all patients are healthy?"
   ]
  },
  {
   "cell_type": "code",
   "execution_count": 57,
   "id": "8124751b-d904-46b8-b28c-9488f7a626c2",
   "metadata": {
    "execution": {
     "iopub.execute_input": "2023-03-05T09:10:09.650098Z",
     "iopub.status.busy": "2023-03-05T09:10:09.650008Z",
     "iopub.status.idle": "2023-03-05T09:10:09.652271Z",
     "shell.execute_reply": "2023-03-05T09:10:09.651770Z",
     "shell.execute_reply.started": "2023-03-05T09:10:09.650090Z"
    },
    "tags": []
   },
   "outputs": [],
   "source": [
    "from sklearn.metrics import (\n",
    "    accuracy_score,\n",
    "    classification_report,\n",
    "    multilabel_confusion_matrix,\n",
    ")"
   ]
  },
  {
   "cell_type": "code",
   "execution_count": 58,
   "id": "LCRLrx9-BPJI",
   "metadata": {
    "colab": {
     "base_uri": "https://localhost:8080/"
    },
    "execution": {
     "iopub.execute_input": "2023-03-05T09:10:09.653214Z",
     "iopub.status.busy": "2023-03-05T09:10:09.653048Z",
     "iopub.status.idle": "2023-03-05T09:10:09.656099Z",
     "shell.execute_reply": "2023-03-05T09:10:09.655613Z",
     "shell.execute_reply.started": "2023-03-05T09:10:09.653201Z"
    },
    "id": "LCRLrx9-BPJI",
    "outputId": "6ba0a8be-a2e5-408c-979d-8a9cff7f3c91",
    "tags": []
   },
   "outputs": [
    {
     "data": {
      "text/plain": [
       "array([[0, 0, 1, ..., 0, 0, 0],\n",
       "       [0, 0, 1, ..., 0, 0, 0],\n",
       "       [0, 0, 0, ..., 0, 0, 1],\n",
       "       ...,\n",
       "       [0, 0, 1, ..., 0, 0, 0],\n",
       "       [0, 0, 0, ..., 0, 0, 1],\n",
       "       [0, 0, 1, ..., 0, 0, 0]], dtype=uint8)"
      ]
     },
     "execution_count": 58,
     "metadata": {},
     "output_type": "execute_result"
    }
   ],
   "source": [
    "y_test_bin"
   ]
  },
  {
   "cell_type": "code",
   "execution_count": 59,
   "id": "95e210b8-b30f-4828-b87c-17c2d65ee861",
   "metadata": {
    "colab": {
     "base_uri": "https://localhost:8080/"
    },
    "execution": {
     "iopub.execute_input": "2023-03-05T09:10:09.656728Z",
     "iopub.status.busy": "2023-03-05T09:10:09.656622Z",
     "iopub.status.idle": "2023-03-05T09:10:09.662167Z",
     "shell.execute_reply": "2023-03-05T09:10:09.661461Z",
     "shell.execute_reply.started": "2023-03-05T09:10:09.656718Z"
    },
    "id": "95e210b8-b30f-4828-b87c-17c2d65ee861",
    "outputId": "85087039-a152-4f5d-8c6f-102cc02403b4",
    "tags": []
   },
   "outputs": [
    {
     "data": {
      "text/plain": [
       "<tf.Tensor: shape=(), dtype=float32, numpy=0.092492044>"
      ]
     },
     "execution_count": 59,
     "metadata": {},
     "output_type": "execute_result"
    }
   ],
   "source": [
    "pred_all_healthy = np.zeros(y_test_bin.shape, dtype=np.float32)\n",
    "pred_all_healthy[:, 2] = 1  # 2 is the index of \"no finding\"\n",
    "macro_f1(y_test_bin, pred_all_healthy)"
   ]
  },
  {
   "cell_type": "code",
   "execution_count": 60,
   "id": "1b3a9121-0ee2-434a-a6d6-9178b17ea6d4",
   "metadata": {
    "execution": {
     "iopub.execute_input": "2023-03-05T09:10:09.663069Z",
     "iopub.status.busy": "2023-03-05T09:10:09.662951Z",
     "iopub.status.idle": "2023-03-05T09:10:09.673908Z",
     "shell.execute_reply": "2023-03-05T09:10:09.673470Z",
     "shell.execute_reply.started": "2023-03-05T09:10:09.663058Z"
    },
    "tags": []
   },
   "outputs": [
    {
     "name": "stdout",
     "output_type": "stream",
     "text": [
      "                          precision    recall  f1-score   support\n",
      "\n",
      "      label_cardiomegaly       0.00      0.00      0.00       151\n",
      "          label_effusion       0.00      0.00      0.00       665\n",
      "        label_no_finding       0.59      1.00      0.74      3952\n",
      "      label_pneumothorax       0.00      0.00      0.00       337\n",
      "label_pleural_thickening       0.00      0.00      0.00       250\n",
      "         label_pneumonia       0.00      0.00      0.00        65\n",
      "     label_consolidation       0.00      0.00      0.00       146\n",
      "             label_other       0.00      0.00      0.00      2071\n",
      "\n",
      "               micro avg       0.59      0.52      0.55      7637\n",
      "               macro avg       0.07      0.12      0.09      7637\n",
      "            weighted avg       0.30      0.52      0.38      7637\n",
      "             samples avg       0.59      0.59      0.59      7637\n",
      "\n"
     ]
    },
    {
     "name": "stderr",
     "output_type": "stream",
     "text": [
      "/Users/fafa/.pyenv/versions/3.10.6/envs/cxray/lib/python3.10/site-packages/sklearn/metrics/_classification.py:1344: UndefinedMetricWarning: Precision and F-score are ill-defined and being set to 0.0 in labels with no predicted samples. Use `zero_division` parameter to control this behavior.\n",
      "  _warn_prf(average, modifier, msg_start, len(result))\n"
     ]
    }
   ],
   "source": [
    "print(classification_report(y_test_bin, pred_all_healthy, target_names=label_names))"
   ]
  },
  {
   "cell_type": "code",
   "execution_count": 61,
   "id": "88962104-ae15-4bf8-8bd7-dfc1b339d2ff",
   "metadata": {
    "execution": {
     "iopub.execute_input": "2023-03-05T09:10:09.674728Z",
     "iopub.status.busy": "2023-03-05T09:10:09.674592Z",
     "iopub.status.idle": "2023-03-05T09:10:09.680063Z",
     "shell.execute_reply": "2023-03-05T09:10:09.679633Z",
     "shell.execute_reply.started": "2023-03-05T09:10:09.674717Z"
    },
    "tags": []
   },
   "outputs": [
    {
     "data": {
      "text/plain": [
       "array([[[6579,    0],\n",
       "        [ 151,    0]],\n",
       "\n",
       "       [[6065,    0],\n",
       "        [ 665,    0]],\n",
       "\n",
       "       [[   0, 2778],\n",
       "        [   0, 3952]],\n",
       "\n",
       "       [[6393,    0],\n",
       "        [ 337,    0]],\n",
       "\n",
       "       [[6480,    0],\n",
       "        [ 250,    0]],\n",
       "\n",
       "       [[6665,    0],\n",
       "        [  65,    0]],\n",
       "\n",
       "       [[6584,    0],\n",
       "        [ 146,    0]],\n",
       "\n",
       "       [[4659,    0],\n",
       "        [2071,    0]]])"
      ]
     },
     "execution_count": 61,
     "metadata": {},
     "output_type": "execute_result"
    }
   ],
   "source": [
    "multilabel_confusion_matrix(y_test_bin, pred_all_healthy)"
   ]
  },
  {
   "cell_type": "code",
   "execution_count": 62,
   "id": "nX2BY2qMBRhH",
   "metadata": {
    "colab": {
     "base_uri": "https://localhost:8080/"
    },
    "execution": {
     "iopub.execute_input": "2023-03-05T09:10:09.683725Z",
     "iopub.status.busy": "2023-03-05T09:10:09.683410Z",
     "iopub.status.idle": "2023-03-05T09:10:09.688548Z",
     "shell.execute_reply": "2023-03-05T09:10:09.687939Z",
     "shell.execute_reply.started": "2023-03-05T09:10:09.683713Z"
    },
    "id": "nX2BY2qMBRhH",
    "outputId": "a405bbaa-9d75-4e96-8e11-b165240e36a3",
    "tags": []
   },
   "outputs": [
    {
     "data": {
      "text/plain": [
       "0.587221396731055"
      ]
     },
     "execution_count": 62,
     "metadata": {},
     "output_type": "execute_result"
    }
   ],
   "source": [
    "accuracy_score(y_test_bin, pred_all_healthy)"
   ]
  },
  {
   "cell_type": "markdown",
   "id": "a87d441c-fa51-4912-a9ea-7c10f2f92511",
   "metadata": {},
   "source": [
    "The classification report scores are not very helpful in this scenario...  \n",
    "What if we predicted the most frequent ailment, i.e. naively predict that all patients have one of the \"other\" ailments (other than the main 6 we're focusing on)?"
   ]
  },
  {
   "cell_type": "code",
   "execution_count": 123,
   "id": "8217fc6e-294f-42e4-9186-290ff847fd96",
   "metadata": {
    "execution": {
     "iopub.execute_input": "2023-03-07T08:31:12.683083Z",
     "iopub.status.busy": "2023-03-07T08:31:12.681278Z",
     "iopub.status.idle": "2023-03-07T08:31:12.702858Z",
     "shell.execute_reply": "2023-03-07T08:31:12.702474Z",
     "shell.execute_reply.started": "2023-03-07T08:31:12.683008Z"
    },
    "tags": []
   },
   "outputs": [
    {
     "data": {
      "text/plain": [
       "<tf.Tensor: shape=(), dtype=float32, numpy=0.0677527>"
      ]
     },
     "execution_count": 123,
     "metadata": {},
     "output_type": "execute_result"
    }
   ],
   "source": [
    "pred_all_other = np.zeros(y_test_bin.shape, dtype=np.float32)\n",
    "pred_all_other[:, -1] = 1  # \"label_other\" is the last label\n",
    "macro_f1(y_test_bin, pred_all_other)"
   ]
  },
  {
   "cell_type": "code",
   "execution_count": 124,
   "id": "2b65fae2-0266-44f7-bb90-d477e806409a",
   "metadata": {
    "execution": {
     "iopub.execute_input": "2023-03-07T08:31:25.492348Z",
     "iopub.status.busy": "2023-03-07T08:31:25.491381Z",
     "iopub.status.idle": "2023-03-07T08:31:25.521428Z",
     "shell.execute_reply": "2023-03-07T08:31:25.521006Z",
     "shell.execute_reply.started": "2023-03-07T08:31:25.492290Z"
    },
    "tags": []
   },
   "outputs": [
    {
     "name": "stdout",
     "output_type": "stream",
     "text": [
      "                          precision    recall  f1-score   support\n",
      "\n",
      "      label_cardiomegaly       0.00      0.00      0.00       150\n",
      "          label_effusion       0.00      0.00      0.00       655\n",
      "      label_pneumothorax       0.00      0.00      0.00       327\n",
      "label_pleural_thickening       0.00      0.00      0.00       230\n",
      "         label_pneumonia       0.00      0.00      0.00        73\n",
      "     label_consolidation       0.00      0.00      0.00       144\n",
      "             label_other       0.31      1.00      0.47      2092\n",
      "\n",
      "               micro avg       0.31      0.57      0.40      3671\n",
      "               macro avg       0.04      0.14      0.07      3671\n",
      "            weighted avg       0.18      0.57      0.27      3671\n",
      "             samples avg       0.31      0.26      0.28      3671\n",
      "\n"
     ]
    },
    {
     "name": "stderr",
     "output_type": "stream",
     "text": [
      "/Users/fafa/.pyenv/versions/3.10.6/envs/cxray/lib/python3.10/site-packages/sklearn/metrics/_classification.py:1344: UndefinedMetricWarning: Precision and F-score are ill-defined and being set to 0.0 in labels with no predicted samples. Use `zero_division` parameter to control this behavior.\n",
      "  _warn_prf(average, modifier, msg_start, len(result))\n",
      "/Users/fafa/.pyenv/versions/3.10.6/envs/cxray/lib/python3.10/site-packages/sklearn/metrics/_classification.py:1344: UndefinedMetricWarning: Recall and F-score are ill-defined and being set to 0.0 in samples with no true labels. Use `zero_division` parameter to control this behavior.\n",
      "  _warn_prf(average, modifier, msg_start, len(result))\n"
     ]
    }
   ],
   "source": [
    "print(classification_report(y_test_bin, pred_all_other, target_names=label_names))"
   ]
  },
  {
   "cell_type": "code",
   "execution_count": 125,
   "id": "c27dc605-1382-49a3-9616-38ff09606491",
   "metadata": {
    "execution": {
     "iopub.execute_input": "2023-03-07T08:31:41.552907Z",
     "iopub.status.busy": "2023-03-07T08:31:41.552162Z",
     "iopub.status.idle": "2023-03-07T08:31:41.569734Z",
     "shell.execute_reply": "2023-03-07T08:31:41.568346Z",
     "shell.execute_reply.started": "2023-03-07T08:31:41.552856Z"
    },
    "tags": []
   },
   "outputs": [
    {
     "data": {
      "text/plain": [
       "array([[[6580,    0],\n",
       "        [ 150,    0]],\n",
       "\n",
       "       [[6075,    0],\n",
       "        [ 655,    0]],\n",
       "\n",
       "       [[6403,    0],\n",
       "        [ 327,    0]],\n",
       "\n",
       "       [[6500,    0],\n",
       "        [ 230,    0]],\n",
       "\n",
       "       [[6657,    0],\n",
       "        [  73,    0]],\n",
       "\n",
       "       [[6586,    0],\n",
       "        [ 144,    0]],\n",
       "\n",
       "       [[   0, 4638],\n",
       "        [   0, 2092]]])"
      ]
     },
     "execution_count": 125,
     "metadata": {},
     "output_type": "execute_result"
    }
   ],
   "source": [
    "multilabel_confusion_matrix(y_test_bin, pred_all_other)"
   ]
  },
  {
   "cell_type": "code",
   "execution_count": 126,
   "id": "c7b58112-5d5d-4d9f-b2ac-b296e4d1d635",
   "metadata": {
    "execution": {
     "iopub.execute_input": "2023-03-07T08:31:53.787393Z",
     "iopub.status.busy": "2023-03-07T08:31:53.786677Z",
     "iopub.status.idle": "2023-03-07T08:31:53.804760Z",
     "shell.execute_reply": "2023-03-07T08:31:53.804025Z",
     "shell.execute_reply.started": "2023-03-07T08:31:53.787359Z"
    },
    "tags": []
   },
   "outputs": [
    {
     "data": {
      "text/plain": [
       "0.2175334323922734"
      ]
     },
     "execution_count": 126,
     "metadata": {},
     "output_type": "execute_result"
    }
   ],
   "source": [
    "accuracy_score(y_test_bin, pred_all_other)"
   ]
  },
  {
   "cell_type": "markdown",
   "id": "a4177172-579a-40a8-b9dd-fc149d6483d1",
   "metadata": {},
   "source": [
    "### Naive Baseline #2: Maximum Recall"
   ]
  },
  {
   "cell_type": "markdown",
   "id": "ad1b83f3-09f0-4e98-b42a-9ece4e6a219a",
   "metadata": {},
   "source": [
    "What if we assumed all patients have all the ailments?!"
   ]
  },
  {
   "cell_type": "code",
   "execution_count": 127,
   "id": "c381d889-6ed3-48d7-a74e-47ccc2a857ec",
   "metadata": {
    "execution": {
     "iopub.execute_input": "2023-03-07T08:34:49.824504Z",
     "iopub.status.busy": "2023-03-07T08:34:49.823951Z",
     "iopub.status.idle": "2023-03-07T08:34:49.842064Z",
     "shell.execute_reply": "2023-03-07T08:34:49.841340Z",
     "shell.execute_reply.started": "2023-03-07T08:34:49.824465Z"
    },
    "tags": []
   },
   "outputs": [
    {
     "data": {
      "text/plain": [
       "<tf.Tensor: shape=(), dtype=float32, numpy=0.13105488>"
      ]
     },
     "execution_count": 127,
     "metadata": {},
     "output_type": "execute_result"
    }
   ],
   "source": [
    "pred_all_ones = np.ones(y_test_bin.shape, dtype=np.float32)\n",
    "macro_f1(y_test_bin, pred_all_ones)"
   ]
  },
  {
   "cell_type": "code",
   "execution_count": 128,
   "id": "74386429-4b14-4fce-a107-e8488a40fad1",
   "metadata": {
    "execution": {
     "iopub.execute_input": "2023-03-07T08:35:15.382220Z",
     "iopub.status.busy": "2023-03-07T08:35:15.381818Z",
     "iopub.status.idle": "2023-03-07T08:35:15.427201Z",
     "shell.execute_reply": "2023-03-07T08:35:15.426641Z",
     "shell.execute_reply.started": "2023-03-07T08:35:15.382195Z"
    },
    "tags": []
   },
   "outputs": [
    {
     "name": "stdout",
     "output_type": "stream",
     "text": [
      "                          precision    recall  f1-score   support\n",
      "\n",
      "      label_cardiomegaly       0.02      1.00      0.04       150\n",
      "          label_effusion       0.10      1.00      0.18       655\n",
      "      label_pneumothorax       0.05      1.00      0.09       327\n",
      "label_pleural_thickening       0.03      1.00      0.07       230\n",
      "         label_pneumonia       0.01      1.00      0.02        73\n",
      "     label_consolidation       0.02      1.00      0.04       144\n",
      "             label_other       0.31      1.00      0.47      2092\n",
      "\n",
      "               micro avg       0.08      1.00      0.14      3671\n",
      "               macro avg       0.08      1.00      0.13      3671\n",
      "            weighted avg       0.20      1.00      0.32      3671\n",
      "             samples avg       0.08      0.41      0.13      3671\n",
      "\n"
     ]
    },
    {
     "name": "stderr",
     "output_type": "stream",
     "text": [
      "/Users/fafa/.pyenv/versions/3.10.6/envs/cxray/lib/python3.10/site-packages/sklearn/metrics/_classification.py:1344: UndefinedMetricWarning: Recall and F-score are ill-defined and being set to 0.0 in samples with no true labels. Use `zero_division` parameter to control this behavior.\n",
      "  _warn_prf(average, modifier, msg_start, len(result))\n"
     ]
    }
   ],
   "source": [
    "print(classification_report(y_test_bin, pred_all_ones, target_names=label_names))"
   ]
  },
  {
   "cell_type": "code",
   "execution_count": 129,
   "id": "3d2e101a-7ad7-4a8d-a3c0-ab83b773347f",
   "metadata": {
    "execution": {
     "iopub.execute_input": "2023-03-07T08:36:12.468523Z",
     "iopub.status.busy": "2023-03-07T08:36:12.467573Z",
     "iopub.status.idle": "2023-03-07T08:36:12.487979Z",
     "shell.execute_reply": "2023-03-07T08:36:12.487484Z",
     "shell.execute_reply.started": "2023-03-07T08:36:12.468465Z"
    },
    "tags": []
   },
   "outputs": [
    {
     "data": {
      "text/plain": [
       "array([[[   0, 6580],\n",
       "        [   0,  150]],\n",
       "\n",
       "       [[   0, 6075],\n",
       "        [   0,  655]],\n",
       "\n",
       "       [[   0, 6403],\n",
       "        [   0,  327]],\n",
       "\n",
       "       [[   0, 6500],\n",
       "        [   0,  230]],\n",
       "\n",
       "       [[   0, 6657],\n",
       "        [   0,   73]],\n",
       "\n",
       "       [[   0, 6586],\n",
       "        [   0,  144]],\n",
       "\n",
       "       [[   0, 4638],\n",
       "        [   0, 2092]]])"
      ]
     },
     "execution_count": 129,
     "metadata": {},
     "output_type": "execute_result"
    }
   ],
   "source": [
    "multilabel_confusion_matrix(y_test_bin, pred_all_ones)"
   ]
  },
  {
   "cell_type": "code",
   "execution_count": 130,
   "id": "8b0acda6-f97d-49af-9a73-5cfff46d720a",
   "metadata": {
    "execution": {
     "iopub.execute_input": "2023-03-07T08:36:24.603747Z",
     "iopub.status.busy": "2023-03-07T08:36:24.602659Z",
     "iopub.status.idle": "2023-03-07T08:36:24.623915Z",
     "shell.execute_reply": "2023-03-07T08:36:24.623415Z",
     "shell.execute_reply.started": "2023-03-07T08:36:24.603687Z"
    },
    "tags": []
   },
   "outputs": [
    {
     "data": {
      "text/plain": [
       "0.0"
      ]
     },
     "execution_count": 130,
     "metadata": {},
     "output_type": "execute_result"
    }
   ],
   "source": [
    "accuracy_score(y_test_bin, pred_all_ones)"
   ]
  },
  {
   "cell_type": "markdown",
   "id": "ddfcac9a-24fa-4865-b810-4c1ba10a572a",
   "metadata": {},
   "source": [
    "**A note on Accuracy:** Accuracy is not very meaningful as an aggregate evaluation metric for our multilabel classification problem. Even if one of the multiple conditions are classified incorrectly, that patient will contribute a zero for the overall accuracy score. That makes the above accuracy score impossible to beat. We can, instead, talk about per-label accuracy however. And we will investigate this later if time allows."
   ]
  },
  {
   "cell_type": "markdown",
   "id": "719d8257-fec8-4136-b181-bc7f92c522e1",
   "metadata": {},
   "source": [
    "### Naive Baseline #3: Random based on frequency"
   ]
  },
  {
   "cell_type": "markdown",
   "id": "f97c9a70-0332-4641-96d1-ecc09b156c75",
   "metadata": {},
   "source": [
    "What if we randomly predicted the conditions based on their frequencies of occurrence?  "
   ]
  },
  {
   "cell_type": "code",
   "execution_count": 63,
   "id": "6d091b48-8ea6-4e69-abbb-603426a20487",
   "metadata": {
    "execution": {
     "iopub.execute_input": "2023-03-05T09:10:09.689188Z",
     "iopub.status.busy": "2023-03-05T09:10:09.689061Z",
     "iopub.status.idle": "2023-03-05T09:10:09.693338Z",
     "shell.execute_reply": "2023-03-05T09:10:09.692987Z",
     "shell.execute_reply.started": "2023-03-05T09:10:09.689178Z"
    },
    "tags": []
   },
   "outputs": [
    {
     "data": {
      "text/plain": [
       "label_cardiomegaly          0.023312\n",
       "label_effusion              0.097806\n",
       "label_no_finding            0.583533\n",
       "label_pneumothorax          0.050669\n",
       "label_pleural_thickening    0.035794\n",
       "label_pneumonia             0.009328\n",
       "label_consolidation         0.022701\n",
       "label_other                 0.314699\n",
       "dtype: float64"
      ]
     },
     "execution_count": 63,
     "metadata": {},
     "output_type": "execute_result"
    }
   ],
   "source": [
    "label_ratios = data_train_and_cv[label_names].sum(axis=0) / len(data_train_and_cv)\n",
    "label_ratios"
   ]
  },
  {
   "cell_type": "code",
   "execution_count": 64,
   "id": "b0e892ae-d828-4686-836d-02f1a43757a8",
   "metadata": {
    "execution": {
     "iopub.execute_input": "2023-03-05T09:10:09.694045Z",
     "iopub.status.busy": "2023-03-05T09:10:09.693878Z",
     "iopub.status.idle": "2023-03-05T09:10:09.697705Z",
     "shell.execute_reply": "2023-03-05T09:10:09.697236Z",
     "shell.execute_reply.started": "2023-03-05T09:10:09.694033Z"
    },
    "tags": []
   },
   "outputs": [
    {
     "data": {
      "text/plain": [
       "label_cardiomegaly           156\n",
       "label_effusion               658\n",
       "label_no_finding            3927\n",
       "label_pneumothorax           341\n",
       "label_pleural_thickening     240\n",
       "label_pneumonia               62\n",
       "label_consolidation          152\n",
       "label_other                 2117\n",
       "dtype: int64"
      ]
     },
     "execution_count": 64,
     "metadata": {},
     "output_type": "execute_result"
    }
   ],
   "source": [
    "pred_random_label_counts = (y_test_bin.shape[0] * label_ratios).apply(lambda x: int(x))\n",
    "pred_random_label_counts"
   ]
  },
  {
   "cell_type": "code",
   "execution_count": 65,
   "id": "a9134c7c-c5d0-437f-ad95-88f333fb3c0a",
   "metadata": {
    "execution": {
     "iopub.execute_input": "2023-03-05T09:10:09.698324Z",
     "iopub.status.busy": "2023-03-05T09:10:09.698190Z",
     "iopub.status.idle": "2023-03-05T09:10:09.705431Z",
     "shell.execute_reply": "2023-03-05T09:10:09.704993Z",
     "shell.execute_reply.started": "2023-03-05T09:10:09.698311Z"
    },
    "tags": []
   },
   "outputs": [
    {
     "data": {
      "text/plain": [
       "<tf.Tensor: shape=(), dtype=float32, numpy=0.13926691>"
      ]
     },
     "execution_count": 65,
     "metadata": {},
     "output_type": "execute_result"
    }
   ],
   "source": [
    "pred_random = np.zeros(y_test_bin.shape)\n",
    "\n",
    "for i, label in enumerate(label_names):\n",
    "    pred_random[\n",
    "        np.random.choice(\n",
    "            pred_random.shape[0], int(pred_random_label_counts[label]), replace=False\n",
    "        ),\n",
    "        i,\n",
    "    ] = 1\n",
    "\n",
    "# pred_random.sum(axis=0)\n",
    "macro_f1(y_test_bin, pred_random)"
   ]
  },
  {
   "cell_type": "code",
   "execution_count": 66,
   "id": "e6f9b129-4534-4e65-b3b4-b21d9cfb0a67",
   "metadata": {
    "execution": {
     "iopub.execute_input": "2023-03-05T09:10:09.706117Z",
     "iopub.status.busy": "2023-03-05T09:10:09.705993Z",
     "iopub.status.idle": "2023-03-05T09:10:09.717293Z",
     "shell.execute_reply": "2023-03-05T09:10:09.716779Z",
     "shell.execute_reply.started": "2023-03-05T09:10:09.706106Z"
    },
    "tags": []
   },
   "outputs": [
    {
     "name": "stdout",
     "output_type": "stream",
     "text": [
      "                          precision    recall  f1-score   support\n",
      "\n",
      "      label_cardiomegaly       0.03      0.03      0.03       151\n",
      "          label_effusion       0.10      0.10      0.10       665\n",
      "        label_no_finding       0.58      0.58      0.58      3952\n",
      "      label_pneumothorax       0.04      0.04      0.04       337\n",
      "label_pleural_thickening       0.03      0.02      0.02       250\n",
      "         label_pneumonia       0.02      0.02      0.02        65\n",
      "     label_consolidation       0.01      0.01      0.01       146\n",
      "             label_other       0.32      0.32      0.32      2071\n",
      "\n",
      "               micro avg       0.40      0.40      0.40      7637\n",
      "               macro avg       0.14      0.14      0.14      7637\n",
      "            weighted avg       0.40      0.40      0.40      7637\n",
      "             samples avg       0.33      0.43      0.36      7637\n",
      "\n"
     ]
    },
    {
     "name": "stderr",
     "output_type": "stream",
     "text": [
      "/Users/fafa/.pyenv/versions/3.10.6/envs/cxray/lib/python3.10/site-packages/sklearn/metrics/_classification.py:1344: UndefinedMetricWarning: Precision and F-score are ill-defined and being set to 0.0 in samples with no predicted labels. Use `zero_division` parameter to control this behavior.\n",
      "  _warn_prf(average, modifier, msg_start, len(result))\n"
     ]
    }
   ],
   "source": [
    "print(classification_report(y_test_bin, pred_random, target_names=label_names))"
   ]
  },
  {
   "cell_type": "code",
   "execution_count": 67,
   "id": "b5bfe64b-58ec-42f2-9bfd-bfbdb688acb9",
   "metadata": {
    "execution": {
     "iopub.execute_input": "2023-03-05T09:10:09.718033Z",
     "iopub.status.busy": "2023-03-05T09:10:09.717917Z",
     "iopub.status.idle": "2023-03-05T09:10:09.724090Z",
     "shell.execute_reply": "2023-03-05T09:10:09.723460Z",
     "shell.execute_reply.started": "2023-03-05T09:10:09.718023Z"
    },
    "tags": []
   },
   "outputs": [
    {
     "data": {
      "text/plain": [
       "array([[[6427,  152],\n",
       "        [ 147,    4]],\n",
       "\n",
       "       [[5472,  593],\n",
       "        [ 600,   65]],\n",
       "\n",
       "       [[1146, 1632],\n",
       "        [1657, 2295]],\n",
       "\n",
       "       [[6066,  327],\n",
       "        [ 323,   14]],\n",
       "\n",
       "       [[6246,  234],\n",
       "        [ 244,    6]],\n",
       "\n",
       "       [[6604,   61],\n",
       "        [  64,    1]],\n",
       "\n",
       "       [[6433,  151],\n",
       "        [ 145,    1]],\n",
       "\n",
       "       [[3210, 1449],\n",
       "        [1403,  668]]])"
      ]
     },
     "execution_count": 67,
     "metadata": {},
     "output_type": "execute_result"
    }
   ],
   "source": [
    "multilabel_confusion_matrix(y_test_bin, pred_random)"
   ]
  },
  {
   "cell_type": "code",
   "execution_count": 68,
   "id": "aa3074db-a955-49b3-981a-ac21479900f0",
   "metadata": {
    "execution": {
     "iopub.execute_input": "2023-03-05T09:10:09.724989Z",
     "iopub.status.busy": "2023-03-05T09:10:09.724735Z",
     "iopub.status.idle": "2023-03-05T09:10:09.729900Z",
     "shell.execute_reply": "2023-03-05T09:10:09.729565Z",
     "shell.execute_reply.started": "2023-03-05T09:10:09.724975Z"
    },
    "tags": []
   },
   "outputs": [
    {
     "data": {
      "text/plain": [
       "0.2010401188707281"
      ]
     },
     "execution_count": 68,
     "metadata": {},
     "output_type": "execute_result"
    }
   ],
   "source": [
    "accuracy_score(y_test_bin, pred_random)"
   ]
  },
  {
   "cell_type": "markdown",
   "id": "4a142a8c-79a8-47a7-82cf-79f2b40bff46",
   "metadata": {
    "id": "4a142a8c-79a8-47a7-82cf-79f2b40bff46"
   },
   "source": [
    "## Transfer Learning"
   ]
  },
  {
   "cell_type": "markdown",
   "id": "81470564-3cf6-4512-bf1c-2fc8ea91d4de",
   "metadata": {
    "id": "81470564-3cf6-4512-bf1c-2fc8ea91d4de"
   },
   "source": [
    "We will be performing transfer learning using one of the many available pre-trained deep convolutional neural networks such as those listed in [this paper](https://www.nature.com/articles/s41598-020-70479-z.pdf?origin=ppubhttps://www.nature.com/articles/s41598-020-70479-z.pdf?origin=ppub)."
   ]
  },
  {
   "cell_type": "code",
   "execution_count": 69,
   "id": "6ecc0b5d-7fbc-4324-9877-129784cdbf73",
   "metadata": {
    "execution": {
     "iopub.execute_input": "2023-03-05T09:10:09.730712Z",
     "iopub.status.busy": "2023-03-05T09:10:09.730507Z",
     "iopub.status.idle": "2023-03-05T09:10:09.733391Z",
     "shell.execute_reply": "2023-03-05T09:10:09.733017Z",
     "shell.execute_reply.started": "2023-03-05T09:10:09.730698Z"
    },
    "id": "6ecc0b5d-7fbc-4324-9877-129784cdbf73"
   },
   "outputs": [],
   "source": [
    "LR = 1e-5  # For transfer learning, use a small value such as 1e5\n",
    "EPOCHS = 200\n",
    "DO1 = 0.4\n",
    "DO2 = 0.2\n",
    "DO3 = 0.1\n",
    "L2_REG = 0.001\n",
    "pretrained_model = \"MobileNetV2\"\n",
    "\n",
    "\n",
    "def get_pretrained_model():\n",
    "    pretrained_model = tf.keras.applications.mobilenet_v2.MobileNetV2(\n",
    "        include_top=False,\n",
    "        input_shape=(IMG_SIZE, IMG_SIZE, CHANNELS),\n",
    "    )\n",
    "    pretrained_model.trainable = False\n",
    "    return pretrained_model"
   ]
  },
  {
   "cell_type": "code",
   "execution_count": 70,
   "id": "65d745b5-138b-4a2a-ab5c-067be8a89e38",
   "metadata": {
    "colab": {
     "base_uri": "https://localhost:8080/"
    },
    "execution": {
     "iopub.execute_input": "2023-03-05T09:10:09.734457Z",
     "iopub.status.busy": "2023-03-05T09:10:09.734286Z",
     "iopub.status.idle": "2023-03-05T09:10:09.736369Z",
     "shell.execute_reply": "2023-03-05T09:10:09.735996Z",
     "shell.execute_reply.started": "2023-03-05T09:10:09.734444Z"
    },
    "id": "65d745b5-138b-4a2a-ab5c-067be8a89e38",
    "outputId": "417a1e3c-f584-43ef-a901-ac6f94bb279a"
   },
   "outputs": [],
   "source": [
    "# pretrained = get_pretrained_model()\n",
    "# pretrained.summary()"
   ]
  },
  {
   "cell_type": "code",
   "execution_count": 71,
   "id": "40ffa302-d03e-4f9d-b6b2-6976b358c2ec",
   "metadata": {
    "execution": {
     "iopub.execute_input": "2023-03-05T09:10:09.737237Z",
     "iopub.status.busy": "2023-03-05T09:10:09.737100Z",
     "iopub.status.idle": "2023-03-05T09:10:09.741713Z",
     "shell.execute_reply": "2023-03-05T09:10:09.741109Z",
     "shell.execute_reply.started": "2023-03-05T09:10:09.737226Z"
    },
    "id": "40ffa302-d03e-4f9d-b6b2-6976b358c2ec"
   },
   "outputs": [],
   "source": [
    "def create_compiled_custom_model():\n",
    "    base_model = get_pretrained_model()\n",
    "    flattening_layer = tf.keras.layers.Flatten()\n",
    "    dense_layer_1 = tf.keras.layers.Dense(\n",
    "        200, activation=\"relu\", kernel_regularizer=tf.keras.regularizers.l2(L2_REG)\n",
    "    )\n",
    "    dropout_layer_1 = tf.keras.layers.Dropout(DO1)\n",
    "    dense_layer_2 = tf.keras.layers.Dense(\n",
    "        100, activation=\"relu\", kernel_regularizer=tf.keras.regularizers.l2(L2_REG)\n",
    "    )\n",
    "    dropout_layer_2 = tf.keras.layers.Dropout(DO2)\n",
    "    dense_layer_3 = tf.keras.layers.Dense(\n",
    "        50, activation=\"relu\", kernel_regularizer=tf.keras.regularizers.l2(L2_REG)\n",
    "    )\n",
    "    dropout_layer_3 = tf.keras.layers.Dropout(DO3)\n",
    "    prediction_layer = tf.keras.layers.Dense(N_LABELS, activation=\"sigmoid\")\n",
    "\n",
    "    model = tf.keras.models.Sequential(\n",
    "        [\n",
    "            base_model,\n",
    "            flattening_layer,\n",
    "            dense_layer_1,\n",
    "            dropout_layer_1,\n",
    "            dense_layer_2,\n",
    "            dropout_layer_2,\n",
    "            dense_layer_3,\n",
    "            dropout_layer_3,\n",
    "            prediction_layer,\n",
    "        ]\n",
    "    )\n",
    "\n",
    "    opt = tf.keras.optimizers.Adam(learning_rate=LR)\n",
    "\n",
    "    model.compile(\n",
    "        optimizer=opt,\n",
    "        loss=macro_soft_f1,\n",
    "        metrics=[\"accuracy\", macro_f1],\n",
    "    )\n",
    "\n",
    "    return model"
   ]
  },
  {
   "cell_type": "code",
   "execution_count": 72,
   "id": "fe33c255-b992-4ef9-a3b0-6afcb8270d2d",
   "metadata": {
    "colab": {
     "base_uri": "https://localhost:8080/"
    },
    "execution": {
     "iopub.execute_input": "2023-03-05T09:10:09.742356Z",
     "iopub.status.busy": "2023-03-05T09:10:09.742239Z",
     "iopub.status.idle": "2023-03-05T09:10:10.596511Z",
     "shell.execute_reply": "2023-03-05T09:10:10.596022Z",
     "shell.execute_reply.started": "2023-03-05T09:10:09.742346Z"
    },
    "id": "fe33c255-b992-4ef9-a3b0-6afcb8270d2d",
    "outputId": "4f0735ea-4c18-4c7a-fb23-ac9de41b160f"
   },
   "outputs": [
    {
     "name": "stdout",
     "output_type": "stream",
     "text": [
      "Model: \"sequential_1\"\n",
      "_________________________________________________________________\n",
      " Layer (type)                Output Shape              Param #   \n",
      "=================================================================\n",
      " mobilenetv2_1.00_224 (Funct  (None, 7, 7, 1280)       2257984   \n",
      " ional)                                                          \n",
      "                                                                 \n",
      " flatten_1 (Flatten)         (None, 62720)             0         \n",
      "                                                                 \n",
      " dense_4 (Dense)             (None, 200)               12544200  \n",
      "                                                                 \n",
      " dropout_3 (Dropout)         (None, 200)               0         \n",
      "                                                                 \n",
      " dense_5 (Dense)             (None, 100)               20100     \n",
      "                                                                 \n",
      " dropout_4 (Dropout)         (None, 100)               0         \n",
      "                                                                 \n",
      " dense_6 (Dense)             (None, 50)                5050      \n",
      "                                                                 \n",
      " dropout_5 (Dropout)         (None, 50)                0         \n",
      "                                                                 \n",
      " dense_7 (Dense)             (None, 8)                 408       \n",
      "                                                                 \n",
      "=================================================================\n",
      "Total params: 14,827,742\n",
      "Trainable params: 12,569,758\n",
      "Non-trainable params: 2,257,984\n",
      "_________________________________________________________________\n"
     ]
    }
   ],
   "source": [
    "test_model = create_compiled_custom_model()\n",
    "test_model.summary()"
   ]
  },
  {
   "cell_type": "code",
   "execution_count": 73,
   "id": "GTV2FtdDN07H",
   "metadata": {
    "colab": {
     "base_uri": "https://localhost:8080/",
     "height": 35
    },
    "execution": {
     "iopub.execute_input": "2023-03-05T09:10:10.597431Z",
     "iopub.status.busy": "2023-03-05T09:10:10.597117Z",
     "iopub.status.idle": "2023-03-05T09:10:10.600157Z",
     "shell.execute_reply": "2023-03-05T09:10:10.599693Z",
     "shell.execute_reply.started": "2023-03-05T09:10:10.597416Z"
    },
    "id": "GTV2FtdDN07H",
    "outputId": "6b83a6ec-944b-4cdf-868a-87a7c9f0fbec"
   },
   "outputs": [
    {
     "data": {
      "text/plain": [
       "'test_model_MobileNetV2_bs256_lr1e-05_do0.4-0.2-0.1_l2-0.001(Mac).h5'"
      ]
     },
     "execution_count": 73,
     "metadata": {},
     "output_type": "execute_result"
    }
   ],
   "source": [
    "filename = f\"test_model_{pretrained_model}_bs{BATCH_SIZE}_lr{LR}_do{DO1}-{DO2}-{DO3}_l2-{L2_REG}(Mac).h5\"\n",
    "filename"
   ]
  },
  {
   "cell_type": "code",
   "execution_count": 74,
   "id": "97cfc223-e395-4018-a44f-5055982e471e",
   "metadata": {
    "colab": {
     "base_uri": "https://localhost:8080/"
    },
    "execution": {
     "iopub.execute_input": "2023-03-05T09:10:10.601192Z",
     "iopub.status.busy": "2023-03-05T09:10:10.601077Z",
     "iopub.status.idle": "2023-03-05T09:11:11.847797Z",
     "shell.execute_reply": "2023-03-05T09:11:11.847097Z",
     "shell.execute_reply.started": "2023-03-05T09:10:10.601181Z"
    },
    "id": "97cfc223-e395-4018-a44f-5055982e471e",
    "outputId": "34cd0a26-1c79-4b7e-8873-baab4c4c4018"
   },
   "outputs": [
    {
     "name": "stdout",
     "output_type": "stream",
     "text": [
      "Epoch 1/200\n"
     ]
    },
    {
     "name": "stderr",
     "output_type": "stream",
     "text": [
      "2023-03-05 18:10:22.132952: I tensorflow/core/kernels/data/shuffle_dataset_op.cc:390] Filling up shuffle buffer (this may take a while): 293 of 1024\n",
      "2023-03-05 18:10:32.141029: I tensorflow/core/kernels/data/shuffle_dataset_op.cc:390] Filling up shuffle buffer (this may take a while): 621 of 1024\n",
      "2023-03-05 18:10:42.105616: I tensorflow/core/kernels/data/shuffle_dataset_op.cc:390] Filling up shuffle buffer (this may take a while): 950 of 1024\n",
      "2023-03-05 18:10:44.199827: I tensorflow/core/kernels/data/shuffle_dataset_op.cc:415] Shuffle buffer filled.\n"
     ]
    },
    {
     "name": "stdout",
     "output_type": "stream",
     "text": [
      "  2/190 [..............................] - ETA: 24:40 - loss: 1.4526 - accuracy: 0.0312 - macro_f1: 0.1106  "
     ]
    },
    {
     "ename": "KeyboardInterrupt",
     "evalue": "",
     "output_type": "error",
     "traceback": [
      "\u001b[0;31m---------------------------------------------------------------------------\u001b[0m",
      "\u001b[0;31mKeyboardInterrupt\u001b[0m                         Traceback (most recent call last)",
      "Cell \u001b[0;32mIn[74], line 19\u001b[0m\n\u001b[1;32m      1\u001b[0m \u001b[38;5;66;03m# checkpoint = tf.keras.callbacks.ModelCheckpoint(\u001b[39;00m\n\u001b[1;32m      2\u001b[0m \u001b[38;5;66;03m#     filepath=\"model.{epoch:03d}.h5\",\u001b[39;00m\n\u001b[1;32m      3\u001b[0m \u001b[38;5;66;03m#     monitor=\"val_macro_f1\",\u001b[39;00m\n\u001b[0;32m   (...)\u001b[0m\n\u001b[1;32m      8\u001b[0m \u001b[38;5;66;03m#     save_freq=800,\u001b[39;00m\n\u001b[1;32m      9\u001b[0m \u001b[38;5;66;03m# )\u001b[39;00m\n\u001b[1;32m     11\u001b[0m es \u001b[38;5;241m=\u001b[39m tf\u001b[38;5;241m.\u001b[39mkeras\u001b[38;5;241m.\u001b[39mcallbacks\u001b[38;5;241m.\u001b[39mEarlyStopping(\n\u001b[1;32m     12\u001b[0m     \u001b[38;5;66;03m# monitor=\"val_macro_f1\", mode=\"max\", patience=5, verbose=1, restore_best_weights=True\u001b[39;00m\n\u001b[1;32m     13\u001b[0m     monitor\u001b[38;5;241m=\u001b[39m\u001b[38;5;124m\"\u001b[39m\u001b[38;5;124mval_loss\u001b[39m\u001b[38;5;124m\"\u001b[39m,\n\u001b[0;32m   (...)\u001b[0m\n\u001b[1;32m     17\u001b[0m     restore_best_weights\u001b[38;5;241m=\u001b[39m\u001b[38;5;28;01mTrue\u001b[39;00m,\n\u001b[1;32m     18\u001b[0m )\n\u001b[0;32m---> 19\u001b[0m history \u001b[38;5;241m=\u001b[39m \u001b[43mtest_model\u001b[49m\u001b[38;5;241;43m.\u001b[39;49m\u001b[43mfit\u001b[49m\u001b[43m(\u001b[49m\n\u001b[1;32m     20\u001b[0m \u001b[43m    \u001b[49m\u001b[43mtrain_ds\u001b[49m\u001b[43m,\u001b[49m\u001b[43m \u001b[49m\u001b[43mepochs\u001b[49m\u001b[38;5;241;43m=\u001b[39;49m\u001b[43mEPOCHS\u001b[49m\u001b[43m,\u001b[49m\u001b[43m \u001b[49m\u001b[43mvalidation_data\u001b[49m\u001b[38;5;241;43m=\u001b[39;49m\u001b[43mval_ds\u001b[49m\u001b[43m,\u001b[49m\u001b[43m \u001b[49m\u001b[43mverbose\u001b[49m\u001b[38;5;241;43m=\u001b[39;49m\u001b[38;5;241;43m1\u001b[39;49m\u001b[43m,\u001b[49m\u001b[43m \u001b[49m\u001b[43mcallbacks\u001b[49m\u001b[38;5;241;43m=\u001b[39;49m\u001b[43m[\u001b[49m\u001b[43mes\u001b[49m\u001b[43m]\u001b[49m\n\u001b[1;32m     21\u001b[0m \u001b[43m)\u001b[49m\n",
      "File \u001b[0;32m~/.pyenv/versions/3.10.6/envs/cxray/lib/python3.10/site-packages/keras/utils/traceback_utils.py:65\u001b[0m, in \u001b[0;36mfilter_traceback.<locals>.error_handler\u001b[0;34m(*args, **kwargs)\u001b[0m\n\u001b[1;32m     63\u001b[0m filtered_tb \u001b[38;5;241m=\u001b[39m \u001b[38;5;28;01mNone\u001b[39;00m\n\u001b[1;32m     64\u001b[0m \u001b[38;5;28;01mtry\u001b[39;00m:\n\u001b[0;32m---> 65\u001b[0m     \u001b[38;5;28;01mreturn\u001b[39;00m \u001b[43mfn\u001b[49m\u001b[43m(\u001b[49m\u001b[38;5;241;43m*\u001b[39;49m\u001b[43margs\u001b[49m\u001b[43m,\u001b[49m\u001b[43m \u001b[49m\u001b[38;5;241;43m*\u001b[39;49m\u001b[38;5;241;43m*\u001b[39;49m\u001b[43mkwargs\u001b[49m\u001b[43m)\u001b[49m\n\u001b[1;32m     66\u001b[0m \u001b[38;5;28;01mexcept\u001b[39;00m \u001b[38;5;167;01mException\u001b[39;00m \u001b[38;5;28;01mas\u001b[39;00m e:\n\u001b[1;32m     67\u001b[0m     filtered_tb \u001b[38;5;241m=\u001b[39m _process_traceback_frames(e\u001b[38;5;241m.\u001b[39m__traceback__)\n",
      "File \u001b[0;32m~/.pyenv/versions/3.10.6/envs/cxray/lib/python3.10/site-packages/keras/engine/training.py:1564\u001b[0m, in \u001b[0;36mModel.fit\u001b[0;34m(self, x, y, batch_size, epochs, verbose, callbacks, validation_split, validation_data, shuffle, class_weight, sample_weight, initial_epoch, steps_per_epoch, validation_steps, validation_batch_size, validation_freq, max_queue_size, workers, use_multiprocessing)\u001b[0m\n\u001b[1;32m   1556\u001b[0m \u001b[38;5;28;01mwith\u001b[39;00m tf\u001b[38;5;241m.\u001b[39mprofiler\u001b[38;5;241m.\u001b[39mexperimental\u001b[38;5;241m.\u001b[39mTrace(\n\u001b[1;32m   1557\u001b[0m     \u001b[38;5;124m\"\u001b[39m\u001b[38;5;124mtrain\u001b[39m\u001b[38;5;124m\"\u001b[39m,\n\u001b[1;32m   1558\u001b[0m     epoch_num\u001b[38;5;241m=\u001b[39mepoch,\n\u001b[0;32m   (...)\u001b[0m\n\u001b[1;32m   1561\u001b[0m     _r\u001b[38;5;241m=\u001b[39m\u001b[38;5;241m1\u001b[39m,\n\u001b[1;32m   1562\u001b[0m ):\n\u001b[1;32m   1563\u001b[0m     callbacks\u001b[38;5;241m.\u001b[39mon_train_batch_begin(step)\n\u001b[0;32m-> 1564\u001b[0m     tmp_logs \u001b[38;5;241m=\u001b[39m \u001b[38;5;28;43mself\u001b[39;49m\u001b[38;5;241;43m.\u001b[39;49m\u001b[43mtrain_function\u001b[49m\u001b[43m(\u001b[49m\u001b[43miterator\u001b[49m\u001b[43m)\u001b[49m\n\u001b[1;32m   1565\u001b[0m     \u001b[38;5;28;01mif\u001b[39;00m data_handler\u001b[38;5;241m.\u001b[39mshould_sync:\n\u001b[1;32m   1566\u001b[0m         context\u001b[38;5;241m.\u001b[39masync_wait()\n",
      "File \u001b[0;32m~/.pyenv/versions/3.10.6/envs/cxray/lib/python3.10/site-packages/tensorflow/python/util/traceback_utils.py:150\u001b[0m, in \u001b[0;36mfilter_traceback.<locals>.error_handler\u001b[0;34m(*args, **kwargs)\u001b[0m\n\u001b[1;32m    148\u001b[0m filtered_tb \u001b[38;5;241m=\u001b[39m \u001b[38;5;28;01mNone\u001b[39;00m\n\u001b[1;32m    149\u001b[0m \u001b[38;5;28;01mtry\u001b[39;00m:\n\u001b[0;32m--> 150\u001b[0m   \u001b[38;5;28;01mreturn\u001b[39;00m \u001b[43mfn\u001b[49m\u001b[43m(\u001b[49m\u001b[38;5;241;43m*\u001b[39;49m\u001b[43margs\u001b[49m\u001b[43m,\u001b[49m\u001b[43m \u001b[49m\u001b[38;5;241;43m*\u001b[39;49m\u001b[38;5;241;43m*\u001b[39;49m\u001b[43mkwargs\u001b[49m\u001b[43m)\u001b[49m\n\u001b[1;32m    151\u001b[0m \u001b[38;5;28;01mexcept\u001b[39;00m \u001b[38;5;167;01mException\u001b[39;00m \u001b[38;5;28;01mas\u001b[39;00m e:\n\u001b[1;32m    152\u001b[0m   filtered_tb \u001b[38;5;241m=\u001b[39m _process_traceback_frames(e\u001b[38;5;241m.\u001b[39m__traceback__)\n",
      "File \u001b[0;32m~/.pyenv/versions/3.10.6/envs/cxray/lib/python3.10/site-packages/tensorflow/python/eager/def_function.py:915\u001b[0m, in \u001b[0;36mFunction.__call__\u001b[0;34m(self, *args, **kwds)\u001b[0m\n\u001b[1;32m    912\u001b[0m compiler \u001b[38;5;241m=\u001b[39m \u001b[38;5;124m\"\u001b[39m\u001b[38;5;124mxla\u001b[39m\u001b[38;5;124m\"\u001b[39m \u001b[38;5;28;01mif\u001b[39;00m \u001b[38;5;28mself\u001b[39m\u001b[38;5;241m.\u001b[39m_jit_compile \u001b[38;5;28;01melse\u001b[39;00m \u001b[38;5;124m\"\u001b[39m\u001b[38;5;124mnonXla\u001b[39m\u001b[38;5;124m\"\u001b[39m\n\u001b[1;32m    914\u001b[0m \u001b[38;5;28;01mwith\u001b[39;00m OptionalXlaContext(\u001b[38;5;28mself\u001b[39m\u001b[38;5;241m.\u001b[39m_jit_compile):\n\u001b[0;32m--> 915\u001b[0m   result \u001b[38;5;241m=\u001b[39m \u001b[38;5;28;43mself\u001b[39;49m\u001b[38;5;241;43m.\u001b[39;49m\u001b[43m_call\u001b[49m\u001b[43m(\u001b[49m\u001b[38;5;241;43m*\u001b[39;49m\u001b[43margs\u001b[49m\u001b[43m,\u001b[49m\u001b[43m \u001b[49m\u001b[38;5;241;43m*\u001b[39;49m\u001b[38;5;241;43m*\u001b[39;49m\u001b[43mkwds\u001b[49m\u001b[43m)\u001b[49m\n\u001b[1;32m    917\u001b[0m new_tracing_count \u001b[38;5;241m=\u001b[39m \u001b[38;5;28mself\u001b[39m\u001b[38;5;241m.\u001b[39mexperimental_get_tracing_count()\n\u001b[1;32m    918\u001b[0m without_tracing \u001b[38;5;241m=\u001b[39m (tracing_count \u001b[38;5;241m==\u001b[39m new_tracing_count)\n",
      "File \u001b[0;32m~/.pyenv/versions/3.10.6/envs/cxray/lib/python3.10/site-packages/tensorflow/python/eager/def_function.py:947\u001b[0m, in \u001b[0;36mFunction._call\u001b[0;34m(self, *args, **kwds)\u001b[0m\n\u001b[1;32m    944\u001b[0m   \u001b[38;5;28mself\u001b[39m\u001b[38;5;241m.\u001b[39m_lock\u001b[38;5;241m.\u001b[39mrelease()\n\u001b[1;32m    945\u001b[0m   \u001b[38;5;66;03m# In this case we have created variables on the first call, so we run the\u001b[39;00m\n\u001b[1;32m    946\u001b[0m   \u001b[38;5;66;03m# defunned version which is guaranteed to never create variables.\u001b[39;00m\n\u001b[0;32m--> 947\u001b[0m   \u001b[38;5;28;01mreturn\u001b[39;00m \u001b[38;5;28;43mself\u001b[39;49m\u001b[38;5;241;43m.\u001b[39;49m\u001b[43m_stateless_fn\u001b[49m\u001b[43m(\u001b[49m\u001b[38;5;241;43m*\u001b[39;49m\u001b[43margs\u001b[49m\u001b[43m,\u001b[49m\u001b[43m \u001b[49m\u001b[38;5;241;43m*\u001b[39;49m\u001b[38;5;241;43m*\u001b[39;49m\u001b[43mkwds\u001b[49m\u001b[43m)\u001b[49m  \u001b[38;5;66;03m# pylint: disable=not-callable\u001b[39;00m\n\u001b[1;32m    948\u001b[0m \u001b[38;5;28;01melif\u001b[39;00m \u001b[38;5;28mself\u001b[39m\u001b[38;5;241m.\u001b[39m_stateful_fn \u001b[38;5;129;01mis\u001b[39;00m \u001b[38;5;129;01mnot\u001b[39;00m \u001b[38;5;28;01mNone\u001b[39;00m:\n\u001b[1;32m    949\u001b[0m   \u001b[38;5;66;03m# Release the lock early so that multiple threads can perform the call\u001b[39;00m\n\u001b[1;32m    950\u001b[0m   \u001b[38;5;66;03m# in parallel.\u001b[39;00m\n\u001b[1;32m    951\u001b[0m   \u001b[38;5;28mself\u001b[39m\u001b[38;5;241m.\u001b[39m_lock\u001b[38;5;241m.\u001b[39mrelease()\n",
      "File \u001b[0;32m~/.pyenv/versions/3.10.6/envs/cxray/lib/python3.10/site-packages/tensorflow/python/eager/function.py:2496\u001b[0m, in \u001b[0;36mFunction.__call__\u001b[0;34m(self, *args, **kwargs)\u001b[0m\n\u001b[1;32m   2493\u001b[0m \u001b[38;5;28;01mwith\u001b[39;00m \u001b[38;5;28mself\u001b[39m\u001b[38;5;241m.\u001b[39m_lock:\n\u001b[1;32m   2494\u001b[0m   (graph_function,\n\u001b[1;32m   2495\u001b[0m    filtered_flat_args) \u001b[38;5;241m=\u001b[39m \u001b[38;5;28mself\u001b[39m\u001b[38;5;241m.\u001b[39m_maybe_define_function(args, kwargs)\n\u001b[0;32m-> 2496\u001b[0m \u001b[38;5;28;01mreturn\u001b[39;00m \u001b[43mgraph_function\u001b[49m\u001b[38;5;241;43m.\u001b[39;49m\u001b[43m_call_flat\u001b[49m\u001b[43m(\u001b[49m\n\u001b[1;32m   2497\u001b[0m \u001b[43m    \u001b[49m\u001b[43mfiltered_flat_args\u001b[49m\u001b[43m,\u001b[49m\u001b[43m \u001b[49m\u001b[43mcaptured_inputs\u001b[49m\u001b[38;5;241;43m=\u001b[39;49m\u001b[43mgraph_function\u001b[49m\u001b[38;5;241;43m.\u001b[39;49m\u001b[43mcaptured_inputs\u001b[49m\u001b[43m)\u001b[49m\n",
      "File \u001b[0;32m~/.pyenv/versions/3.10.6/envs/cxray/lib/python3.10/site-packages/tensorflow/python/eager/function.py:1862\u001b[0m, in \u001b[0;36mConcreteFunction._call_flat\u001b[0;34m(self, args, captured_inputs, cancellation_manager)\u001b[0m\n\u001b[1;32m   1858\u001b[0m possible_gradient_type \u001b[38;5;241m=\u001b[39m gradients_util\u001b[38;5;241m.\u001b[39mPossibleTapeGradientTypes(args)\n\u001b[1;32m   1859\u001b[0m \u001b[38;5;28;01mif\u001b[39;00m (possible_gradient_type \u001b[38;5;241m==\u001b[39m gradients_util\u001b[38;5;241m.\u001b[39mPOSSIBLE_GRADIENT_TYPES_NONE\n\u001b[1;32m   1860\u001b[0m     \u001b[38;5;129;01mand\u001b[39;00m executing_eagerly):\n\u001b[1;32m   1861\u001b[0m   \u001b[38;5;66;03m# No tape is watching; skip to running the function.\u001b[39;00m\n\u001b[0;32m-> 1862\u001b[0m   \u001b[38;5;28;01mreturn\u001b[39;00m \u001b[38;5;28mself\u001b[39m\u001b[38;5;241m.\u001b[39m_build_call_outputs(\u001b[38;5;28;43mself\u001b[39;49m\u001b[38;5;241;43m.\u001b[39;49m\u001b[43m_inference_function\u001b[49m\u001b[38;5;241;43m.\u001b[39;49m\u001b[43mcall\u001b[49m\u001b[43m(\u001b[49m\n\u001b[1;32m   1863\u001b[0m \u001b[43m      \u001b[49m\u001b[43mctx\u001b[49m\u001b[43m,\u001b[49m\u001b[43m \u001b[49m\u001b[43margs\u001b[49m\u001b[43m,\u001b[49m\u001b[43m \u001b[49m\u001b[43mcancellation_manager\u001b[49m\u001b[38;5;241;43m=\u001b[39;49m\u001b[43mcancellation_manager\u001b[49m\u001b[43m)\u001b[49m)\n\u001b[1;32m   1864\u001b[0m forward_backward \u001b[38;5;241m=\u001b[39m \u001b[38;5;28mself\u001b[39m\u001b[38;5;241m.\u001b[39m_select_forward_and_backward_functions(\n\u001b[1;32m   1865\u001b[0m     args,\n\u001b[1;32m   1866\u001b[0m     possible_gradient_type,\n\u001b[1;32m   1867\u001b[0m     executing_eagerly)\n\u001b[1;32m   1868\u001b[0m forward_function, args_with_tangents \u001b[38;5;241m=\u001b[39m forward_backward\u001b[38;5;241m.\u001b[39mforward()\n",
      "File \u001b[0;32m~/.pyenv/versions/3.10.6/envs/cxray/lib/python3.10/site-packages/tensorflow/python/eager/function.py:499\u001b[0m, in \u001b[0;36m_EagerDefinedFunction.call\u001b[0;34m(self, ctx, args, cancellation_manager)\u001b[0m\n\u001b[1;32m    497\u001b[0m \u001b[38;5;28;01mwith\u001b[39;00m _InterpolateFunctionError(\u001b[38;5;28mself\u001b[39m):\n\u001b[1;32m    498\u001b[0m   \u001b[38;5;28;01mif\u001b[39;00m cancellation_manager \u001b[38;5;129;01mis\u001b[39;00m \u001b[38;5;28;01mNone\u001b[39;00m:\n\u001b[0;32m--> 499\u001b[0m     outputs \u001b[38;5;241m=\u001b[39m \u001b[43mexecute\u001b[49m\u001b[38;5;241;43m.\u001b[39;49m\u001b[43mexecute\u001b[49m\u001b[43m(\u001b[49m\n\u001b[1;32m    500\u001b[0m \u001b[43m        \u001b[49m\u001b[38;5;28;43mstr\u001b[39;49m\u001b[43m(\u001b[49m\u001b[38;5;28;43mself\u001b[39;49m\u001b[38;5;241;43m.\u001b[39;49m\u001b[43msignature\u001b[49m\u001b[38;5;241;43m.\u001b[39;49m\u001b[43mname\u001b[49m\u001b[43m)\u001b[49m\u001b[43m,\u001b[49m\n\u001b[1;32m    501\u001b[0m \u001b[43m        \u001b[49m\u001b[43mnum_outputs\u001b[49m\u001b[38;5;241;43m=\u001b[39;49m\u001b[38;5;28;43mself\u001b[39;49m\u001b[38;5;241;43m.\u001b[39;49m\u001b[43m_num_outputs\u001b[49m\u001b[43m,\u001b[49m\n\u001b[1;32m    502\u001b[0m \u001b[43m        \u001b[49m\u001b[43minputs\u001b[49m\u001b[38;5;241;43m=\u001b[39;49m\u001b[43margs\u001b[49m\u001b[43m,\u001b[49m\n\u001b[1;32m    503\u001b[0m \u001b[43m        \u001b[49m\u001b[43mattrs\u001b[49m\u001b[38;5;241;43m=\u001b[39;49m\u001b[43mattrs\u001b[49m\u001b[43m,\u001b[49m\n\u001b[1;32m    504\u001b[0m \u001b[43m        \u001b[49m\u001b[43mctx\u001b[49m\u001b[38;5;241;43m=\u001b[39;49m\u001b[43mctx\u001b[49m\u001b[43m)\u001b[49m\n\u001b[1;32m    505\u001b[0m   \u001b[38;5;28;01melse\u001b[39;00m:\n\u001b[1;32m    506\u001b[0m     outputs \u001b[38;5;241m=\u001b[39m execute\u001b[38;5;241m.\u001b[39mexecute_with_cancellation(\n\u001b[1;32m    507\u001b[0m         \u001b[38;5;28mstr\u001b[39m(\u001b[38;5;28mself\u001b[39m\u001b[38;5;241m.\u001b[39msignature\u001b[38;5;241m.\u001b[39mname),\n\u001b[1;32m    508\u001b[0m         num_outputs\u001b[38;5;241m=\u001b[39m\u001b[38;5;28mself\u001b[39m\u001b[38;5;241m.\u001b[39m_num_outputs,\n\u001b[0;32m   (...)\u001b[0m\n\u001b[1;32m    511\u001b[0m         ctx\u001b[38;5;241m=\u001b[39mctx,\n\u001b[1;32m    512\u001b[0m         cancellation_manager\u001b[38;5;241m=\u001b[39mcancellation_manager)\n",
      "File \u001b[0;32m~/.pyenv/versions/3.10.6/envs/cxray/lib/python3.10/site-packages/tensorflow/python/eager/execute.py:54\u001b[0m, in \u001b[0;36mquick_execute\u001b[0;34m(op_name, num_outputs, inputs, attrs, ctx, name)\u001b[0m\n\u001b[1;32m     52\u001b[0m \u001b[38;5;28;01mtry\u001b[39;00m:\n\u001b[1;32m     53\u001b[0m   ctx\u001b[38;5;241m.\u001b[39mensure_initialized()\n\u001b[0;32m---> 54\u001b[0m   tensors \u001b[38;5;241m=\u001b[39m \u001b[43mpywrap_tfe\u001b[49m\u001b[38;5;241;43m.\u001b[39;49m\u001b[43mTFE_Py_Execute\u001b[49m\u001b[43m(\u001b[49m\u001b[43mctx\u001b[49m\u001b[38;5;241;43m.\u001b[39;49m\u001b[43m_handle\u001b[49m\u001b[43m,\u001b[49m\u001b[43m \u001b[49m\u001b[43mdevice_name\u001b[49m\u001b[43m,\u001b[49m\u001b[43m \u001b[49m\u001b[43mop_name\u001b[49m\u001b[43m,\u001b[49m\n\u001b[1;32m     55\u001b[0m \u001b[43m                                      \u001b[49m\u001b[43minputs\u001b[49m\u001b[43m,\u001b[49m\u001b[43m \u001b[49m\u001b[43mattrs\u001b[49m\u001b[43m,\u001b[49m\u001b[43m \u001b[49m\u001b[43mnum_outputs\u001b[49m\u001b[43m)\u001b[49m\n\u001b[1;32m     56\u001b[0m \u001b[38;5;28;01mexcept\u001b[39;00m core\u001b[38;5;241m.\u001b[39m_NotOkStatusException \u001b[38;5;28;01mas\u001b[39;00m e:\n\u001b[1;32m     57\u001b[0m   \u001b[38;5;28;01mif\u001b[39;00m name \u001b[38;5;129;01mis\u001b[39;00m \u001b[38;5;129;01mnot\u001b[39;00m \u001b[38;5;28;01mNone\u001b[39;00m:\n",
      "\u001b[0;31mKeyboardInterrupt\u001b[0m: "
     ]
    }
   ],
   "source": [
    "# checkpoint = tf.keras.callbacks.ModelCheckpoint(\n",
    "#     filepath=\"model.{epoch:03d}.h5\",\n",
    "#     monitor=\"val_macro_f1\",\n",
    "#     verbose=1,\n",
    "#     save_best_only=False,\n",
    "#     save_weights_only=False,\n",
    "#     mode=\"auto\",\n",
    "#     save_freq=800,\n",
    "# )\n",
    "\n",
    "es = tf.keras.callbacks.EarlyStopping(\n",
    "    # monitor=\"val_macro_f1\", mode=\"max\", patience=5, verbose=1, restore_best_weights=True\n",
    "    monitor=\"val_loss\",\n",
    "    mode=\"min\",\n",
    "    patience=5,\n",
    "    verbose=1,\n",
    "    restore_best_weights=True,\n",
    ")\n",
    "history = test_model.fit(\n",
    "    train_ds, epochs=EPOCHS, validation_data=val_ds, verbose=1, callbacks=[es]\n",
    ")"
   ]
  },
  {
   "cell_type": "code",
   "execution_count": null,
   "id": "UxftrAHT9Syd",
   "metadata": {
    "execution": {
     "iopub.status.busy": "2023-03-05T09:11:11.848490Z",
     "iopub.status.idle": "2023-03-05T09:11:11.848617Z",
     "shell.execute_reply": "2023-03-05T09:11:11.848554Z",
     "shell.execute_reply.started": "2023-03-05T09:11:11.848545Z"
    },
    "id": "UxftrAHT9Syd"
   },
   "outputs": [],
   "source": [
    "def plot_history(history):\n",
    "    fig, ax = plt.subplots(1, 2, figsize=(20, 7))\n",
    "    # --- LOSS: Soft Macro F1 ---\n",
    "    ax[0].plot(history.history[\"loss\"])\n",
    "    ax[0].plot(history.history[\"val_loss\"])\n",
    "    ax[0].set_title(\"Loss\")\n",
    "    ax[0].set_ylabel(\"Soft Macro F1\")\n",
    "    ax[0].set_xlabel(\"Epoch\")\n",
    "    ax[0].legend([\"Train\", \"Validation\"], loc=\"best\")\n",
    "    ax[0].grid(axis=\"x\", linewidth=0.5)\n",
    "    ax[0].grid(axis=\"y\", linewidth=0.5)\n",
    "\n",
    "    # --- METRICS: Macro F1 ---\n",
    "\n",
    "    ax[1].plot(history.history[\"macro_f1\"])\n",
    "    ax[1].plot(history.history[\"val_macro_f1\"])\n",
    "    ax[1].set_title(\"Metric\")\n",
    "    ax[1].set_ylabel(\"Macro F1\")\n",
    "    ax[1].set_xlabel(\"Epoch\")\n",
    "    ax[1].legend([\"Train\", \"Validation\"], loc=\"best\")\n",
    "    ax[1].grid(axis=\"x\", linewidth=0.5)\n",
    "    ax[1].grid(axis=\"y\", linewidth=0.5)\n",
    "\n",
    "    return ax"
   ]
  },
  {
   "cell_type": "code",
   "execution_count": null,
   "id": "7FLpbinD9U3R",
   "metadata": {
    "colab": {
     "base_uri": "https://localhost:8080/",
     "height": 458
    },
    "execution": {
     "iopub.status.busy": "2023-03-05T09:11:11.849152Z",
     "iopub.status.idle": "2023-03-05T09:11:11.849289Z",
     "shell.execute_reply": "2023-03-05T09:11:11.849223Z",
     "shell.execute_reply.started": "2023-03-05T09:11:11.849214Z"
    },
    "id": "7FLpbinD9U3R",
    "outputId": "c18d17eb-4cd0-479a-875f-5730006c4f32"
   },
   "outputs": [],
   "source": [
    "plot_history(history);"
   ]
  },
  {
   "cell_type": "code",
   "execution_count": null,
   "id": "neMXeKSReh3D",
   "metadata": {
    "execution": {
     "iopub.status.busy": "2023-03-05T09:11:11.850351Z",
     "iopub.status.idle": "2023-03-05T09:11:11.850492Z",
     "shell.execute_reply": "2023-03-05T09:11:11.850424Z",
     "shell.execute_reply.started": "2023-03-05T09:11:11.850417Z"
    },
    "id": "neMXeKSReh3D"
   },
   "outputs": [],
   "source": [
    "# import pickle\n",
    "\n",
    "test_model.save(filename)\n",
    "# pickle.dump(test_model, open(filename, \"wb\"))"
   ]
  },
  {
   "cell_type": "code",
   "execution_count": 118,
   "id": "VCKq9M4_efMP",
   "metadata": {
    "execution": {
     "iopub.execute_input": "2023-03-07T07:58:20.795113Z",
     "iopub.status.busy": "2023-03-07T07:58:20.792674Z",
     "iopub.status.idle": "2023-03-07T07:58:21.614028Z",
     "shell.execute_reply": "2023-03-07T07:58:21.613651Z",
     "shell.execute_reply.started": "2023-03-07T07:58:20.795046Z"
    },
    "id": "VCKq9M4_efMP",
    "tags": []
   },
   "outputs": [],
   "source": [
    "# filename = \"test_model_mobilenet_bs256_lr1e-05_do0.4-0.2-0.1_l2-0.001(Colab).h5\"\n",
    "test_model = tf.keras.models.load_model(\n",
    "    filename,\n",
    "    compile=False,\n",
    "    custom_objects={\"macro_f1\": macro_f1, \"macro_soft_f1\": macro_soft_f1},\n",
    ")\n",
    "opt = tf.keras.optimizers.Adam(learning_rate=LR)\n",
    "test_model.compile(\n",
    "    optimizer=opt,\n",
    "    loss=macro_soft_f1,\n",
    "    metrics=[macro_f1],\n",
    ")"
   ]
  },
  {
   "cell_type": "code",
   "execution_count": 119,
   "id": "ed1c0d4c-4e1f-40de-b1ff-1b40033fe09b",
   "metadata": {
    "colab": {
     "base_uri": "https://localhost:8080/"
    },
    "execution": {
     "iopub.execute_input": "2023-03-07T07:58:22.316482Z",
     "iopub.status.busy": "2023-03-07T07:58:22.315959Z",
     "iopub.status.idle": "2023-03-07T07:59:04.424577Z",
     "shell.execute_reply": "2023-03-07T07:59:04.423660Z",
     "shell.execute_reply.started": "2023-03-07T07:58:22.316454Z"
    },
    "id": "ed1c0d4c-4e1f-40de-b1ff-1b40033fe09b",
    "outputId": "f8470559-3429-42d8-864d-f14df658fff2",
    "tags": []
   },
   "outputs": [
    {
     "name": "stdout",
     "output_type": "stream",
     "text": [
      "27/27 [==============================] - 42s 2s/step - loss: 0.5224 - macro_f1: 0.6354\n"
     ]
    },
    {
     "data": {
      "text/plain": [
       "{'loss': 0.5224044919013977, 'macro_f1': 0.6353844404220581}"
      ]
     },
     "execution_count": 119,
     "metadata": {},
     "output_type": "execute_result"
    }
   ],
   "source": [
    "res = test_model.evaluate(test_ds, return_dict=True)\n",
    "res"
   ]
  },
  {
   "cell_type": "code",
   "execution_count": 120,
   "id": "pYgzhvD2QDpM",
   "metadata": {
    "colab": {
     "base_uri": "https://localhost:8080/"
    },
    "execution": {
     "iopub.execute_input": "2023-03-07T08:00:50.041112Z",
     "iopub.status.busy": "2023-03-07T08:00:50.040310Z",
     "iopub.status.idle": "2023-03-07T08:01:25.170841Z",
     "shell.execute_reply": "2023-03-07T08:01:25.168823Z",
     "shell.execute_reply.started": "2023-03-07T08:00:50.041065Z"
    },
    "id": "pYgzhvD2QDpM",
    "outputId": "565516eb-6942-4288-c5d8-b40853c64c29",
    "tags": []
   },
   "outputs": [
    {
     "name": "stdout",
     "output_type": "stream",
     "text": [
      "8/8 [==============================] - 2s 158ms/step\n",
      "8/8 [==============================] - 1s 150ms/step\n",
      "8/8 [==============================] - 1s 149ms/step\n",
      "8/8 [==============================] - 1s 156ms/step\n",
      "8/8 [==============================] - 1s 151ms/step\n",
      "8/8 [==============================] - 1s 158ms/step\n",
      "8/8 [==============================] - 1s 151ms/step\n",
      "8/8 [==============================] - 1s 166ms/step\n",
      "8/8 [==============================] - 1s 168ms/step\n",
      "8/8 [==============================] - 1s 155ms/step\n",
      "8/8 [==============================] - 1s 169ms/step\n",
      "8/8 [==============================] - 1s 149ms/step\n",
      "8/8 [==============================] - 1s 150ms/step\n",
      "8/8 [==============================] - 1s 153ms/step\n",
      "8/8 [==============================] - 1s 152ms/step\n",
      "8/8 [==============================] - 1s 150ms/step\n",
      "8/8 [==============================] - 1s 150ms/step\n",
      "8/8 [==============================] - 1s 153ms/step\n",
      "8/8 [==============================] - 1s 150ms/step\n",
      "8/8 [==============================] - 1s 156ms/step\n",
      "8/8 [==============================] - 1s 157ms/step\n",
      "8/8 [==============================] - 1s 154ms/step\n",
      "8/8 [==============================] - 1s 149ms/step\n",
      "8/8 [==============================] - 1s 147ms/step\n",
      "8/8 [==============================] - 1s 149ms/step\n",
      "8/8 [==============================] - 1s 151ms/step\n",
      "3/3 [==============================] - 1s 103ms/step\n"
     ]
    }
   ],
   "source": [
    "y_pred = []  # store predicted labels\n",
    "y_true = []  # store true labels\n",
    "\n",
    "# iterate over the dataset\n",
    "for image_batch, label_batch in test_ds:  # use dataset.unbatch() with repeat\n",
    "    # append true labels\n",
    "    y_true.append(label_batch)\n",
    "    # compute predictions\n",
    "    preds = test_model.predict(image_batch)\n",
    "    # append predicted labels\n",
    "    #    y_pred.append(preds)\n",
    "    #    y_pred.append((preds > 0.5))\n",
    "    y_pred.append((preds > 0.5) * 1)\n",
    "\n",
    "# convert the true and predicted labels into tensors\n",
    "correct_labels = tf.concat([item for item in y_true], axis=0)\n",
    "predicted_labels = tf.concat([item for item in y_pred], axis=0)"
   ]
  },
  {
   "cell_type": "code",
   "execution_count": 121,
   "id": "Ham8KN2m2fak",
   "metadata": {
    "execution": {
     "iopub.execute_input": "2023-03-07T08:01:28.584390Z",
     "iopub.status.busy": "2023-03-07T08:01:28.583330Z",
     "iopub.status.idle": "2023-03-07T08:01:28.616345Z",
     "shell.execute_reply": "2023-03-07T08:01:28.615811Z",
     "shell.execute_reply.started": "2023-03-07T08:01:28.584265Z"
    },
    "id": "Ham8KN2m2fak",
    "tags": []
   },
   "outputs": [
    {
     "name": "stdout",
     "output_type": "stream",
     "text": [
      "                          precision    recall  f1-score   support\n",
      "\n",
      "      label_cardiomegaly       0.94      0.63      0.75       150\n",
      "          label_effusion       0.82      0.70      0.76       655\n",
      "      label_pneumothorax       0.89      0.64      0.74       327\n",
      "label_pleural_thickening       0.85      0.44      0.58       230\n",
      "         label_pneumonia       1.00      0.42      0.60        73\n",
      "     label_consolidation       0.97      0.42      0.59       144\n",
      "             label_other       0.53      0.70      0.61      2092\n",
      "\n",
      "               micro avg       0.63      0.66      0.64      3671\n",
      "               macro avg       0.86      0.57      0.66      3671\n",
      "            weighted avg       0.68      0.66      0.65      3671\n",
      "             samples avg       0.24      0.26      0.25      3671\n",
      "\n"
     ]
    },
    {
     "name": "stderr",
     "output_type": "stream",
     "text": [
      "/Users/fafa/.pyenv/versions/3.10.6/envs/cxray/lib/python3.10/site-packages/sklearn/metrics/_classification.py:1344: UndefinedMetricWarning: Precision and F-score are ill-defined and being set to 0.0 in samples with no predicted labels. Use `zero_division` parameter to control this behavior.\n",
      "  _warn_prf(average, modifier, msg_start, len(result))\n",
      "/Users/fafa/.pyenv/versions/3.10.6/envs/cxray/lib/python3.10/site-packages/sklearn/metrics/_classification.py:1344: UndefinedMetricWarning: Recall and F-score are ill-defined and being set to 0.0 in samples with no true labels. Use `zero_division` parameter to control this behavior.\n",
      "  _warn_prf(average, modifier, msg_start, len(result))\n"
     ]
    }
   ],
   "source": [
    "print(classification_report(correct_labels, predicted_labels, target_names=label_names))"
   ]
  },
  {
   "cell_type": "code",
   "execution_count": 122,
   "id": "6a9f9381-b105-44c0-b863-49cebe875b1f",
   "metadata": {
    "execution": {
     "iopub.execute_input": "2023-03-07T08:01:40.343298Z",
     "iopub.status.busy": "2023-03-07T08:01:40.342895Z",
     "iopub.status.idle": "2023-03-07T08:01:40.358063Z",
     "shell.execute_reply": "2023-03-07T08:01:40.357022Z",
     "shell.execute_reply.started": "2023-03-07T08:01:40.343272Z"
    },
    "tags": []
   },
   "outputs": [
    {
     "data": {
      "text/plain": [
       "array([[[6574,    6],\n",
       "        [  56,   94]],\n",
       "\n",
       "       [[5971,  104],\n",
       "        [ 194,  461]],\n",
       "\n",
       "       [[6376,   27],\n",
       "        [ 117,  210]],\n",
       "\n",
       "       [[6482,   18],\n",
       "        [ 129,  101]],\n",
       "\n",
       "       [[6657,    0],\n",
       "        [  42,   31]],\n",
       "\n",
       "       [[6584,    2],\n",
       "        [  83,   61]],\n",
       "\n",
       "       [[3369, 1269],\n",
       "        [ 633, 1459]]])"
      ]
     },
     "execution_count": 122,
     "metadata": {},
     "output_type": "execute_result"
    }
   ],
   "source": [
    "multilabel_confusion_matrix(y_true, y_pred)"
   ]
  },
  {
   "cell_type": "code",
   "execution_count": 117,
   "id": "bad80bc9-7acf-4c50-b33c-d06eda54e2d2",
   "metadata": {
    "execution": {
     "iopub.execute_input": "2023-03-06T11:48:49.791056Z",
     "iopub.status.busy": "2023-03-06T11:48:49.790182Z",
     "iopub.status.idle": "2023-03-06T11:48:49.804947Z",
     "shell.execute_reply": "2023-03-06T11:48:49.804367Z",
     "shell.execute_reply.started": "2023-03-06T11:48:49.791027Z"
    },
    "tags": []
   },
   "outputs": [
    {
     "data": {
      "text/plain": [
       "0.6575037147102526"
      ]
     },
     "execution_count": 117,
     "metadata": {},
     "output_type": "execute_result"
    }
   ],
   "source": [
    "accuracy_score(y_true, y_pred)"
   ]
  }
 ],
 "metadata": {
  "colab": {
   "collapsed_sections": [
    "3b99be35-a48c-4e9a-bb4e-2ae934c83b89"
   ],
   "provenance": []
  },
  "gpuClass": "premium",
  "kernelspec": {
   "display_name": "Python 3 (ipykernel)",
   "language": "python",
   "name": "python3"
  },
  "language_info": {
   "codemirror_mode": {
    "name": "ipython",
    "version": 3
   },
   "file_extension": ".py",
   "mimetype": "text/x-python",
   "name": "python",
   "nbconvert_exporter": "python",
   "pygments_lexer": "ipython3",
   "version": "3.10.6"
  }
 },
 "nbformat": 4,
 "nbformat_minor": 5
}
