{
 "cells": [
  {
   "cell_type": "code",
   "execution_count": 1,
   "id": "pGXHVtqxYW8X",
   "metadata": {
    "colab": {
     "base_uri": "https://localhost:8080/"
    },
    "execution": {
     "iopub.execute_input": "2023-03-04T01:11:24.049688Z",
     "iopub.status.busy": "2023-03-04T01:11:24.049010Z",
     "iopub.status.idle": "2023-03-04T01:11:24.062347Z",
     "shell.execute_reply": "2023-03-04T01:11:24.060491Z",
     "shell.execute_reply.started": "2023-03-04T01:11:24.049647Z"
    },
    "id": "pGXHVtqxYW8X",
    "outputId": "584d6b5a-d040-4e71-f79a-469012868479"
   },
   "outputs": [],
   "source": [
    "# # For Google Colab\n",
    "# # Mount GDrive\n",
    "# from google.colab import drive\n",
    "\n",
    "# drive.mount(\"/content/drive\")"
   ]
  },
  {
   "cell_type": "code",
   "execution_count": 2,
   "id": "BvwZuVysYaIm",
   "metadata": {
    "execution": {
     "iopub.execute_input": "2023-03-04T01:11:24.066366Z",
     "iopub.status.busy": "2023-03-04T01:11:24.065867Z",
     "iopub.status.idle": "2023-03-04T01:11:24.073606Z",
     "shell.execute_reply": "2023-03-04T01:11:24.073126Z",
     "shell.execute_reply.started": "2023-03-04T01:11:24.066337Z"
    },
    "id": "BvwZuVysYaIm",
    "tags": []
   },
   "outputs": [],
   "source": [
    "# # For Google Colab\n",
    "# # Put Colab in the context of this challenge\n",
    "# import os\n",
    "\n",
    "# # os.chdir allows you to change directories, like cd in the Terminal\n",
    "# os.chdir(\"/content/drive/MyDrive/Colab Notebooks/CXRay/notebooks\")"
   ]
  },
  {
   "cell_type": "markdown",
   "id": "8504600a-f546-4258-92e7-61283f3f68f2",
   "metadata": {
    "id": "8504600a-f546-4258-92e7-61283f3f68f2"
   },
   "source": [
    "# Data Pre-Processing"
   ]
  },
  {
   "cell_type": "code",
   "execution_count": 15,
   "id": "5c07d8f8-e079-4e45-9b1a-05c75a56bd25",
   "metadata": {
    "execution": {
     "iopub.execute_input": "2023-03-04T01:12:52.411462Z",
     "iopub.status.busy": "2023-03-04T01:12:52.410789Z",
     "iopub.status.idle": "2023-03-04T01:12:52.429934Z",
     "shell.execute_reply": "2023-03-04T01:12:52.428264Z",
     "shell.execute_reply.started": "2023-03-04T01:12:52.411351Z"
    },
    "id": "5c07d8f8-e079-4e45-9b1a-05c75a56bd25",
    "tags": []
   },
   "outputs": [],
   "source": [
    "import os\n",
    "import pathlib\n",
    "\n",
    "import pandas as pd\n",
    "import numpy as np"
   ]
  },
  {
   "cell_type": "code",
   "execution_count": 4,
   "id": "7d1f0e05-7f0a-423b-8e60-d43afe9d30b1",
   "metadata": {
    "colab": {
     "base_uri": "https://localhost:8080/",
     "height": 270
    },
    "execution": {
     "iopub.execute_input": "2023-03-04T01:11:24.527531Z",
     "iopub.status.busy": "2023-03-04T01:11:24.527351Z",
     "iopub.status.idle": "2023-03-04T01:11:24.624892Z",
     "shell.execute_reply": "2023-03-04T01:11:24.624511Z",
     "shell.execute_reply.started": "2023-03-04T01:11:24.527521Z"
    },
    "id": "7d1f0e05-7f0a-423b-8e60-d43afe9d30b1",
    "outputId": "efab887e-a3e7-4884-8190-e58a314791c3"
   },
   "outputs": [
    {
     "data": {
      "text/html": [
       "<div>\n",
       "<style scoped>\n",
       "    .dataframe tbody tr th:only-of-type {\n",
       "        vertical-align: middle;\n",
       "    }\n",
       "\n",
       "    .dataframe tbody tr th {\n",
       "        vertical-align: top;\n",
       "    }\n",
       "\n",
       "    .dataframe thead th {\n",
       "        text-align: right;\n",
       "    }\n",
       "</style>\n",
       "<table border=\"1\" class=\"dataframe\">\n",
       "  <thead>\n",
       "    <tr style=\"text-align: right;\">\n",
       "      <th></th>\n",
       "      <th>img_idx</th>\n",
       "      <th>labels</th>\n",
       "      <th>age</th>\n",
       "      <th>gender</th>\n",
       "      <th>view_pos</th>\n",
       "      <th>label_cardiomegaly</th>\n",
       "      <th>label_effusion</th>\n",
       "      <th>label_no_finding</th>\n",
       "      <th>label_pneumothorax</th>\n",
       "      <th>label_pleural_thickening</th>\n",
       "      <th>label_pneumonia</th>\n",
       "      <th>label_consolidation</th>\n",
       "      <th>label_other</th>\n",
       "    </tr>\n",
       "  </thead>\n",
       "  <tbody>\n",
       "    <tr>\n",
       "      <th>0</th>\n",
       "      <td>00000001_000.png</td>\n",
       "      <td>Cardiomegaly</td>\n",
       "      <td>58</td>\n",
       "      <td>M</td>\n",
       "      <td>PA</td>\n",
       "      <td>True</td>\n",
       "      <td>False</td>\n",
       "      <td>False</td>\n",
       "      <td>False</td>\n",
       "      <td>False</td>\n",
       "      <td>False</td>\n",
       "      <td>False</td>\n",
       "      <td>False</td>\n",
       "    </tr>\n",
       "    <tr>\n",
       "      <th>1</th>\n",
       "      <td>00000001_001.png</td>\n",
       "      <td>Cardiomegaly|Emphysema</td>\n",
       "      <td>58</td>\n",
       "      <td>M</td>\n",
       "      <td>PA</td>\n",
       "      <td>True</td>\n",
       "      <td>False</td>\n",
       "      <td>False</td>\n",
       "      <td>False</td>\n",
       "      <td>False</td>\n",
       "      <td>False</td>\n",
       "      <td>False</td>\n",
       "      <td>True</td>\n",
       "    </tr>\n",
       "    <tr>\n",
       "      <th>2</th>\n",
       "      <td>00000001_002.png</td>\n",
       "      <td>Cardiomegaly|Effusion</td>\n",
       "      <td>58</td>\n",
       "      <td>M</td>\n",
       "      <td>PA</td>\n",
       "      <td>True</td>\n",
       "      <td>True</td>\n",
       "      <td>False</td>\n",
       "      <td>False</td>\n",
       "      <td>False</td>\n",
       "      <td>False</td>\n",
       "      <td>False</td>\n",
       "      <td>False</td>\n",
       "    </tr>\n",
       "    <tr>\n",
       "      <th>3</th>\n",
       "      <td>00000002_000.png</td>\n",
       "      <td>No Finding</td>\n",
       "      <td>81</td>\n",
       "      <td>M</td>\n",
       "      <td>PA</td>\n",
       "      <td>False</td>\n",
       "      <td>False</td>\n",
       "      <td>True</td>\n",
       "      <td>False</td>\n",
       "      <td>False</td>\n",
       "      <td>False</td>\n",
       "      <td>False</td>\n",
       "      <td>False</td>\n",
       "    </tr>\n",
       "    <tr>\n",
       "      <th>4</th>\n",
       "      <td>00000003_000.png</td>\n",
       "      <td>Hernia</td>\n",
       "      <td>81</td>\n",
       "      <td>F</td>\n",
       "      <td>PA</td>\n",
       "      <td>False</td>\n",
       "      <td>False</td>\n",
       "      <td>False</td>\n",
       "      <td>False</td>\n",
       "      <td>False</td>\n",
       "      <td>False</td>\n",
       "      <td>False</td>\n",
       "      <td>True</td>\n",
       "    </tr>\n",
       "  </tbody>\n",
       "</table>\n",
       "</div>"
      ],
      "text/plain": [
       "            img_idx                  labels  age gender view_pos  \\\n",
       "0  00000001_000.png            Cardiomegaly   58      M       PA   \n",
       "1  00000001_001.png  Cardiomegaly|Emphysema   58      M       PA   \n",
       "2  00000001_002.png   Cardiomegaly|Effusion   58      M       PA   \n",
       "3  00000002_000.png              No Finding   81      M       PA   \n",
       "4  00000003_000.png                  Hernia   81      F       PA   \n",
       "\n",
       "   label_cardiomegaly  label_effusion  label_no_finding  label_pneumothorax  \\\n",
       "0                True           False             False               False   \n",
       "1                True           False             False               False   \n",
       "2                True            True             False               False   \n",
       "3               False           False              True               False   \n",
       "4               False           False             False               False   \n",
       "\n",
       "   label_pleural_thickening  label_pneumonia  label_consolidation  label_other  \n",
       "0                     False            False                False        False  \n",
       "1                     False            False                False         True  \n",
       "2                     False            False                False        False  \n",
       "3                     False            False                False        False  \n",
       "4                     False            False                False         True  "
      ]
     },
     "execution_count": 4,
     "metadata": {},
     "output_type": "execute_result"
    }
   ],
   "source": [
    "cwd = os.getcwd()\n",
    "data_path = pathlib.Path(cwd, \"..\", \"clean_data\", \"cleaned_data.csv\")\n",
    "\n",
    "data = pd.read_csv(data_path)\n",
    "data.head()"
   ]
  },
  {
   "cell_type": "code",
   "execution_count": 5,
   "id": "254d3054-b153-4396-938e-3ad847c559c7",
   "metadata": {
    "execution": {
     "iopub.execute_input": "2023-03-04T01:11:24.626399Z",
     "iopub.status.busy": "2023-03-04T01:11:24.626259Z",
     "iopub.status.idle": "2023-03-04T01:11:24.644838Z",
     "shell.execute_reply": "2023-03-04T01:11:24.640653Z",
     "shell.execute_reply.started": "2023-03-04T01:11:24.626388Z"
    }
   },
   "outputs": [
    {
     "data": {
      "text/plain": [
       "(112104, 12)"
      ]
     },
     "execution_count": 5,
     "metadata": {},
     "output_type": "execute_result"
    }
   ],
   "source": [
    "# data = data.drop(columns=\"label_other\")\n",
    "data = data.drop(columns=\"label_no_finding\")\n",
    "data.shape"
   ]
  },
  {
   "cell_type": "code",
   "execution_count": 6,
   "id": "TXtUBirgqHri",
   "metadata": {
    "execution": {
     "iopub.execute_input": "2023-03-04T01:11:24.645692Z",
     "iopub.status.busy": "2023-03-04T01:11:24.645528Z",
     "iopub.status.idle": "2023-03-04T01:11:24.647885Z",
     "shell.execute_reply": "2023-03-04T01:11:24.647531Z",
     "shell.execute_reply.started": "2023-03-04T01:11:24.645680Z"
    },
    "id": "TXtUBirgqHri",
    "tags": []
   },
   "outputs": [],
   "source": [
    "# # For Google Colab\n",
    "# def is_uploaded(filename: str) -> bool:\n",
    "#     filepath = str(pathlib.Path(cwd, \"..\", \"raw_data\", \"images_224_224\", filename))\n",
    "#     if os.path.exists(filepath):\n",
    "#         return os.stat(filepath).st_size != 0\n",
    "#     return False\n",
    "\n",
    "# data[\"image_is_uploaded\"] = data.img_idx.apply(lambda x: is_uploaded(x))\n",
    "# data = data[data.image_is_uploaded]\n",
    "# data.shape"
   ]
  },
  {
   "cell_type": "code",
   "execution_count": 7,
   "id": "6b869784-c376-4e9b-a6f7-d52d59463f8a",
   "metadata": {
    "colab": {
     "base_uri": "https://localhost:8080/"
    },
    "execution": {
     "iopub.execute_input": "2023-03-04T01:11:24.648432Z",
     "iopub.status.busy": "2023-03-04T01:11:24.648346Z",
     "iopub.status.idle": "2023-03-04T01:11:24.651858Z",
     "shell.execute_reply": "2023-03-04T01:11:24.651243Z",
     "shell.execute_reply.started": "2023-03-04T01:11:24.648423Z"
    },
    "id": "6b869784-c376-4e9b-a6f7-d52d59463f8a",
    "outputId": "ef38e193-3784-4a0d-e267-d9cfb8b48c0d"
   },
   "outputs": [
    {
     "data": {
      "text/plain": [
       "['label_cardiomegaly',\n",
       " 'label_effusion',\n",
       " 'label_pneumothorax',\n",
       " 'label_pleural_thickening',\n",
       " 'label_pneumonia',\n",
       " 'label_consolidation',\n",
       " 'label_other']"
      ]
     },
     "execution_count": 7,
     "metadata": {},
     "output_type": "execute_result"
    }
   ],
   "source": [
    "label_names = [l for l in data.columns if l.startswith(\"label_\")]\n",
    "label_names"
   ]
  },
  {
   "cell_type": "code",
   "execution_count": 8,
   "id": "3cf34114-2cd5-4e38-905c-537dafed3d25",
   "metadata": {
    "colab": {
     "base_uri": "https://localhost:8080/"
    },
    "execution": {
     "iopub.execute_input": "2023-03-04T01:11:24.652736Z",
     "iopub.status.busy": "2023-03-04T01:11:24.652558Z",
     "iopub.status.idle": "2023-03-04T01:11:24.657426Z",
     "shell.execute_reply": "2023-03-04T01:11:24.657125Z",
     "shell.execute_reply.started": "2023-03-04T01:11:24.652721Z"
    },
    "id": "3cf34114-2cd5-4e38-905c-537dafed3d25",
    "outputId": "830b81b4-bcdb-4653-d2aa-af06aa71c28b",
    "tags": []
   },
   "outputs": [
    {
     "data": {
      "text/plain": [
       "label_pneumonia              1430\n",
       "label_cardiomegaly           2776\n",
       "label_pleural_thickening     3384\n",
       "label_consolidation          4667\n",
       "label_pneumothorax           5301\n",
       "label_effusion              13316\n",
       "label_other                 39770\n",
       "dtype: int64"
      ]
     },
     "execution_count": 8,
     "metadata": {},
     "output_type": "execute_result"
    }
   ],
   "source": [
    "label_counts_sorted = data[label_names].sum(axis=0).sort_values()\n",
    "label_counts_sorted"
   ]
  },
  {
   "cell_type": "code",
   "execution_count": null,
   "id": "aac9febf-07ce-487e-85c0-fdad1c3690ea",
   "metadata": {
    "execution": {
     "iopub.execute_input": "2023-03-04T01:13:54.487487Z",
     "iopub.status.busy": "2023-03-04T01:13:54.486740Z",
     "iopub.status.idle": "2023-03-04T01:13:54.504296Z",
     "shell.execute_reply": "2023-03-04T01:13:54.503348Z",
     "shell.execute_reply.started": "2023-03-04T01:13:54.487448Z"
    }
   },
   "outputs": [
    {
     "data": {
      "text/plain": [
       "0          True\n",
       "1         False\n",
       "2         False\n",
       "3         False\n",
       "4          True\n",
       "          ...  \n",
       "112099    False\n",
       "112100    False\n",
       "112101    False\n",
       "112102    False\n",
       "112103    False\n",
       "Length: 112104, dtype: bool"
      ]
     },
     "execution_count": 22,
     "metadata": {},
     "output_type": "execute_result"
    }
   ],
   "source": [
    "np.sum(data[label_names], axis=1) == 1"
   ]
  },
  {
   "cell_type": "code",
   "execution_count": 24,
   "id": "5c4a664f-8b6e-4953-8461-f0a283af4d03",
   "metadata": {
    "execution": {
     "iopub.execute_input": "2023-03-04T01:14:34.347799Z",
     "iopub.status.busy": "2023-03-04T01:14:34.347204Z",
     "iopub.status.idle": "2023-03-04T01:14:34.375567Z",
     "shell.execute_reply": "2023-03-04T01:14:34.375214Z",
     "shell.execute_reply.started": "2023-03-04T01:14:34.347764Z"
    },
    "tags": []
   },
   "outputs": [
    {
     "data": {
      "text/html": [
       "<div>\n",
       "<style scoped>\n",
       "    .dataframe tbody tr th:only-of-type {\n",
       "        vertical-align: middle;\n",
       "    }\n",
       "\n",
       "    .dataframe tbody tr th {\n",
       "        vertical-align: top;\n",
       "    }\n",
       "\n",
       "    .dataframe thead th {\n",
       "        text-align: right;\n",
       "    }\n",
       "</style>\n",
       "<table border=\"1\" class=\"dataframe\">\n",
       "  <thead>\n",
       "    <tr style=\"text-align: right;\">\n",
       "      <th></th>\n",
       "      <th>img_idx</th>\n",
       "      <th>labels</th>\n",
       "      <th>age</th>\n",
       "      <th>gender</th>\n",
       "      <th>view_pos</th>\n",
       "      <th>label_cardiomegaly</th>\n",
       "      <th>label_effusion</th>\n",
       "      <th>label_pneumothorax</th>\n",
       "      <th>label_pleural_thickening</th>\n",
       "      <th>label_pneumonia</th>\n",
       "      <th>label_consolidation</th>\n",
       "      <th>label_other</th>\n",
       "    </tr>\n",
       "  </thead>\n",
       "  <tbody>\n",
       "    <tr>\n",
       "      <th>0</th>\n",
       "      <td>00000001_000.png</td>\n",
       "      <td>Cardiomegaly</td>\n",
       "      <td>58</td>\n",
       "      <td>M</td>\n",
       "      <td>PA</td>\n",
       "      <td>True</td>\n",
       "      <td>False</td>\n",
       "      <td>False</td>\n",
       "      <td>False</td>\n",
       "      <td>False</td>\n",
       "      <td>False</td>\n",
       "      <td>False</td>\n",
       "    </tr>\n",
       "    <tr>\n",
       "      <th>4</th>\n",
       "      <td>00000003_000.png</td>\n",
       "      <td>Hernia</td>\n",
       "      <td>81</td>\n",
       "      <td>F</td>\n",
       "      <td>PA</td>\n",
       "      <td>False</td>\n",
       "      <td>False</td>\n",
       "      <td>False</td>\n",
       "      <td>False</td>\n",
       "      <td>False</td>\n",
       "      <td>False</td>\n",
       "      <td>True</td>\n",
       "    </tr>\n",
       "    <tr>\n",
       "      <th>5</th>\n",
       "      <td>00000003_001.png</td>\n",
       "      <td>Hernia</td>\n",
       "      <td>74</td>\n",
       "      <td>F</td>\n",
       "      <td>PA</td>\n",
       "      <td>False</td>\n",
       "      <td>False</td>\n",
       "      <td>False</td>\n",
       "      <td>False</td>\n",
       "      <td>False</td>\n",
       "      <td>False</td>\n",
       "      <td>True</td>\n",
       "    </tr>\n",
       "    <tr>\n",
       "      <th>6</th>\n",
       "      <td>00000003_002.png</td>\n",
       "      <td>Hernia</td>\n",
       "      <td>75</td>\n",
       "      <td>F</td>\n",
       "      <td>PA</td>\n",
       "      <td>False</td>\n",
       "      <td>False</td>\n",
       "      <td>False</td>\n",
       "      <td>False</td>\n",
       "      <td>False</td>\n",
       "      <td>False</td>\n",
       "      <td>True</td>\n",
       "    </tr>\n",
       "    <tr>\n",
       "      <th>7</th>\n",
       "      <td>00000003_003.png</td>\n",
       "      <td>Hernia|Infiltration</td>\n",
       "      <td>76</td>\n",
       "      <td>F</td>\n",
       "      <td>PA</td>\n",
       "      <td>False</td>\n",
       "      <td>False</td>\n",
       "      <td>False</td>\n",
       "      <td>False</td>\n",
       "      <td>False</td>\n",
       "      <td>False</td>\n",
       "      <td>True</td>\n",
       "    </tr>\n",
       "    <tr>\n",
       "      <th>...</th>\n",
       "      <td>...</td>\n",
       "      <td>...</td>\n",
       "      <td>...</td>\n",
       "      <td>...</td>\n",
       "      <td>...</td>\n",
       "      <td>...</td>\n",
       "      <td>...</td>\n",
       "      <td>...</td>\n",
       "      <td>...</td>\n",
       "      <td>...</td>\n",
       "      <td>...</td>\n",
       "      <td>...</td>\n",
       "    </tr>\n",
       "    <tr>\n",
       "      <th>112074</th>\n",
       "      <td>00030786_000.png</td>\n",
       "      <td>Effusion</td>\n",
       "      <td>61</td>\n",
       "      <td>F</td>\n",
       "      <td>PA</td>\n",
       "      <td>False</td>\n",
       "      <td>True</td>\n",
       "      <td>False</td>\n",
       "      <td>False</td>\n",
       "      <td>False</td>\n",
       "      <td>False</td>\n",
       "      <td>False</td>\n",
       "    </tr>\n",
       "    <tr>\n",
       "      <th>112080</th>\n",
       "      <td>00030786_006.png</td>\n",
       "      <td>Consolidation</td>\n",
       "      <td>61</td>\n",
       "      <td>F</td>\n",
       "      <td>AP</td>\n",
       "      <td>False</td>\n",
       "      <td>False</td>\n",
       "      <td>False</td>\n",
       "      <td>False</td>\n",
       "      <td>False</td>\n",
       "      <td>True</td>\n",
       "      <td>False</td>\n",
       "    </tr>\n",
       "    <tr>\n",
       "      <th>112084</th>\n",
       "      <td>00030789_000.png</td>\n",
       "      <td>Infiltration</td>\n",
       "      <td>52</td>\n",
       "      <td>F</td>\n",
       "      <td>PA</td>\n",
       "      <td>False</td>\n",
       "      <td>False</td>\n",
       "      <td>False</td>\n",
       "      <td>False</td>\n",
       "      <td>False</td>\n",
       "      <td>False</td>\n",
       "      <td>True</td>\n",
       "    </tr>\n",
       "    <tr>\n",
       "      <th>112090</th>\n",
       "      <td>00030793_000.png</td>\n",
       "      <td>Mass|Nodule</td>\n",
       "      <td>58</td>\n",
       "      <td>F</td>\n",
       "      <td>PA</td>\n",
       "      <td>False</td>\n",
       "      <td>False</td>\n",
       "      <td>False</td>\n",
       "      <td>False</td>\n",
       "      <td>False</td>\n",
       "      <td>False</td>\n",
       "      <td>True</td>\n",
       "    </tr>\n",
       "    <tr>\n",
       "      <th>112092</th>\n",
       "      <td>00030795_000.png</td>\n",
       "      <td>Pleural_Thickening</td>\n",
       "      <td>53</td>\n",
       "      <td>F</td>\n",
       "      <td>PA</td>\n",
       "      <td>False</td>\n",
       "      <td>False</td>\n",
       "      <td>False</td>\n",
       "      <td>True</td>\n",
       "      <td>False</td>\n",
       "      <td>False</td>\n",
       "      <td>False</td>\n",
       "    </tr>\n",
       "  </tbody>\n",
       "</table>\n",
       "<p>36150 rows × 12 columns</p>\n",
       "</div>"
      ],
      "text/plain": [
       "                 img_idx               labels  age gender view_pos  \\\n",
       "0       00000001_000.png         Cardiomegaly   58      M       PA   \n",
       "4       00000003_000.png               Hernia   81      F       PA   \n",
       "5       00000003_001.png               Hernia   74      F       PA   \n",
       "6       00000003_002.png               Hernia   75      F       PA   \n",
       "7       00000003_003.png  Hernia|Infiltration   76      F       PA   \n",
       "...                  ...                  ...  ...    ...      ...   \n",
       "112074  00030786_000.png             Effusion   61      F       PA   \n",
       "112080  00030786_006.png        Consolidation   61      F       AP   \n",
       "112084  00030789_000.png         Infiltration   52      F       PA   \n",
       "112090  00030793_000.png          Mass|Nodule   58      F       PA   \n",
       "112092  00030795_000.png   Pleural_Thickening   53      F       PA   \n",
       "\n",
       "        label_cardiomegaly  label_effusion  label_pneumothorax  \\\n",
       "0                     True           False               False   \n",
       "4                    False           False               False   \n",
       "5                    False           False               False   \n",
       "6                    False           False               False   \n",
       "7                    False           False               False   \n",
       "...                    ...             ...                 ...   \n",
       "112074               False            True               False   \n",
       "112080               False           False               False   \n",
       "112084               False           False               False   \n",
       "112090               False           False               False   \n",
       "112092               False           False               False   \n",
       "\n",
       "        label_pleural_thickening  label_pneumonia  label_consolidation  \\\n",
       "0                          False            False                False   \n",
       "4                          False            False                False   \n",
       "5                          False            False                False   \n",
       "6                          False            False                False   \n",
       "7                          False            False                False   \n",
       "...                          ...              ...                  ...   \n",
       "112074                     False            False                False   \n",
       "112080                     False            False                 True   \n",
       "112084                     False            False                False   \n",
       "112090                     False            False                False   \n",
       "112092                      True            False                False   \n",
       "\n",
       "        label_other  \n",
       "0             False  \n",
       "4              True  \n",
       "5              True  \n",
       "6              True  \n",
       "7              True  \n",
       "...             ...  \n",
       "112074        False  \n",
       "112080        False  \n",
       "112084         True  \n",
       "112090         True  \n",
       "112092        False  \n",
       "\n",
       "[36150 rows x 12 columns]"
      ]
     },
     "execution_count": 24,
     "metadata": {},
     "output_type": "execute_result"
    }
   ],
   "source": [
    "data_single_label = data[np.sum(data[label_names], axis=1) == 1]\n",
    "data_single_label"
   ]
  },
  {
   "cell_type": "code",
   "execution_count": null,
   "id": "cd80037e-20de-445b-9604-e4188f32b3e3",
   "metadata": {},
   "outputs": [],
   "source": []
  },
  {
   "cell_type": "code",
   "execution_count": null,
   "id": "212d4e64-35c7-4d5b-ae03-c57f915dc346",
   "metadata": {},
   "outputs": [],
   "source": []
  },
  {
   "cell_type": "code",
   "execution_count": null,
   "id": "350ccb9d-2ce5-4fca-9af0-7bf1ebd39c19",
   "metadata": {},
   "outputs": [],
   "source": []
  },
  {
   "cell_type": "code",
   "execution_count": null,
   "id": "a6881c7b-9bf5-4c6e-aed9-cfcdaac80968",
   "metadata": {},
   "outputs": [],
   "source": []
  },
  {
   "cell_type": "code",
   "execution_count": null,
   "id": "934aaa48-43f7-4fff-97a6-ef1e4cf147f6",
   "metadata": {},
   "outputs": [],
   "source": []
  },
  {
   "cell_type": "code",
   "execution_count": null,
   "id": "14408c02-c5e2-4305-be93-07f0991b52c4",
   "metadata": {},
   "outputs": [],
   "source": []
  },
  {
   "cell_type": "code",
   "execution_count": null,
   "id": "26f73920-fcea-4f0e-8c8d-5ba7d88b2893",
   "metadata": {},
   "outputs": [],
   "source": []
  },
  {
   "cell_type": "code",
   "execution_count": null,
   "id": "624c3bbd-cf9b-48b4-a856-c2f3ead68d4d",
   "metadata": {},
   "outputs": [],
   "source": []
  },
  {
   "cell_type": "code",
   "execution_count": null,
   "id": "472e51a5-49c7-4553-9a91-93d269441777",
   "metadata": {},
   "outputs": [],
   "source": []
  },
  {
   "cell_type": "markdown",
   "id": "ae949f0e-5b60-4f62-82cc-7d31ce90d706",
   "metadata": {
    "id": "ae949f0e-5b60-4f62-82cc-7d31ce90d706",
    "tags": []
   },
   "source": [
    "We want to have a balanced dataset that contains an equal number of examples of each condition (+\"no finding\"), regardless of 'overlaps' (i.e. multiple conditions).  \n",
    "\n",
    "We will start from the lowest common denominator, i.e. the condition with the fewest number of examples, i.e. pnemonia. We will choose **all** of the pneumonia cases, `N0 = N_pneumonia = 1430` above. Then we have to choose the same number of examples from each of the other conditions, in increasing order of the number of cases. But there are overlaps, so we will exclude cases already chosen from previous labels (i.e. those with fewer examples). We will keep adding examples until we have `N0` rows with each label."
   ]
  },
  {
   "cell_type": "code",
   "execution_count": 9,
   "id": "e4300583-52ac-44a7-8651-f7030d22a219",
   "metadata": {
    "colab": {
     "base_uri": "https://localhost:8080/"
    },
    "execution": {
     "iopub.execute_input": "2023-03-02T11:00:53.506112Z",
     "iopub.status.busy": "2023-03-02T11:00:53.505969Z",
     "iopub.status.idle": "2023-03-02T11:00:53.622160Z",
     "shell.execute_reply": "2023-03-02T11:00:53.621850Z",
     "shell.execute_reply.started": "2023-03-02T11:00:53.506100Z"
    },
    "id": "e4300583-52ac-44a7-8651-f7030d22a219",
    "outputId": "ce74f8c8-84f5-4ac8-d486-a0b992eae105",
    "tags": []
   },
   "outputs": [
    {
     "data": {
      "text/plain": [
       "label_pneumothorax          1430\n",
       "label_pneumonia             1430\n",
       "label_consolidation         1435\n",
       "label_cardiomegaly          1437\n",
       "label_pleural_thickening    1516\n",
       "label_effusion              1610\n",
       "label_other                 3260\n",
       "dtype: int64"
      ]
     },
     "execution_count": 9,
     "metadata": {},
     "output_type": "execute_result"
    }
   ],
   "source": [
    "rarest_label = label_counts_sorted.index[0]\n",
    "rarest_label_count = data[data[rarest_label]].shape[0]\n",
    "data_balanced = data[data[rarest_label]]\n",
    "n_min = data_balanced.shape[0]\n",
    "for label, count in zip(label_counts_sorted.index[1:], label_counts_sorted[1:]):\n",
    "    n_already_captured = data_balanced[data_balanced[label]].shape[0]\n",
    "    n_additional = n_min - n_already_captured\n",
    "    if n_additional > 0:\n",
    "        not_selected_indices = data.index.difference(data_balanced.index)\n",
    "        not_selected_data = data.loc[not_selected_indices]\n",
    "        not_selected_data_pa = not_selected_data.query(\"view_pos == 'PA'\").copy()\n",
    "        not_selected_data_ap = not_selected_data.query(\"view_pos == 'AP'\").copy()\n",
    "        rows_to_add = not_selected_data_pa[not_selected_data_pa[label]].sample(\n",
    "            n_additional\n",
    "        )\n",
    "        data_balanced = pd.concat([data_balanced, rows_to_add], axis=0)\n",
    "\n",
    "data_balanced[label_names].sum(axis=0).sort_values()"
   ]
  },
  {
   "cell_type": "markdown",
   "id": "5e30e3c5-ea59-4062-8db4-9020aa21ecc1",
   "metadata": {
    "id": "5e30e3c5-ea59-4062-8db4-9020aa21ecc1"
   },
   "source": [
    "Actually let's keep a small percentage of the rarest class (pneumonia) for testing..."
   ]
  },
  {
   "cell_type": "code",
   "execution_count": 10,
   "id": "0c1e2d43-990c-47e5-8e0d-597642bdb37f",
   "metadata": {
    "execution": {
     "iopub.execute_input": "2023-03-02T11:00:53.622646Z",
     "iopub.status.busy": "2023-03-02T11:00:53.622549Z",
     "iopub.status.idle": "2023-03-02T11:00:53.627784Z",
     "shell.execute_reply": "2023-03-02T11:00:53.627501Z",
     "shell.execute_reply.started": "2023-03-02T11:00:53.622636Z"
    },
    "id": "0c1e2d43-990c-47e5-8e0d-597642bdb37f",
    "tags": []
   },
   "outputs": [],
   "source": [
    "rarest_label_fraction_to_keep = 0.1\n",
    "indices_to_remove = (\n",
    "    data_balanced[data_balanced[rarest_label]]\n",
    "    .sample(int(rarest_label_count * rarest_label_fraction_to_keep))\n",
    "    .index\n",
    ")\n",
    "data_balanced.drop(indices_to_remove, inplace=True)"
   ]
  },
  {
   "cell_type": "code",
   "execution_count": 11,
   "id": "d7c63b40-b694-4643-96dc-bdeccdda5b86",
   "metadata": {
    "colab": {
     "base_uri": "https://localhost:8080/"
    },
    "execution": {
     "iopub.execute_input": "2023-03-02T11:00:53.628352Z",
     "iopub.status.busy": "2023-03-02T11:00:53.628266Z",
     "iopub.status.idle": "2023-03-02T11:00:53.630811Z",
     "shell.execute_reply": "2023-03-02T11:00:53.630537Z",
     "shell.execute_reply.started": "2023-03-02T11:00:53.628342Z"
    },
    "id": "d7c63b40-b694-4643-96dc-bdeccdda5b86",
    "outputId": "abd7190e-c981-43e4-cd4a-d89e34399799",
    "tags": []
   },
   "outputs": [
    {
     "data": {
      "text/plain": [
       "(6367, 12)"
      ]
     },
     "execution_count": 11,
     "metadata": {},
     "output_type": "execute_result"
    }
   ],
   "source": [
    "data_balanced.shape"
   ]
  },
  {
   "cell_type": "code",
   "execution_count": 12,
   "id": "1e9ab967-8e37-484b-93cc-ddc3ed6429fb",
   "metadata": {
    "colab": {
     "base_uri": "https://localhost:8080/",
     "height": 377
    },
    "execution": {
     "iopub.execute_input": "2023-03-02T11:00:53.631358Z",
     "iopub.status.busy": "2023-03-02T11:00:53.631270Z",
     "iopub.status.idle": "2023-03-02T11:00:54.219624Z",
     "shell.execute_reply": "2023-03-02T11:00:54.219301Z",
     "shell.execute_reply.started": "2023-03-02T11:00:53.631349Z"
    },
    "id": "1e9ab967-8e37-484b-93cc-ddc3ed6429fb",
    "outputId": "417ecaa6-f045-405d-a274-a5a22f31f841",
    "tags": []
   },
   "outputs": [
    {
     "data": {
      "image/png": "[encoded data removed]",
      "text/plain": [
       "<Figure size 640x480 with 1 Axes>"
      ]
     },
     "metadata": {},
     "output_type": "display_data"
    }
   ],
   "source": [
    "data_balanced[label_names].sum(axis=0).sort_values().plot(kind=\"bar\");"
   ]
  },
  {
   "cell_type": "markdown",
   "id": "597a13e7-7211-4cec-9e80-edbba78afcca",
   "metadata": {
    "id": "597a13e7-7211-4cec-9e80-edbba78afcca"
   },
   "source": [
    "We can use the remaining (i.e. not selected) data for our test set later on..."
   ]
  },
  {
   "cell_type": "code",
   "execution_count": 13,
   "id": "11123ac4-4c52-4ad9-8f8b-f54d2cd91990",
   "metadata": {
    "colab": {
     "base_uri": "https://localhost:8080/",
     "height": 376
    },
    "execution": {
     "iopub.execute_input": "2023-03-02T11:00:54.220383Z",
     "iopub.status.busy": "2023-03-02T11:00:54.220245Z",
     "iopub.status.idle": "2023-03-02T11:00:54.308668Z",
     "shell.execute_reply": "2023-03-02T11:00:54.308167Z",
     "shell.execute_reply.started": "2023-03-02T11:00:54.220373Z"
    },
    "id": "11123ac4-4c52-4ad9-8f8b-f54d2cd91990",
    "outputId": "4401b62b-7ee5-4286-eff8-13904a6d595f",
    "tags": []
   },
   "outputs": [
    {
     "data": {
      "image/png": "[encoded data removed]",
      "text/plain": [
       "<Figure size 640x480 with 1 Axes>"
      ]
     },
     "metadata": {},
     "output_type": "display_data"
    }
   ],
   "source": [
    "remaining_indices = data.index.difference(data_balanced.index)\n",
    "remaining_data = data.loc[remaining_indices]\n",
    "remaining_data[label_names].sum(axis=0).sort_values().plot(kind=\"bar\");"
   ]
  },
  {
   "cell_type": "code",
   "execution_count": 14,
   "id": "a20ee2ec-3ede-4e0c-a71a-7a845f5007a7",
   "metadata": {
    "execution": {
     "iopub.execute_input": "2023-03-02T11:00:54.314030Z",
     "iopub.status.busy": "2023-03-02T11:00:54.313871Z",
     "iopub.status.idle": "2023-03-02T11:00:54.373621Z",
     "shell.execute_reply": "2023-03-02T11:00:54.373051Z",
     "shell.execute_reply.started": "2023-03-02T11:00:54.314018Z"
    },
    "id": "a20ee2ec-3ede-4e0c-a71a-7a845f5007a7",
    "tags": []
   },
   "outputs": [
    {
     "data": {
      "image/png": "[encoded data removed]",
      "text/plain": [
       "<Figure size 640x480 with 1 Axes>"
      ]
     },
     "metadata": {},
     "output_type": "display_data"
    }
   ],
   "source": [
    "data_balanced.view_pos.value_counts().plot(kind=\"bar\");"
   ]
  },
  {
   "cell_type": "markdown",
   "id": "f2580dc2-80cc-4f47-9e28-37fb905bb4a1",
   "metadata": {
    "id": "f2580dc2-80cc-4f47-9e28-37fb905bb4a1",
    "tags": []
   },
   "source": [
    "# Loading the Images"
   ]
  },
  {
   "cell_type": "markdown",
   "id": "6cec4150-96a6-4cc6-bf4a-2770994fb612",
   "metadata": {
    "id": "6cec4150-96a6-4cc6-bf4a-2770994fb612"
   },
   "source": [
    "There are two ways to go about this:\n",
    "1. Load the entire data set in memory if we have enough RAM, which we do. We estimate ~8000 images will take up between 4 to 8 gigabytes in RAM.\n",
    "2. \"Dataset generator\": Keras has an \"[image data generator](https://www.tensorflow.org/api_docs/python/tf/keras/preprocessing/image/ImageDataGenerator)\"."
   ]
  },
  {
   "cell_type": "markdown",
   "id": "3b99be35-a48c-4e9a-bb4e-2ae934c83b89",
   "metadata": {
    "execution": {
     "iopub.execute_input": "2023-02-18T00:29:54.101427Z",
     "iopub.status.busy": "2023-02-18T00:29:54.100329Z",
     "iopub.status.idle": "2023-02-18T00:29:54.114273Z",
     "shell.execute_reply": "2023-02-18T00:29:54.111551Z",
     "shell.execute_reply.started": "2023-02-18T00:29:54.101367Z"
    },
    "id": "3b99be35-a48c-4e9a-bb4e-2ae934c83b89",
    "tags": []
   },
   "source": [
    "## Loading the Entire Dataset"
   ]
  },
  {
   "cell_type": "markdown",
   "id": "680b2875-b0ad-44cb-b94a-05593a5f6422",
   "metadata": {
    "id": "680b2875-b0ad-44cb-b94a-05593a5f6422"
   },
   "source": [
    "Let's try the first method first..."
   ]
  },
  {
   "cell_type": "code",
   "execution_count": 15,
   "id": "0b4de01d-2523-4463-87d2-cb5c2ea846ae",
   "metadata": {
    "execution": {
     "iopub.execute_input": "2023-03-02T11:00:54.374599Z",
     "iopub.status.busy": "2023-03-02T11:00:54.374467Z",
     "iopub.status.idle": "2023-03-02T11:00:54.377071Z",
     "shell.execute_reply": "2023-03-02T11:00:54.376667Z",
     "shell.execute_reply.started": "2023-03-02T11:00:54.374587Z"
    },
    "id": "0b4de01d-2523-4463-87d2-cb5c2ea846ae",
    "tags": []
   },
   "outputs": [],
   "source": [
    "import os\n",
    "import pathlib\n",
    "\n",
    "import numpy as np\n",
    "import PIL"
   ]
  },
  {
   "cell_type": "code",
   "execution_count": 16,
   "id": "c9a73848-7296-42e1-9e99-945bd2ddf375",
   "metadata": {
    "execution": {
     "iopub.execute_input": "2023-03-02T11:00:54.377817Z",
     "iopub.status.busy": "2023-03-02T11:00:54.377700Z",
     "iopub.status.idle": "2023-03-02T11:00:54.380561Z",
     "shell.execute_reply": "2023-03-02T11:00:54.380074Z",
     "shell.execute_reply.started": "2023-03-02T11:00:54.377807Z"
    },
    "id": "c9a73848-7296-42e1-9e99-945bd2ddf375",
    "tags": []
   },
   "outputs": [],
   "source": [
    "def load_img(img_filename):\n",
    "    data_dir = pathlib.Path(\"../raw_data/images_224_224\")\n",
    "    image_filename = img_filename\n",
    "    image = PIL.Image.open(pathlib.Path(data_dir, image_filename))\n",
    "    return image"
   ]
  },
  {
   "cell_type": "code",
   "execution_count": 17,
   "id": "1ec4e96e-ea3d-483d-aa3b-cf784cf9da0d",
   "metadata": {
    "colab": {
     "base_uri": "https://localhost:8080/"
    },
    "execution": {
     "iopub.execute_input": "2023-03-02T11:00:54.381412Z",
     "iopub.status.busy": "2023-03-02T11:00:54.381240Z",
     "iopub.status.idle": "2023-03-02T11:00:54.387461Z",
     "shell.execute_reply": "2023-03-02T11:00:54.387027Z",
     "shell.execute_reply.started": "2023-03-02T11:00:54.381396Z"
    },
    "id": "1ec4e96e-ea3d-483d-aa3b-cf784cf9da0d",
    "outputId": "03027aa2-d4c5-464a-f0e9-510c630d793a",
    "tags": []
   },
   "outputs": [
    {
     "data": {
      "text/plain": [
       "(224, 224)"
      ]
     },
     "execution_count": 17,
     "metadata": {},
     "output_type": "execute_result"
    }
   ],
   "source": [
    "n_images = data_balanced.shape[0]\n",
    "example_img = load_img(data_balanced.iloc[0, :][\"img_idx\"])\n",
    "img_dims = example_img.size\n",
    "img_dims"
   ]
  },
  {
   "cell_type": "code",
   "execution_count": 18,
   "id": "68945115-6f3f-46f5-96b6-231e704d9f3d",
   "metadata": {
    "colab": {
     "base_uri": "https://localhost:8080/"
    },
    "execution": {
     "iopub.execute_input": "2023-03-02T11:00:54.388083Z",
     "iopub.status.busy": "2023-03-02T11:00:54.387976Z",
     "iopub.status.idle": "2023-03-02T11:00:54.393284Z",
     "shell.execute_reply": "2023-03-02T11:00:54.392706Z",
     "shell.execute_reply.started": "2023-03-02T11:00:54.388073Z"
    },
    "id": "68945115-6f3f-46f5-96b6-231e704d9f3d",
    "outputId": "c32de1b5-2d78-4638-e796-f4ebc1298f81",
    "tags": []
   },
   "outputs": [
    {
     "data": {
      "text/plain": [
       "(6367, 224, 224)"
      ]
     },
     "execution_count": 18,
     "metadata": {},
     "output_type": "execute_result"
    }
   ],
   "source": [
    "img_data = np.zeros((n_images, *img_dims))\n",
    "img_data.shape"
   ]
  },
  {
   "cell_type": "code",
   "execution_count": 19,
   "id": "f16098ef-2a27-4eeb-9e86-d909e5158f3f",
   "metadata": {
    "execution": {
     "iopub.execute_input": "2023-03-02T11:00:54.394475Z",
     "iopub.status.busy": "2023-03-02T11:00:54.394216Z",
     "iopub.status.idle": "2023-03-02T11:00:54.396887Z",
     "shell.execute_reply": "2023-03-02T11:00:54.396347Z",
     "shell.execute_reply.started": "2023-03-02T11:00:54.394457Z"
    },
    "id": "f16098ef-2a27-4eeb-9e86-d909e5158f3f",
    "tags": []
   },
   "outputs": [],
   "source": [
    "# # This crashes Jupyter Notebook\n",
    "# for img in data_balanced.loc[:, \"img_idx\"]:\n",
    "#     # np.append(img_data, load_img(img))\n",
    "#     pass"
   ]
  },
  {
   "cell_type": "markdown",
   "id": "932daf17-a678-49c0-a263-4f356148deb7",
   "metadata": {
    "id": "932daf17-a678-49c0-a263-4f356148deb7"
   },
   "source": [
    "That was a dud. It crashes Jupyter Notebook. Let us now explore the second method."
   ]
  },
  {
   "cell_type": "markdown",
   "id": "69babdb7-55d8-4e5d-9227-c5bb74bdd3ff",
   "metadata": {
    "id": "69babdb7-55d8-4e5d-9227-c5bb74bdd3ff"
   },
   "source": [
    "## Generating the Dataset on the Fly"
   ]
  },
  {
   "cell_type": "markdown",
   "id": "5e184236-774c-4fbd-b8e0-af301d53a897",
   "metadata": {
    "id": "5e184236-774c-4fbd-b8e0-af301d53a897"
   },
   "source": [
    "It turns out [`tf.keras.preprocessing.image.ImageDataGenerator`](https://www.tensorflow.org/api_docs/python/tf/keras/preprocessing/image/ImageDataGenerator) is deprecated and hence not recommended for new code. Neither it nor its successor, [`tf.keras.utils.image_dataset_from_directory`](https://www.tensorflow.org/api_docs/python/tf/keras/utils/image_dataset_from_directory) are really applicable to our multi-label problem. (They are suited to single-label classification problems). I found [this blog post](https://towardsdatascience.com/multi-label-image-classification-in-tensorflow-2-0-7d4cf8a4bc72) on how to leverage the underlying API, [`tf.data`](https://www.tensorflow.org/guide/data) for multi-label problems. Let us explore that."
   ]
  },
  {
   "cell_type": "code",
   "execution_count": 20,
   "id": "d2cdc6cc-5330-4385-82b5-5445d5709753",
   "metadata": {
    "execution": {
     "iopub.execute_input": "2023-03-02T11:00:54.397697Z",
     "iopub.status.busy": "2023-03-02T11:00:54.397519Z",
     "iopub.status.idle": "2023-03-02T11:00:59.018995Z",
     "shell.execute_reply": "2023-03-02T11:00:59.018667Z",
     "shell.execute_reply.started": "2023-03-02T11:00:54.397678Z"
    },
    "id": "d2cdc6cc-5330-4385-82b5-5445d5709753"
   },
   "outputs": [],
   "source": [
    "import tensorflow as tf"
   ]
  },
  {
   "cell_type": "code",
   "execution_count": 21,
   "id": "2f73f540-5c71-4830-b4f9-d6a1000af377",
   "metadata": {
    "execution": {
     "iopub.execute_input": "2023-03-02T11:00:59.019812Z",
     "iopub.status.busy": "2023-03-02T11:00:59.019580Z",
     "iopub.status.idle": "2023-03-02T11:00:59.022745Z",
     "shell.execute_reply": "2023-03-02T11:00:59.022452Z",
     "shell.execute_reply.started": "2023-03-02T11:00:59.019802Z"
    },
    "id": "2f73f540-5c71-4830-b4f9-d6a1000af377",
    "tags": []
   },
   "outputs": [],
   "source": [
    "# from tensorflow.keras.applications.resnet50 import preprocess_input\n",
    "from tensorflow.keras.applications.vgg16 import preprocess_input\n",
    "\n",
    "\n",
    "# In order to do 'transfer learning' using VGG16, ResNet, etc. our image needs to have three channels.\n",
    "# We will simply duplicate the one grayscale channel 2 more times.\n",
    "def expand_greyscale_image_channels(image):\n",
    "    if image.shape[-1] == 1:\n",
    "        grey_image_3_channel = tf.tile(image, tf.constant([1, 1, 3], tf.int32))\n",
    "    else:\n",
    "        grey_image_3_channel = image\n",
    "\n",
    "    return preprocess_input(grey_image_3_channel)"
   ]
  },
  {
   "cell_type": "code",
   "execution_count": 22,
   "id": "7fcbfe1b-02be-4c54-859f-ffb5fc700d66",
   "metadata": {
    "execution": {
     "iopub.execute_input": "2023-03-02T11:00:59.023517Z",
     "iopub.status.busy": "2023-03-02T11:00:59.023403Z",
     "iopub.status.idle": "2023-03-02T11:00:59.026562Z",
     "shell.execute_reply": "2023-03-02T11:00:59.026275Z",
     "shell.execute_reply.started": "2023-03-02T11:00:59.023507Z"
    },
    "id": "7fcbfe1b-02be-4c54-859f-ffb5fc700d66",
    "tags": []
   },
   "outputs": [],
   "source": [
    "IMG_SIZE = 224  # img_dims[0]\n",
    "CHANNELS = 3  # The images WERE grayscale but we converted them to 3-channel\n",
    "\n",
    "\n",
    "def parse_function(filename, label):\n",
    "    \"\"\"Function that returns a tuple of normalized image array and labels array.\n",
    "    Args:\n",
    "        filename: string representing path to image\n",
    "        label: 0/1 one-dimensional array of size N_LABELS\n",
    "    \"\"\"\n",
    "    # Read an image from a file\n",
    "    image_string = tf.io.read_file(filename)\n",
    "    # Decode it into a dense vector\n",
    "    image_decoded = tf.image.decode_png(image_string, channels=CHANNELS)\n",
    "    # Resize it to fixed shape\n",
    "    image_resized = (\n",
    "        image_decoded  # tf.image.resize(image_decoded, [IMG_SIZE, IMG_SIZE])\n",
    "    )\n",
    "    # Normalize it from [0, 255] to [0.0, 1.0]\n",
    "    image_normalized = tf.cast(\n",
    "        image_resized, tf.float32\n",
    "    )  # / 255.0 The scaling is taken care of by `preprocess_input()` above\n",
    "    image_normalized_rgb = expand_greyscale_image_channels(image_normalized)\n",
    "    label_tensor = tf.convert_to_tensor(label, dtype=tf.uint8)\n",
    "    return image_normalized_rgb, label_tensor"
   ]
  },
  {
   "cell_type": "code",
   "execution_count": 23,
   "id": "52d232b7-4da7-4f28-bc46-d0bd28699c28",
   "metadata": {
    "colab": {
     "base_uri": "https://localhost:8080/"
    },
    "execution": {
     "iopub.execute_input": "2023-03-02T11:00:59.027238Z",
     "iopub.status.busy": "2023-03-02T11:00:59.027104Z",
     "iopub.status.idle": "2023-03-02T11:00:59.072505Z",
     "shell.execute_reply": "2023-03-02T11:00:59.072189Z",
     "shell.execute_reply.started": "2023-03-02T11:00:59.027227Z"
    },
    "id": "52d232b7-4da7-4f28-bc46-d0bd28699c28",
    "outputId": "acc4a430-568d-40db-eee5-091ea3eae760",
    "tags": []
   },
   "outputs": [
    {
     "data": {
      "text/plain": [
       "TensorShape([224, 224, 3])"
      ]
     },
     "execution_count": 23,
     "metadata": {},
     "output_type": "execute_result"
    }
   ],
   "source": [
    "cwd = os.getcwd()\n",
    "data_dir = pathlib.Path(cwd, \"..\", \"raw_data\", \"images_224_224\")\n",
    "\n",
    "# This works\n",
    "img_norm_rgb, label_tensor = parse_function(\n",
    "    str(pathlib.Path(data_dir, \"00000009_000.png\")),\n",
    "    np.array([True, False, False, True]) + 0,\n",
    ")\n",
    "img_norm_rgb.shape"
   ]
  },
  {
   "cell_type": "code",
   "execution_count": 24,
   "id": "5713fcd7-349b-49e9-89a9-57f91bd3d3ec",
   "metadata": {
    "colab": {
     "base_uri": "https://localhost:8080/",
     "height": 287
    },
    "execution": {
     "iopub.execute_input": "2023-03-02T11:00:59.073286Z",
     "iopub.status.busy": "2023-03-02T11:00:59.073162Z",
     "iopub.status.idle": "2023-03-02T11:00:59.175387Z",
     "shell.execute_reply": "2023-03-02T11:00:59.174958Z",
     "shell.execute_reply.started": "2023-03-02T11:00:59.073277Z"
    },
    "id": "5713fcd7-349b-49e9-89a9-57f91bd3d3ec",
    "outputId": "c5d5db35-5510-4c04-c337-1a75c6aed1e6",
    "tags": []
   },
   "outputs": [
    {
     "data": {
      "text/plain": [
       "(224, 224)"
      ]
     },
     "execution_count": 24,
     "metadata": {},
     "output_type": "execute_result"
    },
    {
     "data": {
      "image/png": "[encoded data removed]",
      "text/plain": [
       "<Figure size 640x480 with 1 Axes>"
      ]
     },
     "metadata": {},
     "output_type": "display_data"
    }
   ],
   "source": [
    "import matplotlib.image as mpimg\n",
    "import matplotlib.pyplot as plt\n",
    "\n",
    "img = mpimg.imread(pathlib.Path(data_dir, \"00000009_000.png\"))\n",
    "plt.imshow(img, cmap=\"gray\")\n",
    "img.shape"
   ]
  },
  {
   "cell_type": "code",
   "execution_count": 25,
   "id": "72789baf-a72d-4f39-b9f3-3b28a84b5dfa",
   "metadata": {
    "execution": {
     "iopub.execute_input": "2023-03-02T11:00:59.176019Z",
     "iopub.status.busy": "2023-03-02T11:00:59.175914Z",
     "iopub.status.idle": "2023-03-02T11:00:59.178081Z",
     "shell.execute_reply": "2023-03-02T11:00:59.177789Z",
     "shell.execute_reply.started": "2023-03-02T11:00:59.176009Z"
    },
    "id": "72789baf-a72d-4f39-b9f3-3b28a84b5dfa",
    "tags": []
   },
   "outputs": [],
   "source": [
    "BATCH_SIZE = 64  # 256  # The blog post suggested 256 is big enough to measure an F1-score but I suspect this was leading to this error while I was training the model: BiasGrad requires tensor size <= int32 max\n",
    "AUTOTUNE = (\n",
    "    tf.data.experimental.AUTOTUNE\n",
    ")  # Adapt preprocessing and prefetching dynamically to reduce GPU and CPU idle time\n",
    "SHUFFLE_BUFFER_SIZE = (\n",
    "    256  # 1024  # Shuffle the training data by a chunck of 1024 observations\n",
    ")\n",
    "\n",
    "N_LABELS = len(label_names)"
   ]
  },
  {
   "cell_type": "code",
   "execution_count": 26,
   "id": "cd029e70-ca81-47dc-9ea4-14ac9ffa93b6",
   "metadata": {
    "execution": {
     "iopub.execute_input": "2023-03-02T11:00:59.178815Z",
     "iopub.status.busy": "2023-03-02T11:00:59.178684Z",
     "iopub.status.idle": "2023-03-02T11:00:59.181453Z",
     "shell.execute_reply": "2023-03-02T11:00:59.181087Z",
     "shell.execute_reply.started": "2023-03-02T11:00:59.178804Z"
    },
    "id": "cd029e70-ca81-47dc-9ea4-14ac9ffa93b6",
    "tags": []
   },
   "outputs": [],
   "source": [
    "def create_dataset(filenames, labels, is_training=True):\n",
    "    \"\"\"Load and parse dataset.\n",
    "    Args:\n",
    "        filenames: list of image paths\n",
    "        labels: numpy array of shape (BATCH_SIZE, N_LABELS)\n",
    "        is_training: boolean to indicate training mode\n",
    "    \"\"\"\n",
    "\n",
    "    # Create a first dataset of file paths and labels\n",
    "    dataset = tf.data.Dataset.from_tensor_slices((filenames, labels))\n",
    "    # Parse and preprocess observations in parallel\n",
    "    dataset = dataset.map(parse_function, num_parallel_calls=AUTOTUNE)\n",
    "\n",
    "    if is_training == True:\n",
    "        # This is a small dataset, only load it once, and keep it in memory.\n",
    "        dataset = dataset.cache()\n",
    "        # Shuffle the data each buffer size\n",
    "        dataset = dataset.shuffle(buffer_size=SHUFFLE_BUFFER_SIZE)\n",
    "\n",
    "    # Batch the data for multiple steps\n",
    "    dataset = dataset.batch(BATCH_SIZE)\n",
    "    # Fetch batches in the background while the model is training.\n",
    "    dataset = dataset.prefetch(buffer_size=AUTOTUNE)\n",
    "\n",
    "    return dataset"
   ]
  },
  {
   "cell_type": "code",
   "execution_count": 27,
   "id": "48448164-e18a-4908-b810-a4cc53243565",
   "metadata": {
    "execution": {
     "iopub.execute_input": "2023-03-02T11:00:59.182244Z",
     "iopub.status.busy": "2023-03-02T11:00:59.182123Z",
     "iopub.status.idle": "2023-03-02T11:00:59.217718Z",
     "shell.execute_reply": "2023-03-02T11:00:59.217236Z",
     "shell.execute_reply.started": "2023-03-02T11:00:59.182234Z"
    },
    "id": "48448164-e18a-4908-b810-a4cc53243565",
    "tags": []
   },
   "outputs": [],
   "source": [
    "filenames = data_balanced.img_idx.to_list()\n",
    "filepaths = [str(pathlib.Path(data_dir, filename)) for filename in filenames]\n",
    "label_sets_binarized = np.array(\n",
    "    data_balanced[label_names].apply(lambda x: x + 0), dtype=np.uint8\n",
    ")"
   ]
  },
  {
   "cell_type": "code",
   "execution_count": 28,
   "id": "578427ce-6145-4fc5-88ce-48a910850f84",
   "metadata": {
    "execution": {
     "iopub.execute_input": "2023-03-02T11:00:59.218307Z",
     "iopub.status.busy": "2023-03-02T11:00:59.218198Z",
     "iopub.status.idle": "2023-03-02T11:01:00.856987Z",
     "shell.execute_reply": "2023-03-02T11:01:00.856657Z",
     "shell.execute_reply.started": "2023-03-02T11:00:59.218297Z"
    },
    "id": "578427ce-6145-4fc5-88ce-48a910850f84",
    "tags": []
   },
   "outputs": [],
   "source": [
    "from sklearn.model_selection import train_test_split\n",
    "\n",
    "X_train, X_val, y_train_bin, y_val_bin = train_test_split(\n",
    "    filepaths, label_sets_binarized, test_size=0.2\n",
    ")"
   ]
  },
  {
   "cell_type": "code",
   "execution_count": 29,
   "id": "07f321de-c8e3-4561-853e-ed558b2cae3d",
   "metadata": {
    "execution": {
     "iopub.execute_input": "2023-03-02T11:01:00.857679Z",
     "iopub.status.busy": "2023-03-02T11:01:00.857560Z",
     "iopub.status.idle": "2023-03-02T11:01:00.963028Z",
     "shell.execute_reply": "2023-03-02T11:01:00.962684Z",
     "shell.execute_reply.started": "2023-03-02T11:01:00.857666Z"
    },
    "id": "07f321de-c8e3-4561-853e-ed558b2cae3d",
    "tags": []
   },
   "outputs": [],
   "source": [
    "train_ds = create_dataset(X_train, y_train_bin)\n",
    "val_ds = create_dataset(X_val, y_val_bin)"
   ]
  },
  {
   "cell_type": "markdown",
   "id": "dc07afce-e819-4c6b-be05-3f5579954531",
   "metadata": {
    "id": "dc07afce-e819-4c6b-be05-3f5579954531"
   },
   "source": [
    "We now, finally, have our training and validation data sets with the correct tensor sizes and data types.  \n",
    "Now let's create the test set from the data that was _not_ selected while creating the balanced dataset. (Stored in `remaining_data`)"
   ]
  },
  {
   "cell_type": "code",
   "execution_count": 30,
   "id": "0Dz8ktSe-dFn",
   "metadata": {
    "colab": {
     "base_uri": "https://localhost:8080/"
    },
    "execution": {
     "iopub.execute_input": "2023-03-02T11:01:00.963591Z",
     "iopub.status.busy": "2023-03-02T11:01:00.963495Z",
     "iopub.status.idle": "2023-03-02T11:01:01.006757Z",
     "shell.execute_reply": "2023-03-02T11:01:01.006436Z",
     "shell.execute_reply.started": "2023-03-02T11:01:00.963581Z"
    },
    "id": "0Dz8ktSe-dFn",
    "outputId": "2c8669ce-b33e-435f-c07c-6245fc148caf"
   },
   "outputs": [
    {
     "data": {
      "text/plain": [
       "label_pneumothorax          143\n",
       "label_pneumonia             143\n",
       "label_consolidation         146\n",
       "label_pleural_thickening    149\n",
       "label_cardiomegaly          154\n",
       "label_effusion              172\n",
       "label_other                 352\n",
       "dtype: int64"
      ]
     },
     "execution_count": 30,
     "metadata": {},
     "output_type": "execute_result"
    }
   ],
   "source": [
    "# Let's take a balanced subset...\n",
    "test_data_balanced = remaining_data[remaining_data[rarest_label]]\n",
    "n_min = test_data_balanced.shape[0]\n",
    "\n",
    "for label, count in zip(label_counts_sorted.index[1:], label_counts_sorted[1:]):\n",
    "    n_already_captured = test_data_balanced[test_data_balanced[label]].shape[0]\n",
    "    n_additional = n_min - n_already_captured\n",
    "    if n_additional > 0:\n",
    "        not_selected_indices = remaining_data.index.difference(test_data_balanced.index)\n",
    "        not_selected_data = remaining_data.loc[not_selected_indices]\n",
    "        rows_to_add = not_selected_data[not_selected_data[label]].sample(n_additional)\n",
    "        test_data_balanced = pd.concat([test_data_balanced, rows_to_add], axis=0)\n",
    "\n",
    "test_data_balanced[label_names].sum(axis=0).sort_values()"
   ]
  },
  {
   "cell_type": "code",
   "execution_count": 31,
   "id": "8416c797-34f4-49b0-a869-8ba9c6eaa80c",
   "metadata": {
    "execution": {
     "iopub.execute_input": "2023-03-02T11:01:01.007407Z",
     "iopub.status.busy": "2023-03-02T11:01:01.007297Z",
     "iopub.status.idle": "2023-03-02T11:01:01.024610Z",
     "shell.execute_reply": "2023-03-02T11:01:01.024280Z",
     "shell.execute_reply.started": "2023-03-02T11:01:01.007397Z"
    },
    "id": "8416c797-34f4-49b0-a869-8ba9c6eaa80c",
    "tags": []
   },
   "outputs": [],
   "source": [
    "filenames_test = test_data_balanced.img_idx.to_list()\n",
    "X_test = [str(pathlib.Path(data_dir, filename)) for filename in filenames_test]\n",
    "y_test_bin = np.array(\n",
    "    test_data_balanced[label_names].apply(lambda x: x + 0), dtype=np.uint8\n",
    ")\n",
    "test_ds = create_dataset(X_test, y_test_bin)"
   ]
  },
  {
   "cell_type": "markdown",
   "id": "1ac05cae-cfc0-4306-b611-1fab5552e390",
   "metadata": {
    "id": "1ac05cae-cfc0-4306-b611-1fab5552e390"
   },
   "source": [
    "# Modelling"
   ]
  },
  {
   "cell_type": "markdown",
   "id": "05b49c66-669b-4057-899b-3290537cdeee",
   "metadata": {},
   "source": [
    "## Loss Function and Evaluation Metrics"
   ]
  },
  {
   "cell_type": "markdown",
   "id": "7f72d6ae-de4d-477a-adab-c9e2010af3a1",
   "metadata": {
    "id": "7f72d6ae-de4d-477a-adab-c9e2010af3a1"
   },
   "source": [
    "The function below, from [the Medium post mentioned earlier](https://towardsdatascience.com/multi-label-image-classification-in-tensorflow-2-0-7d4cf8a4bc72), will provide our evaluation metric:"
   ]
  },
  {
   "cell_type": "code",
   "execution_count": 32,
   "id": "2c3a2129-0689-4629-9138-ee2243b8e26f",
   "metadata": {
    "execution": {
     "iopub.execute_input": "2023-03-02T11:01:01.025730Z",
     "iopub.status.busy": "2023-03-02T11:01:01.025304Z",
     "iopub.status.idle": "2023-03-02T11:01:01.029432Z",
     "shell.execute_reply": "2023-03-02T11:01:01.029012Z",
     "shell.execute_reply.started": "2023-03-02T11:01:01.025711Z"
    },
    "id": "2c3a2129-0689-4629-9138-ee2243b8e26f",
    "tags": []
   },
   "outputs": [],
   "source": [
    "def macro_f1(y, y_hat, thresh=0.5):\n",
    "    \"\"\"Compute the macro F1-score on a batch of observations (average F1 across labels)\n",
    "\n",
    "    Args:\n",
    "        y (int32 Tensor): labels array of shape (BATCH_SIZE, N_LABELS)\n",
    "        y_hat (float32 Tensor): probability matrix from forward propagation of shape (BATCH_SIZE, N_LABELS)\n",
    "        thresh: probability value above which we predict positive\n",
    "\n",
    "    Returns:\n",
    "        macro_f1 (scalar Tensor): value of macro F1 for the batch\n",
    "    \"\"\"\n",
    "    y_pred = tf.cast(tf.greater(y_hat, thresh), tf.float32)\n",
    "    tp = tf.cast(tf.math.count_nonzero(y_pred * y, axis=0), tf.float32)\n",
    "    fp = tf.cast(tf.math.count_nonzero(y_pred * (1 - y), axis=0), tf.float32)\n",
    "    fn = tf.cast(tf.math.count_nonzero((1 - y_pred) * y, axis=0), tf.float32)\n",
    "    f1 = 2 * tp / (2 * tp + fn + fp + 1e-16)\n",
    "    macro_f1 = tf.reduce_mean(f1)\n",
    "    return macro_f1"
   ]
  },
  {
   "cell_type": "markdown",
   "id": "5552cd2b-c1f2-4de6-a113-a224aa7b7bfc",
   "metadata": {
    "id": "5552cd2b-c1f2-4de6-a113-a224aa7b7bfc"
   },
   "source": [
    "And the one below, from a related blog post ([here](https://towardsdatascience.com/the-unknown-benefits-of-using-a-soft-f1-loss-in-classification-systems-753902c0105d)), provides a differentiable version of the above, for our loss function:"
   ]
  },
  {
   "cell_type": "code",
   "execution_count": 33,
   "id": "d7bfd91f-e5d4-4911-8ff9-5ec9fc05bdae",
   "metadata": {
    "execution": {
     "iopub.execute_input": "2023-03-02T11:01:01.030320Z",
     "iopub.status.busy": "2023-03-02T11:01:01.030227Z",
     "iopub.status.idle": "2023-03-02T11:01:01.033725Z",
     "shell.execute_reply": "2023-03-02T11:01:01.033255Z",
     "shell.execute_reply.started": "2023-03-02T11:01:01.030311Z"
    },
    "id": "d7bfd91f-e5d4-4911-8ff9-5ec9fc05bdae",
    "tags": []
   },
   "outputs": [],
   "source": [
    "def macro_soft_f1(y, y_hat):\n",
    "    \"\"\"Compute the macro soft F1-score as a cost.\n",
    "    Average (1 - soft-F1) across all labels.\n",
    "    Use probability values instead of binary predictions.\n",
    "\n",
    "    Args:\n",
    "        y (int32 Tensor): targets array of shape (BATCH_SIZE, N_LABELS)\n",
    "        y_hat (float32 Tensor): probability matrix of shape (BATCH_SIZE, N_LABELS)\n",
    "\n",
    "    Returns:\n",
    "        cost (scalar Tensor): value of the cost function for the batch\n",
    "    \"\"\"\n",
    "\n",
    "    y = tf.cast(y, tf.float32)\n",
    "    y_hat = tf.cast(y_hat, tf.float32)\n",
    "    tp = tf.reduce_sum(y_hat * y, axis=0)\n",
    "    fp = tf.reduce_sum(y_hat * (1 - y), axis=0)\n",
    "    fn = tf.reduce_sum((1 - y_hat) * y, axis=0)\n",
    "    soft_f1 = 2 * tp / (2 * tp + fn + fp + 1e-16)\n",
    "    cost = 1 - soft_f1  # reduce 1 - soft-f1 in order to increase soft-f1\n",
    "    macro_cost = tf.reduce_mean(cost)  # average on all labels\n",
    "\n",
    "    return macro_cost"
   ]
  },
  {
   "cell_type": "markdown",
   "id": "397a5ec4-72cf-4ffd-9c16-288e6a3195cf",
   "metadata": {},
   "source": [
    "## Baseline Model"
   ]
  },
  {
   "cell_type": "markdown",
   "id": "95a5978b-c44a-4879-a5df-b451bb85f3d0",
   "metadata": {},
   "source": [
    "What if we just returned ones across the board? (i.e. naively predict that all patients have all of the conditions)  \n",
    "Or if we randomly predicted the conditions based on their frequencies of occurrence?  \n",
    "We need _something_ to compare our eventual model's evaluation metrics to.  \n",
    "Let us explore this further now."
   ]
  },
  {
   "cell_type": "markdown",
   "id": "5e29e76b-9180-4e4e-8afd-b3d2be459dac",
   "metadata": {},
   "source": [
    "### Naive baseline #1: All ones across the board"
   ]
  },
  {
   "cell_type": "code",
   "execution_count": 34,
   "id": "95e210b8-b30f-4828-b87c-17c2d65ee861",
   "metadata": {
    "execution": {
     "iopub.execute_input": "2023-03-02T11:01:01.034524Z",
     "iopub.status.busy": "2023-03-02T11:01:01.034393Z",
     "iopub.status.idle": "2023-03-02T11:01:01.049656Z",
     "shell.execute_reply": "2023-03-02T11:01:01.049347Z",
     "shell.execute_reply.started": "2023-03-02T11:01:01.034512Z"
    },
    "tags": []
   },
   "outputs": [
    {
     "data": {
      "text/plain": [
       "<tf.Tensor: shape=(), dtype=float32, numpy=0.43182418>"
      ]
     },
     "execution_count": 34,
     "metadata": {},
     "output_type": "execute_result"
    }
   ],
   "source": [
    "pred_all_ones = np.ones(y_test_bin.shape)\n",
    "macro_f1(y_test_bin, pred_all_ones)"
   ]
  },
  {
   "cell_type": "code",
   "execution_count": 35,
   "id": "d28876e0-56a8-4fcb-b32d-2d45e7bfdce0",
   "metadata": {
    "execution": {
     "iopub.execute_input": "2023-03-02T11:01:01.050552Z",
     "iopub.status.busy": "2023-03-02T11:01:01.050379Z",
     "iopub.status.idle": "2023-03-02T11:01:01.060038Z",
     "shell.execute_reply": "2023-03-02T11:01:01.059411Z",
     "shell.execute_reply.started": "2023-03-02T11:01:01.050537Z"
    },
    "tags": []
   },
   "outputs": [
    {
     "name": "stdout",
     "output_type": "stream",
     "text": [
      "                          precision    recall  f1-score   support\n",
      "\n",
      "      label_cardiomegaly       0.24      1.00      0.39       154\n",
      "          label_effusion       0.27      1.00      0.43       172\n",
      "      label_pneumothorax       0.23      1.00      0.37       143\n",
      "label_pleural_thickening       0.24      1.00      0.38       149\n",
      "         label_pneumonia       0.23      1.00      0.37       143\n",
      "     label_consolidation       0.23      1.00      0.37       146\n",
      "             label_other       0.56      1.00      0.71       352\n",
      "\n",
      "               micro avg       0.28      1.00      0.44      1259\n",
      "               macro avg       0.28      1.00      0.43      1259\n",
      "            weighted avg       0.33      1.00      0.48      1259\n",
      "             samples avg       0.28      1.00      0.43      1259\n",
      "\n"
     ]
    }
   ],
   "source": [
    "from sklearn.metrics import classification_report\n",
    "\n",
    "print(classification_report(y_test_bin, pred_all_ones, target_names=label_names))"
   ]
  },
  {
   "cell_type": "markdown",
   "id": "32524c82-d7bc-4748-b0d8-7a257b7c131f",
   "metadata": {
    "tags": []
   },
   "source": [
    "### Naive Baseline #2: Random based on frequency"
   ]
  },
  {
   "cell_type": "code",
   "execution_count": 36,
   "id": "54fc57b8-7ea9-4980-8fb8-172f47127b66",
   "metadata": {
    "execution": {
     "iopub.execute_input": "2023-03-02T11:01:01.060800Z",
     "iopub.status.busy": "2023-03-02T11:01:01.060656Z",
     "iopub.status.idle": "2023-03-02T11:01:01.065832Z",
     "shell.execute_reply": "2023-03-02T11:01:01.065469Z",
     "shell.execute_reply.started": "2023-03-02T11:01:01.060789Z"
    },
    "tags": []
   },
   "outputs": [
    {
     "data": {
      "text/plain": [
       "label_cardiomegaly          0.225067\n",
       "label_effusion              0.248469\n",
       "label_pneumothorax          0.223810\n",
       "label_pleural_thickening    0.237160\n",
       "label_pneumonia             0.202136\n",
       "label_consolidation         0.223025\n",
       "label_other                 0.496309\n",
       "dtype: float64"
      ]
     },
     "execution_count": 36,
     "metadata": {},
     "output_type": "execute_result"
    }
   ],
   "source": [
    "label_ratios = data_balanced[label_names].sum(axis=0) / len(data_balanced)\n",
    "label_ratios"
   ]
  },
  {
   "cell_type": "code",
   "execution_count": 37,
   "id": "3a81f9e1-5a84-459f-a854-24aff07a84a9",
   "metadata": {
    "execution": {
     "iopub.execute_input": "2023-03-02T11:01:01.066567Z",
     "iopub.status.busy": "2023-03-02T11:01:01.066397Z",
     "iopub.status.idle": "2023-03-02T11:01:01.070032Z",
     "shell.execute_reply": "2023-03-02T11:01:01.069683Z",
     "shell.execute_reply.started": "2023-03-02T11:01:01.066556Z"
    },
    "tags": []
   },
   "outputs": [
    {
     "data": {
      "text/plain": [
       "label_cardiomegaly          143.0\n",
       "label_effusion              158.0\n",
       "label_pneumothorax          142.0\n",
       "label_pleural_thickening    150.0\n",
       "label_pneumonia             128.0\n",
       "label_consolidation         141.0\n",
       "label_other                 315.0\n",
       "dtype: float64"
      ]
     },
     "execution_count": 37,
     "metadata": {},
     "output_type": "execute_result"
    }
   ],
   "source": [
    "pred_random_label_counts = round(y_test_bin.shape[0] * label_ratios)\n",
    "pred_random_label_counts"
   ]
  },
  {
   "cell_type": "code",
   "execution_count": 38,
   "id": "1f47305e-9373-41c1-859c-6f8838939e2d",
   "metadata": {
    "execution": {
     "iopub.execute_input": "2023-03-02T11:01:01.070602Z",
     "iopub.status.busy": "2023-03-02T11:01:01.070461Z",
     "iopub.status.idle": "2023-03-02T11:01:01.076659Z",
     "shell.execute_reply": "2023-03-02T11:01:01.076189Z",
     "shell.execute_reply.started": "2023-03-02T11:01:01.070592Z"
    },
    "tags": []
   },
   "outputs": [
    {
     "data": {
      "text/plain": [
       "<tf.Tensor: shape=(), dtype=float32, numpy=0.28026468>"
      ]
     },
     "execution_count": 38,
     "metadata": {},
     "output_type": "execute_result"
    }
   ],
   "source": [
    "pred_random = np.zeros(y_test_bin.shape)\n",
    "\n",
    "for i, label in enumerate(label_names):\n",
    "    pred_random[\n",
    "        np.random.choice(\n",
    "            pred_random.shape[0], int(pred_random_label_counts[label]), replace=False\n",
    "        ),\n",
    "        i,\n",
    "    ] = 1\n",
    "\n",
    "# pred_random.sum(axis=0)\n",
    "macro_f1(y_test_bin, pred_random)"
   ]
  },
  {
   "cell_type": "code",
   "execution_count": 39,
   "id": "bbaefd76-7d14-4064-be44-8b3eff84dd63",
   "metadata": {
    "execution": {
     "iopub.execute_input": "2023-03-02T11:01:01.077285Z",
     "iopub.status.busy": "2023-03-02T11:01:01.077179Z",
     "iopub.status.idle": "2023-03-02T11:01:01.085499Z",
     "shell.execute_reply": "2023-03-02T11:01:01.085028Z",
     "shell.execute_reply.started": "2023-03-02T11:01:01.077275Z"
    },
    "tags": []
   },
   "outputs": [
    {
     "name": "stdout",
     "output_type": "stream",
     "text": [
      "                          precision    recall  f1-score   support\n",
      "\n",
      "      label_cardiomegaly       0.20      0.19      0.20       154\n",
      "          label_effusion       0.29      0.27      0.28       172\n",
      "      label_pneumothorax       0.20      0.20      0.20       143\n",
      "label_pleural_thickening       0.26      0.26      0.26       149\n",
      "         label_pneumonia       0.27      0.24      0.25       143\n",
      "     label_consolidation       0.28      0.27      0.28       146\n",
      "             label_other       0.53      0.47      0.50       352\n",
      "\n",
      "               micro avg       0.33      0.30      0.31      1259\n",
      "               macro avg       0.29      0.27      0.28      1259\n",
      "            weighted avg       0.33      0.30      0.32      1259\n",
      "             samples avg       0.30      0.29      0.27      1259\n",
      "\n"
     ]
    },
    {
     "name": "stderr",
     "output_type": "stream",
     "text": [
      "/Users/fafa/.pyenv/versions/3.10.6/envs/cxray/lib/python3.10/site-packages/sklearn/metrics/_classification.py:1344: UndefinedMetricWarning: Precision and F-score are ill-defined and being set to 0.0 in samples with no predicted labels. Use `zero_division` parameter to control this behavior.\n",
      "  _warn_prf(average, modifier, msg_start, len(result))\n"
     ]
    }
   ],
   "source": [
    "print(classification_report(y_test_bin, pred_random, target_names=label_names))"
   ]
  },
  {
   "cell_type": "markdown",
   "id": "4a142a8c-79a8-47a7-82cf-79f2b40bff46",
   "metadata": {},
   "source": [
    "## Transfer Learning"
   ]
  },
  {
   "cell_type": "markdown",
   "id": "81470564-3cf6-4512-bf1c-2fc8ea91d4de",
   "metadata": {},
   "source": [
    "We will be performing transfer learning using one of the many available pre-trained deep convolutional neural networks such as those listed in [this paper](https://www.nature.com/articles/s41598-020-70479-z.pdf?origin=ppubhttps://www.nature.com/articles/s41598-020-70479-z.pdf?origin=ppub)."
   ]
  },
  {
   "cell_type": "code",
   "execution_count": 51,
   "id": "6ecc0b5d-7fbc-4324-9877-129784cdbf73",
   "metadata": {
    "execution": {
     "iopub.execute_input": "2023-03-02T12:15:35.825556Z",
     "iopub.status.busy": "2023-03-02T12:15:35.824967Z",
     "iopub.status.idle": "2023-03-02T12:15:35.841489Z",
     "shell.execute_reply": "2023-03-02T12:15:35.841045Z",
     "shell.execute_reply.started": "2023-03-02T12:15:35.825510Z"
    },
    "id": "6ecc0b5d-7fbc-4324-9877-129784cdbf73",
    "tags": []
   },
   "outputs": [],
   "source": [
    "LR = 1e-5  # For transfer learning, use a small value such as 1e5\n",
    "EPOCHS = 100\n",
    "DO1 = 0.4\n",
    "DO2 = 0.2\n",
    "DO3 = 0.1\n",
    "L2_REG = 0.0001\n",
    "\n",
    "def get_pretrained_model():\n",
    "    pretrained_model = tf.keras.applications.vgg16.VGG16( # resnet50.ResNet50(\n",
    "        include_top=False,\n",
    "        input_shape=(IMG_SIZE, IMG_SIZE, CHANNELS),\n",
    "    )\n",
    "    pretrained_model.trainable = False\n",
    "    return pretrained_model"
   ]
  },
  {
   "cell_type": "code",
   "execution_count": 52,
   "id": "65d745b5-138b-4a2a-ab5c-067be8a89e38",
   "metadata": {
    "execution": {
     "iopub.execute_input": "2023-03-02T12:15:35.842815Z",
     "iopub.status.busy": "2023-03-02T12:15:35.842543Z",
     "iopub.status.idle": "2023-03-02T12:15:35.845277Z",
     "shell.execute_reply": "2023-03-02T12:15:35.844934Z",
     "shell.execute_reply.started": "2023-03-02T12:15:35.842800Z"
    },
    "id": "65d745b5-138b-4a2a-ab5c-067be8a89e38",
    "tags": []
   },
   "outputs": [],
   "source": [
    "# pretrained = get_pretrained_model()\n",
    "# pretrained.summary()"
   ]
  },
  {
   "cell_type": "code",
   "execution_count": 53,
   "id": "40ffa302-d03e-4f9d-b6b2-6976b358c2ec",
   "metadata": {
    "execution": {
     "iopub.execute_input": "2023-03-02T12:15:35.845881Z",
     "iopub.status.busy": "2023-03-02T12:15:35.845725Z",
     "iopub.status.idle": "2023-03-02T12:15:35.852419Z",
     "shell.execute_reply": "2023-03-02T12:15:35.852061Z",
     "shell.execute_reply.started": "2023-03-02T12:15:35.845869Z"
    },
    "id": "40ffa302-d03e-4f9d-b6b2-6976b358c2ec",
    "tags": []
   },
   "outputs": [],
   "source": [
    "def create_compiled_custom_model():\n",
    "    base_model = get_pretrained_model()\n",
    "    flattening_layer = tf.keras.layers.Flatten()\n",
    "    dense_layer_1 = tf.keras.layers.Dense(\n",
    "        250, activation=\"relu\", kernel_regularizer=tf.keras.regularizers.l2(L2_REG)\n",
    "    )\n",
    "    dropout_layer_1 = tf.keras.layers.Dropout(DO1)\n",
    "    dense_layer_2 = tf.keras.layers.Dense(\n",
    "        100, activation=\"relu\", kernel_regularizer=tf.keras.regularizers.l2(L2_REG)\n",
    "    )\n",
    "    dropout_layer_2 = tf.keras.layers.Dropout(DO2)\n",
    "    dense_layer_3 = tf.keras.layers.Dense(\n",
    "        50, activation=\"relu\", kernel_regularizer=tf.keras.regularizers.l2(L2_REG)\n",
    "    )\n",
    "    dropout_layer_3 = tf.keras.layers.Dropout(DO3)\n",
    "    prediction_layer = tf.keras.layers.Dense(N_LABELS, activation=\"sigmoid\")\n",
    "\n",
    "    model = tf.keras.models.Sequential(\n",
    "        [\n",
    "            base_model,\n",
    "            flattening_layer,\n",
    "            dense_layer_1,\n",
    "            dropout_layer_1,\n",
    "            dense_layer_2,\n",
    "            dropout_layer_2,\n",
    "            dense_layer_3,\n",
    "            dropout_layer_3,\n",
    "            prediction_layer,\n",
    "        ]\n",
    "    )\n",
    "\n",
    "    opt = tf.keras.optimizers.Adam(learning_rate=LR)\n",
    "\n",
    "    model.compile(\n",
    "        optimizer=opt,\n",
    "        loss=macro_soft_f1,\n",
    "        metrics=[macro_f1],\n",
    "    )\n",
    "\n",
    "    return model"
   ]
  },
  {
   "cell_type": "code",
   "execution_count": 54,
   "id": "fe33c255-b992-4ef9-a3b0-6afcb8270d2d",
   "metadata": {
    "colab": {
     "base_uri": "https://localhost:8080/"
    },
    "execution": {
     "iopub.execute_input": "2023-03-02T12:15:35.853074Z",
     "iopub.status.busy": "2023-03-02T12:15:35.852964Z",
     "iopub.status.idle": "2023-03-02T12:15:36.191161Z",
     "shell.execute_reply": "2023-03-02T12:15:36.190567Z",
     "shell.execute_reply.started": "2023-03-02T12:15:35.853064Z"
    },
    "id": "fe33c255-b992-4ef9-a3b0-6afcb8270d2d",
    "outputId": "8d64f9d1-4c5e-49b0-d871-f3fb1304ab9f",
    "tags": []
   },
   "outputs": [
    {
     "name": "stdout",
     "output_type": "stream",
     "text": [
      "Model: \"sequential_2\"\n",
      "_________________________________________________________________\n",
      " Layer (type)                Output Shape              Param #   \n",
      "=================================================================\n",
      " vgg16 (Functional)          (None, 7, 7, 512)         14714688  \n",
      "                                                                 \n",
      " flatten_2 (Flatten)         (None, 25088)             0         \n",
      "                                                                 \n",
      " dense_7 (Dense)             (None, 250)               6272250   \n",
      "                                                                 \n",
      " dropout_5 (Dropout)         (None, 250)               0         \n",
      "                                                                 \n",
      " dense_8 (Dense)             (None, 100)               25100     \n",
      "                                                                 \n",
      " dropout_6 (Dropout)         (None, 100)               0         \n",
      "                                                                 \n",
      " dense_9 (Dense)             (None, 50)                5050      \n",
      "                                                                 \n",
      " dropout_7 (Dropout)         (None, 50)                0         \n",
      "                                                                 \n",
      " dense_10 (Dense)            (None, 7)                 357       \n",
      "                                                                 \n",
      "=================================================================\n",
      "Total params: 21,017,445\n",
      "Trainable params: 6,302,757\n",
      "Non-trainable params: 14,714,688\n",
      "_________________________________________________________________\n"
     ]
    }
   ],
   "source": [
    "test_model = create_compiled_custom_model()\n",
    "test_model.summary()"
   ]
  },
  {
   "cell_type": "code",
   "execution_count": 57,
   "id": "99c149ba-9453-45a4-8d0d-e85e979f2970",
   "metadata": {
    "execution": {
     "iopub.execute_input": "2023-03-02T12:16:59.792632Z",
     "iopub.status.busy": "2023-03-02T12:16:59.792163Z",
     "iopub.status.idle": "2023-03-02T12:16:59.808407Z",
     "shell.execute_reply": "2023-03-02T12:16:59.806933Z",
     "shell.execute_reply.started": "2023-03-02T12:16:59.792599Z"
    },
    "tags": []
   },
   "outputs": [
    {
     "data": {
      "text/plain": [
       "'test_model_vgg16_bs64_lr1e-05_do0.4-0.2-0.1_l2-0.0001(Mac).h5'"
      ]
     },
     "execution_count": 57,
     "metadata": {},
     "output_type": "execute_result"
    }
   ],
   "source": [
    "filename = (\n",
    "    f\"test_model_vgg16_bs{BATCH_SIZE}_lr{LR}_do{DO1}-{DO2}-{DO3}_l2-{L2_REG}(Mac).h5\"\n",
    ")\n",
    "filename"
   ]
  },
  {
   "cell_type": "code",
   "execution_count": 58,
   "id": "97cfc223-e395-4018-a44f-5055982e471e",
   "metadata": {
    "colab": {
     "base_uri": "https://localhost:8080/"
    },
    "execution": {
     "iopub.execute_input": "2023-03-02T12:16:59.811194Z",
     "iopub.status.busy": "2023-03-02T12:16:59.811012Z",
     "iopub.status.idle": "2023-03-02T16:33:55.257896Z",
     "shell.execute_reply": "2023-03-02T16:33:55.257394Z",
     "shell.execute_reply.started": "2023-03-02T12:16:59.811179Z"
    },
    "id": "97cfc223-e395-4018-a44f-5055982e471e",
    "outputId": "6a3671e0-1a41-4be1-a308-d16e9cc6fa88",
    "tags": []
   },
   "outputs": [
    {
     "name": "stdout",
     "output_type": "stream",
     "text": [
      "Epoch 1/100\n",
      "80/80 [==============================] - ETA: 0s - loss: 0.7147 - macro_f1: 0.3554\n",
      "Epoch 1: saving model to model.001.h5\n",
      "80/80 [==============================] - 404s 5s/step - loss: 0.7147 - macro_f1: 0.3554 - val_loss: 0.6569 - val_macro_f1: 0.4155\n",
      "Epoch 2/100\n",
      "80/80 [==============================] - ETA: 0s - loss: 0.6719 - macro_f1: 0.3982\n",
      "Epoch 2: saving model to model.002.h5\n",
      "80/80 [==============================] - 399s 5s/step - loss: 0.6719 - macro_f1: 0.3982 - val_loss: 0.6384 - val_macro_f1: 0.4340\n",
      "Epoch 3/100\n",
      "80/80 [==============================] - ETA: 0s - loss: 0.6535 - macro_f1: 0.4178\n",
      "Epoch 3: saving model to model.003.h5\n",
      "80/80 [==============================] - 391s 5s/step - loss: 0.6535 - macro_f1: 0.4178 - val_loss: 0.6187 - val_macro_f1: 0.4532\n",
      "Epoch 4/100\n",
      "80/80 [==============================] - ETA: 0s - loss: 0.6362 - macro_f1: 0.4347\n",
      "Epoch 4: saving model to model.004.h5\n",
      "80/80 [==============================] - 395s 5s/step - loss: 0.6362 - macro_f1: 0.4347 - val_loss: 0.6078 - val_macro_f1: 0.4629\n",
      "Epoch 5/100\n",
      "80/80 [==============================] - ETA: 0s - loss: 0.6266 - macro_f1: 0.4434\n",
      "Epoch 5: saving model to model.005.h5\n",
      "80/80 [==============================] - 397s 5s/step - loss: 0.6266 - macro_f1: 0.4434 - val_loss: 0.6064 - val_macro_f1: 0.4637\n",
      "Epoch 6/100\n",
      "80/80 [==============================] - ETA: 0s - loss: 0.6202 - macro_f1: 0.4500\n",
      "Epoch 6: saving model to model.006.h5\n",
      "80/80 [==============================] - 396s 5s/step - loss: 0.6202 - macro_f1: 0.4500 - val_loss: 0.6035 - val_macro_f1: 0.4651\n",
      "Epoch 7/100\n",
      "80/80 [==============================] - ETA: 0s - loss: 0.6162 - macro_f1: 0.4537\n",
      "Epoch 7: saving model to model.007.h5\n",
      "80/80 [==============================] - 400s 5s/step - loss: 0.6162 - macro_f1: 0.4537 - val_loss: 0.5997 - val_macro_f1: 0.4695\n",
      "Epoch 8/100\n",
      "80/80 [==============================] - ETA: 0s - loss: 0.6100 - macro_f1: 0.4597\n",
      "Epoch 8: saving model to model.008.h5\n",
      "80/80 [==============================] - 370s 5s/step - loss: 0.6100 - macro_f1: 0.4597 - val_loss: 0.5941 - val_macro_f1: 0.4748\n",
      "Epoch 9/100\n",
      "80/80 [==============================] - ETA: 0s - loss: 0.6039 - macro_f1: 0.4658\n",
      "Epoch 9: saving model to model.009.h5\n",
      "80/80 [==============================] - 367s 5s/step - loss: 0.6039 - macro_f1: 0.4658 - val_loss: 0.5904 - val_macro_f1: 0.4789\n",
      "Epoch 10/100\n",
      "80/80 [==============================] - ETA: 0s - loss: 0.6018 - macro_f1: 0.4673\n",
      "Epoch 10: saving model to model.010.h5\n",
      "80/80 [==============================] - 366s 5s/step - loss: 0.6018 - macro_f1: 0.4673 - val_loss: 0.5876 - val_macro_f1: 0.4813\n",
      "Epoch 11/100\n",
      "80/80 [==============================] - ETA: 0s - loss: 0.5981 - macro_f1: 0.4704\n",
      "Epoch 11: saving model to model.011.h5\n",
      "80/80 [==============================] - 366s 5s/step - loss: 0.5981 - macro_f1: 0.4704 - val_loss: 0.5819 - val_macro_f1: 0.4880\n",
      "Epoch 12/100\n",
      "80/80 [==============================] - ETA: 0s - loss: 0.5956 - macro_f1: 0.4735\n",
      "Epoch 12: saving model to model.012.h5\n",
      "80/80 [==============================] - 362s 5s/step - loss: 0.5956 - macro_f1: 0.4735 - val_loss: 0.5809 - val_macro_f1: 0.4889\n",
      "Epoch 13/100\n",
      "80/80 [==============================] - ETA: 0s - loss: 0.5903 - macro_f1: 0.4775\n",
      "Epoch 13: saving model to model.013.h5\n",
      "80/80 [==============================] - 362s 5s/step - loss: 0.5903 - macro_f1: 0.4775 - val_loss: 0.5767 - val_macro_f1: 0.4925\n",
      "Epoch 14/100\n",
      "80/80 [==============================] - ETA: 0s - loss: 0.5881 - macro_f1: 0.4807\n",
      "Epoch 14: saving model to model.014.h5\n",
      "80/80 [==============================] - 371s 5s/step - loss: 0.5881 - macro_f1: 0.4807 - val_loss: 0.5720 - val_macro_f1: 0.4959\n",
      "Epoch 15/100\n",
      "80/80 [==============================] - ETA: 0s - loss: 0.5832 - macro_f1: 0.4852\n",
      "Epoch 15: saving model to model.015.h5\n",
      "80/80 [==============================] - 360s 5s/step - loss: 0.5832 - macro_f1: 0.4852 - val_loss: 0.5722 - val_macro_f1: 0.4960\n",
      "Epoch 16/100\n",
      "80/80 [==============================] - ETA: 0s - loss: 0.5776 - macro_f1: 0.4914\n",
      "Epoch 16: saving model to model.016.h5\n",
      "80/80 [==============================] - 360s 5s/step - loss: 0.5776 - macro_f1: 0.4914 - val_loss: 0.5662 - val_macro_f1: 0.5025\n",
      "Epoch 17/100\n",
      "80/80 [==============================] - ETA: 0s - loss: 0.5794 - macro_f1: 0.4887\n",
      "Epoch 17: saving model to model.017.h5\n",
      "80/80 [==============================] - 358s 4s/step - loss: 0.5794 - macro_f1: 0.4887 - val_loss: 0.5637 - val_macro_f1: 0.5041\n",
      "Epoch 18/100\n",
      "80/80 [==============================] - ETA: 0s - loss: 0.5725 - macro_f1: 0.4958\n",
      "Epoch 18: saving model to model.018.h5\n",
      "80/80 [==============================] - 360s 5s/step - loss: 0.5725 - macro_f1: 0.4958 - val_loss: 0.5606 - val_macro_f1: 0.5058\n",
      "Epoch 19/100\n",
      "80/80 [==============================] - ETA: 0s - loss: 0.5654 - macro_f1: 0.5040\n",
      "Epoch 19: saving model to model.019.h5\n",
      "80/80 [==============================] - 358s 4s/step - loss: 0.5654 - macro_f1: 0.5040 - val_loss: 0.5588 - val_macro_f1: 0.5108\n",
      "Epoch 20/100\n",
      "80/80 [==============================] - ETA: 0s - loss: 0.5636 - macro_f1: 0.5049\n",
      "Epoch 20: saving model to model.020.h5\n",
      "80/80 [==============================] - 359s 4s/step - loss: 0.5636 - macro_f1: 0.5049 - val_loss: 0.5578 - val_macro_f1: 0.5093\n",
      "Epoch 21/100\n",
      "80/80 [==============================] - ETA: 0s - loss: 0.5578 - macro_f1: 0.5096\n",
      "Epoch 21: saving model to model.021.h5\n",
      "80/80 [==============================] - 359s 5s/step - loss: 0.5578 - macro_f1: 0.5096 - val_loss: 0.5535 - val_macro_f1: 0.5141\n",
      "Epoch 22/100\n",
      "80/80 [==============================] - ETA: 0s - loss: 0.5569 - macro_f1: 0.5110\n",
      "Epoch 22: saving model to model.022.h5\n",
      "80/80 [==============================] - 358s 4s/step - loss: 0.5569 - macro_f1: 0.5110 - val_loss: 0.5532 - val_macro_f1: 0.5141\n",
      "Epoch 23/100\n",
      "80/80 [==============================] - ETA: 0s - loss: 0.5549 - macro_f1: 0.5134\n",
      "Epoch 23: saving model to model.023.h5\n",
      "80/80 [==============================] - 358s 4s/step - loss: 0.5549 - macro_f1: 0.5134 - val_loss: 0.5553 - val_macro_f1: 0.5109\n",
      "Epoch 24/100\n",
      "80/80 [==============================] - ETA: 0s - loss: 0.5494 - macro_f1: 0.5188\n",
      "Epoch 24: saving model to model.024.h5\n",
      "80/80 [==============================] - 358s 4s/step - loss: 0.5494 - macro_f1: 0.5188 - val_loss: 0.5517 - val_macro_f1: 0.5151\n",
      "Epoch 25/100\n",
      "80/80 [==============================] - ETA: 0s - loss: 0.5432 - macro_f1: 0.5267\n",
      "Epoch 25: saving model to model.025.h5\n",
      "80/80 [==============================] - 358s 4s/step - loss: 0.5432 - macro_f1: 0.5267 - val_loss: 0.5466 - val_macro_f1: 0.5201\n",
      "Epoch 26/100\n",
      "80/80 [==============================] - ETA: 0s - loss: 0.5427 - macro_f1: 0.5250\n",
      "Epoch 26: saving model to model.026.h5\n",
      "80/80 [==============================] - 358s 4s/step - loss: 0.5427 - macro_f1: 0.5250 - val_loss: 0.5488 - val_macro_f1: 0.5182\n",
      "Epoch 27/100\n",
      "80/80 [==============================] - ETA: 0s - loss: 0.5346 - macro_f1: 0.5352\n",
      "Epoch 27: saving model to model.027.h5\n",
      "80/80 [==============================] - 358s 4s/step - loss: 0.5346 - macro_f1: 0.5352 - val_loss: 0.5477 - val_macro_f1: 0.5187\n",
      "Epoch 28/100\n",
      "80/80 [==============================] - ETA: 0s - loss: 0.5291 - macro_f1: 0.5413\n",
      "Epoch 28: saving model to model.028.h5\n",
      "80/80 [==============================] - 363s 5s/step - loss: 0.5291 - macro_f1: 0.5413 - val_loss: 0.5458 - val_macro_f1: 0.5228\n",
      "Epoch 29/100\n",
      "80/80 [==============================] - ETA: 0s - loss: 0.5327 - macro_f1: 0.5371\n",
      "Epoch 29: saving model to model.029.h5\n",
      "80/80 [==============================] - 361s 5s/step - loss: 0.5327 - macro_f1: 0.5371 - val_loss: 0.5412 - val_macro_f1: 0.5270\n",
      "Epoch 30/100\n",
      "80/80 [==============================] - ETA: 0s - loss: 0.5293 - macro_f1: 0.5391\n",
      "Epoch 30: saving model to model.030.h5\n",
      "80/80 [==============================] - 366s 5s/step - loss: 0.5293 - macro_f1: 0.5391 - val_loss: 0.5412 - val_macro_f1: 0.5270\n",
      "Epoch 31/100\n",
      "80/80 [==============================] - ETA: 0s - loss: 0.5263 - macro_f1: 0.5428\n",
      "Epoch 31: saving model to model.031.h5\n",
      "80/80 [==============================] - 363s 5s/step - loss: 0.5263 - macro_f1: 0.5428 - val_loss: 0.5399 - val_macro_f1: 0.5270\n",
      "Epoch 32/100\n",
      "80/80 [==============================] - ETA: 0s - loss: 0.5216 - macro_f1: 0.5482\n",
      "Epoch 32: saving model to model.032.h5\n",
      "80/80 [==============================] - 361s 5s/step - loss: 0.5216 - macro_f1: 0.5482 - val_loss: 0.5407 - val_macro_f1: 0.5276\n",
      "Epoch 33/100\n",
      "80/80 [==============================] - ETA: 0s - loss: 0.5193 - macro_f1: 0.5502\n",
      "Epoch 33: saving model to model.033.h5\n",
      "80/80 [==============================] - 358s 4s/step - loss: 0.5193 - macro_f1: 0.5502 - val_loss: 0.5360 - val_macro_f1: 0.5321\n",
      "Epoch 34/100\n",
      "80/80 [==============================] - ETA: 0s - loss: 0.5158 - macro_f1: 0.5530\n",
      "Epoch 34: saving model to model.034.h5\n",
      "80/80 [==============================] - 359s 4s/step - loss: 0.5158 - macro_f1: 0.5530 - val_loss: 0.5367 - val_macro_f1: 0.5341\n",
      "Epoch 35/100\n",
      "80/80 [==============================] - ETA: 0s - loss: 0.5152 - macro_f1: 0.5541\n",
      "Epoch 35: saving model to model.035.h5\n",
      "80/80 [==============================] - 358s 4s/step - loss: 0.5152 - macro_f1: 0.5541 - val_loss: 0.5339 - val_macro_f1: 0.5344\n",
      "Epoch 36/100\n",
      "80/80 [==============================] - ETA: 0s - loss: 0.5080 - macro_f1: 0.5613\n",
      "Epoch 36: saving model to model.036.h5\n",
      "80/80 [==============================] - 358s 4s/step - loss: 0.5080 - macro_f1: 0.5613 - val_loss: 0.5320 - val_macro_f1: 0.5371\n",
      "Epoch 37/100\n",
      "80/80 [==============================] - ETA: 0s - loss: 0.5064 - macro_f1: 0.5633\n",
      "Epoch 37: saving model to model.037.h5\n",
      "80/80 [==============================] - 358s 4s/step - loss: 0.5064 - macro_f1: 0.5633 - val_loss: 0.5319 - val_macro_f1: 0.5374\n",
      "Epoch 38/100\n",
      "80/80 [==============================] - ETA: 0s - loss: 0.5042 - macro_f1: 0.5646\n",
      "Epoch 38: saving model to model.038.h5\n",
      "80/80 [==============================] - 361s 5s/step - loss: 0.5042 - macro_f1: 0.5646 - val_loss: 0.5323 - val_macro_f1: 0.5368\n",
      "Epoch 39/100\n",
      "80/80 [==============================] - ETA: 0s - loss: 0.5012 - macro_f1: 0.5689\n",
      "Epoch 39: saving model to model.039.h5\n",
      "80/80 [==============================] - 361s 5s/step - loss: 0.5012 - macro_f1: 0.5689 - val_loss: 0.5401 - val_macro_f1: 0.5258\n",
      "Epoch 40/100\n",
      "80/80 [==============================] - ETA: 0s - loss: 0.4941 - macro_f1: 0.5757\n",
      "Epoch 40: saving model to model.040.h5\n",
      "80/80 [==============================] - 362s 5s/step - loss: 0.4941 - macro_f1: 0.5757 - val_loss: 0.5336 - val_macro_f1: 0.5343\n",
      "Epoch 41/100\n",
      "80/80 [==============================] - ETA: 0s - loss: 0.4939 - macro_f1: 0.5774\n",
      "Epoch 41: saving model to model.041.h5\n",
      "80/80 [==============================] - 360s 5s/step - loss: 0.4939 - macro_f1: 0.5774 - val_loss: 0.5323 - val_macro_f1: 0.5376\n",
      "Epoch 42/100\n",
      "80/80 [==============================] - ETA: 0s - loss: 0.4895 - macro_f1: 0.5817Restoring model weights from the end of the best epoch: 37.\n",
      "\n",
      "Epoch 42: saving model to model.042.h5\n",
      "80/80 [==============================] - 358s 4s/step - loss: 0.4895 - macro_f1: 0.5817 - val_loss: 0.5325 - val_macro_f1: 0.5360\n",
      "Epoch 42: early stopping\n"
     ]
    }
   ],
   "source": [
    "checkpoint = tf.keras.callbacks.ModelCheckpoint(\n",
    "    filepath=\"model.{epoch:03d}.h5\",\n",
    "    monitor=\"val_macro_f1\",\n",
    "    verbose=1,\n",
    "    save_best_only=False,\n",
    "    save_weights_only=False,\n",
    "    mode=\"auto\",\n",
    "    save_freq=\"epoch\",\n",
    ")\n",
    "\n",
    "es = tf.keras.callbacks.EarlyStopping(\n",
    "    # monitor=\"val_macro_f1\", mode=\"max\", patience=5, verbose=1, restore_best_weights=True\n",
    "    monitor=\"val_loss\",\n",
    "    mode=\"min\",\n",
    "    patience=5,\n",
    "    verbose=1,\n",
    "    restore_best_weights=True,\n",
    ")\n",
    "history = test_model.fit(\n",
    "    train_ds,\n",
    "    epochs=EPOCHS,\n",
    "    validation_data=val_ds,\n",
    "    verbose=1,\n",
    "    callbacks=[es, checkpoint],\n",
    ")"
   ]
  },
  {
   "cell_type": "code",
   "execution_count": 59,
   "id": "UxftrAHT9Syd",
   "metadata": {
    "execution": {
     "iopub.execute_input": "2023-03-02T16:33:55.258944Z",
     "iopub.status.busy": "2023-03-02T16:33:55.258818Z",
     "iopub.status.idle": "2023-03-02T16:33:55.266043Z",
     "shell.execute_reply": "2023-03-02T16:33:55.265661Z",
     "shell.execute_reply.started": "2023-03-02T16:33:55.258928Z"
    },
    "id": "UxftrAHT9Syd",
    "tags": []
   },
   "outputs": [],
   "source": [
    "def plot_history(history):\n",
    "    fig, ax = plt.subplots(1, 2, figsize=(20, 7))\n",
    "    # --- LOSS: Soft Macro F1 ---\n",
    "    ax[0].plot(history.history[\"loss\"])\n",
    "    ax[0].plot(history.history[\"val_loss\"])\n",
    "    ax[0].set_title(\"Loss\")\n",
    "    ax[0].set_ylabel(\"Soft Macro F1\")\n",
    "    ax[0].set_xlabel(\"Epoch\")\n",
    "    ax[0].legend([\"Train\", \"Validation\"], loc=\"best\")\n",
    "    ax[0].grid(axis=\"x\", linewidth=0.5)\n",
    "    ax[0].grid(axis=\"y\", linewidth=0.5)\n",
    "\n",
    "    # --- METRICS: Macro F1 ---\n",
    "\n",
    "    ax[1].plot(history.history[\"macro_f1\"])\n",
    "    ax[1].plot(history.history[\"val_macro_f1\"])\n",
    "    ax[1].set_title(\"Metric\")\n",
    "    ax[1].set_ylabel(\"Macro F1\")\n",
    "    ax[1].set_xlabel(\"Epoch\")\n",
    "    ax[1].legend([\"Train\", \"Validation\"], loc=\"best\")\n",
    "    ax[1].grid(axis=\"x\", linewidth=0.5)\n",
    "    ax[1].grid(axis=\"y\", linewidth=0.5)\n",
    "\n",
    "    return ax"
   ]
  },
  {
   "cell_type": "code",
   "execution_count": 60,
   "id": "7FLpbinD9U3R",
   "metadata": {
    "colab": {
     "base_uri": "https://localhost:8080/",
     "height": 458
    },
    "execution": {
     "iopub.execute_input": "2023-03-02T16:33:55.267620Z",
     "iopub.status.busy": "2023-03-02T16:33:55.267469Z",
     "iopub.status.idle": "2023-03-02T16:33:55.476721Z",
     "shell.execute_reply": "2023-03-02T16:33:55.476224Z",
     "shell.execute_reply.started": "2023-03-02T16:33:55.267602Z"
    },
    "id": "7FLpbinD9U3R",
    "outputId": "0b4e03dd-cc29-4216-ad02-d290fd8ce97a",
    "tags": []
   },
   "outputs": [
    {
     "data": {
      "image/png": "[encoded data removed]",
      "text/plain": [
       "<Figure size 2000x700 with 2 Axes>"
      ]
     },
     "metadata": {},
     "output_type": "display_data"
    }
   ],
   "source": [
    "plot_history(history);"
   ]
  },
  {
   "cell_type": "code",
   "execution_count": 61,
   "id": "ed1c0d4c-4e1f-40de-b1ff-1b40033fe09b",
   "metadata": {
    "colab": {
     "base_uri": "https://localhost:8080/"
    },
    "execution": {
     "iopub.execute_input": "2023-03-02T16:33:55.477559Z",
     "iopub.status.busy": "2023-03-02T16:33:55.477287Z",
     "iopub.status.idle": "2023-03-02T16:34:31.363836Z",
     "shell.execute_reply": "2023-03-02T16:34:31.363501Z",
     "shell.execute_reply.started": "2023-03-02T16:33:55.477546Z"
    },
    "id": "ed1c0d4c-4e1f-40de-b1ff-1b40033fe09b",
    "outputId": "bf737315-fd4c-4d21-9b1d-2100323888a7",
    "tags": []
   },
   "outputs": [
    {
     "name": "stdout",
     "output_type": "stream",
     "text": [
      "10/10 [==============================] - 36s 4s/step - loss: 0.6778 - macro_f1: 0.3888\n"
     ]
    },
    {
     "data": {
      "text/plain": [
       "{'loss': 0.677844762802124, 'macro_f1': 0.38875555992126465}"
      ]
     },
     "execution_count": 61,
     "metadata": {},
     "output_type": "execute_result"
    }
   ],
   "source": [
    "res = test_model.evaluate(test_ds, return_dict=True)\n",
    "res"
   ]
  },
  {
   "cell_type": "code",
   "execution_count": 62,
   "id": "43a5529f-3e17-4f30-a0ef-e29903bfd9ac",
   "metadata": {
    "execution": {
     "iopub.execute_input": "2023-03-02T16:34:31.364464Z",
     "iopub.status.busy": "2023-03-02T16:34:31.364363Z",
     "iopub.status.idle": "2023-03-02T16:34:31.431324Z",
     "shell.execute_reply": "2023-03-02T16:34:31.430798Z",
     "shell.execute_reply.started": "2023-03-02T16:34:31.364455Z"
    },
    "tags": []
   },
   "outputs": [],
   "source": [
    "# import pickle\n",
    "\n",
    "test_model.save(filename)\n",
    "# pickle.dump(test_model, open(filename, \"wb\"))"
   ]
  },
  {
   "cell_type": "code",
   "execution_count": 63,
   "id": "2f95148d-c3d9-405b-bd79-705b6bf1cd04",
   "metadata": {
    "execution": {
     "iopub.execute_input": "2023-03-02T16:34:31.431907Z",
     "iopub.status.busy": "2023-03-02T16:34:31.431815Z",
     "iopub.status.idle": "2023-03-02T16:34:31.678881Z",
     "shell.execute_reply": "2023-03-02T16:34:31.678555Z",
     "shell.execute_reply.started": "2023-03-02T16:34:31.431897Z"
    },
    "tags": []
   },
   "outputs": [],
   "source": [
    "# loaded_model = pickle.load(open(filename, \"rb\"))\n",
    "loaded_model = tf.keras.models.load_model(\n",
    "    filename,\n",
    "    custom_objects={\"macro_f1\": macro_f1, \"macro_soft_f1\": macro_soft_f1},\n",
    ")"
   ]
  },
  {
   "cell_type": "code",
   "execution_count": 64,
   "id": "932ac7dd-75b1-4ddf-9598-46d08c3e9797",
   "metadata": {
    "execution": {
     "iopub.execute_input": "2023-03-02T16:34:31.679436Z",
     "iopub.status.busy": "2023-03-02T16:34:31.679337Z",
     "iopub.status.idle": "2023-03-02T16:35:07.611094Z",
     "shell.execute_reply": "2023-03-02T16:35:07.610794Z",
     "shell.execute_reply.started": "2023-03-02T16:34:31.679426Z"
    },
    "tags": []
   },
   "outputs": [
    {
     "name": "stdout",
     "output_type": "stream",
     "text": [
      "2/2 [==============================] - 4s 2s/step\n",
      "2/2 [==============================] - 4s 2s/step\n",
      "2/2 [==============================] - 4s 2s/step\n",
      "2/2 [==============================] - 4s 2s/step\n",
      "2/2 [==============================] - 4s 2s/step\n",
      "2/2 [==============================] - 4s 2s/step\n",
      "2/2 [==============================] - 4s 2s/step\n",
      "2/2 [==============================] - 4s 2s/step\n",
      "2/2 [==============================] - 4s 2s/step\n",
      "2/2 [==============================] - 3s 1s/step\n"
     ]
    }
   ],
   "source": [
    "y_pred = []  # store predicted labels\n",
    "y_true = []  # store true labels\n",
    "\n",
    "# iterate over the dataset\n",
    "for image_batch, label_batch in test_ds:  # use dataset.unbatch() with repeat\n",
    "    # append true labels\n",
    "    y_true.append(label_batch)\n",
    "    # compute predictions\n",
    "    preds = test_model.predict(image_batch)\n",
    "    # append predicted labels\n",
    "    #    y_pred.append(preds)\n",
    "    #    y_pred.append((preds > 0.5))\n",
    "    y_pred.append((preds > 0.5) * 1)\n",
    "\n",
    "# convert the true and predicted labels into tensors\n",
    "correct_labels = tf.concat([item for item in y_true], axis=0)\n",
    "predicted_labels = tf.concat([item for item in y_pred], axis=0)"
   ]
  },
  {
   "cell_type": "code",
   "execution_count": 65,
   "id": "1c83a007-ca9c-44b2-95ad-007313f8a642",
   "metadata": {
    "execution": {
     "iopub.execute_input": "2023-03-02T16:35:07.611593Z",
     "iopub.status.busy": "2023-03-02T16:35:07.611510Z",
     "iopub.status.idle": "2023-03-02T16:35:07.613990Z",
     "shell.execute_reply": "2023-03-02T16:35:07.613569Z",
     "shell.execute_reply.started": "2023-03-02T16:35:07.611584Z"
    }
   },
   "outputs": [],
   "source": [
    "from sklearn.metrics import classification_report\n",
    "\n",
    "labels_array = np.array(label_names)\n",
    "y_true = correct_labels\n",
    "y_pred = predicted_labels"
   ]
  },
  {
   "cell_type": "code",
   "execution_count": 66,
   "id": "45918d24-4eb1-48bd-95c8-1f05bc2f2eec",
   "metadata": {
    "execution": {
     "iopub.execute_input": "2023-03-02T16:35:07.616047Z",
     "iopub.status.busy": "2023-03-02T16:35:07.615922Z",
     "iopub.status.idle": "2023-03-02T16:35:07.625521Z",
     "shell.execute_reply": "2023-03-02T16:35:07.625131Z",
     "shell.execute_reply.started": "2023-03-02T16:35:07.616037Z"
    },
    "tags": []
   },
   "outputs": [
    {
     "name": "stdout",
     "output_type": "stream",
     "text": [
      "                          precision    recall  f1-score   support\n",
      "\n",
      "      label_cardiomegaly       0.35      0.12      0.18       154\n",
      "          label_effusion       0.28      0.95      0.43       172\n",
      "      label_pneumothorax       0.56      0.41      0.47       143\n",
      "label_pleural_thickening       0.41      0.34      0.37       149\n",
      "         label_pneumonia       0.19      0.57      0.29       143\n",
      "     label_consolidation       0.23      1.00      0.37       146\n",
      "             label_other       0.56      1.00      0.71       352\n",
      "\n",
      "               micro avg       0.34      0.69      0.46      1259\n",
      "               macro avg       0.37      0.63      0.41      1259\n",
      "            weighted avg       0.40      0.69      0.45      1259\n",
      "             samples avg       0.34      0.66      0.43      1259\n",
      "\n"
     ]
    }
   ],
   "source": [
    "print(classification_report(y_true, y_pred, target_names=label_names))"
   ]
  }
 ],
 "metadata": {
  "accelerator": "GPU",
  "colab": {
   "provenance": []
  },
  "gpuClass": "standard",
  "kernelspec": {
   "display_name": "Python 3 (ipykernel)",
   "language": "python",
   "name": "python3"
  },
  "language_info": {
   "codemirror_mode": {
    "name": "ipython",
    "version": 3
   },
   "file_extension": ".py",
   "mimetype": "text/x-python",
   "name": "python",
   "nbconvert_exporter": "python",
   "pygments_lexer": "ipython3",
   "version": "3.10.6"
  }
 },
 "nbformat": 4,
 "nbformat_minor": 5
}
