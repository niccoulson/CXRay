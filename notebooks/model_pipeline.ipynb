{
 "cells": [
  {
   "cell_type": "code",
   "execution_count": 1,
   "id": "pGXHVtqxYW8X",
   "metadata": {
    "colab": {
     "base_uri": "https://localhost:8080/"
    },
    "execution": {
     "iopub.execute_input": "2023-02-24T22:38:50.736397Z",
     "iopub.status.busy": "2023-02-24T22:38:50.736025Z",
     "iopub.status.idle": "2023-02-24T22:38:50.741274Z",
     "shell.execute_reply": "2023-02-24T22:38:50.740603Z",
     "shell.execute_reply.started": "2023-02-24T22:38:50.736363Z"
    },
    "id": "pGXHVtqxYW8X",
    "outputId": "584d6b5a-d040-4e71-f79a-469012868479"
   },
   "outputs": [],
   "source": [
    "# # For Google Colab\n",
    "# # Mount GDrive\n",
    "# from google.colab import drive\n",
    "\n",
    "# drive.mount(\"/content/drive\")"
   ]
  },
  {
   "cell_type": "code",
   "execution_count": 2,
   "id": "BvwZuVysYaIm",
   "metadata": {
    "execution": {
     "iopub.execute_input": "2023-02-24T22:38:50.742233Z",
     "iopub.status.busy": "2023-02-24T22:38:50.742062Z",
     "iopub.status.idle": "2023-02-24T22:38:50.744968Z",
     "shell.execute_reply": "2023-02-24T22:38:50.744537Z",
     "shell.execute_reply.started": "2023-02-24T22:38:50.742218Z"
    },
    "id": "BvwZuVysYaIm",
    "tags": []
   },
   "outputs": [],
   "source": [
    "# # For Google Colab\n",
    "# # Put Colab in the context of this challenge\n",
    "# import os\n",
    "\n",
    "# # os.chdir allows you to change directories, like cd in the Terminal\n",
    "# os.chdir(\"/content/drive/MyDrive/Colab Notebooks/CXRay/notebooks\")"
   ]
  },
  {
   "cell_type": "markdown",
   "id": "8504600a-f546-4258-92e7-61283f3f68f2",
   "metadata": {
    "id": "8504600a-f546-4258-92e7-61283f3f68f2"
   },
   "source": [
    "# Data Pre-Processing"
   ]
  },
  {
   "cell_type": "code",
   "execution_count": 23,
   "id": "5c07d8f8-e079-4e45-9b1a-05c75a56bd25",
   "metadata": {
    "execution": {
     "iopub.execute_input": "2023-02-24T22:38:50.745698Z",
     "iopub.status.busy": "2023-02-24T22:38:50.745557Z",
     "iopub.status.idle": "2023-02-24T22:38:51.206040Z",
     "shell.execute_reply": "2023-02-24T22:38:51.205702Z",
     "shell.execute_reply.started": "2023-02-24T22:38:50.745684Z"
    },
    "id": "5c07d8f8-e079-4e45-9b1a-05c75a56bd25"
   },
   "outputs": [],
   "source": [
    "import os\n",
    "import pathlib\n",
    "\n",
    "import pandas as pd"
   ]
  },
  {
   "cell_type": "code",
   "execution_count": 24,
   "id": "7d1f0e05-7f0a-423b-8e60-d43afe9d30b1",
   "metadata": {
    "colab": {
     "base_uri": "https://localhost:8080/",
     "height": 270
    },
    "execution": {
     "iopub.execute_input": "2023-02-24T22:38:51.207577Z",
     "iopub.status.busy": "2023-02-24T22:38:51.207441Z",
     "iopub.status.idle": "2023-02-24T22:38:51.295151Z",
     "shell.execute_reply": "2023-02-24T22:38:51.294854Z",
     "shell.execute_reply.started": "2023-02-24T22:38:51.207568Z"
    },
    "id": "7d1f0e05-7f0a-423b-8e60-d43afe9d30b1",
    "outputId": "efab887e-a3e7-4884-8190-e58a314791c3"
   },
   "outputs": [
    {
     "data": {
      "text/html": [
       "<div>\n",
       "<style scoped>\n",
       "    .dataframe tbody tr th:only-of-type {\n",
       "        vertical-align: middle;\n",
       "    }\n",
       "\n",
       "    .dataframe tbody tr th {\n",
       "        vertical-align: top;\n",
       "    }\n",
       "\n",
       "    .dataframe thead th {\n",
       "        text-align: right;\n",
       "    }\n",
       "</style>\n",
       "<table border=\"1\" class=\"dataframe\">\n",
       "  <thead>\n",
       "    <tr style=\"text-align: right;\">\n",
       "      <th></th>\n",
       "      <th>img_idx</th>\n",
       "      <th>labels</th>\n",
       "      <th>age</th>\n",
       "      <th>gender</th>\n",
       "      <th>view_pos</th>\n",
       "      <th>label_cardiomegaly</th>\n",
       "      <th>label_effusion</th>\n",
       "      <th>label_no_finding</th>\n",
       "      <th>label_pneumothorax</th>\n",
       "      <th>label_pleural_thickening</th>\n",
       "      <th>label_pneumonia</th>\n",
       "      <th>label_consolidation</th>\n",
       "      <th>label_other</th>\n",
       "    </tr>\n",
       "  </thead>\n",
       "  <tbody>\n",
       "    <tr>\n",
       "      <th>0</th>\n",
       "      <td>00000001_000.png</td>\n",
       "      <td>Cardiomegaly</td>\n",
       "      <td>58</td>\n",
       "      <td>M</td>\n",
       "      <td>PA</td>\n",
       "      <td>True</td>\n",
       "      <td>False</td>\n",
       "      <td>False</td>\n",
       "      <td>False</td>\n",
       "      <td>False</td>\n",
       "      <td>False</td>\n",
       "      <td>False</td>\n",
       "      <td>False</td>\n",
       "    </tr>\n",
       "    <tr>\n",
       "      <th>1</th>\n",
       "      <td>00000001_001.png</td>\n",
       "      <td>Cardiomegaly|Emphysema</td>\n",
       "      <td>58</td>\n",
       "      <td>M</td>\n",
       "      <td>PA</td>\n",
       "      <td>True</td>\n",
       "      <td>False</td>\n",
       "      <td>False</td>\n",
       "      <td>False</td>\n",
       "      <td>False</td>\n",
       "      <td>False</td>\n",
       "      <td>False</td>\n",
       "      <td>True</td>\n",
       "    </tr>\n",
       "    <tr>\n",
       "      <th>2</th>\n",
       "      <td>00000001_002.png</td>\n",
       "      <td>Cardiomegaly|Effusion</td>\n",
       "      <td>58</td>\n",
       "      <td>M</td>\n",
       "      <td>PA</td>\n",
       "      <td>True</td>\n",
       "      <td>True</td>\n",
       "      <td>False</td>\n",
       "      <td>False</td>\n",
       "      <td>False</td>\n",
       "      <td>False</td>\n",
       "      <td>False</td>\n",
       "      <td>False</td>\n",
       "    </tr>\n",
       "    <tr>\n",
       "      <th>3</th>\n",
       "      <td>00000002_000.png</td>\n",
       "      <td>No Finding</td>\n",
       "      <td>81</td>\n",
       "      <td>M</td>\n",
       "      <td>PA</td>\n",
       "      <td>False</td>\n",
       "      <td>False</td>\n",
       "      <td>True</td>\n",
       "      <td>False</td>\n",
       "      <td>False</td>\n",
       "      <td>False</td>\n",
       "      <td>False</td>\n",
       "      <td>False</td>\n",
       "    </tr>\n",
       "    <tr>\n",
       "      <th>4</th>\n",
       "      <td>00000003_000.png</td>\n",
       "      <td>Hernia</td>\n",
       "      <td>81</td>\n",
       "      <td>F</td>\n",
       "      <td>PA</td>\n",
       "      <td>False</td>\n",
       "      <td>False</td>\n",
       "      <td>False</td>\n",
       "      <td>False</td>\n",
       "      <td>False</td>\n",
       "      <td>False</td>\n",
       "      <td>False</td>\n",
       "      <td>True</td>\n",
       "    </tr>\n",
       "  </tbody>\n",
       "</table>\n",
       "</div>"
      ],
      "text/plain": [
       "            img_idx                  labels  age gender view_pos  \\\n",
       "0  00000001_000.png            Cardiomegaly   58      M       PA   \n",
       "1  00000001_001.png  Cardiomegaly|Emphysema   58      M       PA   \n",
       "2  00000001_002.png   Cardiomegaly|Effusion   58      M       PA   \n",
       "3  00000002_000.png              No Finding   81      M       PA   \n",
       "4  00000003_000.png                  Hernia   81      F       PA   \n",
       "\n",
       "   label_cardiomegaly  label_effusion  label_no_finding  label_pneumothorax  \\\n",
       "0                True           False             False               False   \n",
       "1                True           False             False               False   \n",
       "2                True            True             False               False   \n",
       "3               False           False              True               False   \n",
       "4               False           False             False               False   \n",
       "\n",
       "   label_pleural_thickening  label_pneumonia  label_consolidation  label_other  \n",
       "0                     False            False                False        False  \n",
       "1                     False            False                False         True  \n",
       "2                     False            False                False        False  \n",
       "3                     False            False                False        False  \n",
       "4                     False            False                False         True  "
      ]
     },
     "execution_count": 24,
     "metadata": {},
     "output_type": "execute_result"
    }
   ],
   "source": [
    "cwd = os.getcwd()\n",
    "data_path = pathlib.Path(cwd, \"..\", \"clean_data\", \"cleaned_data.csv\")\n",
    "\n",
    "data = pd.read_csv(data_path)\n",
    "data.head()"
   ]
  },
  {
   "cell_type": "code",
   "execution_count": 25,
   "id": "254d3054-b153-4396-938e-3ad847c559c7",
   "metadata": {
    "execution": {
     "iopub.execute_input": "2023-02-24T22:38:51.295774Z",
     "iopub.status.busy": "2023-02-24T22:38:51.295639Z",
     "iopub.status.idle": "2023-02-24T22:38:51.301774Z",
     "shell.execute_reply": "2023-02-24T22:38:51.301488Z",
     "shell.execute_reply.started": "2023-02-24T22:38:51.295764Z"
    }
   },
   "outputs": [
    {
     "data": {
      "text/plain": [
       "(112104, 12)"
      ]
     },
     "execution_count": 25,
     "metadata": {},
     "output_type": "execute_result"
    }
   ],
   "source": [
    "# data = data.drop(columns=\"label_other\")\n",
    "data = data.drop(columns=\"label_no_finding\")\n",
    "data.shape"
   ]
  },
  {
   "cell_type": "code",
   "execution_count": 6,
   "id": "TXtUBirgqHri",
   "metadata": {
    "execution": {
     "iopub.execute_input": "2023-02-24T22:38:51.302266Z",
     "iopub.status.busy": "2023-02-24T22:38:51.302182Z",
     "iopub.status.idle": "2023-02-24T22:38:51.303993Z",
     "shell.execute_reply": "2023-02-24T22:38:51.303721Z",
     "shell.execute_reply.started": "2023-02-24T22:38:51.302257Z"
    },
    "id": "TXtUBirgqHri",
    "tags": []
   },
   "outputs": [],
   "source": [
    "# # For Google Colab\n",
    "# def is_uploaded(filename: str) -> bool:\n",
    "#     filepath = str(pathlib.Path(cwd, \"..\", \"raw_data\", \"images_224_224\", filename))\n",
    "#     if os.path.exists(filepath):\n",
    "#         return os.stat(filepath).st_size != 0\n",
    "#     return False\n",
    "\n",
    "# data[\"image_is_uploaded\"] = data.img_idx.apply(lambda x: is_uploaded(x))\n",
    "# data = data[data.image_is_uploaded]\n",
    "# data.shape"
   ]
  },
  {
   "cell_type": "code",
   "execution_count": 26,
   "id": "6b869784-c376-4e9b-a6f7-d52d59463f8a",
   "metadata": {
    "colab": {
     "base_uri": "https://localhost:8080/"
    },
    "execution": {
     "iopub.execute_input": "2023-02-24T22:38:51.304417Z",
     "iopub.status.busy": "2023-02-24T22:38:51.304339Z",
     "iopub.status.idle": "2023-02-24T22:38:51.306912Z",
     "shell.execute_reply": "2023-02-24T22:38:51.306546Z",
     "shell.execute_reply.started": "2023-02-24T22:38:51.304409Z"
    },
    "id": "6b869784-c376-4e9b-a6f7-d52d59463f8a",
    "outputId": "ef38e193-3784-4a0d-e267-d9cfb8b48c0d"
   },
   "outputs": [
    {
     "data": {
      "text/plain": [
       "['label_cardiomegaly',\n",
       " 'label_effusion',\n",
       " 'label_pneumothorax',\n",
       " 'label_pleural_thickening',\n",
       " 'label_pneumonia',\n",
       " 'label_consolidation',\n",
       " 'label_other']"
      ]
     },
     "execution_count": 26,
     "metadata": {},
     "output_type": "execute_result"
    }
   ],
   "source": [
    "label_names = [l for l in data.columns if l.startswith(\"label_\")]\n",
    "label_names"
   ]
  },
  {
   "cell_type": "code",
   "execution_count": 27,
   "id": "3cf34114-2cd5-4e38-905c-537dafed3d25",
   "metadata": {
    "colab": {
     "base_uri": "https://localhost:8080/"
    },
    "execution": {
     "iopub.execute_input": "2023-02-24T22:38:51.307626Z",
     "iopub.status.busy": "2023-02-24T22:38:51.307481Z",
     "iopub.status.idle": "2023-02-24T22:38:51.311588Z",
     "shell.execute_reply": "2023-02-24T22:38:51.311303Z",
     "shell.execute_reply.started": "2023-02-24T22:38:51.307616Z"
    },
    "id": "3cf34114-2cd5-4e38-905c-537dafed3d25",
    "outputId": "830b81b4-bcdb-4653-d2aa-af06aa71c28b"
   },
   "outputs": [
    {
     "data": {
      "text/plain": [
       "label_pneumonia              1430\n",
       "label_cardiomegaly           2776\n",
       "label_pleural_thickening     3384\n",
       "label_consolidation          4667\n",
       "label_pneumothorax           5301\n",
       "label_effusion              13316\n",
       "label_other                 39770\n",
       "dtype: int64"
      ]
     },
     "execution_count": 27,
     "metadata": {},
     "output_type": "execute_result"
    }
   ],
   "source": [
    "label_counts_sorted = data[label_names].sum(axis=0).sort_values()\n",
    "label_counts_sorted"
   ]
  },
  {
   "cell_type": "markdown",
   "id": "ae949f0e-5b60-4f62-82cc-7d31ce90d706",
   "metadata": {
    "id": "ae949f0e-5b60-4f62-82cc-7d31ce90d706",
    "tags": []
   },
   "source": [
    "We want to have a balanced dataset that contains an equal number of examples of each condition (+\"no finding\"), regardless of 'overlaps' (i.e. multiple conditions).  \n",
    "\n",
    "We will start from the lowest common denominator, i.e. the condition with the fewest number of examples, i.e. pnemonia. We will choose **all** of the pneumonia cases, `N0 = N_pneumonia = 1430` above. Then we have to choose the same number of examples from each of the other conditions, in increasing order of the number of cases. But there are overlaps, so we will exclude cases already chosen from previous labels (i.e. those with fewer examples). We will keep adding examples until we have `N0` rows with each label."
   ]
  },
  {
   "cell_type": "code",
   "execution_count": 28,
   "id": "e4300583-52ac-44a7-8651-f7030d22a219",
   "metadata": {
    "colab": {
     "base_uri": "https://localhost:8080/"
    },
    "execution": {
     "iopub.execute_input": "2023-02-24T22:38:51.312246Z",
     "iopub.status.busy": "2023-02-24T22:38:51.312101Z",
     "iopub.status.idle": "2023-02-24T22:38:51.413337Z",
     "shell.execute_reply": "2023-02-24T22:38:51.413064Z",
     "shell.execute_reply.started": "2023-02-24T22:38:51.312237Z"
    },
    "id": "e4300583-52ac-44a7-8651-f7030d22a219",
    "outputId": "ce74f8c8-84f5-4ac8-d486-a0b992eae105",
    "tags": []
   },
   "outputs": [
    {
     "data": {
      "text/plain": [
       "label_pneumothorax          1430\n",
       "label_pneumonia             1430\n",
       "label_cardiomegaly          1434\n",
       "label_consolidation         1435\n",
       "label_pleural_thickening    1513\n",
       "label_effusion              1572\n",
       "label_other                 3267\n",
       "dtype: int64"
      ]
     },
     "execution_count": 28,
     "metadata": {},
     "output_type": "execute_result"
    }
   ],
   "source": [
    "rarest_label = label_counts_sorted.index[0]\n",
    "rarest_label_count = data[data[rarest_label]].shape[0]\n",
    "data_balanced = data[data[rarest_label]]\n",
    "n_min = data_balanced.shape[0]\n",
    "for label, count in zip(label_counts_sorted.index[1:], label_counts_sorted[1:]):\n",
    "    n_already_captured = data_balanced[data_balanced[label]].shape[0]\n",
    "    n_additional = n_min - n_already_captured\n",
    "    if n_additional > 0:\n",
    "        not_selected_indices = data.index.difference(data_balanced.index)\n",
    "        not_selected_data = data.loc[not_selected_indices]\n",
    "        not_selected_data_pa = not_selected_data.query(\"view_pos == 'PA'\").copy()\n",
    "        not_selected_data_ap = not_selected_data.query(\"view_pos == 'AP'\").copy()\n",
    "        rows_to_add = not_selected_data_pa[not_selected_data_pa[label]].sample(\n",
    "            n_additional\n",
    "        )\n",
    "        data_balanced = pd.concat([data_balanced, rows_to_add], axis=0)\n",
    "\n",
    "data_balanced[label_names].sum(axis=0).sort_values()"
   ]
  },
  {
   "cell_type": "markdown",
   "id": "5e30e3c5-ea59-4062-8db4-9020aa21ecc1",
   "metadata": {
    "id": "5e30e3c5-ea59-4062-8db4-9020aa21ecc1"
   },
   "source": [
    "Actually let's keep a small percentage of the rarest class (pneumonia) for testing..."
   ]
  },
  {
   "cell_type": "code",
   "execution_count": 29,
   "id": "0c1e2d43-990c-47e5-8e0d-597642bdb37f",
   "metadata": {
    "execution": {
     "iopub.execute_input": "2023-02-24T22:38:51.413902Z",
     "iopub.status.busy": "2023-02-24T22:38:51.413803Z",
     "iopub.status.idle": "2023-02-24T22:38:51.417868Z",
     "shell.execute_reply": "2023-02-24T22:38:51.417382Z",
     "shell.execute_reply.started": "2023-02-24T22:38:51.413893Z"
    },
    "id": "0c1e2d43-990c-47e5-8e0d-597642bdb37f",
    "tags": []
   },
   "outputs": [],
   "source": [
    "rarest_label_fraction_to_keep = 0.1\n",
    "indices_to_remove = (\n",
    "    data_balanced[data_balanced[rarest_label]]\n",
    "    .sample(int(rarest_label_count * rarest_label_fraction_to_keep))\n",
    "    .index\n",
    ")\n",
    "data_balanced.drop(indices_to_remove, inplace=True)"
   ]
  },
  {
   "cell_type": "code",
   "execution_count": 30,
   "id": "d7c63b40-b694-4643-96dc-bdeccdda5b86",
   "metadata": {
    "colab": {
     "base_uri": "https://localhost:8080/"
    },
    "execution": {
     "iopub.execute_input": "2023-02-24T22:38:51.418498Z",
     "iopub.status.busy": "2023-02-24T22:38:51.418408Z",
     "iopub.status.idle": "2023-02-24T22:38:51.420886Z",
     "shell.execute_reply": "2023-02-24T22:38:51.420558Z",
     "shell.execute_reply.started": "2023-02-24T22:38:51.418489Z"
    },
    "id": "d7c63b40-b694-4643-96dc-bdeccdda5b86",
    "outputId": "abd7190e-c981-43e4-cd4a-d89e34399799",
    "tags": []
   },
   "outputs": [
    {
     "data": {
      "text/plain": [
       "(6342, 12)"
      ]
     },
     "execution_count": 30,
     "metadata": {},
     "output_type": "execute_result"
    }
   ],
   "source": [
    "data_balanced.shape"
   ]
  },
  {
   "cell_type": "code",
   "execution_count": 31,
   "id": "1e9ab967-8e37-484b-93cc-ddc3ed6429fb",
   "metadata": {
    "colab": {
     "base_uri": "https://localhost:8080/",
     "height": 377
    },
    "execution": {
     "iopub.execute_input": "2023-02-24T22:38:51.421567Z",
     "iopub.status.busy": "2023-02-24T22:38:51.421436Z",
     "iopub.status.idle": "2023-02-24T22:38:51.732212Z",
     "shell.execute_reply": "2023-02-24T22:38:51.731936Z",
     "shell.execute_reply.started": "2023-02-24T22:38:51.421558Z"
    },
    "id": "1e9ab967-8e37-484b-93cc-ddc3ed6429fb",
    "outputId": "417ecaa6-f045-405d-a274-a5a22f31f841",
    "tags": []
   },
   "outputs": [
    {
     "data": {
      "image/png": "[encoded data removed]",
      "text/plain": [
       "<Figure size 640x480 with 1 Axes>"
      ]
     },
     "metadata": {},
     "output_type": "display_data"
    }
   ],
   "source": [
    "data_balanced[label_names].sum(axis=0).sort_values().plot(kind=\"bar\");"
   ]
  },
  {
   "cell_type": "markdown",
   "id": "597a13e7-7211-4cec-9e80-edbba78afcca",
   "metadata": {
    "id": "597a13e7-7211-4cec-9e80-edbba78afcca"
   },
   "source": [
    "We can use the remaining (i.e. not selected) data for our test set later on..."
   ]
  },
  {
   "cell_type": "code",
   "execution_count": 32,
   "id": "11123ac4-4c52-4ad9-8f8b-f54d2cd91990",
   "metadata": {
    "colab": {
     "base_uri": "https://localhost:8080/",
     "height": 376
    },
    "execution": {
     "iopub.execute_input": "2023-02-24T22:38:51.734975Z",
     "iopub.status.busy": "2023-02-24T22:38:51.734835Z",
     "iopub.status.idle": "2023-02-24T22:38:51.817991Z",
     "shell.execute_reply": "2023-02-24T22:38:51.817586Z",
     "shell.execute_reply.started": "2023-02-24T22:38:51.734966Z"
    },
    "id": "11123ac4-4c52-4ad9-8f8b-f54d2cd91990",
    "outputId": "4401b62b-7ee5-4286-eff8-13904a6d595f",
    "tags": []
   },
   "outputs": [
    {
     "data": {
      "image/png": "[encoded data removed]",
      "text/plain": [
       "<Figure size 640x480 with 1 Axes>"
      ]
     },
     "metadata": {},
     "output_type": "display_data"
    }
   ],
   "source": [
    "remaining_indices = data.index.difference(data_balanced.index)\n",
    "remaining_data = data.loc[remaining_indices]\n",
    "remaining_data[label_names].sum(axis=0).sort_values().plot(kind=\"bar\");"
   ]
  },
  {
   "cell_type": "code",
   "execution_count": 33,
   "id": "a20ee2ec-3ede-4e0c-a71a-7a845f5007a7",
   "metadata": {
    "execution": {
     "iopub.execute_input": "2023-02-24T22:38:51.818529Z",
     "iopub.status.busy": "2023-02-24T22:38:51.818433Z",
     "iopub.status.idle": "2023-02-24T22:38:51.869966Z",
     "shell.execute_reply": "2023-02-24T22:38:51.869568Z",
     "shell.execute_reply.started": "2023-02-24T22:38:51.818519Z"
    },
    "id": "a20ee2ec-3ede-4e0c-a71a-7a845f5007a7",
    "tags": []
   },
   "outputs": [
    {
     "data": {
      "image/png": "[encoded data removed]",
      "text/plain": [
       "<Figure size 640x480 with 1 Axes>"
      ]
     },
     "metadata": {},
     "output_type": "display_data"
    }
   ],
   "source": [
    "# TO DO: Try to prioritize Posterior-Anterior (PA) projection when building a balanced dataset\n",
    "data_balanced.view_pos.value_counts().plot(kind=\"bar\");"
   ]
  },
  {
   "cell_type": "markdown",
   "id": "f2580dc2-80cc-4f47-9e28-37fb905bb4a1",
   "metadata": {
    "id": "f2580dc2-80cc-4f47-9e28-37fb905bb4a1",
    "tags": []
   },
   "source": [
    "# Loading the Images"
   ]
  },
  {
   "cell_type": "markdown",
   "id": "6cec4150-96a6-4cc6-bf4a-2770994fb612",
   "metadata": {
    "id": "6cec4150-96a6-4cc6-bf4a-2770994fb612"
   },
   "source": [
    "There are two ways to go about this:\n",
    "1. Load the entire data set in memory if we have enough RAM, which we do. We estimate ~8000 images will take up between 4 to 8 gigabytes in RAM.\n",
    "2. \"Dataset generator\": Keras has an \"[image data generator](https://www.tensorflow.org/api_docs/python/tf/keras/preprocessing/image/ImageDataGenerator)\"."
   ]
  },
  {
   "cell_type": "markdown",
   "id": "3b99be35-a48c-4e9a-bb4e-2ae934c83b89",
   "metadata": {
    "execution": {
     "iopub.execute_input": "2023-02-18T00:29:54.101427Z",
     "iopub.status.busy": "2023-02-18T00:29:54.100329Z",
     "iopub.status.idle": "2023-02-18T00:29:54.114273Z",
     "shell.execute_reply": "2023-02-18T00:29:54.111551Z",
     "shell.execute_reply.started": "2023-02-18T00:29:54.101367Z"
    },
    "id": "3b99be35-a48c-4e9a-bb4e-2ae934c83b89",
    "tags": []
   },
   "source": [
    "## Loading the Entire Dataset"
   ]
  },
  {
   "cell_type": "markdown",
   "id": "680b2875-b0ad-44cb-b94a-05593a5f6422",
   "metadata": {
    "id": "680b2875-b0ad-44cb-b94a-05593a5f6422"
   },
   "source": [
    "Let's try the first method first..."
   ]
  },
  {
   "cell_type": "code",
   "execution_count": 34,
   "id": "0b4de01d-2523-4463-87d2-cb5c2ea846ae",
   "metadata": {
    "execution": {
     "iopub.execute_input": "2023-02-24T22:38:51.870683Z",
     "iopub.status.busy": "2023-02-24T22:38:51.870581Z",
     "iopub.status.idle": "2023-02-24T22:38:51.873371Z",
     "shell.execute_reply": "2023-02-24T22:38:51.872927Z",
     "shell.execute_reply.started": "2023-02-24T22:38:51.870674Z"
    },
    "id": "0b4de01d-2523-4463-87d2-cb5c2ea846ae",
    "tags": []
   },
   "outputs": [],
   "source": [
    "import os\n",
    "import pathlib\n",
    "\n",
    "import numpy as np\n",
    "import PIL"
   ]
  },
  {
   "cell_type": "code",
   "execution_count": 16,
   "id": "c9a73848-7296-42e1-9e99-945bd2ddf375",
   "metadata": {
    "execution": {
     "iopub.execute_input": "2023-02-24T22:38:51.873994Z",
     "iopub.status.busy": "2023-02-24T22:38:51.873893Z",
     "iopub.status.idle": "2023-02-24T22:38:51.876887Z",
     "shell.execute_reply": "2023-02-24T22:38:51.876196Z",
     "shell.execute_reply.started": "2023-02-24T22:38:51.873984Z"
    },
    "id": "c9a73848-7296-42e1-9e99-945bd2ddf375",
    "tags": []
   },
   "outputs": [],
   "source": [
    "def load_img(img_filename):\n",
    "    data_dir = pathlib.Path(\"../raw_data/images_224_224\")\n",
    "    image_filename = img_filename\n",
    "    image = PIL.Image.open(pathlib.Path(data_dir, image_filename))\n",
    "    return image"
   ]
  },
  {
   "cell_type": "code",
   "execution_count": null,
   "id": "1ec4e96e-ea3d-483d-aa3b-cf784cf9da0d",
   "metadata": {
    "colab": {
     "base_uri": "https://localhost:8080/"
    },
    "execution": {
     "iopub.execute_input": "2023-02-24T22:38:51.877806Z",
     "iopub.status.busy": "2023-02-24T22:38:51.877645Z",
     "iopub.status.idle": "2023-02-24T22:38:51.881372Z",
     "shell.execute_reply": "2023-02-24T22:38:51.881095Z",
     "shell.execute_reply.started": "2023-02-24T22:38:51.877786Z"
    },
    "id": "1ec4e96e-ea3d-483d-aa3b-cf784cf9da0d",
    "outputId": "03027aa2-d4c5-464a-f0e9-510c630d793a",
    "tags": []
   },
   "outputs": [],
   "source": [
    "n_images = data_balanced.shape[0]\n",
    "example_img = load_img(data_balanced.iloc[0, :][\"img_idx\"])\n",
    "img_dims = example_img.size\n",
    "img_dims"
   ]
  },
  {
   "cell_type": "code",
   "execution_count": null,
   "id": "68945115-6f3f-46f5-96b6-231e704d9f3d",
   "metadata": {
    "colab": {
     "base_uri": "https://localhost:8080/"
    },
    "execution": {
     "iopub.execute_input": "2023-02-24T22:38:51.881989Z",
     "iopub.status.busy": "2023-02-24T22:38:51.881880Z",
     "iopub.status.idle": "2023-02-24T22:38:51.885665Z",
     "shell.execute_reply": "2023-02-24T22:38:51.885347Z",
     "shell.execute_reply.started": "2023-02-24T22:38:51.881980Z"
    },
    "id": "68945115-6f3f-46f5-96b6-231e704d9f3d",
    "outputId": "c32de1b5-2d78-4638-e796-f4ebc1298f81",
    "tags": []
   },
   "outputs": [],
   "source": [
    "img_data = np.zeros((n_images, *img_dims))\n",
    "img_data.shape"
   ]
  },
  {
   "cell_type": "code",
   "execution_count": null,
   "id": "f16098ef-2a27-4eeb-9e86-d909e5158f3f",
   "metadata": {
    "execution": {
     "iopub.execute_input": "2023-02-24T22:38:51.886323Z",
     "iopub.status.busy": "2023-02-24T22:38:51.886213Z",
     "iopub.status.idle": "2023-02-24T22:38:51.888215Z",
     "shell.execute_reply": "2023-02-24T22:38:51.887891Z",
     "shell.execute_reply.started": "2023-02-24T22:38:51.886303Z"
    },
    "id": "f16098ef-2a27-4eeb-9e86-d909e5158f3f",
    "tags": []
   },
   "outputs": [],
   "source": [
    "# # This crashes Jupyter Notebook\n",
    "# for img in data_balanced.loc[:, \"img_idx\"]:\n",
    "#     # np.append(img_data, load_img(img))\n",
    "#     pass"
   ]
  },
  {
   "cell_type": "markdown",
   "id": "932daf17-a678-49c0-a263-4f356148deb7",
   "metadata": {
    "id": "932daf17-a678-49c0-a263-4f356148deb7"
   },
   "source": [
    "That was a dud. It crashes Jupyter Notebook. Let us now explore the second method."
   ]
  },
  {
   "cell_type": "markdown",
   "id": "69babdb7-55d8-4e5d-9227-c5bb74bdd3ff",
   "metadata": {
    "id": "69babdb7-55d8-4e5d-9227-c5bb74bdd3ff"
   },
   "source": [
    "## Generating the Dataset on the Fly"
   ]
  },
  {
   "cell_type": "markdown",
   "id": "5e184236-774c-4fbd-b8e0-af301d53a897",
   "metadata": {
    "id": "5e184236-774c-4fbd-b8e0-af301d53a897"
   },
   "source": [
    "It turns out [`tf.keras.preprocessing.image.ImageDataGenerator`](https://www.tensorflow.org/api_docs/python/tf/keras/preprocessing/image/ImageDataGenerator) is deprecated and hence not recommended for new code. Neither it nor its successor, [`tf.keras.utils.image_dataset_from_directory`](https://www.tensorflow.org/api_docs/python/tf/keras/utils/image_dataset_from_directory) are really applicable to our multi-label problem. (They are suited to single-label classification problems). I found [this blog post](https://towardsdatascience.com/multi-label-image-classification-in-tensorflow-2-0-7d4cf8a4bc72) on how to leverage the underlying API, [`tf.data`](https://www.tensorflow.org/guide/data) for multi-label problems. Let us explore that."
   ]
  },
  {
   "cell_type": "code",
   "execution_count": 35,
   "id": "d2cdc6cc-5330-4385-82b5-5445d5709753",
   "metadata": {
    "execution": {
     "iopub.execute_input": "2023-02-24T22:38:51.888921Z",
     "iopub.status.busy": "2023-02-24T22:38:51.888823Z",
     "iopub.status.idle": "2023-02-24T22:38:54.368200Z",
     "shell.execute_reply": "2023-02-24T22:38:54.367890Z",
     "shell.execute_reply.started": "2023-02-24T22:38:51.888912Z"
    },
    "id": "d2cdc6cc-5330-4385-82b5-5445d5709753"
   },
   "outputs": [],
   "source": [
    "import tensorflow as tf\n"
   ]
  },
  {
   "cell_type": "code",
   "execution_count": 36,
   "id": "2f73f540-5c71-4830-b4f9-d6a1000af377",
   "metadata": {
    "execution": {
     "iopub.execute_input": "2023-02-24T22:38:54.368892Z",
     "iopub.status.busy": "2023-02-24T22:38:54.368721Z",
     "iopub.status.idle": "2023-02-24T22:38:54.371741Z",
     "shell.execute_reply": "2023-02-24T22:38:54.371508Z",
     "shell.execute_reply.started": "2023-02-24T22:38:54.368882Z"
    },
    "id": "2f73f540-5c71-4830-b4f9-d6a1000af377",
    "tags": []
   },
   "outputs": [],
   "source": [
    "# from tensorflow.keras.applications.resnet50 import preprocess_input\n",
    "from tensorflow.keras.applications.vgg16 import preprocess_input\n",
    "\n",
    "# In order to do 'transfer learning' using VGG16, ResNet, etc. our image needs to have three channels.\n",
    "# We will simply duplicate the one grayscale channel 2 more times.\n",
    "def expand_greyscale_image_channels(image):\n",
    "    if image.shape[-1] == 1:\n",
    "        grey_image_3_channel = tf.tile(image, tf.constant([1, 1, 3], tf.int32))\n",
    "    else:\n",
    "        grey_image_3_channel = image\n",
    "\n",
    "    return preprocess_input(grey_image_3_channel)"
   ]
  },
  {
   "cell_type": "code",
   "execution_count": 38,
   "id": "7fcbfe1b-02be-4c54-859f-ffb5fc700d66",
   "metadata": {
    "execution": {
     "iopub.execute_input": "2023-02-24T22:38:54.372187Z",
     "iopub.status.busy": "2023-02-24T22:38:54.372095Z",
     "iopub.status.idle": "2023-02-24T22:38:54.374851Z",
     "shell.execute_reply": "2023-02-24T22:38:54.374543Z",
     "shell.execute_reply.started": "2023-02-24T22:38:54.372178Z"
    },
    "id": "7fcbfe1b-02be-4c54-859f-ffb5fc700d66",
    "tags": []
   },
   "outputs": [],
   "source": [
    "IMG_SIZE = 224  # img_dims[0]\n",
    "CHANNELS = 3  # The images WERE grayscale but we converted them to 3-channel\n",
    "\n",
    "\n",
    "def parse_function(filename, label):\n",
    "    \"\"\"Function that returns a tuple of normalized image array and labels array.\n",
    "    Args:\n",
    "        filename: string representing path to image\n",
    "        label: 0/1 one-dimensional array of size N_LABELS\n",
    "    \"\"\"\n",
    "    # Read an image from a file\n",
    "    image_string = tf.io.read_file(filename)\n",
    "    # Decode it into a dense vector\n",
    "    image_decoded = tf.image.decode_png(image_string, channels=CHANNELS)\n",
    "    # Resize it to fixed shape\n",
    "    image_resized = (\n",
    "        image_decoded  # tf.image.resize(image_decoded, [IMG_SIZE, IMG_SIZE])\n",
    "    )\n",
    "    # Normalize it from [0, 255] to [0.0, 1.0]\n",
    "    image_normalized = tf.cast(image_resized, tf.float32) # / 255.0 The scaling is taken care of by `preprocess_input()` above\n",
    "    image_normalized_rgb = expand_greyscale_image_channels(image_normalized)\n",
    "    label_tensor = tf.convert_to_tensor(label, dtype=tf.uint8)\n",
    "    return image_normalized_rgb, label_tensor"
   ]
  },
  {
   "cell_type": "code",
   "execution_count": 39,
   "id": "52d232b7-4da7-4f28-bc46-d0bd28699c28",
   "metadata": {
    "colab": {
     "base_uri": "https://localhost:8080/"
    },
    "execution": {
     "iopub.execute_input": "2023-02-24T22:38:54.375527Z",
     "iopub.status.busy": "2023-02-24T22:38:54.375385Z",
     "iopub.status.idle": "2023-02-24T22:38:54.391339Z",
     "shell.execute_reply": "2023-02-24T22:38:54.391013Z",
     "shell.execute_reply.started": "2023-02-24T22:38:54.375516Z"
    },
    "id": "52d232b7-4da7-4f28-bc46-d0bd28699c28",
    "outputId": "acc4a430-568d-40db-eee5-091ea3eae760",
    "tags": []
   },
   "outputs": [
    {
     "name": "stderr",
     "output_type": "stream",
     "text": [
      "2023-02-25 07:35:48.772972: I tensorflow/core/platform/cpu_feature_guard.cc:193] This TensorFlow binary is optimized with oneAPI Deep Neural Network Library (oneDNN) to use the following CPU instructions in performance-critical operations:  AVX2 FMA\n",
      "To enable them in other operations, rebuild TensorFlow with the appropriate compiler flags.\n",
      "2023-02-25 07:35:48.785124: W tensorflow/core/framework/op_kernel.cc:1830] OP_REQUIRES failed at whole_file_read_ops.cc:116 : NOT_FOUND: /Users/nic/code/niccoulson/CXRay/notebooks/../raw_data/images_224_224/00000009_000.png; No such file or directory\n"
     ]
    },
    {
     "ename": "NotFoundError",
     "evalue": "{{function_node __wrapped__ReadFile_device_/job:localhost/replica:0/task:0/device:CPU:0}} /Users/nic/code/niccoulson/CXRay/notebooks/../raw_data/images_224_224/00000009_000.png; No such file or directory [Op:ReadFile]",
     "output_type": "error",
     "traceback": [
      "\u001b[0;31m---------------------------------------------------------------------------\u001b[0m",
      "\u001b[0;31mNotFoundError\u001b[0m                             Traceback (most recent call last)",
      "Cell \u001b[0;32mIn[39], line 5\u001b[0m\n\u001b[1;32m      2\u001b[0m data_dir \u001b[38;5;241m=\u001b[39m pathlib\u001b[38;5;241m.\u001b[39mPath(cwd, \u001b[38;5;124m\"\u001b[39m\u001b[38;5;124m..\u001b[39m\u001b[38;5;124m\"\u001b[39m, \u001b[38;5;124m\"\u001b[39m\u001b[38;5;124mraw_data\u001b[39m\u001b[38;5;124m\"\u001b[39m, \u001b[38;5;124m\"\u001b[39m\u001b[38;5;124mimages_224_224\u001b[39m\u001b[38;5;124m\"\u001b[39m)\n\u001b[1;32m      4\u001b[0m \u001b[38;5;66;03m# This works\u001b[39;00m\n\u001b[0;32m----> 5\u001b[0m img_norm_rgb, label_tensor \u001b[38;5;241m=\u001b[39m \u001b[43mparse_function\u001b[49m\u001b[43m(\u001b[49m\n\u001b[1;32m      6\u001b[0m \u001b[43m    \u001b[49m\u001b[38;5;28;43mstr\u001b[39;49m\u001b[43m(\u001b[49m\u001b[43mpathlib\u001b[49m\u001b[38;5;241;43m.\u001b[39;49m\u001b[43mPath\u001b[49m\u001b[43m(\u001b[49m\u001b[43mdata_dir\u001b[49m\u001b[43m,\u001b[49m\u001b[43m \u001b[49m\u001b[38;5;124;43m\"\u001b[39;49m\u001b[38;5;124;43m00000009_000.png\u001b[39;49m\u001b[38;5;124;43m\"\u001b[39;49m\u001b[43m)\u001b[49m\u001b[43m)\u001b[49m\u001b[43m,\u001b[49m\n\u001b[1;32m      7\u001b[0m \u001b[43m    \u001b[49m\u001b[43mnp\u001b[49m\u001b[38;5;241;43m.\u001b[39;49m\u001b[43marray\u001b[49m\u001b[43m(\u001b[49m\u001b[43m[\u001b[49m\u001b[38;5;28;43;01mTrue\u001b[39;49;00m\u001b[43m,\u001b[49m\u001b[43m \u001b[49m\u001b[38;5;28;43;01mFalse\u001b[39;49;00m\u001b[43m,\u001b[49m\u001b[43m \u001b[49m\u001b[38;5;28;43;01mFalse\u001b[39;49;00m\u001b[43m,\u001b[49m\u001b[43m \u001b[49m\u001b[38;5;28;43;01mTrue\u001b[39;49;00m\u001b[43m]\u001b[49m\u001b[43m)\u001b[49m\u001b[43m \u001b[49m\u001b[38;5;241;43m+\u001b[39;49m\u001b[43m \u001b[49m\u001b[38;5;241;43m0\u001b[39;49m\u001b[43m,\u001b[49m\n\u001b[1;32m      8\u001b[0m \u001b[43m)\u001b[49m\n\u001b[1;32m      9\u001b[0m img_norm_rgb\u001b[38;5;241m.\u001b[39mshape\n",
      "Cell \u001b[0;32mIn[38], line 12\u001b[0m, in \u001b[0;36mparse_function\u001b[0;34m(filename, label)\u001b[0m\n\u001b[1;32m      6\u001b[0m \u001b[38;5;250m\u001b[39m\u001b[38;5;124;03m\"\"\"Function that returns a tuple of normalized image array and labels array.\u001b[39;00m\n\u001b[1;32m      7\u001b[0m \u001b[38;5;124;03mArgs:\u001b[39;00m\n\u001b[1;32m      8\u001b[0m \u001b[38;5;124;03m    filename: string representing path to image\u001b[39;00m\n\u001b[1;32m      9\u001b[0m \u001b[38;5;124;03m    label: 0/1 one-dimensional array of size N_LABELS\u001b[39;00m\n\u001b[1;32m     10\u001b[0m \u001b[38;5;124;03m\"\"\"\u001b[39;00m\n\u001b[1;32m     11\u001b[0m \u001b[38;5;66;03m# Read an image from a file\u001b[39;00m\n\u001b[0;32m---> 12\u001b[0m image_string \u001b[38;5;241m=\u001b[39m \u001b[43mtf\u001b[49m\u001b[38;5;241;43m.\u001b[39;49m\u001b[43mio\u001b[49m\u001b[38;5;241;43m.\u001b[39;49m\u001b[43mread_file\u001b[49m\u001b[43m(\u001b[49m\u001b[43mfilename\u001b[49m\u001b[43m)\u001b[49m\n\u001b[1;32m     13\u001b[0m \u001b[38;5;66;03m# Decode it into a dense vector\u001b[39;00m\n\u001b[1;32m     14\u001b[0m image_decoded \u001b[38;5;241m=\u001b[39m tf\u001b[38;5;241m.\u001b[39mimage\u001b[38;5;241m.\u001b[39mdecode_png(image_string, channels\u001b[38;5;241m=\u001b[39mCHANNELS)\n",
      "File \u001b[0;32m~/.pyenv/versions/3.8.12/envs/CXRay/lib/python3.8/site-packages/tensorflow/python/ops/io_ops.py:133\u001b[0m, in \u001b[0;36mread_file\u001b[0;34m(filename, name)\u001b[0m\n\u001b[1;32m     96\u001b[0m \u001b[38;5;129m@tf_export\u001b[39m(\u001b[38;5;124m\"\u001b[39m\u001b[38;5;124mio.read_file\u001b[39m\u001b[38;5;124m\"\u001b[39m, v1\u001b[38;5;241m=\u001b[39m[\u001b[38;5;124m\"\u001b[39m\u001b[38;5;124mio.read_file\u001b[39m\u001b[38;5;124m\"\u001b[39m, \u001b[38;5;124m\"\u001b[39m\u001b[38;5;124mread_file\u001b[39m\u001b[38;5;124m\"\u001b[39m])\n\u001b[1;32m     97\u001b[0m \u001b[38;5;28;01mdef\u001b[39;00m \u001b[38;5;21mread_file\u001b[39m(filename, name\u001b[38;5;241m=\u001b[39m\u001b[38;5;28;01mNone\u001b[39;00m):\n\u001b[1;32m     98\u001b[0m \u001b[38;5;250m  \u001b[39m\u001b[38;5;124;03m\"\"\"Reads the contents of file.\u001b[39;00m\n\u001b[1;32m     99\u001b[0m \n\u001b[1;32m    100\u001b[0m \u001b[38;5;124;03m  This operation returns a tensor with the entire contents of the input\u001b[39;00m\n\u001b[0;32m   (...)\u001b[0m\n\u001b[1;32m    131\u001b[0m \u001b[38;5;124;03m    A tensor of dtype \"string\", with the file contents.\u001b[39;00m\n\u001b[1;32m    132\u001b[0m \u001b[38;5;124;03m  \"\"\"\u001b[39;00m\n\u001b[0;32m--> 133\u001b[0m   \u001b[38;5;28;01mreturn\u001b[39;00m \u001b[43mgen_io_ops\u001b[49m\u001b[38;5;241;43m.\u001b[39;49m\u001b[43mread_file\u001b[49m\u001b[43m(\u001b[49m\u001b[43mfilename\u001b[49m\u001b[43m,\u001b[49m\u001b[43m \u001b[49m\u001b[43mname\u001b[49m\u001b[43m)\u001b[49m\n",
      "File \u001b[0;32m~/.pyenv/versions/3.8.12/envs/CXRay/lib/python3.8/site-packages/tensorflow/python/ops/gen_io_ops.py:582\u001b[0m, in \u001b[0;36mread_file\u001b[0;34m(filename, name)\u001b[0m\n\u001b[1;32m    580\u001b[0m   \u001b[38;5;28;01mpass\u001b[39;00m\n\u001b[1;32m    581\u001b[0m \u001b[38;5;28;01mtry\u001b[39;00m:\n\u001b[0;32m--> 582\u001b[0m   \u001b[38;5;28;01mreturn\u001b[39;00m \u001b[43mread_file_eager_fallback\u001b[49m\u001b[43m(\u001b[49m\n\u001b[1;32m    583\u001b[0m \u001b[43m      \u001b[49m\u001b[43mfilename\u001b[49m\u001b[43m,\u001b[49m\u001b[43m \u001b[49m\u001b[43mname\u001b[49m\u001b[38;5;241;43m=\u001b[39;49m\u001b[43mname\u001b[49m\u001b[43m,\u001b[49m\u001b[43m \u001b[49m\u001b[43mctx\u001b[49m\u001b[38;5;241;43m=\u001b[39;49m\u001b[43m_ctx\u001b[49m\u001b[43m)\u001b[49m\n\u001b[1;32m    584\u001b[0m \u001b[38;5;28;01mexcept\u001b[39;00m _core\u001b[38;5;241m.\u001b[39m_SymbolicException:\n\u001b[1;32m    585\u001b[0m   \u001b[38;5;28;01mpass\u001b[39;00m  \u001b[38;5;66;03m# Add nodes to the TensorFlow graph.\u001b[39;00m\n",
      "File \u001b[0;32m~/.pyenv/versions/3.8.12/envs/CXRay/lib/python3.8/site-packages/tensorflow/python/ops/gen_io_ops.py:605\u001b[0m, in \u001b[0;36mread_file_eager_fallback\u001b[0;34m(filename, name, ctx)\u001b[0m\n\u001b[1;32m    603\u001b[0m _inputs_flat \u001b[38;5;241m=\u001b[39m [filename]\n\u001b[1;32m    604\u001b[0m _attrs \u001b[38;5;241m=\u001b[39m \u001b[38;5;28;01mNone\u001b[39;00m\n\u001b[0;32m--> 605\u001b[0m _result \u001b[38;5;241m=\u001b[39m \u001b[43m_execute\u001b[49m\u001b[38;5;241;43m.\u001b[39;49m\u001b[43mexecute\u001b[49m\u001b[43m(\u001b[49m\u001b[38;5;124;43mb\u001b[39;49m\u001b[38;5;124;43m\"\u001b[39;49m\u001b[38;5;124;43mReadFile\u001b[39;49m\u001b[38;5;124;43m\"\u001b[39;49m\u001b[43m,\u001b[49m\u001b[43m \u001b[49m\u001b[38;5;241;43m1\u001b[39;49m\u001b[43m,\u001b[49m\u001b[43m \u001b[49m\u001b[43minputs\u001b[49m\u001b[38;5;241;43m=\u001b[39;49m\u001b[43m_inputs_flat\u001b[49m\u001b[43m,\u001b[49m\n\u001b[1;32m    606\u001b[0m \u001b[43m                           \u001b[49m\u001b[43mattrs\u001b[49m\u001b[38;5;241;43m=\u001b[39;49m\u001b[43m_attrs\u001b[49m\u001b[43m,\u001b[49m\u001b[43m \u001b[49m\u001b[43mctx\u001b[49m\u001b[38;5;241;43m=\u001b[39;49m\u001b[43mctx\u001b[49m\u001b[43m,\u001b[49m\u001b[43m \u001b[49m\u001b[43mname\u001b[49m\u001b[38;5;241;43m=\u001b[39;49m\u001b[43mname\u001b[49m\u001b[43m)\u001b[49m\n\u001b[1;32m    607\u001b[0m \u001b[38;5;28;01mif\u001b[39;00m _execute\u001b[38;5;241m.\u001b[39mmust_record_gradient():\n\u001b[1;32m    608\u001b[0m   _execute\u001b[38;5;241m.\u001b[39mrecord_gradient(\n\u001b[1;32m    609\u001b[0m       \u001b[38;5;124m\"\u001b[39m\u001b[38;5;124mReadFile\u001b[39m\u001b[38;5;124m\"\u001b[39m, _inputs_flat, _attrs, _result)\n",
      "File \u001b[0;32m~/.pyenv/versions/3.8.12/envs/CXRay/lib/python3.8/site-packages/tensorflow/python/eager/execute.py:52\u001b[0m, in \u001b[0;36mquick_execute\u001b[0;34m(op_name, num_outputs, inputs, attrs, ctx, name)\u001b[0m\n\u001b[1;32m     50\u001b[0m \u001b[38;5;28;01mtry\u001b[39;00m:\n\u001b[1;32m     51\u001b[0m   ctx\u001b[38;5;241m.\u001b[39mensure_initialized()\n\u001b[0;32m---> 52\u001b[0m   tensors \u001b[38;5;241m=\u001b[39m \u001b[43mpywrap_tfe\u001b[49m\u001b[38;5;241;43m.\u001b[39;49m\u001b[43mTFE_Py_Execute\u001b[49m\u001b[43m(\u001b[49m\u001b[43mctx\u001b[49m\u001b[38;5;241;43m.\u001b[39;49m\u001b[43m_handle\u001b[49m\u001b[43m,\u001b[49m\u001b[43m \u001b[49m\u001b[43mdevice_name\u001b[49m\u001b[43m,\u001b[49m\u001b[43m \u001b[49m\u001b[43mop_name\u001b[49m\u001b[43m,\u001b[49m\n\u001b[1;32m     53\u001b[0m \u001b[43m                                      \u001b[49m\u001b[43minputs\u001b[49m\u001b[43m,\u001b[49m\u001b[43m \u001b[49m\u001b[43mattrs\u001b[49m\u001b[43m,\u001b[49m\u001b[43m \u001b[49m\u001b[43mnum_outputs\u001b[49m\u001b[43m)\u001b[49m\n\u001b[1;32m     54\u001b[0m \u001b[38;5;28;01mexcept\u001b[39;00m core\u001b[38;5;241m.\u001b[39m_NotOkStatusException \u001b[38;5;28;01mas\u001b[39;00m e:\n\u001b[1;32m     55\u001b[0m   \u001b[38;5;28;01mif\u001b[39;00m name \u001b[38;5;129;01mis\u001b[39;00m \u001b[38;5;129;01mnot\u001b[39;00m \u001b[38;5;28;01mNone\u001b[39;00m:\n",
      "\u001b[0;31mNotFoundError\u001b[0m: {{function_node __wrapped__ReadFile_device_/job:localhost/replica:0/task:0/device:CPU:0}} /Users/nic/code/niccoulson/CXRay/notebooks/../raw_data/images_224_224/00000009_000.png; No such file or directory [Op:ReadFile]"
     ]
    }
   ],
   "source": [
    "cwd = os.getcwd()\n",
    "data_dir = pathlib.Path(cwd, \"..\", \"raw_data\", \"images_224_224\")\n",
    "\n",
    "# This works\n",
    "img_norm_rgb, label_tensor = parse_function(\n",
    "    str(pathlib.Path(data_dir, \"00000009_000.png\")),\n",
    "    np.array([True, False, False, True]) + 0,\n",
    ")\n",
    "img_norm_rgb.shape"
   ]
  },
  {
   "cell_type": "code",
   "execution_count": 40,
   "id": "5713fcd7-349b-49e9-89a9-57f91bd3d3ec",
   "metadata": {
    "colab": {
     "base_uri": "https://localhost:8080/",
     "height": 287
    },
    "execution": {
     "iopub.execute_input": "2023-02-24T22:38:54.391952Z",
     "iopub.status.busy": "2023-02-24T22:38:54.391844Z",
     "iopub.status.idle": "2023-02-24T22:38:54.491715Z",
     "shell.execute_reply": "2023-02-24T22:38:54.491261Z",
     "shell.execute_reply.started": "2023-02-24T22:38:54.391943Z"
    },
    "id": "5713fcd7-349b-49e9-89a9-57f91bd3d3ec",
    "outputId": "c5d5db35-5510-4c04-c337-1a75c6aed1e6",
    "tags": []
   },
   "outputs": [
    {
     "ename": "FileNotFoundError",
     "evalue": "[Errno 2] No such file or directory: '/Users/nic/code/niccoulson/CXRay/notebooks/../raw_data/images_224_224/00000009_000.png'",
     "output_type": "error",
     "traceback": [
      "\u001b[0;31m---------------------------------------------------------------------------\u001b[0m",
      "\u001b[0;31mFileNotFoundError\u001b[0m                         Traceback (most recent call last)",
      "Cell \u001b[0;32mIn[40], line 4\u001b[0m\n\u001b[1;32m      1\u001b[0m \u001b[38;5;28;01mimport\u001b[39;00m \u001b[38;5;21;01mmatplotlib\u001b[39;00m\u001b[38;5;21;01m.\u001b[39;00m\u001b[38;5;21;01mimage\u001b[39;00m \u001b[38;5;28;01mas\u001b[39;00m \u001b[38;5;21;01mmpimg\u001b[39;00m\n\u001b[1;32m      2\u001b[0m \u001b[38;5;28;01mimport\u001b[39;00m \u001b[38;5;21;01mmatplotlib\u001b[39;00m\u001b[38;5;21;01m.\u001b[39;00m\u001b[38;5;21;01mpyplot\u001b[39;00m \u001b[38;5;28;01mas\u001b[39;00m \u001b[38;5;21;01mplt\u001b[39;00m\n\u001b[0;32m----> 4\u001b[0m img \u001b[38;5;241m=\u001b[39m \u001b[43mmpimg\u001b[49m\u001b[38;5;241;43m.\u001b[39;49m\u001b[43mimread\u001b[49m\u001b[43m(\u001b[49m\u001b[43mpathlib\u001b[49m\u001b[38;5;241;43m.\u001b[39;49m\u001b[43mPath\u001b[49m\u001b[43m(\u001b[49m\u001b[43mdata_dir\u001b[49m\u001b[43m,\u001b[49m\u001b[43m \u001b[49m\u001b[38;5;124;43m\"\u001b[39;49m\u001b[38;5;124;43m00000009_000.png\u001b[39;49m\u001b[38;5;124;43m\"\u001b[39;49m\u001b[43m)\u001b[49m\u001b[43m)\u001b[49m\n\u001b[1;32m      5\u001b[0m plt\u001b[38;5;241m.\u001b[39mimshow(img, cmap\u001b[38;5;241m=\u001b[39m\u001b[38;5;124m\"\u001b[39m\u001b[38;5;124mgray\u001b[39m\u001b[38;5;124m\"\u001b[39m)\n\u001b[1;32m      6\u001b[0m img\u001b[38;5;241m.\u001b[39mshape\n",
      "File \u001b[0;32m~/.pyenv/versions/3.8.12/envs/CXRay/lib/python3.8/site-packages/matplotlib/image.py:1541\u001b[0m, in \u001b[0;36mimread\u001b[0;34m(fname, format)\u001b[0m\n\u001b[1;32m   1534\u001b[0m \u001b[38;5;28;01mif\u001b[39;00m \u001b[38;5;28misinstance\u001b[39m(fname, \u001b[38;5;28mstr\u001b[39m) \u001b[38;5;129;01mand\u001b[39;00m \u001b[38;5;28mlen\u001b[39m(parse\u001b[38;5;241m.\u001b[39murlparse(fname)\u001b[38;5;241m.\u001b[39mscheme) \u001b[38;5;241m>\u001b[39m \u001b[38;5;241m1\u001b[39m:\n\u001b[1;32m   1535\u001b[0m     \u001b[38;5;66;03m# Pillow doesn't handle URLs directly.\u001b[39;00m\n\u001b[1;32m   1536\u001b[0m     \u001b[38;5;28;01mraise\u001b[39;00m \u001b[38;5;167;01mValueError\u001b[39;00m(\n\u001b[1;32m   1537\u001b[0m         \u001b[38;5;124m\"\u001b[39m\u001b[38;5;124mPlease open the URL for reading and pass the \u001b[39m\u001b[38;5;124m\"\u001b[39m\n\u001b[1;32m   1538\u001b[0m         \u001b[38;5;124m\"\u001b[39m\u001b[38;5;124mresult to Pillow, e.g. with \u001b[39m\u001b[38;5;124m\"\u001b[39m\n\u001b[1;32m   1539\u001b[0m         \u001b[38;5;124m\"\u001b[39m\u001b[38;5;124m``np.array(PIL.Image.open(urllib.request.urlopen(url)))``.\u001b[39m\u001b[38;5;124m\"\u001b[39m\n\u001b[1;32m   1540\u001b[0m         )\n\u001b[0;32m-> 1541\u001b[0m \u001b[38;5;28;01mwith\u001b[39;00m \u001b[43mimg_open\u001b[49m\u001b[43m(\u001b[49m\u001b[43mfname\u001b[49m\u001b[43m)\u001b[49m \u001b[38;5;28;01mas\u001b[39;00m image:\n\u001b[1;32m   1542\u001b[0m     \u001b[38;5;28;01mreturn\u001b[39;00m (_pil_png_to_float_array(image)\n\u001b[1;32m   1543\u001b[0m             \u001b[38;5;28;01mif\u001b[39;00m \u001b[38;5;28misinstance\u001b[39m(image, PIL\u001b[38;5;241m.\u001b[39mPngImagePlugin\u001b[38;5;241m.\u001b[39mPngImageFile) \u001b[38;5;28;01melse\u001b[39;00m\n\u001b[1;32m   1544\u001b[0m             pil_to_array(image))\n",
      "File \u001b[0;32m~/.pyenv/versions/3.8.12/envs/CXRay/lib/python3.8/site-packages/PIL/ImageFile.py:105\u001b[0m, in \u001b[0;36mImageFile.__init__\u001b[0;34m(self, fp, filename)\u001b[0m\n\u001b[1;32m    101\u001b[0m \u001b[38;5;28mself\u001b[39m\u001b[38;5;241m.\u001b[39mdecodermaxblock \u001b[38;5;241m=\u001b[39m MAXBLOCK\n\u001b[1;32m    103\u001b[0m \u001b[38;5;28;01mif\u001b[39;00m is_path(fp):\n\u001b[1;32m    104\u001b[0m     \u001b[38;5;66;03m# filename\u001b[39;00m\n\u001b[0;32m--> 105\u001b[0m     \u001b[38;5;28mself\u001b[39m\u001b[38;5;241m.\u001b[39mfp \u001b[38;5;241m=\u001b[39m \u001b[38;5;28;43mopen\u001b[39;49m\u001b[43m(\u001b[49m\u001b[43mfp\u001b[49m\u001b[43m,\u001b[49m\u001b[43m \u001b[49m\u001b[38;5;124;43m\"\u001b[39;49m\u001b[38;5;124;43mrb\u001b[39;49m\u001b[38;5;124;43m\"\u001b[39;49m\u001b[43m)\u001b[49m\n\u001b[1;32m    106\u001b[0m     \u001b[38;5;28mself\u001b[39m\u001b[38;5;241m.\u001b[39mfilename \u001b[38;5;241m=\u001b[39m fp\n\u001b[1;32m    107\u001b[0m     \u001b[38;5;28mself\u001b[39m\u001b[38;5;241m.\u001b[39m_exclusive_fp \u001b[38;5;241m=\u001b[39m \u001b[38;5;28;01mTrue\u001b[39;00m\n",
      "\u001b[0;31mFileNotFoundError\u001b[0m: [Errno 2] No such file or directory: '/Users/nic/code/niccoulson/CXRay/notebooks/../raw_data/images_224_224/00000009_000.png'"
     ]
    }
   ],
   "source": [
    "import matplotlib.image as mpimg\n",
    "import matplotlib.pyplot as plt\n",
    "\n",
    "img = mpimg.imread(pathlib.Path(data_dir, \"00000009_000.png\"))\n",
    "plt.imshow(img, cmap=\"gray\")\n",
    "img.shape"
   ]
  },
  {
   "cell_type": "code",
   "execution_count": 41,
   "id": "72789baf-a72d-4f39-b9f3-3b28a84b5dfa",
   "metadata": {
    "execution": {
     "iopub.execute_input": "2023-02-24T22:38:54.492511Z",
     "iopub.status.busy": "2023-02-24T22:38:54.492384Z",
     "iopub.status.idle": "2023-02-24T22:38:54.494662Z",
     "shell.execute_reply": "2023-02-24T22:38:54.494356Z",
     "shell.execute_reply.started": "2023-02-24T22:38:54.492500Z"
    },
    "id": "72789baf-a72d-4f39-b9f3-3b28a84b5dfa",
    "tags": []
   },
   "outputs": [],
   "source": [
    "BATCH_SIZE = 128  # The blog post suggested 256 is big enough to measure an F1-score but I suspect this was leading to this error while I was training the model: BiasGrad requires tensor size <= int32 max\n",
    "AUTOTUNE = (\n",
    "    tf.data.experimental.AUTOTUNE\n",
    ")  # Adapt preprocessing and prefetching dynamically to reduce GPU and CPU idle time\n",
    "SHUFFLE_BUFFER_SIZE = (\n",
    "    512  # 1024  # Shuffle the training data by a chunck of 1024 observations\n",
    ")\n",
    "\n",
    "N_LABELS = len(label_names)"
   ]
  },
  {
   "cell_type": "code",
   "execution_count": 42,
   "id": "cd029e70-ca81-47dc-9ea4-14ac9ffa93b6",
   "metadata": {
    "execution": {
     "iopub.execute_input": "2023-02-24T22:38:54.495155Z",
     "iopub.status.busy": "2023-02-24T22:38:54.495064Z",
     "iopub.status.idle": "2023-02-24T22:38:54.497836Z",
     "shell.execute_reply": "2023-02-24T22:38:54.497544Z",
     "shell.execute_reply.started": "2023-02-24T22:38:54.495146Z"
    },
    "id": "cd029e70-ca81-47dc-9ea4-14ac9ffa93b6",
    "tags": []
   },
   "outputs": [],
   "source": [
    "def create_dataset(filenames, labels, is_training=True):\n",
    "    \"\"\"Load and parse dataset.\n",
    "    Args:\n",
    "        filenames: list of image paths\n",
    "        labels: numpy array of shape (BATCH_SIZE, N_LABELS)\n",
    "        is_training: boolean to indicate training mode\n",
    "    \"\"\"\n",
    "\n",
    "    # Create a first dataset of file paths and labels\n",
    "    dataset = tf.data.Dataset.from_tensor_slices((filenames, labels))\n",
    "    # Parse and preprocess observations in parallel\n",
    "    dataset = dataset.map(parse_function, num_parallel_calls=AUTOTUNE)\n",
    "\n",
    "    if is_training == True:\n",
    "        # This is a small dataset, only load it once, and keep it in memory.\n",
    "        dataset = dataset.cache()\n",
    "        # Shuffle the data each buffer size\n",
    "        dataset = dataset.shuffle(buffer_size=SHUFFLE_BUFFER_SIZE)\n",
    "\n",
    "    # Batch the data for multiple steps\n",
    "    dataset = dataset.batch(BATCH_SIZE)\n",
    "    # Fetch batches in the background while the model is training.\n",
    "    dataset = dataset.prefetch(buffer_size=AUTOTUNE)\n",
    "\n",
    "    return dataset"
   ]
  },
  {
   "cell_type": "code",
   "execution_count": 43,
   "id": "48448164-e18a-4908-b810-a4cc53243565",
   "metadata": {
    "execution": {
     "iopub.execute_input": "2023-02-24T22:38:54.498409Z",
     "iopub.status.busy": "2023-02-24T22:38:54.498306Z",
     "iopub.status.idle": "2023-02-24T22:38:54.533336Z",
     "shell.execute_reply": "2023-02-24T22:38:54.532893Z",
     "shell.execute_reply.started": "2023-02-24T22:38:54.498400Z"
    },
    "id": "48448164-e18a-4908-b810-a4cc53243565",
    "tags": []
   },
   "outputs": [],
   "source": [
    "filenames = data_balanced.img_idx.to_list()\n",
    "filepaths = [str(pathlib.Path(data_dir, filename)) for filename in filenames]\n",
    "label_sets_binarized = np.array(\n",
    "    data_balanced[label_names].apply(lambda x: x + 0), dtype=np.uint8\n",
    ")"
   ]
  },
  {
   "cell_type": "code",
   "execution_count": 44,
   "id": "578427ce-6145-4fc5-88ce-48a910850f84",
   "metadata": {
    "execution": {
     "iopub.execute_input": "2023-02-24T22:38:54.534154Z",
     "iopub.status.busy": "2023-02-24T22:38:54.534049Z",
     "iopub.status.idle": "2023-02-24T22:38:54.874434Z",
     "shell.execute_reply": "2023-02-24T22:38:54.874079Z",
     "shell.execute_reply.started": "2023-02-24T22:38:54.534144Z"
    },
    "id": "578427ce-6145-4fc5-88ce-48a910850f84",
    "tags": []
   },
   "outputs": [],
   "source": [
    "from sklearn.model_selection import train_test_split\n",
    "\n",
    "X_train, X_val, y_train_bin, y_val_bin = train_test_split(\n",
    "    filepaths, label_sets_binarized, test_size=0.2\n",
    ")"
   ]
  },
  {
   "cell_type": "code",
   "execution_count": 45,
   "id": "07f321de-c8e3-4561-853e-ed558b2cae3d",
   "metadata": {
    "execution": {
     "iopub.execute_input": "2023-02-24T22:38:54.875153Z",
     "iopub.status.busy": "2023-02-24T22:38:54.875023Z",
     "iopub.status.idle": "2023-02-24T22:38:54.947903Z",
     "shell.execute_reply": "2023-02-24T22:38:54.947563Z",
     "shell.execute_reply.started": "2023-02-24T22:38:54.875144Z"
    },
    "id": "07f321de-c8e3-4561-853e-ed558b2cae3d",
    "tags": []
   },
   "outputs": [],
   "source": [
    "train_ds = create_dataset(X_train, y_train_bin)\n",
    "val_ds = create_dataset(X_val, y_val_bin)"
   ]
  },
  {
   "cell_type": "markdown",
   "id": "dc07afce-e819-4c6b-be05-3f5579954531",
   "metadata": {
    "id": "dc07afce-e819-4c6b-be05-3f5579954531"
   },
   "source": [
    "We now, finally, have our training and validation data sets with the correct tensor sizes and data types.  \n",
    "Now let's create the test set from the data that was _not_ selected while creating the balanced dataset. (Stored in `remaining_data`)"
   ]
  },
  {
   "cell_type": "code",
   "execution_count": 46,
   "id": "0Dz8ktSe-dFn",
   "metadata": {
    "colab": {
     "base_uri": "https://localhost:8080/"
    },
    "execution": {
     "iopub.execute_input": "2023-02-24T22:38:54.948498Z",
     "iopub.status.busy": "2023-02-24T22:38:54.948408Z",
     "iopub.status.idle": "2023-02-24T22:38:54.988864Z",
     "shell.execute_reply": "2023-02-24T22:38:54.988551Z",
     "shell.execute_reply.started": "2023-02-24T22:38:54.948489Z"
    },
    "id": "0Dz8ktSe-dFn",
    "outputId": "2c8669ce-b33e-435f-c07c-6245fc148caf"
   },
   "outputs": [
    {
     "data": {
      "text/plain": [
       "label_pneumothorax          143\n",
       "label_pneumonia             143\n",
       "label_consolidation         145\n",
       "label_cardiomegaly          146\n",
       "label_pleural_thickening    148\n",
       "label_effusion              156\n",
       "label_other                 343\n",
       "dtype: int64"
      ]
     },
     "execution_count": 46,
     "metadata": {},
     "output_type": "execute_result"
    }
   ],
   "source": [
    "# Let's take a balanced subset...\n",
    "test_data_balanced = remaining_data[remaining_data[rarest_label]]\n",
    "n_min = test_data_balanced.shape[0]\n",
    "\n",
    "for label, count in zip(label_counts_sorted.index[1:], label_counts_sorted[1:]):\n",
    "    n_already_captured = test_data_balanced[test_data_balanced[label]].shape[0]\n",
    "    n_additional = n_min - n_already_captured\n",
    "    if n_additional > 0:\n",
    "        not_selected_indices = remaining_data.index.difference(test_data_balanced.index)\n",
    "        not_selected_data = remaining_data.loc[not_selected_indices]\n",
    "        rows_to_add = not_selected_data[not_selected_data[label]].sample(n_additional)\n",
    "        test_data_balanced = pd.concat([test_data_balanced, rows_to_add], axis=0)\n",
    "\n",
    "test_data_balanced[label_names].sum(axis=0).sort_values()"
   ]
  },
  {
   "cell_type": "code",
   "execution_count": null,
   "id": "8416c797-34f4-49b0-a869-8ba9c6eaa80c",
   "metadata": {
    "execution": {
     "iopub.execute_input": "2023-02-24T22:38:54.989565Z",
     "iopub.status.busy": "2023-02-24T22:38:54.989468Z",
     "iopub.status.idle": "2023-02-24T22:38:55.005751Z",
     "shell.execute_reply": "2023-02-24T22:38:55.005305Z",
     "shell.execute_reply.started": "2023-02-24T22:38:54.989557Z"
    },
    "id": "8416c797-34f4-49b0-a869-8ba9c6eaa80c",
    "tags": []
   },
   "outputs": [],
   "source": [
    "filenames_test = test_data_balanced.img_idx.to_list()\n",
    "X_test = [str(pathlib.Path(data_dir, filename)) for filename in filenames_test]\n",
    "y_test_bin = np.array(\n",
    "    test_data_balanced[label_names].apply(lambda x: x + 0), dtype=np.uint8\n",
    ")\n",
    "test_ds = create_dataset(X_test, y_test_bin)"
   ]
  },
  {
   "cell_type": "markdown",
   "id": "1ac05cae-cfc0-4306-b611-1fab5552e390",
   "metadata": {
    "id": "1ac05cae-cfc0-4306-b611-1fab5552e390"
   },
   "source": [
    "# Modelling"
   ]
  },
  {
   "cell_type": "markdown",
   "id": "05b49c66-669b-4057-899b-3290537cdeee",
   "metadata": {},
   "source": [
    "## Loss Function and Evaluation Metrics"
   ]
  },
  {
   "cell_type": "markdown",
   "id": "7f72d6ae-de4d-477a-adab-c9e2010af3a1",
   "metadata": {
    "id": "7f72d6ae-de4d-477a-adab-c9e2010af3a1"
   },
   "source": [
    "The function below, from [the Medium post mentioned earlier](https://towardsdatascience.com/multi-label-image-classification-in-tensorflow-2-0-7d4cf8a4bc72), will provide our evaluation metric:"
   ]
  },
  {
   "cell_type": "code",
   "execution_count": 47,
   "id": "2c3a2129-0689-4629-9138-ee2243b8e26f",
   "metadata": {
    "execution": {
     "iopub.execute_input": "2023-02-24T22:38:55.006445Z",
     "iopub.status.busy": "2023-02-24T22:38:55.006348Z",
     "iopub.status.idle": "2023-02-24T22:38:55.011330Z",
     "shell.execute_reply": "2023-02-24T22:38:55.010686Z",
     "shell.execute_reply.started": "2023-02-24T22:38:55.006435Z"
    },
    "id": "2c3a2129-0689-4629-9138-ee2243b8e26f",
    "tags": []
   },
   "outputs": [],
   "source": [
    "def macro_f1(y, y_hat, thresh=0.5):\n",
    "    \"\"\"Compute the macro F1-score on a batch of observations (average F1 across labels)\n",
    "\n",
    "    Args:\n",
    "        y (int32 Tensor): labels array of shape (BATCH_SIZE, N_LABELS)\n",
    "        y_hat (float32 Tensor): probability matrix from forward propagation of shape (BATCH_SIZE, N_LABELS)\n",
    "        thresh: probability value above which we predict positive\n",
    "\n",
    "    Returns:\n",
    "        macro_f1 (scalar Tensor): value of macro F1 for the batch\n",
    "    \"\"\"\n",
    "    y_pred = tf.cast(tf.greater(y_hat, thresh), tf.float32)\n",
    "    tp = tf.cast(tf.math.count_nonzero(y_pred * y, axis=0), tf.float32)\n",
    "    fp = tf.cast(tf.math.count_nonzero(y_pred * (1 - y), axis=0), tf.float32)\n",
    "    fn = tf.cast(tf.math.count_nonzero((1 - y_pred) * y, axis=0), tf.float32)\n",
    "    f1 = 2 * tp / (2 * tp + fn + fp + 1e-16)\n",
    "    macro_f1 = tf.reduce_mean(f1)\n",
    "    return macro_f1"
   ]
  },
  {
   "cell_type": "markdown",
   "id": "5552cd2b-c1f2-4de6-a113-a224aa7b7bfc",
   "metadata": {
    "id": "5552cd2b-c1f2-4de6-a113-a224aa7b7bfc"
   },
   "source": [
    "And the one below, from a related blog post ([here](https://towardsdatascience.com/the-unknown-benefits-of-using-a-soft-f1-loss-in-classification-systems-753902c0105d)), provides a differentiable version of the above, for our loss function:"
   ]
  },
  {
   "cell_type": "code",
   "execution_count": 48,
   "id": "d7bfd91f-e5d4-4911-8ff9-5ec9fc05bdae",
   "metadata": {
    "execution": {
     "iopub.execute_input": "2023-02-24T22:38:55.012066Z",
     "iopub.status.busy": "2023-02-24T22:38:55.011949Z",
     "iopub.status.idle": "2023-02-24T22:38:55.015127Z",
     "shell.execute_reply": "2023-02-24T22:38:55.014712Z",
     "shell.execute_reply.started": "2023-02-24T22:38:55.012054Z"
    },
    "id": "d7bfd91f-e5d4-4911-8ff9-5ec9fc05bdae",
    "tags": []
   },
   "outputs": [],
   "source": [
    "def macro_soft_f1(y, y_hat):\n",
    "    \"\"\"Compute the macro soft F1-score as a cost.\n",
    "    Average (1 - soft-F1) across all labels.\n",
    "    Use probability values instead of binary predictions.\n",
    "\n",
    "    Args:\n",
    "        y (int32 Tensor): targets array of shape (BATCH_SIZE, N_LABELS)\n",
    "        y_hat (float32 Tensor): probability matrix of shape (BATCH_SIZE, N_LABELS)\n",
    "\n",
    "    Returns:\n",
    "        cost (scalar Tensor): value of the cost function for the batch\n",
    "    \"\"\"\n",
    "\n",
    "    y = tf.cast(y, tf.float32)\n",
    "    y_hat = tf.cast(y_hat, tf.float32)\n",
    "    tp = tf.reduce_sum(y_hat * y, axis=0)\n",
    "    fp = tf.reduce_sum(y_hat * (1 - y), axis=0)\n",
    "    fn = tf.reduce_sum((1 - y_hat) * y, axis=0)\n",
    "    soft_f1 = 2 * tp / (2 * tp + fn + fp + 1e-16)\n",
    "    cost = 1 - soft_f1  # reduce 1 - soft-f1 in order to increase soft-f1\n",
    "    macro_cost = tf.reduce_mean(cost)  # average on all labels\n",
    "\n",
    "    return macro_cost"
   ]
  },
  {
   "cell_type": "markdown",
   "id": "397a5ec4-72cf-4ffd-9c16-288e6a3195cf",
   "metadata": {},
   "source": [
    "## Baseline Model"
   ]
  },
  {
   "cell_type": "markdown",
   "id": "95a5978b-c44a-4879-a5df-b451bb85f3d0",
   "metadata": {},
   "source": [
    "What if we just returned ones across the board? (i.e. naively predict that all patients have all of the conditions)  \n",
    "Or if we randomly predicted the conditions based on their frequencies of occurrence?  \n",
    "We need _something_ to compare our eventual model's evaluation metrics to.  \n",
    "Let us explore this further now."
   ]
  },
  {
   "cell_type": "markdown",
   "id": "5e29e76b-9180-4e4e-8afd-b3d2be459dac",
   "metadata": {},
   "source": [
    "### Naive baseline #1: All ones across the board"
   ]
  },
  {
   "cell_type": "code",
   "execution_count": null,
   "id": "95e210b8-b30f-4828-b87c-17c2d65ee861",
   "metadata": {
    "execution": {
     "iopub.execute_input": "2023-02-24T22:38:55.015673Z",
     "iopub.status.busy": "2023-02-24T22:38:55.015581Z",
     "iopub.status.idle": "2023-02-24T22:38:55.023669Z",
     "shell.execute_reply": "2023-02-24T22:38:55.023357Z",
     "shell.execute_reply.started": "2023-02-24T22:38:55.015663Z"
    },
    "tags": []
   },
   "outputs": [],
   "source": [
    "pred_all_ones = np.ones(y_test_bin.shape)\n",
    "macro_f1(y_test_bin, pred_all_ones)"
   ]
  },
  {
   "cell_type": "code",
   "execution_count": null,
   "id": "d28876e0-56a8-4fcb-b32d-2d45e7bfdce0",
   "metadata": {
    "execution": {
     "iopub.execute_input": "2023-02-24T22:38:55.024321Z",
     "iopub.status.busy": "2023-02-24T22:38:55.024197Z",
     "iopub.status.idle": "2023-02-24T22:38:55.031964Z",
     "shell.execute_reply": "2023-02-24T22:38:55.031398Z",
     "shell.execute_reply.started": "2023-02-24T22:38:55.024310Z"
    },
    "tags": []
   },
   "outputs": [],
   "source": [
    "from sklearn.metrics import classification_report\n",
    "\n",
    "print(classification_report(y_test_bin, pred_all_ones, target_names=label_names))"
   ]
  },
  {
   "cell_type": "markdown",
   "id": "32524c82-d7bc-4748-b0d8-7a257b7c131f",
   "metadata": {
    "tags": []
   },
   "source": [
    "### Naive Baseline #2: Random based on frequency"
   ]
  },
  {
   "cell_type": "code",
   "execution_count": null,
   "id": "54fc57b8-7ea9-4980-8fb8-172f47127b66",
   "metadata": {
    "execution": {
     "iopub.execute_input": "2023-02-24T22:38:55.032897Z",
     "iopub.status.busy": "2023-02-24T22:38:55.032739Z",
     "iopub.status.idle": "2023-02-24T22:38:55.037441Z",
     "shell.execute_reply": "2023-02-24T22:38:55.037074Z",
     "shell.execute_reply.started": "2023-02-24T22:38:55.032886Z"
    },
    "tags": []
   },
   "outputs": [],
   "source": [
    "label_ratios = data_balanced[label_names].sum(axis=0) / len(data_balanced)\n",
    "label_ratios"
   ]
  },
  {
   "cell_type": "code",
   "execution_count": null,
   "id": "3a81f9e1-5a84-459f-a854-24aff07a84a9",
   "metadata": {
    "execution": {
     "iopub.execute_input": "2023-02-24T22:38:55.038083Z",
     "iopub.status.busy": "2023-02-24T22:38:55.037986Z",
     "iopub.status.idle": "2023-02-24T22:38:55.041165Z",
     "shell.execute_reply": "2023-02-24T22:38:55.040885Z",
     "shell.execute_reply.started": "2023-02-24T22:38:55.038073Z"
    },
    "tags": []
   },
   "outputs": [],
   "source": [
    "pred_random_label_counts = round(y_test_bin.shape[0] * label_ratios)\n",
    "pred_random_label_counts"
   ]
  },
  {
   "cell_type": "code",
   "execution_count": null,
   "id": "1f47305e-9373-41c1-859c-6f8838939e2d",
   "metadata": {
    "execution": {
     "iopub.execute_input": "2023-02-24T22:38:55.042020Z",
     "iopub.status.busy": "2023-02-24T22:38:55.041854Z",
     "iopub.status.idle": "2023-02-24T22:38:55.047009Z",
     "shell.execute_reply": "2023-02-24T22:38:55.046684Z",
     "shell.execute_reply.started": "2023-02-24T22:38:55.042004Z"
    },
    "tags": []
   },
   "outputs": [],
   "source": [
    "pred_random = np.zeros(y_test_bin.shape)\n",
    "\n",
    "for i, label in enumerate(label_names):\n",
    "    pred_random[\n",
    "        np.random.choice(\n",
    "            pred_random.shape[0], int(pred_random_label_counts[label]), replace=False\n",
    "        ),\n",
    "        i,\n",
    "    ] = 1\n",
    "\n",
    "# pred_random.sum(axis=0)\n",
    "macro_f1(y_test_bin, pred_random)"
   ]
  },
  {
   "cell_type": "code",
   "execution_count": null,
   "id": "bbaefd76-7d14-4064-be44-8b3eff84dd63",
   "metadata": {
    "execution": {
     "iopub.execute_input": "2023-02-24T22:38:55.047742Z",
     "iopub.status.busy": "2023-02-24T22:38:55.047557Z",
     "iopub.status.idle": "2023-02-24T22:38:55.055804Z",
     "shell.execute_reply": "2023-02-24T22:38:55.055333Z",
     "shell.execute_reply.started": "2023-02-24T22:38:55.047717Z"
    },
    "tags": []
   },
   "outputs": [],
   "source": [
    "print(classification_report(y_test_bin, pred_random, target_names=label_names))"
   ]
  },
  {
   "cell_type": "markdown",
   "id": "4a142a8c-79a8-47a7-82cf-79f2b40bff46",
   "metadata": {},
   "source": [
    "## Transfer Learning"
   ]
  },
  {
   "cell_type": "markdown",
   "id": "81470564-3cf6-4512-bf1c-2fc8ea91d4de",
   "metadata": {},
   "source": [
    "We will be performing transfer learning using one of the many available pre-trained deep convolutional neural networks such as those listed in [this paper](https://www.nature.com/articles/s41598-020-70479-z.pdf?origin=ppubhttps://www.nature.com/articles/s41598-020-70479-z.pdf?origin=ppub)."
   ]
  },
  {
   "cell_type": "code",
   "execution_count": null,
   "id": "6ecc0b5d-7fbc-4324-9877-129784cdbf73",
   "metadata": {
    "execution": {
     "iopub.execute_input": "2023-02-24T22:38:55.061437Z",
     "iopub.status.busy": "2023-02-24T22:38:55.061250Z",
     "iopub.status.idle": "2023-02-24T22:38:55.064065Z",
     "shell.execute_reply": "2023-02-24T22:38:55.063670Z",
     "shell.execute_reply.started": "2023-02-24T22:38:55.061424Z"
    },
    "id": "6ecc0b5d-7fbc-4324-9877-129784cdbf73",
    "tags": []
   },
   "outputs": [],
   "source": [
    "LR = 1e-5  # For transfer learning, use a small value such as 1e5\n",
    "EPOCHS = 30\n",
    "\n",
    "\n",
    "def get_pretrained_model():\n",
    "    pretrained_model = tf.keras.applications.vgg16.VGG16( # tf.keras.applications.resnet50.ResNet50(\n",
    "        include_top=False,\n",
    "        input_shape=(IMG_SIZE, IMG_SIZE, CHANNELS),\n",
    "    )\n",
    "    pretrained_model.trainable = False\n",
    "    return pretrained_model"
   ]
  },
  {
   "cell_type": "code",
   "execution_count": null,
   "id": "65d745b5-138b-4a2a-ab5c-067be8a89e38",
   "metadata": {
    "execution": {
     "iopub.execute_input": "2023-02-24T22:38:55.064798Z",
     "iopub.status.busy": "2023-02-24T22:38:55.064541Z",
     "iopub.status.idle": "2023-02-24T22:38:55.066610Z",
     "shell.execute_reply": "2023-02-24T22:38:55.066165Z",
     "shell.execute_reply.started": "2023-02-24T22:38:55.064787Z"
    },
    "id": "65d745b5-138b-4a2a-ab5c-067be8a89e38",
    "tags": []
   },
   "outputs": [],
   "source": [
    "# pretrained = get_pretrained_model()\n",
    "# pretrained.summary()"
   ]
  },
  {
   "cell_type": "code",
   "execution_count": null,
   "id": "40ffa302-d03e-4f9d-b6b2-6976b358c2ec",
   "metadata": {
    "execution": {
     "iopub.execute_input": "2023-02-24T22:38:55.067338Z",
     "iopub.status.busy": "2023-02-24T22:38:55.067088Z",
     "iopub.status.idle": "2023-02-24T22:38:55.070586Z",
     "shell.execute_reply": "2023-02-24T22:38:55.070217Z",
     "shell.execute_reply.started": "2023-02-24T22:38:55.067318Z"
    },
    "id": "40ffa302-d03e-4f9d-b6b2-6976b358c2ec",
    "tags": []
   },
   "outputs": [],
   "source": [
    "def create_compiled_custom_model():\n",
    "    base_model = get_pretrained_model()\n",
    "    flattening_layer = tf.keras.layers.Flatten()\n",
    "    dense_layer_1 = tf.keras.layers.Dense(250, activation=\"relu\")\n",
    "    dense_layer_2 = tf.keras.layers.Dense(100, activation=\"relu\")\n",
    "    dense_layer_3 = tf.keras.layers.Dense(50, activation=\"relu\")\n",
    "    prediction_layer = tf.keras.layers.Dense(N_LABELS, activation=\"sigmoid\")\n",
    "\n",
    "    model = tf.keras.models.Sequential(\n",
    "        [\n",
    "            base_model,\n",
    "            flattening_layer,\n",
    "            dense_layer_1,\n",
    "            dense_layer_2,\n",
    "            dense_layer_3,\n",
    "            prediction_layer,\n",
    "        ]\n",
    "    )\n",
    "\n",
    "    opt = tf.keras.optimizers.Adam(learning_rate=LR)\n",
    "\n",
    "    model.compile(\n",
    "        optimizer=opt,\n",
    "        loss=macro_soft_f1,\n",
    "        metrics=[macro_f1],\n",
    "    )\n",
    "\n",
    "    return model"
   ]
  },
  {
   "cell_type": "code",
   "execution_count": null,
   "id": "fe33c255-b992-4ef9-a3b0-6afcb8270d2d",
   "metadata": {
    "colab": {
     "base_uri": "https://localhost:8080/"
    },
    "execution": {
     "iopub.execute_input": "2023-02-24T22:38:55.071379Z",
     "iopub.status.busy": "2023-02-24T22:38:55.071250Z",
     "iopub.status.idle": "2023-02-24T22:38:55.388306Z",
     "shell.execute_reply": "2023-02-24T22:38:55.387771Z",
     "shell.execute_reply.started": "2023-02-24T22:38:55.071369Z"
    },
    "id": "fe33c255-b992-4ef9-a3b0-6afcb8270d2d",
    "outputId": "8d64f9d1-4c5e-49b0-d871-f3fb1304ab9f",
    "scrolled": true,
    "tags": []
   },
   "outputs": [],
   "source": [
    "test_model = create_compiled_custom_model()\n",
    "test_model.summary()"
   ]
  },
  {
   "cell_type": "code",
   "execution_count": null,
   "id": "97cfc223-e395-4018-a44f-5055982e471e",
   "metadata": {
    "colab": {
     "base_uri": "https://localhost:8080/"
    },
    "execution": {
     "iopub.execute_input": "2023-02-24T22:38:55.388855Z",
     "iopub.status.busy": "2023-02-24T22:38:55.388762Z",
     "iopub.status.idle": "2023-02-24T23:38:45.459487Z",
     "shell.execute_reply": "2023-02-24T23:38:45.457873Z",
     "shell.execute_reply.started": "2023-02-24T22:38:55.388845Z"
    },
    "id": "97cfc223-e395-4018-a44f-5055982e471e",
    "outputId": "6a3671e0-1a41-4be1-a308-d16e9cc6fa88",
    "tags": []
   },
   "outputs": [],
   "source": [
    "# es = tf.keras.callbacks.EarlyStopping(\n",
    "#     # monitor=\"val_macro_f1\", mode=\"max\", patience=5, verbose=1, restore_best_weights=True\n",
    "#     monitor=\"val_loss\",\n",
    "#     mode=\"min\",\n",
    "#     patience=5,\n",
    "#     verbose=1,\n",
    "#     restore_best_weights=True,\n",
    "# )\n",
    "# history = test_model.fit(\n",
    "#     train_ds, epochs=EPOCHS, validation_data=val_ds, verbose=1, callbacks=[es]\n",
    "# )"
   ]
  },
  {
   "cell_type": "code",
   "execution_count": null,
   "id": "UxftrAHT9Syd",
   "metadata": {
    "execution": {
     "iopub.status.busy": "2023-02-24T23:38:45.460149Z",
     "iopub.status.idle": "2023-02-24T23:38:45.460279Z",
     "shell.execute_reply": "2023-02-24T23:38:45.460215Z",
     "shell.execute_reply.started": "2023-02-24T23:38:45.460208Z"
    },
    "id": "UxftrAHT9Syd"
   },
   "outputs": [],
   "source": [
    "def plot_history(history):\n",
    "    fig, ax = plt.subplots(1, 2, figsize=(20, 7))\n",
    "    # --- LOSS: Soft Macro F1 ---\n",
    "    ax[0].plot(history.history[\"loss\"])\n",
    "    ax[0].plot(history.history[\"val_loss\"])\n",
    "    ax[0].set_title(\"Loss\")\n",
    "    ax[0].set_ylabel(\"Soft Macro F1\")\n",
    "    ax[0].set_xlabel(\"Epoch\")\n",
    "    ax[0].legend([\"Train\", \"Validation\"], loc=\"best\")\n",
    "    ax[0].grid(axis=\"x\", linewidth=0.5)\n",
    "    ax[0].grid(axis=\"y\", linewidth=0.5)\n",
    "\n",
    "    # --- METRICS: Macro F1 ---\n",
    "\n",
    "    ax[1].plot(history.history[\"macro_f1\"])\n",
    "    ax[1].plot(history.history[\"val_macro_f1\"])\n",
    "    ax[1].set_title(\"Metric\")\n",
    "    ax[1].set_ylabel(\"Macro F1\")\n",
    "    ax[1].set_xlabel(\"Epoch\")\n",
    "    ax[1].legend([\"Train\", \"Validation\"], loc=\"best\")\n",
    "    ax[1].grid(axis=\"x\", linewidth=0.5)\n",
    "    ax[1].grid(axis=\"y\", linewidth=0.5)\n",
    "\n",
    "    return ax"
   ]
  },
  {
   "cell_type": "code",
   "execution_count": null,
   "id": "7FLpbinD9U3R",
   "metadata": {
    "colab": {
     "base_uri": "https://localhost:8080/",
     "height": 458
    },
    "execution": {
     "iopub.status.busy": "2023-02-24T23:38:45.460790Z",
     "iopub.status.idle": "2023-02-24T23:38:45.460912Z",
     "shell.execute_reply": "2023-02-24T23:38:45.460850Z",
     "shell.execute_reply.started": "2023-02-24T23:38:45.460844Z"
    },
    "id": "7FLpbinD9U3R",
    "outputId": "0b4e03dd-cc29-4216-ad02-d290fd8ce97a"
   },
   "outputs": [],
   "source": [
    "plot_history(history);"
   ]
  },
  {
   "cell_type": "code",
   "execution_count": null,
   "id": "ed1c0d4c-4e1f-40de-b1ff-1b40033fe09b",
   "metadata": {
    "colab": {
     "base_uri": "https://localhost:8080/"
    },
    "execution": {
     "iopub.status.busy": "2023-02-24T23:38:45.461418Z",
     "iopub.status.idle": "2023-02-24T23:38:45.461566Z",
     "shell.execute_reply": "2023-02-24T23:38:45.461496Z",
     "shell.execute_reply.started": "2023-02-24T23:38:45.461490Z"
    },
    "id": "ed1c0d4c-4e1f-40de-b1ff-1b40033fe09b",
    "outputId": "bf737315-fd4c-4d21-9b1d-2100323888a7",
    "tags": []
   },
   "outputs": [],
   "source": [
    "res = test_model.evaluate(test_ds, return_dict=True)\n",
    "res"
   ]
  },
  {
   "cell_type": "code",
   "execution_count": null,
   "id": "3dfb8ace-5f81-4aa4-ba5b-118793929b40",
   "metadata": {
    "execution": {
     "iopub.status.busy": "2023-02-24T23:38:45.461954Z",
     "iopub.status.idle": "2023-02-24T23:38:45.462065Z",
     "shell.execute_reply": "2023-02-24T23:38:45.462011Z",
     "shell.execute_reply.started": "2023-02-24T23:38:45.462005Z"
    }
   },
   "outputs": [],
   "source": [
    "import pickle\n",
    "\n",
    "filename = \"test.pkl\"\n",
    "# pickle.dump(test_model, open(filename, \"wb\"))\n",
    "\n",
    "loaded_model = pickle.load(open(filename, \"rb\"))"
   ]
  },
  {
   "cell_type": "code",
   "execution_count": null,
   "id": "932ac7dd-75b1-4ddf-9598-46d08c3e9797",
   "metadata": {
    "execution": {
     "iopub.status.busy": "2023-02-24T23:38:45.462648Z",
     "iopub.status.idle": "2023-02-24T23:38:45.462914Z",
     "shell.execute_reply": "2023-02-24T23:38:45.462849Z",
     "shell.execute_reply.started": "2023-02-24T23:38:45.462842Z"
    },
    "tags": []
   },
   "outputs": [],
   "source": [
    "y_pred = []  # store predicted labels\n",
    "y_true = []  # store true labels\n",
    "\n",
    "# iterate over the dataset\n",
    "for image_batch, label_batch in dataset:   # use dataset.unbatch() with repeat\n",
    "   # append true labels\n",
    "   y_true.append(label_batch)\n",
    "   # compute predictions\n",
    "   preds = model.predict(image_batch)\n",
    "   # append predicted labels\n",
    "   y_pred.append(np.argmax(preds, axis = - 1))\n",
    "\n",
    "# convert the true and predicted labels into tensors\n",
    "correct_labels = tf.concat([item for item in y_true], axis = 0)\n",
    "predicted_labels = tf.concat([item for item in y_pred], axis = 0)"
   ]
  },
  {
   "cell_type": "code",
   "execution_count": null,
   "id": "1c83a007-ca9c-44b2-95ad-007313f8a642",
   "metadata": {
    "execution": {
     "iopub.status.busy": "2023-02-24T23:38:45.463311Z",
     "iopub.status.idle": "2023-02-24T23:38:45.463433Z",
     "shell.execute_reply": "2023-02-24T23:38:45.463371Z",
     "shell.execute_reply.started": "2023-02-24T23:38:45.463365Z"
    }
   },
   "outputs": [],
   "source": [
    "from sklearn.metrics import classification_report\n",
    "\n",
    "print(classification_report(y_true, y_pred, target_names=labels))"
   ]
  }
 ],
 "metadata": {
  "accelerator": "GPU",
  "colab": {
   "provenance": []
  },
  "gpuClass": "standard",
  "kernelspec": {
   "display_name": "Python 3 (ipykernel)",
   "language": "python",
   "name": "python3"
  },
  "language_info": {
   "codemirror_mode": {
    "name": "ipython",
    "version": 3
   },
   "file_extension": ".py",
   "mimetype": "text/x-python",
   "name": "python",
   "nbconvert_exporter": "python",
   "pygments_lexer": "ipython3",
   "version": "3.8.12"
  },
  "toc": {
   "base_numbering": 1,
   "nav_menu": {},
   "number_sections": true,
   "sideBar": true,
   "skip_h1_title": false,
   "title_cell": "Table of Contents",
   "title_sidebar": "Contents",
   "toc_cell": false,
   "toc_position": {},
   "toc_section_display": true,
   "toc_window_display": false
  }
 },
 "nbformat": 4,
 "nbformat_minor": 5
}
