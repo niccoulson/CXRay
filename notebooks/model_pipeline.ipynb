{
 "cells": [
  {
   "cell_type": "markdown",
   "id": "8504600a-f546-4258-92e7-61283f3f68f2",
   "metadata": {},
   "source": [
    "# Data Pre-Processing"
   ]
  },
  {
   "cell_type": "code",
   "execution_count": 17,
   "id": "5c07d8f8-e079-4e45-9b1a-05c75a56bd25",
   "metadata": {
    "execution": {
     "iopub.execute_input": "2023-02-21T10:26:37.408929Z",
     "iopub.status.busy": "2023-02-21T10:26:37.407998Z",
     "iopub.status.idle": "2023-02-21T10:26:37.419174Z",
     "shell.execute_reply": "2023-02-21T10:26:37.415862Z",
     "shell.execute_reply.started": "2023-02-21T10:26:37.408890Z"
    }
   },
   "outputs": [],
   "source": [
    "import os\n",
    "import pathlib\n",
    "\n",
    "import pandas as pd"
   ]
  },
  {
   "cell_type": "code",
   "execution_count": 18,
   "id": "7d1f0e05-7f0a-423b-8e60-d43afe9d30b1",
   "metadata": {
    "execution": {
     "iopub.execute_input": "2023-02-21T10:26:37.424611Z",
     "iopub.status.busy": "2023-02-21T10:26:37.422826Z",
     "iopub.status.idle": "2023-02-21T10:26:37.523108Z",
     "shell.execute_reply": "2023-02-21T10:26:37.522688Z",
     "shell.execute_reply.started": "2023-02-21T10:26:37.424577Z"
    }
   },
   "outputs": [
    {
     "data": {
      "text/html": [
       "<div>\n",
       "<style scoped>\n",
       "    .dataframe tbody tr th:only-of-type {\n",
       "        vertical-align: middle;\n",
       "    }\n",
       "\n",
       "    .dataframe tbody tr th {\n",
       "        vertical-align: top;\n",
       "    }\n",
       "\n",
       "    .dataframe thead th {\n",
       "        text-align: right;\n",
       "    }\n",
       "</style>\n",
       "<table border=\"1\" class=\"dataframe\">\n",
       "  <thead>\n",
       "    <tr style=\"text-align: right;\">\n",
       "      <th></th>\n",
       "      <th>img_idx</th>\n",
       "      <th>labels</th>\n",
       "      <th>age</th>\n",
       "      <th>gender</th>\n",
       "      <th>view_pos</th>\n",
       "      <th>label_cardiomegaly</th>\n",
       "      <th>label_effusion</th>\n",
       "      <th>label_no_finding</th>\n",
       "      <th>label_pneumothorax</th>\n",
       "      <th>label_pleural_thickening</th>\n",
       "      <th>label_pneumonia</th>\n",
       "      <th>label_consolidation</th>\n",
       "      <th>label_other</th>\n",
       "    </tr>\n",
       "  </thead>\n",
       "  <tbody>\n",
       "    <tr>\n",
       "      <th>0</th>\n",
       "      <td>00000001_000.png</td>\n",
       "      <td>Cardiomegaly</td>\n",
       "      <td>58</td>\n",
       "      <td>M</td>\n",
       "      <td>PA</td>\n",
       "      <td>True</td>\n",
       "      <td>False</td>\n",
       "      <td>False</td>\n",
       "      <td>False</td>\n",
       "      <td>False</td>\n",
       "      <td>False</td>\n",
       "      <td>False</td>\n",
       "      <td>False</td>\n",
       "    </tr>\n",
       "    <tr>\n",
       "      <th>1</th>\n",
       "      <td>00000001_001.png</td>\n",
       "      <td>Cardiomegaly|Emphysema</td>\n",
       "      <td>58</td>\n",
       "      <td>M</td>\n",
       "      <td>PA</td>\n",
       "      <td>True</td>\n",
       "      <td>False</td>\n",
       "      <td>False</td>\n",
       "      <td>False</td>\n",
       "      <td>False</td>\n",
       "      <td>False</td>\n",
       "      <td>False</td>\n",
       "      <td>True</td>\n",
       "    </tr>\n",
       "    <tr>\n",
       "      <th>2</th>\n",
       "      <td>00000001_002.png</td>\n",
       "      <td>Cardiomegaly|Effusion</td>\n",
       "      <td>58</td>\n",
       "      <td>M</td>\n",
       "      <td>PA</td>\n",
       "      <td>True</td>\n",
       "      <td>True</td>\n",
       "      <td>False</td>\n",
       "      <td>False</td>\n",
       "      <td>False</td>\n",
       "      <td>False</td>\n",
       "      <td>False</td>\n",
       "      <td>False</td>\n",
       "    </tr>\n",
       "    <tr>\n",
       "      <th>3</th>\n",
       "      <td>00000002_000.png</td>\n",
       "      <td>No Finding</td>\n",
       "      <td>81</td>\n",
       "      <td>M</td>\n",
       "      <td>PA</td>\n",
       "      <td>False</td>\n",
       "      <td>False</td>\n",
       "      <td>True</td>\n",
       "      <td>False</td>\n",
       "      <td>False</td>\n",
       "      <td>False</td>\n",
       "      <td>False</td>\n",
       "      <td>False</td>\n",
       "    </tr>\n",
       "    <tr>\n",
       "      <th>4</th>\n",
       "      <td>00000003_000.png</td>\n",
       "      <td>Hernia</td>\n",
       "      <td>81</td>\n",
       "      <td>F</td>\n",
       "      <td>PA</td>\n",
       "      <td>False</td>\n",
       "      <td>False</td>\n",
       "      <td>False</td>\n",
       "      <td>False</td>\n",
       "      <td>False</td>\n",
       "      <td>False</td>\n",
       "      <td>False</td>\n",
       "      <td>True</td>\n",
       "    </tr>\n",
       "  </tbody>\n",
       "</table>\n",
       "</div>"
      ],
      "text/plain": [
       "            img_idx                  labels  age gender view_pos  \\\n",
       "0  00000001_000.png            Cardiomegaly   58      M       PA   \n",
       "1  00000001_001.png  Cardiomegaly|Emphysema   58      M       PA   \n",
       "2  00000001_002.png   Cardiomegaly|Effusion   58      M       PA   \n",
       "3  00000002_000.png              No Finding   81      M       PA   \n",
       "4  00000003_000.png                  Hernia   81      F       PA   \n",
       "\n",
       "   label_cardiomegaly  label_effusion  label_no_finding  label_pneumothorax  \\\n",
       "0                True           False             False               False   \n",
       "1                True           False             False               False   \n",
       "2                True            True             False               False   \n",
       "3               False           False              True               False   \n",
       "4               False           False             False               False   \n",
       "\n",
       "   label_pleural_thickening  label_pneumonia  label_consolidation  label_other  \n",
       "0                     False            False                False        False  \n",
       "1                     False            False                False         True  \n",
       "2                     False            False                False        False  \n",
       "3                     False            False                False        False  \n",
       "4                     False            False                False         True  "
      ]
     },
     "execution_count": 18,
     "metadata": {},
     "output_type": "execute_result"
    }
   ],
   "source": [
    "cwd = os.getcwd()\n",
    "data_path = pathlib.Path(cwd, \"..\", \"clean_data\", \"cleaned_data.csv\")\n",
    "\n",
    "data = pd.read_csv(data_path)\n",
    "data.head()"
   ]
  },
  {
   "cell_type": "code",
   "execution_count": 19,
   "id": "6b869784-c376-4e9b-a6f7-d52d59463f8a",
   "metadata": {
    "execution": {
     "iopub.execute_input": "2023-02-21T10:26:37.523839Z",
     "iopub.status.busy": "2023-02-21T10:26:37.523725Z",
     "iopub.status.idle": "2023-02-21T10:26:37.526578Z",
     "shell.execute_reply": "2023-02-21T10:26:37.526237Z",
     "shell.execute_reply.started": "2023-02-21T10:26:37.523829Z"
    }
   },
   "outputs": [
    {
     "data": {
      "text/plain": [
       "['label_cardiomegaly',\n",
       " 'label_effusion',\n",
       " 'label_no_finding',\n",
       " 'label_pneumothorax',\n",
       " 'label_pleural_thickening',\n",
       " 'label_pneumonia',\n",
       " 'label_consolidation',\n",
       " 'label_other']"
      ]
     },
     "execution_count": 19,
     "metadata": {},
     "output_type": "execute_result"
    }
   ],
   "source": [
    "label_names = [l for l in data.columns if l.startswith(\"label_\")]\n",
    "label_names"
   ]
  },
  {
   "cell_type": "code",
   "execution_count": 20,
   "id": "3cf34114-2cd5-4e38-905c-537dafed3d25",
   "metadata": {
    "execution": {
     "iopub.execute_input": "2023-02-21T10:26:37.527833Z",
     "iopub.status.busy": "2023-02-21T10:26:37.527702Z",
     "iopub.status.idle": "2023-02-21T10:26:37.532344Z",
     "shell.execute_reply": "2023-02-21T10:26:37.531892Z",
     "shell.execute_reply.started": "2023-02-21T10:26:37.527821Z"
    }
   },
   "outputs": [
    {
     "data": {
      "text/plain": [
       "label_pneumonia              1430\n",
       "label_cardiomegaly           2776\n",
       "label_pleural_thickening     3384\n",
       "label_consolidation          4667\n",
       "label_pneumothorax           5301\n",
       "label_effusion              13316\n",
       "label_other                 39770\n",
       "label_no_finding            60353\n",
       "dtype: int64"
      ]
     },
     "execution_count": 20,
     "metadata": {},
     "output_type": "execute_result"
    }
   ],
   "source": [
    "label_counts_sorted = data[label_names].sum(axis=0).sort_values()\n",
    "label_counts_sorted"
   ]
  },
  {
   "cell_type": "markdown",
   "id": "ae949f0e-5b60-4f62-82cc-7d31ce90d706",
   "metadata": {
    "tags": []
   },
   "source": [
    "We want to have a balanced dataset that contains an equal number of examples of each condition (+\"no finding\"), regardless of 'overlaps' (i.e. multiple conditions).  \n",
    "\n",
    "We will start from the lowest common denominator, i.e. the condition with the fewest number of examples, i.e. pnemonia. We will choose **all** of the pneumonia cases, `N0 = N_pneumonia = 1430` above. Then we have to choose the same number of examples from each of the other conditions, in increasing order of the number of cases. But there are overlaps, so we will exclude cases already chosen from previous labels (i.e. those with fewer examples). We will keep adding examples until we have `N0` rows with each label.  \n",
    "\n",
    "Note that `label_other` will have no overlap with any other label."
   ]
  },
  {
   "cell_type": "code",
   "execution_count": 21,
   "id": "e4300583-52ac-44a7-8651-f7030d22a219",
   "metadata": {
    "execution": {
     "iopub.execute_input": "2023-02-21T10:26:37.533018Z",
     "iopub.status.busy": "2023-02-21T10:26:37.532899Z",
     "iopub.status.idle": "2023-02-21T10:26:37.602049Z",
     "shell.execute_reply": "2023-02-21T10:26:37.601697Z",
     "shell.execute_reply.started": "2023-02-21T10:26:37.533007Z"
    },
    "tags": []
   },
   "outputs": [
    {
     "data": {
      "text/plain": [
       "label_no_finding            1430\n",
       "label_pneumothorax          1430\n",
       "label_pneumonia             1430\n",
       "label_cardiomegaly          1474\n",
       "label_consolidation         1475\n",
       "label_pleural_thickening    1514\n",
       "label_effusion              1653\n",
       "label_other                 3421\n",
       "dtype: int64"
      ]
     },
     "execution_count": 21,
     "metadata": {},
     "output_type": "execute_result"
    }
   ],
   "source": [
    "rarest_label = label_counts_sorted.index[0]\n",
    "rarest_label_count = data[data[rarest_label]].shape[0]\n",
    "data_balanced = data[data[rarest_label]]\n",
    "n_min = data_balanced.shape[0]\n",
    "\n",
    "for label, count in zip(label_counts_sorted.index[1:], label_counts_sorted[1:]):\n",
    "    n_already_captured = data_balanced[data_balanced[label]].shape[0]\n",
    "    n_additional = n_min - n_already_captured\n",
    "    if n_additional > 0:\n",
    "        not_selected_indices = data.index.difference(data_balanced.index)\n",
    "        not_selected_data = data.loc[not_selected_indices]\n",
    "        rows_to_add = not_selected_data[not_selected_data[label]].sample(n_additional)\n",
    "        data_balanced = pd.concat([data_balanced, rows_to_add], axis=0)\n",
    "\n",
    "data_balanced[label_names].sum(axis=0).sort_values()"
   ]
  },
  {
   "cell_type": "markdown",
   "id": "5e30e3c5-ea59-4062-8db4-9020aa21ecc1",
   "metadata": {},
   "source": [
    "Actually let's keep a small percentage of the rarest class (pneumonia) for testing..."
   ]
  },
  {
   "cell_type": "code",
   "execution_count": 22,
   "id": "0c1e2d43-990c-47e5-8e0d-597642bdb37f",
   "metadata": {
    "execution": {
     "iopub.execute_input": "2023-02-21T10:26:37.602635Z",
     "iopub.status.busy": "2023-02-21T10:26:37.602545Z",
     "iopub.status.idle": "2023-02-21T10:26:37.607824Z",
     "shell.execute_reply": "2023-02-21T10:26:37.606912Z",
     "shell.execute_reply.started": "2023-02-21T10:26:37.602626Z"
    }
   },
   "outputs": [],
   "source": [
    "rarest_label_pct_to_keep = 0.1\n",
    "indices_to_remove = (\n",
    "    data_balanced[data_balanced[rarest_label]]\n",
    "    .sample(int(rarest_label_count * rarest_label_pct_to_keep))\n",
    "    .index\n",
    ")\n",
    "data_balanced.drop(indices_to_remove, inplace=True)"
   ]
  },
  {
   "cell_type": "code",
   "execution_count": 23,
   "id": "d7c63b40-b694-4643-96dc-bdeccdda5b86",
   "metadata": {
    "execution": {
     "iopub.execute_input": "2023-02-21T10:26:37.609064Z",
     "iopub.status.busy": "2023-02-21T10:26:37.608834Z",
     "iopub.status.idle": "2023-02-21T10:26:37.612958Z",
     "shell.execute_reply": "2023-02-21T10:26:37.612602Z",
     "shell.execute_reply.started": "2023-02-21T10:26:37.609044Z"
    },
    "tags": []
   },
   "outputs": [
    {
     "data": {
      "text/plain": [
       "(7744, 13)"
      ]
     },
     "execution_count": 23,
     "metadata": {},
     "output_type": "execute_result"
    }
   ],
   "source": [
    "data_balanced.shape"
   ]
  },
  {
   "cell_type": "code",
   "execution_count": 24,
   "id": "1e9ab967-8e37-484b-93cc-ddc3ed6429fb",
   "metadata": {
    "execution": {
     "iopub.execute_input": "2023-02-21T10:26:37.613620Z",
     "iopub.status.busy": "2023-02-21T10:26:37.613496Z",
     "iopub.status.idle": "2023-02-21T10:26:37.699180Z",
     "shell.execute_reply": "2023-02-21T10:26:37.698567Z",
     "shell.execute_reply.started": "2023-02-21T10:26:37.613608Z"
    },
    "tags": []
   },
   "outputs": [
    {
     "data": {
      "image/png": "[encoded data removed]",
      "text/plain": [
       "<Figure size 640x480 with 1 Axes>"
      ]
     },
     "metadata": {},
     "output_type": "display_data"
    }
   ],
   "source": [
    "data_balanced[label_names].sum(axis=0).sort_values().plot(kind=\"bar\");"
   ]
  },
  {
   "cell_type": "markdown",
   "id": "597a13e7-7211-4cec-9e80-edbba78afcca",
   "metadata": {},
   "source": [
    "We can use the remaining (i.e. not selected) data for our test set later on..."
   ]
  },
  {
   "cell_type": "code",
   "execution_count": 25,
   "id": "11123ac4-4c52-4ad9-8f8b-f54d2cd91990",
   "metadata": {
    "execution": {
     "iopub.execute_input": "2023-02-21T10:26:37.701444Z",
     "iopub.status.busy": "2023-02-21T10:26:37.701165Z",
     "iopub.status.idle": "2023-02-21T10:26:37.794579Z",
     "shell.execute_reply": "2023-02-21T10:26:37.794099Z",
     "shell.execute_reply.started": "2023-02-21T10:26:37.701421Z"
    }
   },
   "outputs": [
    {
     "data": {
      "image/png": "[encoded data removed]",
      "text/plain": [
       "<Figure size 640x480 with 1 Axes>"
      ]
     },
     "metadata": {},
     "output_type": "display_data"
    }
   ],
   "source": [
    "remaining_indices = data.index.difference(data_balanced.index)\n",
    "remaining_data = data.loc[remaining_indices]\n",
    "remaining_data[label_names].sum(axis=0).sort_values().plot(kind=\"bar\");"
   ]
  },
  {
   "cell_type": "code",
   "execution_count": 26,
   "id": "a20ee2ec-3ede-4e0c-a71a-7a845f5007a7",
   "metadata": {
    "execution": {
     "iopub.execute_input": "2023-02-21T10:26:37.797120Z",
     "iopub.status.busy": "2023-02-21T10:26:37.796957Z",
     "iopub.status.idle": "2023-02-21T10:26:37.799998Z",
     "shell.execute_reply": "2023-02-21T10:26:37.799451Z",
     "shell.execute_reply.started": "2023-02-21T10:26:37.797109Z"
    },
    "tags": []
   },
   "outputs": [],
   "source": [
    "# TO DO: Try to prioritize Posterior-Anterior (PA) projection when building a balanced dataset\n",
    "# data_balanced.view_pos.value_counts().plot(kind=\"bar\");"
   ]
  },
  {
   "cell_type": "markdown",
   "id": "f2580dc2-80cc-4f47-9e28-37fb905bb4a1",
   "metadata": {
    "tags": []
   },
   "source": [
    "# Loading the Images"
   ]
  },
  {
   "cell_type": "markdown",
   "id": "6cec4150-96a6-4cc6-bf4a-2770994fb612",
   "metadata": {},
   "source": [
    "There are two ways to go about this:\n",
    "1. Load the entire data set in memory if we have enough RAM, which we do. We estimate ~8000 images will take up between 4 to 8 gigabytes in RAM.\n",
    "2. \"Dataset generator\": Keras has an \"[image data generator](https://www.tensorflow.org/api_docs/python/tf/keras/preprocessing/image/ImageDataGenerator)\"."
   ]
  },
  {
   "cell_type": "markdown",
   "id": "3b99be35-a48c-4e9a-bb4e-2ae934c83b89",
   "metadata": {
    "execution": {
     "iopub.execute_input": "2023-02-18T00:29:54.101427Z",
     "iopub.status.busy": "2023-02-18T00:29:54.100329Z",
     "iopub.status.idle": "2023-02-18T00:29:54.114273Z",
     "shell.execute_reply": "2023-02-18T00:29:54.111551Z",
     "shell.execute_reply.started": "2023-02-18T00:29:54.101367Z"
    },
    "tags": []
   },
   "source": [
    "## Loading the Entire Dataset"
   ]
  },
  {
   "cell_type": "markdown",
   "id": "680b2875-b0ad-44cb-b94a-05593a5f6422",
   "metadata": {},
   "source": [
    "Let's try the first method first..."
   ]
  },
  {
   "cell_type": "code",
   "execution_count": 27,
   "id": "0b4de01d-2523-4463-87d2-cb5c2ea846ae",
   "metadata": {
    "execution": {
     "iopub.execute_input": "2023-02-21T10:26:37.801144Z",
     "iopub.status.busy": "2023-02-21T10:26:37.801003Z",
     "iopub.status.idle": "2023-02-21T10:26:37.804119Z",
     "shell.execute_reply": "2023-02-21T10:26:37.803113Z",
     "shell.execute_reply.started": "2023-02-21T10:26:37.801133Z"
    },
    "tags": []
   },
   "outputs": [],
   "source": [
    "import os\n",
    "import pathlib\n",
    "\n",
    "import numpy as np\n",
    "import PIL"
   ]
  },
  {
   "cell_type": "code",
   "execution_count": 28,
   "id": "c9a73848-7296-42e1-9e99-945bd2ddf375",
   "metadata": {
    "execution": {
     "iopub.execute_input": "2023-02-21T10:26:37.805011Z",
     "iopub.status.busy": "2023-02-21T10:26:37.804877Z",
     "iopub.status.idle": "2023-02-21T10:26:37.808376Z",
     "shell.execute_reply": "2023-02-21T10:26:37.807534Z",
     "shell.execute_reply.started": "2023-02-21T10:26:37.805000Z"
    },
    "tags": []
   },
   "outputs": [],
   "source": [
    "def load_img(img_filename):\n",
    "    data_dir = pathlib.Path(\"../raw_data/images\")\n",
    "    image_filename = img_filename\n",
    "    image = PIL.Image.open(pathlib.Path(data_dir, image_filename))\n",
    "    return image"
   ]
  },
  {
   "cell_type": "code",
   "execution_count": 29,
   "id": "1ec4e96e-ea3d-483d-aa3b-cf784cf9da0d",
   "metadata": {
    "execution": {
     "iopub.execute_input": "2023-02-21T10:26:37.808918Z",
     "iopub.status.busy": "2023-02-21T10:26:37.808814Z",
     "iopub.status.idle": "2023-02-21T10:26:37.814988Z",
     "shell.execute_reply": "2023-02-21T10:26:37.814658Z",
     "shell.execute_reply.started": "2023-02-21T10:26:37.808908Z"
    },
    "tags": []
   },
   "outputs": [
    {
     "data": {
      "text/plain": [
       "(1024, 1024)"
      ]
     },
     "execution_count": 29,
     "metadata": {},
     "output_type": "execute_result"
    }
   ],
   "source": [
    "n_images = data_balanced.shape[0]\n",
    "example_img = load_img(data_balanced.iloc[0, :][\"img_idx\"])\n",
    "img_dims = example_img.size\n",
    "img_dims"
   ]
  },
  {
   "cell_type": "code",
   "execution_count": 30,
   "id": "68945115-6f3f-46f5-96b6-231e704d9f3d",
   "metadata": {
    "execution": {
     "iopub.execute_input": "2023-02-21T10:26:37.816077Z",
     "iopub.status.busy": "2023-02-21T10:26:37.815732Z",
     "iopub.status.idle": "2023-02-21T10:26:37.821599Z",
     "shell.execute_reply": "2023-02-21T10:26:37.820977Z",
     "shell.execute_reply.started": "2023-02-21T10:26:37.816065Z"
    },
    "tags": []
   },
   "outputs": [
    {
     "data": {
      "text/plain": [
       "(7744, 1024, 1024)"
      ]
     },
     "execution_count": 30,
     "metadata": {},
     "output_type": "execute_result"
    }
   ],
   "source": [
    "img_data = np.zeros((n_images, *img_dims))\n",
    "img_data.shape"
   ]
  },
  {
   "cell_type": "code",
   "execution_count": 31,
   "id": "f16098ef-2a27-4eeb-9e86-d909e5158f3f",
   "metadata": {
    "execution": {
     "iopub.execute_input": "2023-02-21T10:26:37.822266Z",
     "iopub.status.busy": "2023-02-21T10:26:37.822139Z",
     "iopub.status.idle": "2023-02-21T10:26:37.826390Z",
     "shell.execute_reply": "2023-02-21T10:26:37.825883Z",
     "shell.execute_reply.started": "2023-02-21T10:26:37.822255Z"
    },
    "tags": []
   },
   "outputs": [],
   "source": [
    "# # This crashes Jupyter Notebook\n",
    "# for img in data_balanced.loc[:, \"img_idx\"]:\n",
    "#     # np.append(img_data, load_img(img))\n",
    "#     pass"
   ]
  },
  {
   "cell_type": "markdown",
   "id": "932daf17-a678-49c0-a263-4f356148deb7",
   "metadata": {},
   "source": [
    "That was a dud. It crashes Jupyter Notebook. Let us now explore the second method."
   ]
  },
  {
   "cell_type": "markdown",
   "id": "69babdb7-55d8-4e5d-9227-c5bb74bdd3ff",
   "metadata": {},
   "source": [
    "## Generating the Dataset on the Fly"
   ]
  },
  {
   "cell_type": "markdown",
   "id": "5e184236-774c-4fbd-b8e0-af301d53a897",
   "metadata": {},
   "source": [
    "It turns out [`tf.keras.preprocessing.image.ImageDataGenerator`](https://www.tensorflow.org/api_docs/python/tf/keras/preprocessing/image/ImageDataGenerator) is deprecated and hence not recommended for new code. Its successor, [`tf.keras.utils.image_dataset_from_directory`](https://www.tensorflow.org/api_docs/python/tf/keras/utils/image_dataset_from_directory) is unfortunately not really applicable to our multi-label problem. I found [this blog post](https://towardsdatascience.com/multi-label-image-classification-in-tensorflow-2-0-7d4cf8a4bc72) on how to leverage the underlying API, [`tf.data`](https://www.tensorflow.org/guide/data) for multi-label problems. Let us explore that."
   ]
  },
  {
   "cell_type": "code",
   "execution_count": 32,
   "id": "d2cdc6cc-5330-4385-82b5-5445d5709753",
   "metadata": {
    "execution": {
     "iopub.execute_input": "2023-02-21T10:26:37.827259Z",
     "iopub.status.busy": "2023-02-21T10:26:37.827036Z",
     "iopub.status.idle": "2023-02-21T10:26:41.126551Z",
     "shell.execute_reply": "2023-02-21T10:26:41.126176Z",
     "shell.execute_reply.started": "2023-02-21T10:26:37.827246Z"
    }
   },
   "outputs": [],
   "source": [
    "import tensorflow as tf"
   ]
  },
  {
   "cell_type": "code",
   "execution_count": 33,
   "id": "d52f5bca-94bd-45dc-8524-f7066f450f0b",
   "metadata": {
    "execution": {
     "iopub.execute_input": "2023-02-21T10:26:41.127378Z",
     "iopub.status.busy": "2023-02-21T10:26:41.127139Z",
     "iopub.status.idle": "2023-02-21T10:26:41.130354Z",
     "shell.execute_reply": "2023-02-21T10:26:41.130025Z",
     "shell.execute_reply.started": "2023-02-21T10:26:41.127368Z"
    },
    "tags": []
   },
   "outputs": [],
   "source": [
    "from tensorflow.keras.applications.resnet50 import preprocess_input\n",
    "\n",
    "# x = preprocess_input(x)\n",
    "# # Add an extra dimension to the input to represent a batch of size 1\n",
    "# x = np.expand_dims(x, axis=0)"
   ]
  },
  {
   "cell_type": "code",
   "execution_count": 34,
   "id": "2f73f540-5c71-4830-b4f9-d6a1000af377",
   "metadata": {
    "execution": {
     "iopub.execute_input": "2023-02-21T10:26:41.131140Z",
     "iopub.status.busy": "2023-02-21T10:26:41.131013Z",
     "iopub.status.idle": "2023-02-21T10:26:41.134167Z",
     "shell.execute_reply": "2023-02-21T10:26:41.133282Z",
     "shell.execute_reply.started": "2023-02-21T10:26:41.131131Z"
    },
    "tags": []
   },
   "outputs": [],
   "source": [
    "# In order to do 'transfer learning' using VGG16, ResNet, etc. our image needs to have three channels.\n",
    "# We will simply duplicate the one grayscale channel 2 more times.\n",
    "def expand_greyscale_image_channels(image):\n",
    "    if image.shape[-1] == 1:\n",
    "        grey_image_3_channel = tf.tile(image, tf.constant([1, 1, 3], tf.int32))\n",
    "    else:\n",
    "        grey_image_3_channel = image\n",
    "\n",
    "    return preprocess_input(grey_image_3_channel)"
   ]
  },
  {
   "cell_type": "code",
   "execution_count": 35,
   "id": "7fcbfe1b-02be-4c54-859f-ffb5fc700d66",
   "metadata": {
    "execution": {
     "iopub.execute_input": "2023-02-21T10:26:41.135118Z",
     "iopub.status.busy": "2023-02-21T10:26:41.134962Z",
     "iopub.status.idle": "2023-02-21T10:26:41.138679Z",
     "shell.execute_reply": "2023-02-21T10:26:41.138294Z",
     "shell.execute_reply.started": "2023-02-21T10:26:41.135107Z"
    },
    "tags": []
   },
   "outputs": [],
   "source": [
    "IMG_SIZE = 224  # img_dims[0]\n",
    "CHANNELS = 3  # The images WERE grayscale but we converted them to 3-channel\n",
    "\n",
    "\n",
    "def parse_function(filename, label):\n",
    "    \"\"\"Function that returns a tuple of normalized image array and labels array.\n",
    "    Args:\n",
    "        filename: string representing path to image\n",
    "        label: 0/1 one-dimensional array of size N_LABELS\n",
    "    \"\"\"\n",
    "    # Read an image from a file\n",
    "    image_string = tf.io.read_file(filename)\n",
    "    # Decode it into a dense vector\n",
    "    image_decoded = tf.image.decode_png(image_string, channels=CHANNELS)\n",
    "    # Resize it to fixed shape\n",
    "    image_resized = tf.image.resize(image_decoded, [IMG_SIZE, IMG_SIZE])\n",
    "    # Normalize it from [0, 255] to [0.0, 1.0]\n",
    "    image_normalized = tf.cast(image_resized, tf.float32) / 255.0\n",
    "    image_normalized_rgb = expand_greyscale_image_channels(image_normalized)\n",
    "    label_tensor = tf.convert_to_tensor(label, dtype=tf.uint8)\n",
    "    return image_normalized_rgb, label_tensor"
   ]
  },
  {
   "cell_type": "code",
   "execution_count": 36,
   "id": "52d232b7-4da7-4f28-bc46-d0bd28699c28",
   "metadata": {
    "execution": {
     "iopub.execute_input": "2023-02-21T10:26:41.139450Z",
     "iopub.status.busy": "2023-02-21T10:26:41.139354Z",
     "iopub.status.idle": "2023-02-21T10:26:41.206553Z",
     "shell.execute_reply": "2023-02-21T10:26:41.206082Z",
     "shell.execute_reply.started": "2023-02-21T10:26:41.139441Z"
    },
    "tags": []
   },
   "outputs": [
    {
     "data": {
      "text/plain": [
       "TensorShape([224, 224, 3])"
      ]
     },
     "execution_count": 36,
     "metadata": {},
     "output_type": "execute_result"
    }
   ],
   "source": [
    "cwd = os.getcwd()\n",
    "data_dir = pathlib.Path(cwd, \"..\", \"raw_data\", \"images\")\n",
    "\n",
    "# This works\n",
    "img_norm_rgb, label_tensor = parse_function(\n",
    "    str(pathlib.Path(data_dir, \"00000009_000.png\")),\n",
    "    np.array([True, False, False, True]) + 0,\n",
    ")\n",
    "img_norm_rgb.shape"
   ]
  },
  {
   "cell_type": "code",
   "execution_count": 37,
   "id": "5713fcd7-349b-49e9-89a9-57f91bd3d3ec",
   "metadata": {
    "execution": {
     "iopub.execute_input": "2023-02-21T10:26:41.207342Z",
     "iopub.status.busy": "2023-02-21T10:26:41.207218Z",
     "iopub.status.idle": "2023-02-21T10:26:41.347055Z",
     "shell.execute_reply": "2023-02-21T10:26:41.346715Z",
     "shell.execute_reply.started": "2023-02-21T10:26:41.207332Z"
    },
    "tags": []
   },
   "outputs": [
    {
     "data": {
      "text/plain": [
       "(1024, 1024)"
      ]
     },
     "execution_count": 37,
     "metadata": {},
     "output_type": "execute_result"
    },
    {
     "data": {
      "image/png": "[encoded data removed]",
      "text/plain": [
       "<Figure size 640x480 with 1 Axes>"
      ]
     },
     "metadata": {},
     "output_type": "display_data"
    }
   ],
   "source": [
    "import matplotlib.image as mpimg\n",
    "import matplotlib.pyplot as plt\n",
    "\n",
    "img = mpimg.imread(pathlib.Path(data_dir, \"00000009_000.png\"))\n",
    "plt.imshow(img, cmap=\"gray\")\n",
    "img.shape"
   ]
  },
  {
   "cell_type": "code",
   "execution_count": 38,
   "id": "72789baf-a72d-4f39-b9f3-3b28a84b5dfa",
   "metadata": {
    "execution": {
     "iopub.execute_input": "2023-02-21T10:26:41.347588Z",
     "iopub.status.busy": "2023-02-21T10:26:41.347486Z",
     "iopub.status.idle": "2023-02-21T10:26:41.350592Z",
     "shell.execute_reply": "2023-02-21T10:26:41.350138Z",
     "shell.execute_reply.started": "2023-02-21T10:26:41.347577Z"
    },
    "tags": []
   },
   "outputs": [],
   "source": [
    "BATCH_SIZE = 128  # The blog post suggested 256 is big enough to measure an F1-score but that was too big and it led to this error while I was training the model: BiasGrad requires tensor size <= int32 max\n",
    "AUTOTUNE = (\n",
    "    tf.data.experimental.AUTOTUNE\n",
    ")  # Adapt preprocessing and prefetching dynamically to reduce GPU and CPU idle time\n",
    "SHUFFLE_BUFFER_SIZE = 1024  # Shuffle the training data by a chunck of 1024 observations\n",
    "\n",
    "N_LABELS = len(label_names)"
   ]
  },
  {
   "cell_type": "code",
   "execution_count": 39,
   "id": "cd029e70-ca81-47dc-9ea4-14ac9ffa93b6",
   "metadata": {
    "execution": {
     "iopub.execute_input": "2023-02-21T10:26:41.351356Z",
     "iopub.status.busy": "2023-02-21T10:26:41.351240Z",
     "iopub.status.idle": "2023-02-21T10:26:41.355035Z",
     "shell.execute_reply": "2023-02-21T10:26:41.354379Z",
     "shell.execute_reply.started": "2023-02-21T10:26:41.351345Z"
    },
    "tags": []
   },
   "outputs": [],
   "source": [
    "def create_dataset(filenames, labels, is_training=True):\n",
    "    \"\"\"Load and parse dataset.\n",
    "    Args:\n",
    "        filenames: list of image paths\n",
    "        labels: numpy array of shape (BATCH_SIZE, N_LABELS)\n",
    "        is_training: boolean to indicate training mode\n",
    "    \"\"\"\n",
    "\n",
    "    # Create a first dataset of file paths and labels\n",
    "    dataset = tf.data.Dataset.from_tensor_slices((filenames, labels))\n",
    "    # Parse and preprocess observations in parallel\n",
    "    dataset = dataset.map(parse_function, num_parallel_calls=AUTOTUNE)\n",
    "\n",
    "    if is_training == True:\n",
    "        # This is a small dataset, only load it once, and keep it in memory.\n",
    "        dataset = dataset.cache()\n",
    "        # Shuffle the data each buffer size\n",
    "        dataset = dataset.shuffle(buffer_size=SHUFFLE_BUFFER_SIZE)\n",
    "\n",
    "    # Batch the data for multiple steps\n",
    "    dataset = dataset.batch(BATCH_SIZE)\n",
    "    # Fetch batches in the background while the model is training.\n",
    "    dataset = dataset.prefetch(buffer_size=AUTOTUNE)\n",
    "\n",
    "    return dataset"
   ]
  },
  {
   "cell_type": "code",
   "execution_count": 40,
   "id": "48448164-e18a-4908-b810-a4cc53243565",
   "metadata": {
    "execution": {
     "iopub.execute_input": "2023-02-21T10:26:41.355630Z",
     "iopub.status.busy": "2023-02-21T10:26:41.355526Z",
     "iopub.status.idle": "2023-02-21T10:26:41.403444Z",
     "shell.execute_reply": "2023-02-21T10:26:41.403026Z",
     "shell.execute_reply.started": "2023-02-21T10:26:41.355620Z"
    },
    "tags": []
   },
   "outputs": [],
   "source": [
    "filenames = data_balanced.img_idx.to_list()\n",
    "filepaths = [str(pathlib.Path(data_dir, filename)) for filename in filenames]\n",
    "label_sets_binarized = np.array(\n",
    "    data_balanced[label_names].apply(lambda x: x + 0), dtype=np.uint8\n",
    ")"
   ]
  },
  {
   "cell_type": "code",
   "execution_count": 41,
   "id": "578427ce-6145-4fc5-88ce-48a910850f84",
   "metadata": {
    "execution": {
     "iopub.execute_input": "2023-02-21T10:26:41.404228Z",
     "iopub.status.busy": "2023-02-21T10:26:41.404110Z",
     "iopub.status.idle": "2023-02-21T10:26:43.135655Z",
     "shell.execute_reply": "2023-02-21T10:26:43.135201Z",
     "shell.execute_reply.started": "2023-02-21T10:26:41.404218Z"
    },
    "tags": []
   },
   "outputs": [],
   "source": [
    "from sklearn.model_selection import train_test_split\n",
    "\n",
    "X_train, X_val, y_train_bin, y_val_bin = train_test_split(\n",
    "    filepaths, label_sets_binarized, test_size=0.2\n",
    ")"
   ]
  },
  {
   "cell_type": "code",
   "execution_count": 42,
   "id": "07f321de-c8e3-4561-853e-ed558b2cae3d",
   "metadata": {
    "execution": {
     "iopub.execute_input": "2023-02-21T10:26:43.136311Z",
     "iopub.status.busy": "2023-02-21T10:26:43.136194Z",
     "iopub.status.idle": "2023-02-21T10:26:43.317547Z",
     "shell.execute_reply": "2023-02-21T10:26:43.317117Z",
     "shell.execute_reply.started": "2023-02-21T10:26:43.136301Z"
    },
    "tags": []
   },
   "outputs": [],
   "source": [
    "train_ds = create_dataset(X_train, y_train_bin)\n",
    "val_ds = create_dataset(X_val, y_val_bin)"
   ]
  },
  {
   "cell_type": "markdown",
   "id": "dc07afce-e819-4c6b-be05-3f5579954531",
   "metadata": {},
   "source": [
    "We now, finally, have our training and validation data sets with the correct tensor sizes and data types.  \n",
    "Now let's create the test set from the data that was _not_ selected while creating the balanced dataset. (Stored in `remaining_data`)"
   ]
  },
  {
   "cell_type": "code",
   "execution_count": 43,
   "id": "8416c797-34f4-49b0-a869-8ba9c6eaa80c",
   "metadata": {
    "execution": {
     "iopub.execute_input": "2023-02-21T10:26:43.318362Z",
     "iopub.status.busy": "2023-02-21T10:26:43.318233Z",
     "iopub.status.idle": "2023-02-21T10:26:43.827004Z",
     "shell.execute_reply": "2023-02-21T10:26:43.826585Z",
     "shell.execute_reply.started": "2023-02-21T10:26:43.318352Z"
    },
    "tags": []
   },
   "outputs": [],
   "source": [
    "filenames_test = remaining_data.img_idx.to_list()\n",
    "X_test = [str(pathlib.Path(data_dir, filename)) for filename in filenames_test]\n",
    "y_test_bin = np.array(\n",
    "    remaining_data[label_names].apply(lambda x: x + 0), dtype=np.uint8\n",
    ")"
   ]
  },
  {
   "cell_type": "markdown",
   "id": "1ac05cae-cfc0-4306-b611-1fab5552e390",
   "metadata": {},
   "source": [
    "# Modelling"
   ]
  },
  {
   "cell_type": "markdown",
   "id": "b8edac64-4925-471f-9109-c4407faba6bd",
   "metadata": {},
   "source": [
    "Let us first attempt to get a generic custom CNN working just as a sanity check."
   ]
  },
  {
   "cell_type": "markdown",
   "id": "7f72d6ae-de4d-477a-adab-c9e2010af3a1",
   "metadata": {},
   "source": [
    "The function below, from [the Medium post mentioned earlier](https://towardsdatascience.com/multi-label-image-classification-in-tensorflow-2-0-7d4cf8a4bc72), will provide our evaluation metric:"
   ]
  },
  {
   "cell_type": "code",
   "execution_count": 44,
   "id": "2c3a2129-0689-4629-9138-ee2243b8e26f",
   "metadata": {
    "execution": {
     "iopub.execute_input": "2023-02-21T10:26:43.831148Z",
     "iopub.status.busy": "2023-02-21T10:26:43.830885Z",
     "iopub.status.idle": "2023-02-21T10:26:43.834682Z",
     "shell.execute_reply": "2023-02-21T10:26:43.834190Z",
     "shell.execute_reply.started": "2023-02-21T10:26:43.831133Z"
    },
    "tags": []
   },
   "outputs": [],
   "source": [
    "def macro_f1(y, y_hat, thresh=0.5):\n",
    "    \"\"\"Compute the macro F1-score on a batch of observations (average F1 across labels)\n",
    "\n",
    "    Args:\n",
    "        y (int32 Tensor): labels array of shape (BATCH_SIZE, N_LABELS)\n",
    "        y_hat (float32 Tensor): probability matrix from forward propagation of shape (BATCH_SIZE, N_LABELS)\n",
    "        thresh: probability value above which we predict positive\n",
    "\n",
    "    Returns:\n",
    "        macro_f1 (scalar Tensor): value of macro F1 for the batch\n",
    "    \"\"\"\n",
    "    y_pred = tf.cast(tf.greater(y_hat, thresh), tf.float32)\n",
    "    tp = tf.cast(tf.math.count_nonzero(y_pred * y, axis=0), tf.float32)\n",
    "    fp = tf.cast(tf.math.count_nonzero(y_pred * (1 - y), axis=0), tf.float32)\n",
    "    fn = tf.cast(tf.math.count_nonzero((1 - y_pred) * y, axis=0), tf.float32)\n",
    "    f1 = 2 * tp / (2 * tp + fn + fp + 1e-16)\n",
    "    macro_f1 = tf.reduce_mean(f1)\n",
    "    return macro_f1"
   ]
  },
  {
   "cell_type": "markdown",
   "id": "5552cd2b-c1f2-4de6-a113-a224aa7b7bfc",
   "metadata": {},
   "source": [
    "And the one below, from a related blog post ([here](https://towardsdatascience.com/the-unknown-benefits-of-using-a-soft-f1-loss-in-classification-systems-753902c0105d)), provides a differentiable version of the above, for our loss function:"
   ]
  },
  {
   "cell_type": "code",
   "execution_count": 45,
   "id": "d7bfd91f-e5d4-4911-8ff9-5ec9fc05bdae",
   "metadata": {
    "execution": {
     "iopub.execute_input": "2023-02-21T10:26:43.835619Z",
     "iopub.status.busy": "2023-02-21T10:26:43.835418Z",
     "iopub.status.idle": "2023-02-21T10:26:43.839886Z",
     "shell.execute_reply": "2023-02-21T10:26:43.838840Z",
     "shell.execute_reply.started": "2023-02-21T10:26:43.835598Z"
    },
    "tags": []
   },
   "outputs": [],
   "source": [
    "def macro_soft_f1(y, y_hat):\n",
    "    \"\"\"Compute the macro soft F1-score as a cost.\n",
    "    Average (1 - soft-F1) across all labels.\n",
    "    Use probability values instead of binary predictions.\n",
    "\n",
    "    Args:\n",
    "        y (int32 Tensor): targets array of shape (BATCH_SIZE, N_LABELS)\n",
    "        y_hat (float32 Tensor): probability matrix of shape (BATCH_SIZE, N_LABELS)\n",
    "\n",
    "    Returns:\n",
    "        cost (scalar Tensor): value of the cost function for the batch\n",
    "    \"\"\"\n",
    "\n",
    "    y = tf.cast(y, tf.float32)\n",
    "    y_hat = tf.cast(y_hat, tf.float32)\n",
    "    tp = tf.reduce_sum(y_hat * y, axis=0)\n",
    "    fp = tf.reduce_sum(y_hat * (1 - y), axis=0)\n",
    "    fn = tf.reduce_sum((1 - y_hat) * y, axis=0)\n",
    "    soft_f1 = 2 * tp / (2 * tp + fn + fp + 1e-16)\n",
    "    cost = 1 - soft_f1  # reduce 1 - soft-f1 in order to increase soft-f1\n",
    "    macro_cost = tf.reduce_mean(cost)  # average on all labels\n",
    "\n",
    "    return macro_cost"
   ]
  },
  {
   "cell_type": "code",
   "execution_count": 46,
   "id": "6ecc0b5d-7fbc-4324-9877-129784cdbf73",
   "metadata": {
    "execution": {
     "iopub.execute_input": "2023-02-21T10:26:43.840987Z",
     "iopub.status.busy": "2023-02-21T10:26:43.840782Z",
     "iopub.status.idle": "2023-02-21T10:26:43.843931Z",
     "shell.execute_reply": "2023-02-21T10:26:43.843447Z",
     "shell.execute_reply.started": "2023-02-21T10:26:43.840963Z"
    },
    "tags": []
   },
   "outputs": [],
   "source": [
    "LR = 1e-5  # For transfer learning, set this to a smaller number like 1e-5\n",
    "EPOCHS = 30\n",
    "\n",
    "def get_untrainable_resenet50():\n",
    "    resnet = tf.keras.applications.resnet50.ResNet50(\n",
    "        include_top=False,\n",
    "        input_shape=(IMG_SIZE, IMG_SIZE, CHANNELS),\n",
    "    )\n",
    "    resnet.trainable = False\n",
    "    return resnet"
   ]
  },
  {
   "cell_type": "code",
   "execution_count": 47,
   "id": "65d745b5-138b-4a2a-ab5c-067be8a89e38",
   "metadata": {
    "execution": {
     "iopub.execute_input": "2023-02-21T10:26:43.845298Z",
     "iopub.status.busy": "2023-02-21T10:26:43.845131Z",
     "iopub.status.idle": "2023-02-21T10:26:43.847507Z",
     "shell.execute_reply": "2023-02-21T10:26:43.846924Z",
     "shell.execute_reply.started": "2023-02-21T10:26:43.845287Z"
    },
    "tags": []
   },
   "outputs": [],
   "source": [
    "# resnet = get_untrainable_resenet50()\n",
    "# resnet.summary()"
   ]
  },
  {
   "cell_type": "code",
   "execution_count": 48,
   "id": "40ffa302-d03e-4f9d-b6b2-6976b358c2ec",
   "metadata": {
    "execution": {
     "iopub.execute_input": "2023-02-21T10:26:43.848434Z",
     "iopub.status.busy": "2023-02-21T10:26:43.848257Z",
     "iopub.status.idle": "2023-02-21T10:26:43.851962Z",
     "shell.execute_reply": "2023-02-21T10:26:43.851533Z",
     "shell.execute_reply.started": "2023-02-21T10:26:43.848421Z"
    },
    "tags": []
   },
   "outputs": [],
   "source": [
    "def create_compiled_custom_model():\n",
    "    base_model = get_untrainable_resenet50()\n",
    "    flattening_layer = tf.keras.layers.Flatten()\n",
    "    dense_layer = tf.keras.layers.Dense(100, activation=\"relu\")\n",
    "    prediction_layer = tf.keras.layers.Dense(N_LABELS, activation=\"sigmoid\")\n",
    "\n",
    "    model = tf.keras.models.Sequential(\n",
    "        [base_model, flattening_layer, dense_layer, prediction_layer]\n",
    "    )\n",
    "\n",
    "    opt = tf.keras.optimizers.Adam(learning_rate=LR)\n",
    "\n",
    "    model.compile(\n",
    "        optimizer=opt,\n",
    "        loss=macro_soft_f1,\n",
    "        metrics=[macro_f1],\n",
    "    )\n",
    "\n",
    "    return model"
   ]
  },
  {
   "cell_type": "code",
   "execution_count": 49,
   "id": "fe33c255-b992-4ef9-a3b0-6afcb8270d2d",
   "metadata": {
    "execution": {
     "iopub.execute_input": "2023-02-21T10:26:43.852676Z",
     "iopub.status.busy": "2023-02-21T10:26:43.852538Z",
     "iopub.status.idle": "2023-02-21T10:26:45.256429Z",
     "shell.execute_reply": "2023-02-21T10:26:45.253916Z",
     "shell.execute_reply.started": "2023-02-21T10:26:43.852665Z"
    },
    "tags": []
   },
   "outputs": [
    {
     "name": "stdout",
     "output_type": "stream",
     "text": [
      "Model: \"sequential\"\n",
      "_________________________________________________________________\n",
      " Layer (type)                Output Shape              Param #   \n",
      "=================================================================\n",
      " resnet50 (Functional)       (None, 7, 7, 2048)        23587712  \n",
      "                                                                 \n",
      " flatten (Flatten)           (None, 100352)            0         \n",
      "                                                                 \n",
      " dense (Dense)               (None, 100)               10035300  \n",
      "                                                                 \n",
      " dense_1 (Dense)             (None, 8)                 808       \n",
      "                                                                 \n",
      "=================================================================\n",
      "Total params: 33,623,820\n",
      "Trainable params: 10,036,108\n",
      "Non-trainable params: 23,587,712\n",
      "_________________________________________________________________\n"
     ]
    }
   ],
   "source": [
    "test_model = create_compiled_custom_model()\n",
    "test_model.summary()"
   ]
  },
  {
   "cell_type": "code",
   "execution_count": null,
   "id": "97cfc223-e395-4018-a44f-5055982e471e",
   "metadata": {
    "execution": {
     "iopub.execute_input": "2023-02-21T10:26:45.258512Z",
     "iopub.status.busy": "2023-02-21T10:26:45.258278Z"
    },
    "tags": []
   },
   "outputs": [
    {
     "name": "stdout",
     "output_type": "stream",
     "text": [
      "Epoch 1/30\n"
     ]
    },
    {
     "name": "stderr",
     "output_type": "stream",
     "text": [
      "2023-02-21 19:26:47.249405: W tensorflow/core/platform/profile_utils/cpu_utils.cc:128] Failed to get CPU frequency: 0 Hz\n"
     ]
    },
    {
     "name": "stdout",
     "output_type": "stream",
     "text": [
      "49/49 [==============================] - 212s 4s/step - loss: 0.6580 - macro_f1: 0.3422 - val_loss: 0.6495 - val_macro_f1: 0.3528\n",
      "Epoch 2/30\n",
      "34/49 [===================>..........] - ETA: 49s - loss: 0.6515 - macro_f1: 0.3493"
     ]
    }
   ],
   "source": [
    "es = tf.keras.callbacks.EarlyStopping(\n",
    "    monitor=\"val_macro_f1\", mode=\"max\", patience=5, verbose=1, restore_best_weights=True\n",
    ")\n",
    "history = test_model.fit(train_ds, epochs=EPOCHS, validation_data=val_ds, verbose=1, callbacks=[es])"
   ]
  },
  {
   "cell_type": "code",
   "execution_count": null,
   "id": "ed1c0d4c-4e1f-40de-b1ff-1b40033fe09b",
   "metadata": {},
   "outputs": [],
   "source": []
  }
 ],
 "metadata": {
  "kernelspec": {
   "display_name": "Python 3 (ipykernel)",
   "language": "python",
   "name": "python3"
  },
  "language_info": {
   "codemirror_mode": {
    "name": "ipython",
    "version": 3
   },
   "file_extension": ".py",
   "mimetype": "text/x-python",
   "name": "python",
   "nbconvert_exporter": "python",
   "pygments_lexer": "ipython3",
   "version": "3.10.6"
  }
 },
 "nbformat": 4,
 "nbformat_minor": 5
}
