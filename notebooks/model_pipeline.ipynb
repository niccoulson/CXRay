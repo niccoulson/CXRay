{
 "cells": [
  {
   "cell_type": "code",
   "execution_count": 2,
   "id": "pGXHVtqxYW8X",
   "metadata": {
    "colab": {
     "base_uri": "https://localhost:8080/"
    },
    "execution": {
     "iopub.execute_input": "2023-02-22T12:30:45.633694Z",
     "iopub.status.busy": "2023-02-22T12:30:45.632901Z",
     "iopub.status.idle": "2023-02-22T12:30:45.638497Z",
     "shell.execute_reply": "2023-02-22T12:30:45.637793Z",
     "shell.execute_reply.started": "2023-02-22T12:30:45.633651Z"
    },
    "id": "pGXHVtqxYW8X",
    "outputId": "584d6b5a-d040-4e71-f79a-469012868479"
   },
   "outputs": [],
   "source": [
    "# # Mount GDrive\n",
    "# from google.colab import drive\n",
    "\n",
    "# drive.mount(\"/content/drive\")"
   ]
  },
  {
   "cell_type": "code",
   "execution_count": 3,
   "id": "BvwZuVysYaIm",
   "metadata": {
    "execution": {
     "iopub.execute_input": "2023-02-22T12:30:45.640926Z",
     "iopub.status.busy": "2023-02-22T12:30:45.640611Z",
     "iopub.status.idle": "2023-02-22T12:30:45.643885Z",
     "shell.execute_reply": "2023-02-22T12:30:45.643540Z",
     "shell.execute_reply.started": "2023-02-22T12:30:45.640899Z"
    },
    "id": "BvwZuVysYaIm",
    "tags": []
   },
   "outputs": [],
   "source": [
    "# # Put Colab in the context of this challenge\n",
    "# import os\n",
    "\n",
    "# # os.chdir allows you to change directories, like cd in the Terminal\n",
    "# os.chdir(\"/content/drive/MyDrive/Colab Notebooks/CXRay/notebooks\")"
   ]
  },
  {
   "cell_type": "markdown",
   "id": "8504600a-f546-4258-92e7-61283f3f68f2",
   "metadata": {
    "id": "8504600a-f546-4258-92e7-61283f3f68f2"
   },
   "source": [
    "# Data Pre-Processing"
   ]
  },
  {
   "cell_type": "code",
   "execution_count": 4,
   "id": "5c07d8f8-e079-4e45-9b1a-05c75a56bd25",
   "metadata": {
    "execution": {
     "iopub.execute_input": "2023-02-22T12:30:45.644416Z",
     "iopub.status.busy": "2023-02-22T12:30:45.644326Z",
     "iopub.status.idle": "2023-02-22T12:30:46.091284Z",
     "shell.execute_reply": "2023-02-22T12:30:46.090895Z",
     "shell.execute_reply.started": "2023-02-22T12:30:45.644407Z"
    },
    "id": "5c07d8f8-e079-4e45-9b1a-05c75a56bd25"
   },
   "outputs": [],
   "source": [
    "import os\n",
    "import pathlib\n",
    "\n",
    "import pandas as pd"
   ]
  },
  {
   "cell_type": "code",
   "execution_count": 5,
   "id": "7d1f0e05-7f0a-423b-8e60-d43afe9d30b1",
   "metadata": {
    "colab": {
     "base_uri": "https://localhost:8080/",
     "height": 270
    },
    "execution": {
     "iopub.execute_input": "2023-02-22T12:30:46.091954Z",
     "iopub.status.busy": "2023-02-22T12:30:46.091817Z",
     "iopub.status.idle": "2023-02-22T12:30:46.197012Z",
     "shell.execute_reply": "2023-02-22T12:30:46.196587Z",
     "shell.execute_reply.started": "2023-02-22T12:30:46.091943Z"
    },
    "id": "7d1f0e05-7f0a-423b-8e60-d43afe9d30b1",
    "outputId": "efab887e-a3e7-4884-8190-e58a314791c3"
   },
   "outputs": [
    {
     "data": {
      "text/html": [
       "<div>\n",
       "<style scoped>\n",
       "    .dataframe tbody tr th:only-of-type {\n",
       "        vertical-align: middle;\n",
       "    }\n",
       "\n",
       "    .dataframe tbody tr th {\n",
       "        vertical-align: top;\n",
       "    }\n",
       "\n",
       "    .dataframe thead th {\n",
       "        text-align: right;\n",
       "    }\n",
       "</style>\n",
       "<table border=\"1\" class=\"dataframe\">\n",
       "  <thead>\n",
       "    <tr style=\"text-align: right;\">\n",
       "      <th></th>\n",
       "      <th>img_idx</th>\n",
       "      <th>labels</th>\n",
       "      <th>age</th>\n",
       "      <th>gender</th>\n",
       "      <th>view_pos</th>\n",
       "      <th>label_cardiomegaly</th>\n",
       "      <th>label_effusion</th>\n",
       "      <th>label_no_finding</th>\n",
       "      <th>label_pneumothorax</th>\n",
       "      <th>label_pleural_thickening</th>\n",
       "      <th>label_pneumonia</th>\n",
       "      <th>label_consolidation</th>\n",
       "      <th>label_other</th>\n",
       "    </tr>\n",
       "  </thead>\n",
       "  <tbody>\n",
       "    <tr>\n",
       "      <th>0</th>\n",
       "      <td>00000001_000.png</td>\n",
       "      <td>Cardiomegaly</td>\n",
       "      <td>58</td>\n",
       "      <td>M</td>\n",
       "      <td>PA</td>\n",
       "      <td>True</td>\n",
       "      <td>False</td>\n",
       "      <td>False</td>\n",
       "      <td>False</td>\n",
       "      <td>False</td>\n",
       "      <td>False</td>\n",
       "      <td>False</td>\n",
       "      <td>False</td>\n",
       "    </tr>\n",
       "    <tr>\n",
       "      <th>1</th>\n",
       "      <td>00000001_001.png</td>\n",
       "      <td>Cardiomegaly|Emphysema</td>\n",
       "      <td>58</td>\n",
       "      <td>M</td>\n",
       "      <td>PA</td>\n",
       "      <td>True</td>\n",
       "      <td>False</td>\n",
       "      <td>False</td>\n",
       "      <td>False</td>\n",
       "      <td>False</td>\n",
       "      <td>False</td>\n",
       "      <td>False</td>\n",
       "      <td>True</td>\n",
       "    </tr>\n",
       "    <tr>\n",
       "      <th>2</th>\n",
       "      <td>00000001_002.png</td>\n",
       "      <td>Cardiomegaly|Effusion</td>\n",
       "      <td>58</td>\n",
       "      <td>M</td>\n",
       "      <td>PA</td>\n",
       "      <td>True</td>\n",
       "      <td>True</td>\n",
       "      <td>False</td>\n",
       "      <td>False</td>\n",
       "      <td>False</td>\n",
       "      <td>False</td>\n",
       "      <td>False</td>\n",
       "      <td>False</td>\n",
       "    </tr>\n",
       "    <tr>\n",
       "      <th>3</th>\n",
       "      <td>00000002_000.png</td>\n",
       "      <td>No Finding</td>\n",
       "      <td>81</td>\n",
       "      <td>M</td>\n",
       "      <td>PA</td>\n",
       "      <td>False</td>\n",
       "      <td>False</td>\n",
       "      <td>True</td>\n",
       "      <td>False</td>\n",
       "      <td>False</td>\n",
       "      <td>False</td>\n",
       "      <td>False</td>\n",
       "      <td>False</td>\n",
       "    </tr>\n",
       "    <tr>\n",
       "      <th>4</th>\n",
       "      <td>00000003_000.png</td>\n",
       "      <td>Hernia</td>\n",
       "      <td>81</td>\n",
       "      <td>F</td>\n",
       "      <td>PA</td>\n",
       "      <td>False</td>\n",
       "      <td>False</td>\n",
       "      <td>False</td>\n",
       "      <td>False</td>\n",
       "      <td>False</td>\n",
       "      <td>False</td>\n",
       "      <td>False</td>\n",
       "      <td>True</td>\n",
       "    </tr>\n",
       "  </tbody>\n",
       "</table>\n",
       "</div>"
      ],
      "text/plain": [
       "            img_idx                  labels  age gender view_pos  \\\n",
       "0  00000001_000.png            Cardiomegaly   58      M       PA   \n",
       "1  00000001_001.png  Cardiomegaly|Emphysema   58      M       PA   \n",
       "2  00000001_002.png   Cardiomegaly|Effusion   58      M       PA   \n",
       "3  00000002_000.png              No Finding   81      M       PA   \n",
       "4  00000003_000.png                  Hernia   81      F       PA   \n",
       "\n",
       "   label_cardiomegaly  label_effusion  label_no_finding  label_pneumothorax  \\\n",
       "0                True           False             False               False   \n",
       "1                True           False             False               False   \n",
       "2                True            True             False               False   \n",
       "3               False           False              True               False   \n",
       "4               False           False             False               False   \n",
       "\n",
       "   label_pleural_thickening  label_pneumonia  label_consolidation  label_other  \n",
       "0                     False            False                False        False  \n",
       "1                     False            False                False         True  \n",
       "2                     False            False                False        False  \n",
       "3                     False            False                False        False  \n",
       "4                     False            False                False         True  "
      ]
     },
     "execution_count": 5,
     "metadata": {},
     "output_type": "execute_result"
    }
   ],
   "source": [
    "cwd = os.getcwd()\n",
    "data_path = pathlib.Path(cwd, \"..\", \"clean_data\", \"cleaned_data.csv\")\n",
    "\n",
    "data = pd.read_csv(data_path)\n",
    "data.head()"
   ]
  },
  {
   "cell_type": "code",
   "execution_count": 6,
   "id": "254d3054-b153-4396-938e-3ad847c559c7",
   "metadata": {
    "execution": {
     "iopub.execute_input": "2023-02-22T12:30:46.198591Z",
     "iopub.status.busy": "2023-02-22T12:30:46.198353Z",
     "iopub.status.idle": "2023-02-22T12:30:46.206670Z",
     "shell.execute_reply": "2023-02-22T12:30:46.206324Z",
     "shell.execute_reply.started": "2023-02-22T12:30:46.198579Z"
    }
   },
   "outputs": [
    {
     "data": {
      "text/plain": [
       "(112104, 12)"
      ]
     },
     "execution_count": 6,
     "metadata": {},
     "output_type": "execute_result"
    }
   ],
   "source": [
    "# data = data.drop(columns=\"label_other\")\n",
    "data = data.drop(columns=\"label_no_finding\")\n",
    "data.shape"
   ]
  },
  {
   "cell_type": "code",
   "execution_count": 7,
   "id": "TXtUBirgqHri",
   "metadata": {
    "execution": {
     "iopub.execute_input": "2023-02-22T12:30:46.207179Z",
     "iopub.status.busy": "2023-02-22T12:30:46.207086Z",
     "iopub.status.idle": "2023-02-22T12:30:46.209127Z",
     "shell.execute_reply": "2023-02-22T12:30:46.208723Z",
     "shell.execute_reply.started": "2023-02-22T12:30:46.207169Z"
    },
    "id": "TXtUBirgqHri",
    "tags": []
   },
   "outputs": [],
   "source": [
    "# for idx, row in data.iterrows():\n",
    "#     filepath = str(pathlib.Path(cwd, \"..\", \"raw_data\", \"images_224_224\", row.img_idx))\n",
    "#     if os.path.exists(filepath):\n",
    "#         if os.stat(filepath).st_size == 0:\n",
    "#           data.drop(idx, inplace=True)\n",
    "#     else:\n",
    "#         data.drop(idx, inplace=True)\n",
    "# data.shape"
   ]
  },
  {
   "cell_type": "code",
   "execution_count": 8,
   "id": "6b869784-c376-4e9b-a6f7-d52d59463f8a",
   "metadata": {
    "colab": {
     "base_uri": "https://localhost:8080/"
    },
    "execution": {
     "iopub.execute_input": "2023-02-22T12:30:46.209911Z",
     "iopub.status.busy": "2023-02-22T12:30:46.209700Z",
     "iopub.status.idle": "2023-02-22T12:30:46.212657Z",
     "shell.execute_reply": "2023-02-22T12:30:46.212310Z",
     "shell.execute_reply.started": "2023-02-22T12:30:46.209897Z"
    },
    "id": "6b869784-c376-4e9b-a6f7-d52d59463f8a",
    "outputId": "ef38e193-3784-4a0d-e267-d9cfb8b48c0d"
   },
   "outputs": [
    {
     "data": {
      "text/plain": [
       "['label_cardiomegaly',\n",
       " 'label_effusion',\n",
       " 'label_pneumothorax',\n",
       " 'label_pleural_thickening',\n",
       " 'label_pneumonia',\n",
       " 'label_consolidation',\n",
       " 'label_other']"
      ]
     },
     "execution_count": 8,
     "metadata": {},
     "output_type": "execute_result"
    }
   ],
   "source": [
    "label_names = [l for l in data.columns if l.startswith(\"label_\")]\n",
    "label_names"
   ]
  },
  {
   "cell_type": "code",
   "execution_count": 9,
   "id": "3cf34114-2cd5-4e38-905c-537dafed3d25",
   "metadata": {
    "colab": {
     "base_uri": "https://localhost:8080/"
    },
    "execution": {
     "iopub.execute_input": "2023-02-22T12:30:46.213402Z",
     "iopub.status.busy": "2023-02-22T12:30:46.213279Z",
     "iopub.status.idle": "2023-02-22T12:30:46.217715Z",
     "shell.execute_reply": "2023-02-22T12:30:46.217408Z",
     "shell.execute_reply.started": "2023-02-22T12:30:46.213393Z"
    },
    "id": "3cf34114-2cd5-4e38-905c-537dafed3d25",
    "outputId": "830b81b4-bcdb-4653-d2aa-af06aa71c28b"
   },
   "outputs": [
    {
     "data": {
      "text/plain": [
       "label_pneumonia              1430\n",
       "label_cardiomegaly           2776\n",
       "label_pleural_thickening     3384\n",
       "label_consolidation          4667\n",
       "label_pneumothorax           5301\n",
       "label_effusion              13316\n",
       "label_other                 39770\n",
       "dtype: int64"
      ]
     },
     "execution_count": 9,
     "metadata": {},
     "output_type": "execute_result"
    }
   ],
   "source": [
    "label_counts_sorted = data[label_names].sum(axis=0).sort_values()\n",
    "label_counts_sorted"
   ]
  },
  {
   "cell_type": "markdown",
   "id": "ae949f0e-5b60-4f62-82cc-7d31ce90d706",
   "metadata": {
    "id": "ae949f0e-5b60-4f62-82cc-7d31ce90d706",
    "tags": []
   },
   "source": [
    "We want to have a balanced dataset that contains an equal number of examples of each condition (+\"no finding\"), regardless of 'overlaps' (i.e. multiple conditions).  \n",
    "\n",
    "We will start from the lowest common denominator, i.e. the condition with the fewest number of examples, i.e. pnemonia. We will choose **all** of the pneumonia cases, `N0 = N_pneumonia = 1430` above. Then we have to choose the same number of examples from each of the other conditions, in increasing order of the number of cases. But there are overlaps, so we will exclude cases already chosen from previous labels (i.e. those with fewer examples). We will keep adding examples until we have `N0` rows with each label.  \n",
    "\n",
    "Note that `label_other` will have no overlap with any other label."
   ]
  },
  {
   "cell_type": "code",
   "execution_count": 10,
   "id": "e4300583-52ac-44a7-8651-f7030d22a219",
   "metadata": {
    "colab": {
     "base_uri": "https://localhost:8080/"
    },
    "execution": {
     "iopub.execute_input": "2023-02-22T12:30:46.218415Z",
     "iopub.status.busy": "2023-02-22T12:30:46.218274Z",
     "iopub.status.idle": "2023-02-22T12:30:46.275433Z",
     "shell.execute_reply": "2023-02-22T12:30:46.275082Z",
     "shell.execute_reply.started": "2023-02-22T12:30:46.218405Z"
    },
    "id": "e4300583-52ac-44a7-8651-f7030d22a219",
    "outputId": "ce74f8c8-84f5-4ac8-d486-a0b992eae105",
    "tags": []
   },
   "outputs": [
    {
     "data": {
      "text/plain": [
       "label_pneumothorax          1430\n",
       "label_pneumonia             1430\n",
       "label_consolidation         1468\n",
       "label_cardiomegaly          1488\n",
       "label_pleural_thickening    1514\n",
       "label_effusion              1698\n",
       "label_other                 3425\n",
       "dtype: int64"
      ]
     },
     "execution_count": 10,
     "metadata": {},
     "output_type": "execute_result"
    }
   ],
   "source": [
    "rarest_label = label_counts_sorted.index[0]\n",
    "rarest_label_count = data[data[rarest_label]].shape[0]\n",
    "data_balanced = data[data[rarest_label]]\n",
    "n_min = data_balanced.shape[0]\n",
    "\n",
    "for label, count in zip(label_counts_sorted.index[1:], label_counts_sorted[1:]):\n",
    "    n_already_captured = data_balanced[data_balanced[label]].shape[0]\n",
    "    n_additional = n_min - n_already_captured\n",
    "    if n_additional > 0:\n",
    "        not_selected_indices = data.index.difference(data_balanced.index)\n",
    "        not_selected_data = data.loc[not_selected_indices]\n",
    "        rows_to_add = not_selected_data[not_selected_data[label]].sample(n_additional)\n",
    "        data_balanced = pd.concat([data_balanced, rows_to_add], axis=0)\n",
    "\n",
    "data_balanced[label_names].sum(axis=0).sort_values()"
   ]
  },
  {
   "cell_type": "markdown",
   "id": "5e30e3c5-ea59-4062-8db4-9020aa21ecc1",
   "metadata": {
    "id": "5e30e3c5-ea59-4062-8db4-9020aa21ecc1"
   },
   "source": [
    "Actually let's keep a small percentage of the rarest class (pneumonia) for testing..."
   ]
  },
  {
   "cell_type": "code",
   "execution_count": 11,
   "id": "0c1e2d43-990c-47e5-8e0d-597642bdb37f",
   "metadata": {
    "execution": {
     "iopub.execute_input": "2023-02-22T12:30:46.276232Z",
     "iopub.status.busy": "2023-02-22T12:30:46.276070Z",
     "iopub.status.idle": "2023-02-22T12:30:46.280333Z",
     "shell.execute_reply": "2023-02-22T12:30:46.279989Z",
     "shell.execute_reply.started": "2023-02-22T12:30:46.276222Z"
    },
    "id": "0c1e2d43-990c-47e5-8e0d-597642bdb37f"
   },
   "outputs": [],
   "source": [
    "rarest_label_fraction_to_keep = 0.1\n",
    "indices_to_remove = (\n",
    "    data_balanced[data_balanced[rarest_label]]\n",
    "    .sample(int(rarest_label_count * rarest_label_fraction_to_keep))\n",
    "    .index\n",
    ")\n",
    "data_balanced.drop(indices_to_remove, inplace=True)"
   ]
  },
  {
   "cell_type": "code",
   "execution_count": 12,
   "id": "d7c63b40-b694-4643-96dc-bdeccdda5b86",
   "metadata": {
    "colab": {
     "base_uri": "https://localhost:8080/"
    },
    "execution": {
     "iopub.execute_input": "2023-02-22T12:30:46.280977Z",
     "iopub.status.busy": "2023-02-22T12:30:46.280869Z",
     "iopub.status.idle": "2023-02-22T12:30:46.283606Z",
     "shell.execute_reply": "2023-02-22T12:30:46.283251Z",
     "shell.execute_reply.started": "2023-02-22T12:30:46.280968Z"
    },
    "id": "d7c63b40-b694-4643-96dc-bdeccdda5b86",
    "outputId": "abd7190e-c981-43e4-cd4a-d89e34399799",
    "tags": []
   },
   "outputs": [
    {
     "data": {
      "text/plain": [
       "(6309, 12)"
      ]
     },
     "execution_count": 12,
     "metadata": {},
     "output_type": "execute_result"
    }
   ],
   "source": [
    "data_balanced.shape"
   ]
  },
  {
   "cell_type": "code",
   "execution_count": 13,
   "id": "1e9ab967-8e37-484b-93cc-ddc3ed6429fb",
   "metadata": {
    "colab": {
     "base_uri": "https://localhost:8080/",
     "height": 377
    },
    "execution": {
     "iopub.execute_input": "2023-02-22T12:30:46.284324Z",
     "iopub.status.busy": "2023-02-22T12:30:46.284172Z",
     "iopub.status.idle": "2023-02-22T12:30:46.654465Z",
     "shell.execute_reply": "2023-02-22T12:30:46.654032Z",
     "shell.execute_reply.started": "2023-02-22T12:30:46.284315Z"
    },
    "id": "1e9ab967-8e37-484b-93cc-ddc3ed6429fb",
    "outputId": "417ecaa6-f045-405d-a274-a5a22f31f841",
    "tags": []
   },
   "outputs": [
    {
     "data": {
      "image/png": "[encoded data removed]",
      "text/plain": [
       "<Figure size 640x480 with 1 Axes>"
      ]
     },
     "metadata": {},
     "output_type": "display_data"
    }
   ],
   "source": [
    "data_balanced[label_names].sum(axis=0).sort_values().plot(kind=\"bar\");"
   ]
  },
  {
   "cell_type": "markdown",
   "id": "597a13e7-7211-4cec-9e80-edbba78afcca",
   "metadata": {
    "id": "597a13e7-7211-4cec-9e80-edbba78afcca"
   },
   "source": [
    "We can use the remaining (i.e. not selected) data for our test set later on..."
   ]
  },
  {
   "cell_type": "code",
   "execution_count": 14,
   "id": "11123ac4-4c52-4ad9-8f8b-f54d2cd91990",
   "metadata": {
    "colab": {
     "base_uri": "https://localhost:8080/",
     "height": 376
    },
    "execution": {
     "iopub.execute_input": "2023-02-22T12:30:46.655547Z",
     "iopub.status.busy": "2023-02-22T12:30:46.655177Z",
     "iopub.status.idle": "2023-02-22T12:30:46.748277Z",
     "shell.execute_reply": "2023-02-22T12:30:46.747818Z",
     "shell.execute_reply.started": "2023-02-22T12:30:46.655536Z"
    },
    "id": "11123ac4-4c52-4ad9-8f8b-f54d2cd91990",
    "outputId": "4401b62b-7ee5-4286-eff8-13904a6d595f"
   },
   "outputs": [
    {
     "data": {
      "image/png": "[encoded data removed]",
      "text/plain": [
       "<Figure size 640x480 with 1 Axes>"
      ]
     },
     "metadata": {},
     "output_type": "display_data"
    }
   ],
   "source": [
    "remaining_indices = data.index.difference(data_balanced.index)\n",
    "remaining_data = data.loc[remaining_indices]\n",
    "remaining_data[label_names].sum(axis=0).sort_values().plot(kind=\"bar\");"
   ]
  },
  {
   "cell_type": "code",
   "execution_count": 15,
   "id": "a20ee2ec-3ede-4e0c-a71a-7a845f5007a7",
   "metadata": {
    "execution": {
     "iopub.execute_input": "2023-02-22T12:30:46.751552Z",
     "iopub.status.busy": "2023-02-22T12:30:46.751315Z",
     "iopub.status.idle": "2023-02-22T12:30:46.753586Z",
     "shell.execute_reply": "2023-02-22T12:30:46.753160Z",
     "shell.execute_reply.started": "2023-02-22T12:30:46.751535Z"
    },
    "id": "a20ee2ec-3ede-4e0c-a71a-7a845f5007a7",
    "tags": []
   },
   "outputs": [],
   "source": [
    "# TO DO: Try to prioritize Posterior-Anterior (PA) projection when building a balanced dataset\n",
    "# data_balanced.view_pos.value_counts().plot(kind=\"bar\");"
   ]
  },
  {
   "cell_type": "markdown",
   "id": "f2580dc2-80cc-4f47-9e28-37fb905bb4a1",
   "metadata": {
    "id": "f2580dc2-80cc-4f47-9e28-37fb905bb4a1",
    "tags": []
   },
   "source": [
    "# Loading the Images"
   ]
  },
  {
   "cell_type": "markdown",
   "id": "6cec4150-96a6-4cc6-bf4a-2770994fb612",
   "metadata": {
    "id": "6cec4150-96a6-4cc6-bf4a-2770994fb612"
   },
   "source": [
    "There are two ways to go about this:\n",
    "1. Load the entire data set in memory if we have enough RAM, which we do. We estimate ~8000 images will take up between 4 to 8 gigabytes in RAM.\n",
    "2. \"Dataset generator\": Keras has an \"[image data generator](https://www.tensorflow.org/api_docs/python/tf/keras/preprocessing/image/ImageDataGenerator)\"."
   ]
  },
  {
   "cell_type": "markdown",
   "id": "3b99be35-a48c-4e9a-bb4e-2ae934c83b89",
   "metadata": {
    "execution": {
     "iopub.execute_input": "2023-02-18T00:29:54.101427Z",
     "iopub.status.busy": "2023-02-18T00:29:54.100329Z",
     "iopub.status.idle": "2023-02-18T00:29:54.114273Z",
     "shell.execute_reply": "2023-02-18T00:29:54.111551Z",
     "shell.execute_reply.started": "2023-02-18T00:29:54.101367Z"
    },
    "id": "3b99be35-a48c-4e9a-bb4e-2ae934c83b89",
    "tags": []
   },
   "source": [
    "## Loading the Entire Dataset"
   ]
  },
  {
   "cell_type": "markdown",
   "id": "680b2875-b0ad-44cb-b94a-05593a5f6422",
   "metadata": {
    "id": "680b2875-b0ad-44cb-b94a-05593a5f6422"
   },
   "source": [
    "Let's try the first method first..."
   ]
  },
  {
   "cell_type": "code",
   "execution_count": 16,
   "id": "0b4de01d-2523-4463-87d2-cb5c2ea846ae",
   "metadata": {
    "execution": {
     "iopub.execute_input": "2023-02-22T12:30:46.754283Z",
     "iopub.status.busy": "2023-02-22T12:30:46.754169Z",
     "iopub.status.idle": "2023-02-22T12:30:46.756394Z",
     "shell.execute_reply": "2023-02-22T12:30:46.756024Z",
     "shell.execute_reply.started": "2023-02-22T12:30:46.754273Z"
    },
    "id": "0b4de01d-2523-4463-87d2-cb5c2ea846ae",
    "tags": []
   },
   "outputs": [],
   "source": [
    "import os\n",
    "import pathlib\n",
    "\n",
    "import numpy as np\n",
    "import PIL"
   ]
  },
  {
   "cell_type": "code",
   "execution_count": 17,
   "id": "c9a73848-7296-42e1-9e99-945bd2ddf375",
   "metadata": {
    "execution": {
     "iopub.execute_input": "2023-02-22T12:30:46.757109Z",
     "iopub.status.busy": "2023-02-22T12:30:46.756998Z",
     "iopub.status.idle": "2023-02-22T12:30:46.759428Z",
     "shell.execute_reply": "2023-02-22T12:30:46.759098Z",
     "shell.execute_reply.started": "2023-02-22T12:30:46.757099Z"
    },
    "id": "c9a73848-7296-42e1-9e99-945bd2ddf375",
    "tags": []
   },
   "outputs": [],
   "source": [
    "def load_img(img_filename):\n",
    "    data_dir = pathlib.Path(\"../raw_data/images_224_224\")\n",
    "    image_filename = img_filename\n",
    "    image = PIL.Image.open(pathlib.Path(data_dir, image_filename))\n",
    "    return image"
   ]
  },
  {
   "cell_type": "code",
   "execution_count": 18,
   "id": "1ec4e96e-ea3d-483d-aa3b-cf784cf9da0d",
   "metadata": {
    "colab": {
     "base_uri": "https://localhost:8080/"
    },
    "execution": {
     "iopub.execute_input": "2023-02-22T12:30:46.759942Z",
     "iopub.status.busy": "2023-02-22T12:30:46.759846Z",
     "iopub.status.idle": "2023-02-22T12:30:46.764758Z",
     "shell.execute_reply": "2023-02-22T12:30:46.764349Z",
     "shell.execute_reply.started": "2023-02-22T12:30:46.759933Z"
    },
    "id": "1ec4e96e-ea3d-483d-aa3b-cf784cf9da0d",
    "outputId": "03027aa2-d4c5-464a-f0e9-510c630d793a",
    "tags": []
   },
   "outputs": [
    {
     "data": {
      "text/plain": [
       "(224, 224)"
      ]
     },
     "execution_count": 18,
     "metadata": {},
     "output_type": "execute_result"
    }
   ],
   "source": [
    "n_images = data_balanced.shape[0]\n",
    "example_img = load_img(data_balanced.iloc[0, :][\"img_idx\"])\n",
    "img_dims = example_img.size\n",
    "img_dims"
   ]
  },
  {
   "cell_type": "code",
   "execution_count": 19,
   "id": "68945115-6f3f-46f5-96b6-231e704d9f3d",
   "metadata": {
    "colab": {
     "base_uri": "https://localhost:8080/"
    },
    "execution": {
     "iopub.execute_input": "2023-02-22T12:30:46.765744Z",
     "iopub.status.busy": "2023-02-22T12:30:46.765563Z",
     "iopub.status.idle": "2023-02-22T12:30:46.768432Z",
     "shell.execute_reply": "2023-02-22T12:30:46.768131Z",
     "shell.execute_reply.started": "2023-02-22T12:30:46.765734Z"
    },
    "id": "68945115-6f3f-46f5-96b6-231e704d9f3d",
    "outputId": "c32de1b5-2d78-4638-e796-f4ebc1298f81",
    "tags": []
   },
   "outputs": [
    {
     "data": {
      "text/plain": [
       "(6309, 224, 224)"
      ]
     },
     "execution_count": 19,
     "metadata": {},
     "output_type": "execute_result"
    }
   ],
   "source": [
    "img_data = np.zeros((n_images, *img_dims))\n",
    "img_data.shape"
   ]
  },
  {
   "cell_type": "code",
   "execution_count": 20,
   "id": "f16098ef-2a27-4eeb-9e86-d909e5158f3f",
   "metadata": {
    "execution": {
     "iopub.execute_input": "2023-02-22T12:30:46.769114Z",
     "iopub.status.busy": "2023-02-22T12:30:46.768992Z",
     "iopub.status.idle": "2023-02-22T12:30:46.771849Z",
     "shell.execute_reply": "2023-02-22T12:30:46.771039Z",
     "shell.execute_reply.started": "2023-02-22T12:30:46.769104Z"
    },
    "id": "f16098ef-2a27-4eeb-9e86-d909e5158f3f",
    "tags": []
   },
   "outputs": [],
   "source": [
    "# # This crashes Jupyter Notebook\n",
    "# for img in data_balanced.loc[:, \"img_idx\"]:\n",
    "#     # np.append(img_data, load_img(img))\n",
    "#     pass"
   ]
  },
  {
   "cell_type": "markdown",
   "id": "932daf17-a678-49c0-a263-4f356148deb7",
   "metadata": {
    "id": "932daf17-a678-49c0-a263-4f356148deb7"
   },
   "source": [
    "That was a dud. It crashes Jupyter Notebook. Let us now explore the second method."
   ]
  },
  {
   "cell_type": "markdown",
   "id": "69babdb7-55d8-4e5d-9227-c5bb74bdd3ff",
   "metadata": {
    "id": "69babdb7-55d8-4e5d-9227-c5bb74bdd3ff"
   },
   "source": [
    "## Generating the Dataset on the Fly"
   ]
  },
  {
   "cell_type": "markdown",
   "id": "5e184236-774c-4fbd-b8e0-af301d53a897",
   "metadata": {
    "id": "5e184236-774c-4fbd-b8e0-af301d53a897"
   },
   "source": [
    "It turns out [`tf.keras.preprocessing.image.ImageDataGenerator`](https://www.tensorflow.org/api_docs/python/tf/keras/preprocessing/image/ImageDataGenerator) is deprecated and hence not recommended for new code. Neither it nor its successor, [`tf.keras.utils.image_dataset_from_directory`](https://www.tensorflow.org/api_docs/python/tf/keras/utils/image_dataset_from_directory) are really applicable to our multi-label problem. (They are suited to single-label classification problems). I found [this blog post](https://towardsdatascience.com/multi-label-image-classification-in-tensorflow-2-0-7d4cf8a4bc72) on how to leverage the underlying API, [`tf.data`](https://www.tensorflow.org/guide/data) for multi-label problems. Let us explore that."
   ]
  },
  {
   "cell_type": "code",
   "execution_count": 21,
   "id": "d2cdc6cc-5330-4385-82b5-5445d5709753",
   "metadata": {
    "execution": {
     "iopub.execute_input": "2023-02-22T12:30:46.772697Z",
     "iopub.status.busy": "2023-02-22T12:30:46.772558Z",
     "iopub.status.idle": "2023-02-22T12:30:49.703596Z",
     "shell.execute_reply": "2023-02-22T12:30:49.703212Z",
     "shell.execute_reply.started": "2023-02-22T12:30:46.772685Z"
    },
    "id": "d2cdc6cc-5330-4385-82b5-5445d5709753"
   },
   "outputs": [],
   "source": [
    "import tensorflow as tf"
   ]
  },
  {
   "cell_type": "code",
   "execution_count": 22,
   "id": "d52f5bca-94bd-45dc-8524-f7066f450f0b",
   "metadata": {
    "execution": {
     "iopub.execute_input": "2023-02-22T12:30:49.704448Z",
     "iopub.status.busy": "2023-02-22T12:30:49.704214Z",
     "iopub.status.idle": "2023-02-22T12:30:49.707351Z",
     "shell.execute_reply": "2023-02-22T12:30:49.706840Z",
     "shell.execute_reply.started": "2023-02-22T12:30:49.704436Z"
    },
    "id": "d52f5bca-94bd-45dc-8524-f7066f450f0b",
    "tags": []
   },
   "outputs": [],
   "source": [
    "from tensorflow.keras.applications.resnet50 import preprocess_input\n",
    "\n",
    "# x = preprocess_input(x)\n",
    "# # Add an extra dimension to the input to represent a batch of size 1\n",
    "# x = np.expand_dims(x, axis=0)"
   ]
  },
  {
   "cell_type": "code",
   "execution_count": 23,
   "id": "2f73f540-5c71-4830-b4f9-d6a1000af377",
   "metadata": {
    "execution": {
     "iopub.execute_input": "2023-02-22T12:30:49.708268Z",
     "iopub.status.busy": "2023-02-22T12:30:49.708083Z",
     "iopub.status.idle": "2023-02-22T12:30:49.717271Z",
     "shell.execute_reply": "2023-02-22T12:30:49.714033Z",
     "shell.execute_reply.started": "2023-02-22T12:30:49.708248Z"
    },
    "id": "2f73f540-5c71-4830-b4f9-d6a1000af377",
    "tags": []
   },
   "outputs": [],
   "source": [
    "# In order to do 'transfer learning' using VGG16, ResNet, etc. our image needs to have three channels.\n",
    "# We will simply duplicate the one grayscale channel 2 more times.\n",
    "def expand_greyscale_image_channels(image):\n",
    "    if image.shape[-1] == 1:\n",
    "        grey_image_3_channel = tf.tile(image, tf.constant([1, 1, 3], tf.int32))\n",
    "    else:\n",
    "        grey_image_3_channel = image\n",
    "\n",
    "    return preprocess_input(grey_image_3_channel)"
   ]
  },
  {
   "cell_type": "code",
   "execution_count": 24,
   "id": "7fcbfe1b-02be-4c54-859f-ffb5fc700d66",
   "metadata": {
    "execution": {
     "iopub.execute_input": "2023-02-22T12:30:49.718519Z",
     "iopub.status.busy": "2023-02-22T12:30:49.718140Z",
     "iopub.status.idle": "2023-02-22T12:30:49.724464Z",
     "shell.execute_reply": "2023-02-22T12:30:49.724042Z",
     "shell.execute_reply.started": "2023-02-22T12:30:49.718496Z"
    },
    "id": "7fcbfe1b-02be-4c54-859f-ffb5fc700d66",
    "tags": []
   },
   "outputs": [],
   "source": [
    "IMG_SIZE = 224  # img_dims[0]\n",
    "CHANNELS = 3  # The images WERE grayscale but we converted them to 3-channel\n",
    "\n",
    "\n",
    "def parse_function(filename, label):\n",
    "    \"\"\"Function that returns a tuple of normalized image array and labels array.\n",
    "    Args:\n",
    "        filename: string representing path to image\n",
    "        label: 0/1 one-dimensional array of size N_LABELS\n",
    "    \"\"\"\n",
    "    # Read an image from a file\n",
    "    image_string = tf.io.read_file(filename)\n",
    "    # Decode it into a dense vector\n",
    "    image_decoded = tf.image.decode_png(image_string, channels=CHANNELS)\n",
    "    # Resize it to fixed shape\n",
    "    image_resized = (\n",
    "        image_decoded  # tf.image.resize(image_decoded, [IMG_SIZE, IMG_SIZE])\n",
    "    )\n",
    "    # Normalize it from [0, 255] to [0.0, 1.0]\n",
    "    image_normalized = tf.cast(image_resized, tf.float32) / 255.0\n",
    "    image_normalized_rgb = expand_greyscale_image_channels(image_normalized)\n",
    "    label_tensor = tf.convert_to_tensor(label, dtype=tf.uint8)\n",
    "    return image_normalized_rgb, label_tensor"
   ]
  },
  {
   "cell_type": "code",
   "execution_count": 25,
   "id": "52d232b7-4da7-4f28-bc46-d0bd28699c28",
   "metadata": {
    "colab": {
     "base_uri": "https://localhost:8080/"
    },
    "execution": {
     "iopub.execute_input": "2023-02-22T12:30:49.725141Z",
     "iopub.status.busy": "2023-02-22T12:30:49.725005Z",
     "iopub.status.idle": "2023-02-22T12:30:49.793796Z",
     "shell.execute_reply": "2023-02-22T12:30:49.793233Z",
     "shell.execute_reply.started": "2023-02-22T12:30:49.725130Z"
    },
    "id": "52d232b7-4da7-4f28-bc46-d0bd28699c28",
    "outputId": "acc4a430-568d-40db-eee5-091ea3eae760",
    "tags": []
   },
   "outputs": [
    {
     "data": {
      "text/plain": [
       "TensorShape([224, 224, 3])"
      ]
     },
     "execution_count": 25,
     "metadata": {},
     "output_type": "execute_result"
    }
   ],
   "source": [
    "cwd = os.getcwd()\n",
    "data_dir = pathlib.Path(cwd, \"..\", \"raw_data\", \"images_224_224\")\n",
    "\n",
    "# This works\n",
    "img_norm_rgb, label_tensor = parse_function(\n",
    "    str(pathlib.Path(data_dir, \"00000009_000.png\")),\n",
    "    np.array([True, False, False, True]) + 0,\n",
    ")\n",
    "img_norm_rgb.shape"
   ]
  },
  {
   "cell_type": "code",
   "execution_count": 26,
   "id": "5713fcd7-349b-49e9-89a9-57f91bd3d3ec",
   "metadata": {
    "colab": {
     "base_uri": "https://localhost:8080/",
     "height": 287
    },
    "execution": {
     "iopub.execute_input": "2023-02-22T12:30:49.794614Z",
     "iopub.status.busy": "2023-02-22T12:30:49.794476Z",
     "iopub.status.idle": "2023-02-22T12:30:49.903498Z",
     "shell.execute_reply": "2023-02-22T12:30:49.903015Z",
     "shell.execute_reply.started": "2023-02-22T12:30:49.794604Z"
    },
    "id": "5713fcd7-349b-49e9-89a9-57f91bd3d3ec",
    "outputId": "c5d5db35-5510-4c04-c337-1a75c6aed1e6",
    "tags": []
   },
   "outputs": [
    {
     "data": {
      "text/plain": [
       "(224, 224)"
      ]
     },
     "execution_count": 26,
     "metadata": {},
     "output_type": "execute_result"
    },
    {
     "data": {
      "image/png": "[encoded data removed]",
      "text/plain": [
       "<Figure size 640x480 with 1 Axes>"
      ]
     },
     "metadata": {},
     "output_type": "display_data"
    }
   ],
   "source": [
    "import matplotlib.image as mpimg\n",
    "import matplotlib.pyplot as plt\n",
    "\n",
    "img = mpimg.imread(pathlib.Path(data_dir, \"00000009_000.png\"))\n",
    "plt.imshow(img, cmap=\"gray\")\n",
    "img.shape"
   ]
  },
  {
   "cell_type": "code",
   "execution_count": 27,
   "id": "72789baf-a72d-4f39-b9f3-3b28a84b5dfa",
   "metadata": {
    "execution": {
     "iopub.execute_input": "2023-02-22T12:30:49.904368Z",
     "iopub.status.busy": "2023-02-22T12:30:49.904240Z",
     "iopub.status.idle": "2023-02-22T12:30:49.906661Z",
     "shell.execute_reply": "2023-02-22T12:30:49.906346Z",
     "shell.execute_reply.started": "2023-02-22T12:30:49.904357Z"
    },
    "id": "72789baf-a72d-4f39-b9f3-3b28a84b5dfa",
    "tags": []
   },
   "outputs": [],
   "source": [
    "BATCH_SIZE = 128  # The blog post suggested 256 is big enough to measure an F1-score but I suspect this was leading to this error while I was training the model: BiasGrad requires tensor size <= int32 max\n",
    "AUTOTUNE = (\n",
    "    tf.data.experimental.AUTOTUNE\n",
    ")  # Adapt preprocessing and prefetching dynamically to reduce GPU and CPU idle time\n",
    "SHUFFLE_BUFFER_SIZE = (\n",
    "    512  # 1024  # Shuffle the training data by a chunck of 1024 observations\n",
    ")\n",
    "\n",
    "N_LABELS = len(label_names)"
   ]
  },
  {
   "cell_type": "code",
   "execution_count": 28,
   "id": "cd029e70-ca81-47dc-9ea4-14ac9ffa93b6",
   "metadata": {
    "execution": {
     "iopub.execute_input": "2023-02-22T12:30:49.907675Z",
     "iopub.status.busy": "2023-02-22T12:30:49.907352Z",
     "iopub.status.idle": "2023-02-22T12:30:49.910530Z",
     "shell.execute_reply": "2023-02-22T12:30:49.910111Z",
     "shell.execute_reply.started": "2023-02-22T12:30:49.907659Z"
    },
    "id": "cd029e70-ca81-47dc-9ea4-14ac9ffa93b6",
    "tags": []
   },
   "outputs": [],
   "source": [
    "def create_dataset(filenames, labels, is_training=True):\n",
    "    \"\"\"Load and parse dataset.\n",
    "    Args:\n",
    "        filenames: list of image paths\n",
    "        labels: numpy array of shape (BATCH_SIZE, N_LABELS)\n",
    "        is_training: boolean to indicate training mode\n",
    "    \"\"\"\n",
    "\n",
    "    # Create a first dataset of file paths and labels\n",
    "    dataset = tf.data.Dataset.from_tensor_slices((filenames, labels))\n",
    "    # Parse and preprocess observations in parallel\n",
    "    dataset = dataset.map(parse_function, num_parallel_calls=AUTOTUNE)\n",
    "\n",
    "    if is_training == True:\n",
    "        # This is a small dataset, only load it once, and keep it in memory.\n",
    "        dataset = dataset.cache()\n",
    "        # Shuffle the data each buffer size\n",
    "        dataset = dataset.shuffle(buffer_size=SHUFFLE_BUFFER_SIZE)\n",
    "\n",
    "    # Batch the data for multiple steps\n",
    "    dataset = dataset.batch(BATCH_SIZE)\n",
    "    # Fetch batches in the background while the model is training.\n",
    "    dataset = dataset.prefetch(buffer_size=AUTOTUNE)\n",
    "\n",
    "    return dataset"
   ]
  },
  {
   "cell_type": "code",
   "execution_count": 29,
   "id": "48448164-e18a-4908-b810-a4cc53243565",
   "metadata": {
    "execution": {
     "iopub.execute_input": "2023-02-22T12:30:49.911353Z",
     "iopub.status.busy": "2023-02-22T12:30:49.911232Z",
     "iopub.status.idle": "2023-02-22T12:30:49.949010Z",
     "shell.execute_reply": "2023-02-22T12:30:49.948556Z",
     "shell.execute_reply.started": "2023-02-22T12:30:49.911342Z"
    },
    "id": "48448164-e18a-4908-b810-a4cc53243565",
    "tags": []
   },
   "outputs": [],
   "source": [
    "filenames = data_balanced.img_idx.to_list()\n",
    "filepaths = [str(pathlib.Path(data_dir, filename)) for filename in filenames]\n",
    "label_sets_binarized = np.array(\n",
    "    data_balanced[label_names].apply(lambda x: x + 0), dtype=np.uint8\n",
    ")"
   ]
  },
  {
   "cell_type": "code",
   "execution_count": 30,
   "id": "578427ce-6145-4fc5-88ce-48a910850f84",
   "metadata": {
    "execution": {
     "iopub.execute_input": "2023-02-22T12:30:49.949902Z",
     "iopub.status.busy": "2023-02-22T12:30:49.949732Z",
     "iopub.status.idle": "2023-02-22T12:30:50.374124Z",
     "shell.execute_reply": "2023-02-22T12:30:50.373724Z",
     "shell.execute_reply.started": "2023-02-22T12:30:49.949892Z"
    },
    "id": "578427ce-6145-4fc5-88ce-48a910850f84",
    "tags": []
   },
   "outputs": [],
   "source": [
    "from sklearn.model_selection import train_test_split\n",
    "\n",
    "X_train, X_val, y_train_bin, y_val_bin = train_test_split(\n",
    "    filepaths, label_sets_binarized, test_size=0.2\n",
    ")"
   ]
  },
  {
   "cell_type": "code",
   "execution_count": 31,
   "id": "07f321de-c8e3-4561-853e-ed558b2cae3d",
   "metadata": {
    "execution": {
     "iopub.execute_input": "2023-02-22T12:30:50.374906Z",
     "iopub.status.busy": "2023-02-22T12:30:50.374759Z",
     "iopub.status.idle": "2023-02-22T12:30:50.469601Z",
     "shell.execute_reply": "2023-02-22T12:30:50.469236Z",
     "shell.execute_reply.started": "2023-02-22T12:30:50.374896Z"
    },
    "id": "07f321de-c8e3-4561-853e-ed558b2cae3d",
    "tags": []
   },
   "outputs": [],
   "source": [
    "train_ds = create_dataset(X_train, y_train_bin)\n",
    "val_ds = create_dataset(X_val, y_val_bin)"
   ]
  },
  {
   "cell_type": "markdown",
   "id": "dc07afce-e819-4c6b-be05-3f5579954531",
   "metadata": {
    "id": "dc07afce-e819-4c6b-be05-3f5579954531"
   },
   "source": [
    "We now, finally, have our training and validation data sets with the correct tensor sizes and data types.  \n",
    "Now let's create the test set from the data that was _not_ selected while creating the balanced dataset. (Stored in `remaining_data`)"
   ]
  },
  {
   "cell_type": "code",
   "execution_count": 32,
   "id": "0Dz8ktSe-dFn",
   "metadata": {
    "colab": {
     "base_uri": "https://localhost:8080/"
    },
    "execution": {
     "iopub.execute_input": "2023-02-22T12:30:50.470361Z",
     "iopub.status.busy": "2023-02-22T12:30:50.470253Z",
     "iopub.status.idle": "2023-02-22T12:30:50.514644Z",
     "shell.execute_reply": "2023-02-22T12:30:50.514314Z",
     "shell.execute_reply.started": "2023-02-22T12:30:50.470352Z"
    },
    "id": "0Dz8ktSe-dFn",
    "outputId": "2c8669ce-b33e-435f-c07c-6245fc148caf"
   },
   "outputs": [
    {
     "data": {
      "text/plain": [
       "label_pneumothorax          143\n",
       "label_pneumonia             143\n",
       "label_effusion              146\n",
       "label_consolidation         147\n",
       "label_cardiomegaly          151\n",
       "label_pleural_thickening    151\n",
       "label_other                 347\n",
       "dtype: int64"
      ]
     },
     "execution_count": 32,
     "metadata": {},
     "output_type": "execute_result"
    }
   ],
   "source": [
    "# Let's take a balanced subset...\n",
    "test_data_balanced = remaining_data[remaining_data[rarest_label]]\n",
    "n_min = test_data_balanced.shape[0]\n",
    "\n",
    "for label, count in zip(label_counts_sorted.index[1:], label_counts_sorted[1:]):\n",
    "    n_already_captured = test_data_balanced[test_data_balanced[label]].shape[0]\n",
    "    n_additional = n_min - n_already_captured\n",
    "    if n_additional > 0:\n",
    "        not_selected_indices = remaining_data.index.difference(test_data_balanced.index)\n",
    "        not_selected_data = remaining_data.loc[not_selected_indices]\n",
    "        rows_to_add = not_selected_data[not_selected_data[label]].sample(n_additional)\n",
    "        test_data_balanced = pd.concat([test_data_balanced, rows_to_add], axis=0)\n",
    "\n",
    "test_data_balanced[label_names].sum(axis=0).sort_values()"
   ]
  },
  {
   "cell_type": "code",
   "execution_count": 33,
   "id": "8416c797-34f4-49b0-a869-8ba9c6eaa80c",
   "metadata": {
    "execution": {
     "iopub.execute_input": "2023-02-22T12:30:50.515411Z",
     "iopub.status.busy": "2023-02-22T12:30:50.515278Z",
     "iopub.status.idle": "2023-02-22T12:30:50.534125Z",
     "shell.execute_reply": "2023-02-22T12:30:50.533607Z",
     "shell.execute_reply.started": "2023-02-22T12:30:50.515401Z"
    },
    "id": "8416c797-34f4-49b0-a869-8ba9c6eaa80c",
    "tags": []
   },
   "outputs": [],
   "source": [
    "filenames_test = test_data_balanced.img_idx.to_list()\n",
    "X_test = [str(pathlib.Path(data_dir, filename)) for filename in filenames_test]\n",
    "y_test_bin = np.array(\n",
    "    test_data_balanced[label_names].apply(lambda x: x + 0), dtype=np.uint8\n",
    ")\n",
    "test_ds = create_dataset(X_test, y_test_bin)"
   ]
  },
  {
   "cell_type": "markdown",
   "id": "1ac05cae-cfc0-4306-b611-1fab5552e390",
   "metadata": {
    "id": "1ac05cae-cfc0-4306-b611-1fab5552e390"
   },
   "source": [
    "# Modelling"
   ]
  },
  {
   "cell_type": "markdown",
   "id": "05b49c66-669b-4057-899b-3290537cdeee",
   "metadata": {},
   "source": [
    "## Loss Function and Evaluation Metrics"
   ]
  },
  {
   "cell_type": "markdown",
   "id": "7f72d6ae-de4d-477a-adab-c9e2010af3a1",
   "metadata": {
    "id": "7f72d6ae-de4d-477a-adab-c9e2010af3a1"
   },
   "source": [
    "The function below, from [the Medium post mentioned earlier](https://towardsdatascience.com/multi-label-image-classification-in-tensorflow-2-0-7d4cf8a4bc72), will provide our evaluation metric:"
   ]
  },
  {
   "cell_type": "code",
   "execution_count": 34,
   "id": "2c3a2129-0689-4629-9138-ee2243b8e26f",
   "metadata": {
    "execution": {
     "iopub.execute_input": "2023-02-22T12:30:50.534864Z",
     "iopub.status.busy": "2023-02-22T12:30:50.534740Z",
     "iopub.status.idle": "2023-02-22T12:30:50.540086Z",
     "shell.execute_reply": "2023-02-22T12:30:50.539515Z",
     "shell.execute_reply.started": "2023-02-22T12:30:50.534854Z"
    },
    "id": "2c3a2129-0689-4629-9138-ee2243b8e26f",
    "tags": []
   },
   "outputs": [],
   "source": [
    "def macro_f1(y, y_hat, thresh=0.5):\n",
    "    \"\"\"Compute the macro F1-score on a batch of observations (average F1 across labels)\n",
    "\n",
    "    Args:\n",
    "        y (int32 Tensor): labels array of shape (BATCH_SIZE, N_LABELS)\n",
    "        y_hat (float32 Tensor): probability matrix from forward propagation of shape (BATCH_SIZE, N_LABELS)\n",
    "        thresh: probability value above which we predict positive\n",
    "\n",
    "    Returns:\n",
    "        macro_f1 (scalar Tensor): value of macro F1 for the batch\n",
    "    \"\"\"\n",
    "    y_pred = tf.cast(tf.greater(y_hat, thresh), tf.float32)\n",
    "    tp = tf.cast(tf.math.count_nonzero(y_pred * y, axis=0), tf.float32)\n",
    "    fp = tf.cast(tf.math.count_nonzero(y_pred * (1 - y), axis=0), tf.float32)\n",
    "    fn = tf.cast(tf.math.count_nonzero((1 - y_pred) * y, axis=0), tf.float32)\n",
    "    f1 = 2 * tp / (2 * tp + fn + fp + 1e-16)\n",
    "    macro_f1 = tf.reduce_mean(f1)\n",
    "    return macro_f1"
   ]
  },
  {
   "cell_type": "markdown",
   "id": "5552cd2b-c1f2-4de6-a113-a224aa7b7bfc",
   "metadata": {
    "id": "5552cd2b-c1f2-4de6-a113-a224aa7b7bfc"
   },
   "source": [
    "And the one below, from a related blog post ([here](https://towardsdatascience.com/the-unknown-benefits-of-using-a-soft-f1-loss-in-classification-systems-753902c0105d)), provides a differentiable version of the above, for our loss function:"
   ]
  },
  {
   "cell_type": "code",
   "execution_count": 35,
   "id": "d7bfd91f-e5d4-4911-8ff9-5ec9fc05bdae",
   "metadata": {
    "execution": {
     "iopub.execute_input": "2023-02-22T12:30:50.541250Z",
     "iopub.status.busy": "2023-02-22T12:30:50.540953Z",
     "iopub.status.idle": "2023-02-22T12:30:50.544600Z",
     "shell.execute_reply": "2023-02-22T12:30:50.544000Z",
     "shell.execute_reply.started": "2023-02-22T12:30:50.541228Z"
    },
    "id": "d7bfd91f-e5d4-4911-8ff9-5ec9fc05bdae",
    "tags": []
   },
   "outputs": [],
   "source": [
    "def macro_soft_f1(y, y_hat):\n",
    "    \"\"\"Compute the macro soft F1-score as a cost.\n",
    "    Average (1 - soft-F1) across all labels.\n",
    "    Use probability values instead of binary predictions.\n",
    "\n",
    "    Args:\n",
    "        y (int32 Tensor): targets array of shape (BATCH_SIZE, N_LABELS)\n",
    "        y_hat (float32 Tensor): probability matrix of shape (BATCH_SIZE, N_LABELS)\n",
    "\n",
    "    Returns:\n",
    "        cost (scalar Tensor): value of the cost function for the batch\n",
    "    \"\"\"\n",
    "\n",
    "    y = tf.cast(y, tf.float32)\n",
    "    y_hat = tf.cast(y_hat, tf.float32)\n",
    "    tp = tf.reduce_sum(y_hat * y, axis=0)\n",
    "    fp = tf.reduce_sum(y_hat * (1 - y), axis=0)\n",
    "    fn = tf.reduce_sum((1 - y_hat) * y, axis=0)\n",
    "    soft_f1 = 2 * tp / (2 * tp + fn + fp + 1e-16)\n",
    "    cost = 1 - soft_f1  # reduce 1 - soft-f1 in order to increase soft-f1\n",
    "    macro_cost = tf.reduce_mean(cost)  # average on all labels\n",
    "\n",
    "    return macro_cost"
   ]
  },
  {
   "cell_type": "markdown",
   "id": "397a5ec4-72cf-4ffd-9c16-288e6a3195cf",
   "metadata": {},
   "source": [
    "## Baseline Model"
   ]
  },
  {
   "cell_type": "markdown",
   "id": "95a5978b-c44a-4879-a5df-b451bb85f3d0",
   "metadata": {},
   "source": [
    "What if we just returned ones across the board? (i.e. naively predict that all patients have all of the conditions)  \n",
    "Or if we randomly predicted the conditions based on their frequencies of occurrence?  \n",
    "We need _something_ to compare our eventual model's evaluation metrics to.  \n",
    "Let us explore this further now."
   ]
  },
  {
   "cell_type": "code",
   "execution_count": 36,
   "id": "95e210b8-b30f-4828-b87c-17c2d65ee861",
   "metadata": {
    "execution": {
     "iopub.execute_input": "2023-02-22T12:30:50.545450Z",
     "iopub.status.busy": "2023-02-22T12:30:50.545299Z",
     "iopub.status.idle": "2023-02-22T12:30:50.559454Z",
     "shell.execute_reply": "2023-02-22T12:30:50.559100Z",
     "shell.execute_reply.started": "2023-02-22T12:30:50.545439Z"
    },
    "tags": []
   },
   "outputs": [
    {
     "data": {
      "text/plain": [
       "<tf.Tensor: shape=(), dtype=float32, numpy=0.41235527>"
      ]
     },
     "execution_count": 36,
     "metadata": {},
     "output_type": "execute_result"
    }
   ],
   "source": [
    "pred_all_ones = np.ones(y_test_bin.shape)\n",
    "macro_f1(y_test_bin, pred_all_ones)"
   ]
  },
  {
   "cell_type": "code",
   "execution_count": 44,
   "id": "54fc57b8-7ea9-4980-8fb8-172f47127b66",
   "metadata": {
    "execution": {
     "iopub.execute_input": "2023-02-22T12:38:05.322599Z",
     "iopub.status.busy": "2023-02-22T12:38:05.320990Z",
     "iopub.status.idle": "2023-02-22T12:38:05.340072Z",
     "shell.execute_reply": "2023-02-22T12:38:05.339565Z",
     "shell.execute_reply.started": "2023-02-22T12:38:05.322530Z"
    },
    "tags": []
   },
   "outputs": [
    {
     "data": {
      "text/plain": [
       "label_cardiomegaly          0.235061\n",
       "label_effusion              0.265811\n",
       "label_pneumothorax          0.226502\n",
       "label_pleural_thickening    0.239341\n",
       "label_pneumonia             0.203994\n",
       "label_consolidation         0.230464\n",
       "label_other                 0.527500\n",
       "dtype: float64"
      ]
     },
     "execution_count": 44,
     "metadata": {},
     "output_type": "execute_result"
    }
   ],
   "source": [
    "label_ratios = data_balanced[label_names].sum(axis=0) / len(data_balanced)\n",
    "label_ratios"
   ]
  },
  {
   "cell_type": "code",
   "execution_count": 45,
   "id": "3a81f9e1-5a84-459f-a854-24aff07a84a9",
   "metadata": {
    "execution": {
     "iopub.execute_input": "2023-02-22T12:39:29.006022Z",
     "iopub.status.busy": "2023-02-22T12:39:29.002044Z",
     "iopub.status.idle": "2023-02-22T12:39:29.020401Z",
     "shell.execute_reply": "2023-02-22T12:39:29.018745Z",
     "shell.execute_reply.started": "2023-02-22T12:39:29.004729Z"
    },
    "tags": []
   },
   "outputs": [
    {
     "data": {
      "text/plain": [
       "label_cardiomegaly          154.0\n",
       "label_effusion              174.0\n",
       "label_pneumothorax          149.0\n",
       "label_pleural_thickening    157.0\n",
       "label_pneumonia             134.0\n",
       "label_consolidation         151.0\n",
       "label_other                 346.0\n",
       "dtype: float64"
      ]
     },
     "execution_count": 45,
     "metadata": {},
     "output_type": "execute_result"
    }
   ],
   "source": [
    "pred_random_label_counts = round(y_test_bin.shape[0] * label_ratios)\n",
    "pred_random_label_counts"
   ]
  },
  {
   "cell_type": "code",
   "execution_count": 63,
   "id": "1f47305e-9373-41c1-859c-6f8838939e2d",
   "metadata": {
    "execution": {
     "iopub.execute_input": "2023-02-22T12:56:07.292043Z",
     "iopub.status.busy": "2023-02-22T12:56:07.291638Z",
     "iopub.status.idle": "2023-02-22T12:56:07.312582Z",
     "shell.execute_reply": "2023-02-22T12:56:07.311789Z",
     "shell.execute_reply.started": "2023-02-22T12:56:07.292017Z"
    },
    "tags": []
   },
   "outputs": [
    {
     "data": {
      "text/plain": [
       "<tf.Tensor: shape=(), dtype=float32, numpy=0.27993187>"
      ]
     },
     "execution_count": 63,
     "metadata": {},
     "output_type": "execute_result"
    }
   ],
   "source": [
    "pred_random = np.zeros(y_test_bin.shape)\n",
    "\n",
    "for i, label in enumerate(label_names):\n",
    "    pred_random[np.random.choice(pred_random.shape[0], int(pred_random_label_counts[label]), replace=False), i] = 1\n",
    "\n",
    "# pred_random.sum(axis=0)\n",
    "macro_f1(y_test_bin, pred_random)"
   ]
  },
  {
   "cell_type": "markdown",
   "id": "4a142a8c-79a8-47a7-82cf-79f2b40bff46",
   "metadata": {},
   "source": [
    "## Transfer Learning"
   ]
  },
  {
   "cell_type": "markdown",
   "id": "81470564-3cf6-4512-bf1c-2fc8ea91d4de",
   "metadata": {},
   "source": [
    "We will be performing transfer learning using one of the many available pre-trained deep convolutional neural networks such as those listed in [this paper](https://www.nature.com/articles/s41598-020-70479-z.pdf?origin=ppubhttps://www.nature.com/articles/s41598-020-70479-z.pdf?origin=ppub)."
   ]
  },
  {
   "cell_type": "code",
   "execution_count": 64,
   "id": "6ecc0b5d-7fbc-4324-9877-129784cdbf73",
   "metadata": {
    "execution": {
     "iopub.execute_input": "2023-02-22T12:56:35.009591Z",
     "iopub.status.busy": "2023-02-22T12:56:35.009031Z",
     "iopub.status.idle": "2023-02-22T12:56:35.020871Z",
     "shell.execute_reply": "2023-02-22T12:56:35.018671Z",
     "shell.execute_reply.started": "2023-02-22T12:56:35.009552Z"
    },
    "id": "6ecc0b5d-7fbc-4324-9877-129784cdbf73",
    "tags": []
   },
   "outputs": [],
   "source": [
    "LR = 1e-5  # For transfer learning, use a small value such as 1e5\n",
    "EPOCHS = 30\n",
    "\n",
    "\n",
    "def get_pretrained_model():\n",
    "    pretrained_model = tf.keras.applications.resnet50.ResNet50(\n",
    "        include_top=False,\n",
    "        input_shape=(IMG_SIZE, IMG_SIZE, CHANNELS),\n",
    "    )\n",
    "    pretrained_model.trainable = False\n",
    "    return pretrained_model"
   ]
  },
  {
   "cell_type": "code",
   "execution_count": 65,
   "id": "65d745b5-138b-4a2a-ab5c-067be8a89e38",
   "metadata": {
    "execution": {
     "iopub.execute_input": "2023-02-22T12:56:35.023580Z",
     "iopub.status.busy": "2023-02-22T12:56:35.023236Z",
     "iopub.status.idle": "2023-02-22T12:56:35.026281Z",
     "shell.execute_reply": "2023-02-22T12:56:35.025759Z",
     "shell.execute_reply.started": "2023-02-22T12:56:35.023555Z"
    },
    "id": "65d745b5-138b-4a2a-ab5c-067be8a89e38",
    "tags": []
   },
   "outputs": [],
   "source": [
    "# pretrained = get_pretrained_model()\n",
    "# pretrained.summary()"
   ]
  },
  {
   "cell_type": "code",
   "execution_count": 66,
   "id": "40ffa302-d03e-4f9d-b6b2-6976b358c2ec",
   "metadata": {
    "execution": {
     "iopub.execute_input": "2023-02-22T12:56:35.027127Z",
     "iopub.status.busy": "2023-02-22T12:56:35.026981Z",
     "iopub.status.idle": "2023-02-22T12:56:35.030526Z",
     "shell.execute_reply": "2023-02-22T12:56:35.030188Z",
     "shell.execute_reply.started": "2023-02-22T12:56:35.027115Z"
    },
    "id": "40ffa302-d03e-4f9d-b6b2-6976b358c2ec",
    "tags": []
   },
   "outputs": [],
   "source": [
    "def create_compiled_custom_model():\n",
    "    base_model = get_pretrained_model()\n",
    "    flattening_layer = tf.keras.layers.Flatten()\n",
    "    dense_layer_1 = tf.keras.layers.Dense(250, activation=\"relu\")\n",
    "    dense_layer_2 = tf.keras.layers.Dense(100, activation=\"relu\")\n",
    "    dense_layer_3 = tf.keras.layers.Dense(50, activation=\"relu\")\n",
    "    prediction_layer = tf.keras.layers.Dense(N_LABELS, activation=\"sigmoid\")\n",
    "\n",
    "    model = tf.keras.models.Sequential(\n",
    "        [\n",
    "            base_model,\n",
    "            flattening_layer,\n",
    "            dense_layer_1,\n",
    "            dense_layer_2,\n",
    "            dense_layer_3,\n",
    "            prediction_layer,\n",
    "        ]\n",
    "    )\n",
    "\n",
    "    opt = tf.keras.optimizers.Adam(learning_rate=LR)\n",
    "\n",
    "    model.compile(\n",
    "        optimizer=opt,\n",
    "        loss=macro_soft_f1,\n",
    "        metrics=[macro_f1],\n",
    "    )\n",
    "\n",
    "    return model"
   ]
  },
  {
   "cell_type": "code",
   "execution_count": 67,
   "id": "fe33c255-b992-4ef9-a3b0-6afcb8270d2d",
   "metadata": {
    "colab": {
     "base_uri": "https://localhost:8080/"
    },
    "execution": {
     "iopub.execute_input": "2023-02-22T12:56:35.031308Z",
     "iopub.status.busy": "2023-02-22T12:56:35.031157Z",
     "iopub.status.idle": "2023-02-22T12:56:36.537277Z",
     "shell.execute_reply": "2023-02-22T12:56:36.536958Z",
     "shell.execute_reply.started": "2023-02-22T12:56:35.031296Z"
    },
    "id": "fe33c255-b992-4ef9-a3b0-6afcb8270d2d",
    "outputId": "8d64f9d1-4c5e-49b0-d871-f3fb1304ab9f",
    "tags": []
   },
   "outputs": [
    {
     "name": "stdout",
     "output_type": "stream",
     "text": [
      "Model: \"sequential\"\n",
      "_________________________________________________________________\n",
      " Layer (type)                Output Shape              Param #   \n",
      "=================================================================\n",
      " resnet50 (Functional)       (None, 7, 7, 2048)        23587712  \n",
      "                                                                 \n",
      " flatten (Flatten)           (None, 100352)            0         \n",
      "                                                                 \n",
      " dense (Dense)               (None, 250)               25088250  \n",
      "                                                                 \n",
      " dense_1 (Dense)             (None, 100)               25100     \n",
      "                                                                 \n",
      " dense_2 (Dense)             (None, 50)                5050      \n",
      "                                                                 \n",
      " dense_3 (Dense)             (None, 7)                 357       \n",
      "                                                                 \n",
      "=================================================================\n",
      "Total params: 48,706,469\n",
      "Trainable params: 25,118,757\n",
      "Non-trainable params: 23,587,712\n",
      "_________________________________________________________________\n"
     ]
    }
   ],
   "source": [
    "test_model = create_compiled_custom_model()\n",
    "test_model.summary()"
   ]
  },
  {
   "cell_type": "code",
   "execution_count": 68,
   "id": "97cfc223-e395-4018-a44f-5055982e471e",
   "metadata": {
    "colab": {
     "base_uri": "https://localhost:8080/"
    },
    "execution": {
     "iopub.execute_input": "2023-02-22T12:56:36.539968Z",
     "iopub.status.busy": "2023-02-22T12:56:36.539666Z",
     "iopub.status.idle": "2023-02-22T13:54:17.046470Z",
     "shell.execute_reply": "2023-02-22T13:54:17.041874Z",
     "shell.execute_reply.started": "2023-02-22T12:56:36.539952Z"
    },
    "id": "97cfc223-e395-4018-a44f-5055982e471e",
    "outputId": "6a3671e0-1a41-4be1-a308-d16e9cc6fa88",
    "tags": []
   },
   "outputs": [
    {
     "name": "stdout",
     "output_type": "stream",
     "text": [
      "Epoch 1/30\n"
     ]
    },
    {
     "name": "stderr",
     "output_type": "stream",
     "text": [
      "2023-02-22 21:56:38.264546: W tensorflow/core/platform/profile_utils/cpu_utils.cc:128] Failed to get CPU frequency: 0 Hz\n"
     ]
    },
    {
     "name": "stdout",
     "output_type": "stream",
     "text": [
      "40/40 [==============================] - 171s 4s/step - loss: 0.6104 - macro_f1: 0.4026 - val_loss: 0.5898 - val_macro_f1: 0.4203\n",
      "Epoch 2/30\n",
      "40/40 [==============================] - 151s 4s/step - loss: 0.5848 - macro_f1: 0.4220 - val_loss: 0.5842 - val_macro_f1: 0.4202\n",
      "Epoch 3/30\n",
      "40/40 [==============================] - 148s 4s/step - loss: 0.5815 - macro_f1: 0.4221 - val_loss: 0.5824 - val_macro_f1: 0.4199\n",
      "Epoch 4/30\n",
      "40/40 [==============================] - 159s 4s/step - loss: 0.5804 - macro_f1: 0.4214 - val_loss: 0.5818 - val_macro_f1: 0.4198\n",
      "Epoch 5/30\n",
      "40/40 [==============================] - 140s 4s/step - loss: 0.5797 - macro_f1: 0.4222 - val_loss: 0.5816 - val_macro_f1: 0.4196\n",
      "Epoch 6/30\n",
      "40/40 [==============================] - 139s 3s/step - loss: 0.5791 - macro_f1: 0.4222 - val_loss: 0.5805 - val_macro_f1: 0.4202\n",
      "Epoch 7/30\n",
      "40/40 [==============================] - 145s 4s/step - loss: 0.5789 - macro_f1: 0.4219 - val_loss: 0.5804 - val_macro_f1: 0.4200\n",
      "Epoch 8/30\n",
      "40/40 [==============================] - 168s 4s/step - loss: 0.5790 - macro_f1: 0.4217 - val_loss: 0.5806 - val_macro_f1: 0.4201\n",
      "Epoch 9/30\n",
      "40/40 [==============================] - 141s 4s/step - loss: 0.5786 - macro_f1: 0.4221 - val_loss: 0.5803 - val_macro_f1: 0.4202\n",
      "Epoch 10/30\n",
      "40/40 [==============================] - 140s 4s/step - loss: 0.5788 - macro_f1: 0.4218 - val_loss: 0.5803 - val_macro_f1: 0.4203\n",
      "Epoch 11/30\n",
      "40/40 [==============================] - 142s 4s/step - loss: 0.5786 - macro_f1: 0.4217 - val_loss: 0.5805 - val_macro_f1: 0.4197\n",
      "Epoch 12/30\n",
      "40/40 [==============================] - 143s 4s/step - loss: 0.5786 - macro_f1: 0.4218 - val_loss: 0.5804 - val_macro_f1: 0.4200\n",
      "Epoch 13/30\n",
      "40/40 [==============================] - 143s 4s/step - loss: 0.5784 - macro_f1: 0.4219 - val_loss: 0.5800 - val_macro_f1: 0.4200\n",
      "Epoch 14/30\n",
      "40/40 [==============================] - 139s 3s/step - loss: 0.5787 - macro_f1: 0.4217 - val_loss: 0.5806 - val_macro_f1: 0.4192\n",
      "Epoch 15/30\n",
      "40/40 [==============================] - 143s 4s/step - loss: 0.5783 - macro_f1: 0.4218 - val_loss: 0.5799 - val_macro_f1: 0.4204\n",
      "Epoch 16/30\n",
      "40/40 [==============================] - 139s 3s/step - loss: 0.5785 - macro_f1: 0.4217 - val_loss: 0.5808 - val_macro_f1: 0.4193\n",
      "Epoch 17/30\n",
      "40/40 [==============================] - 141s 4s/step - loss: 0.5784 - macro_f1: 0.4220 - val_loss: 0.5801 - val_macro_f1: 0.4204\n",
      "Epoch 18/30\n",
      "40/40 [==============================] - 142s 4s/step - loss: 0.5783 - macro_f1: 0.4221 - val_loss: 0.5804 - val_macro_f1: 0.4200\n",
      "Epoch 19/30\n",
      "40/40 [==============================] - 139s 4s/step - loss: 0.5784 - macro_f1: 0.4219 - val_loss: 0.5795 - val_macro_f1: 0.4208\n",
      "Epoch 20/30\n",
      "40/40 [==============================] - 138s 3s/step - loss: 0.5785 - macro_f1: 0.4215 - val_loss: 0.5799 - val_macro_f1: 0.4201\n",
      "Epoch 21/30\n",
      "40/40 [==============================] - 138s 3s/step - loss: 0.5781 - macro_f1: 0.4223 - val_loss: 0.5800 - val_macro_f1: 0.4198\n",
      "Epoch 22/30\n",
      "40/40 [==============================] - 137s 3s/step - loss: 0.5784 - macro_f1: 0.4211 - val_loss: 0.5804 - val_macro_f1: 0.4198\n",
      "Epoch 23/30\n",
      "40/40 [==============================] - 138s 3s/step - loss: 0.5782 - macro_f1: 0.4217 - val_loss: 0.5797 - val_macro_f1: 0.4204\n",
      "Epoch 24/30\n",
      "40/40 [==============================] - ETA: 0s - loss: 0.5783 - macro_f1: 0.4217Restoring model weights from the end of the best epoch: 19.\n",
      "40/40 [==============================] - 138s 3s/step - loss: 0.5783 - macro_f1: 0.4217 - val_loss: 0.5802 - val_macro_f1: 0.4198\n",
      "Epoch 24: early stopping\n"
     ]
    }
   ],
   "source": [
    "es = tf.keras.callbacks.EarlyStopping(\n",
    "    # monitor=\"val_macro_f1\", mode=\"max\", patience=5, verbose=1, restore_best_weights=True\n",
    "    monitor=\"val_loss\",\n",
    "    mode=\"min\",\n",
    "    patience=5,\n",
    "    verbose=1,\n",
    "    restore_best_weights=True,\n",
    ")\n",
    "history = test_model.fit(\n",
    "    train_ds, epochs=EPOCHS, validation_data=val_ds, verbose=1, callbacks=[es]\n",
    ")"
   ]
  },
  {
   "cell_type": "code",
   "execution_count": 69,
   "id": "UxftrAHT9Syd",
   "metadata": {
    "execution": {
     "iopub.execute_input": "2023-02-22T13:54:17.055088Z",
     "iopub.status.busy": "2023-02-22T13:54:17.053903Z",
     "iopub.status.idle": "2023-02-22T13:54:17.075490Z",
     "shell.execute_reply": "2023-02-22T13:54:17.075105Z",
     "shell.execute_reply.started": "2023-02-22T13:54:17.054881Z"
    },
    "id": "UxftrAHT9Syd"
   },
   "outputs": [],
   "source": [
    "def plot_history(history):\n",
    "    fig, ax = plt.subplots(1, 2, figsize=(20, 7))\n",
    "    # --- LOSS: Soft Macro F1 ---\n",
    "    ax[0].plot(history.history[\"loss\"])\n",
    "    ax[0].plot(history.history[\"val_loss\"])\n",
    "    ax[0].set_title(\"Loss\")\n",
    "    ax[0].set_ylabel(\"Soft Macro F1\")\n",
    "    ax[0].set_xlabel(\"Epoch\")\n",
    "    ax[0].legend([\"Train\", \"Validation\"], loc=\"best\")\n",
    "    ax[0].grid(axis=\"x\", linewidth=0.5)\n",
    "    ax[0].grid(axis=\"y\", linewidth=0.5)\n",
    "\n",
    "    # --- METRICS: Macro F1 ---\n",
    "\n",
    "    ax[1].plot(history.history[\"macro_f1\"])\n",
    "    ax[1].plot(history.history[\"val_macro_f1\"])\n",
    "    ax[1].set_title(\"Metric\")\n",
    "    ax[1].set_ylabel(\"Macro F1\")\n",
    "    ax[1].set_xlabel(\"Epoch\")\n",
    "    ax[1].legend([\"Train\", \"Validation\"], loc=\"best\")\n",
    "    ax[1].grid(axis=\"x\", linewidth=0.5)\n",
    "    ax[1].grid(axis=\"y\", linewidth=0.5)\n",
    "\n",
    "    return ax"
   ]
  },
  {
   "cell_type": "code",
   "execution_count": 70,
   "id": "7FLpbinD9U3R",
   "metadata": {
    "colab": {
     "base_uri": "https://localhost:8080/",
     "height": 458
    },
    "execution": {
     "iopub.execute_input": "2023-02-22T13:54:17.076391Z",
     "iopub.status.busy": "2023-02-22T13:54:17.076249Z",
     "iopub.status.idle": "2023-02-22T13:54:17.368203Z",
     "shell.execute_reply": "2023-02-22T13:54:17.367801Z",
     "shell.execute_reply.started": "2023-02-22T13:54:17.076379Z"
    },
    "id": "7FLpbinD9U3R",
    "outputId": "0b4e03dd-cc29-4216-ad02-d290fd8ce97a"
   },
   "outputs": [
    {
     "data": {
      "image/png": "[encoded data removed]",
      "text/plain": [
       "<Figure size 2000x700 with 2 Axes>"
      ]
     },
     "metadata": {},
     "output_type": "display_data"
    }
   ],
   "source": [
    "plot_history(history);"
   ]
  },
  {
   "cell_type": "code",
   "execution_count": 71,
   "id": "ed1c0d4c-4e1f-40de-b1ff-1b40033fe09b",
   "metadata": {
    "colab": {
     "base_uri": "https://localhost:8080/"
    },
    "execution": {
     "iopub.execute_input": "2023-02-22T13:54:17.368756Z",
     "iopub.status.busy": "2023-02-22T13:54:17.368658Z",
     "iopub.status.idle": "2023-02-22T13:54:31.904654Z",
     "shell.execute_reply": "2023-02-22T13:54:31.904280Z",
     "shell.execute_reply.started": "2023-02-22T13:54:17.368746Z"
    },
    "id": "ed1c0d4c-4e1f-40de-b1ff-1b40033fe09b",
    "outputId": "bf737315-fd4c-4d21-9b1d-2100323888a7",
    "tags": []
   },
   "outputs": [
    {
     "name": "stdout",
     "output_type": "stream",
     "text": [
      "6/6 [==============================] - 15s 2s/step - loss: 0.5892 - macro_f1: 0.4160\n"
     ]
    },
    {
     "data": {
      "text/plain": [
       "{'loss': 0.5892053246498108, 'macro_f1': 0.41603755950927734}"
      ]
     },
     "execution_count": 71,
     "metadata": {},
     "output_type": "execute_result"
    }
   ],
   "source": [
    "res = test_model.evaluate(test_ds, return_dict=True)\n",
    "res"
   ]
  }
 ],
 "metadata": {
  "accelerator": "GPU",
  "colab": {
   "provenance": []
  },
  "gpuClass": "standard",
  "kernelspec": {
   "display_name": "Python 3 (ipykernel)",
   "language": "python",
   "name": "python3"
  },
  "language_info": {
   "codemirror_mode": {
    "name": "ipython",
    "version": 3
   },
   "file_extension": ".py",
   "mimetype": "text/x-python",
   "name": "python",
   "nbconvert_exporter": "python",
   "pygments_lexer": "ipython3",
   "version": "3.10.6"
  }
 },
 "nbformat": 4,
 "nbformat_minor": 5
}
