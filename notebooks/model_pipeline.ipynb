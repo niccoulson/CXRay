{
 "cells": [
  {
   "cell_type": "code",
   "execution_count": 1,
   "id": "pGXHVtqxYW8X",
   "metadata": {
    "colab": {
     "base_uri": "https://localhost:8080/"
    },
    "execution": {
     "iopub.execute_input": "2023-02-25T08:40:23.931824Z",
     "iopub.status.busy": "2023-02-25T08:40:23.931255Z",
     "iopub.status.idle": "2023-02-25T08:40:23.937518Z",
     "shell.execute_reply": "2023-02-25T08:40:23.935613Z",
     "shell.execute_reply.started": "2023-02-25T08:40:23.931777Z"
    },
    "id": "pGXHVtqxYW8X",
    "outputId": "584d6b5a-d040-4e71-f79a-469012868479"
   },
   "outputs": [],
   "source": [
    "# # For Google Colab\n",
    "# # Mount GDrive\n",
    "# from google.colab import drive\n",
    "\n",
    "# drive.mount(\"/content/drive\")"
   ]
  },
  {
   "cell_type": "code",
   "execution_count": 2,
   "id": "BvwZuVysYaIm",
   "metadata": {
    "execution": {
     "iopub.execute_input": "2023-02-25T08:40:23.939793Z",
     "iopub.status.busy": "2023-02-25T08:40:23.939514Z",
     "iopub.status.idle": "2023-02-25T08:40:23.945268Z",
     "shell.execute_reply": "2023-02-25T08:40:23.944547Z",
     "shell.execute_reply.started": "2023-02-25T08:40:23.939768Z"
    },
    "id": "BvwZuVysYaIm",
    "tags": []
   },
   "outputs": [],
   "source": [
    "# # For Google Colab\n",
    "# # Put Colab in the context of this challenge\n",
    "# import os\n",
    "\n",
    "# # os.chdir allows you to change directories, like cd in the Terminal\n",
    "# os.chdir(\"/content/drive/MyDrive/Colab Notebooks/CXRay/notebooks\")"
   ]
  },
  {
   "cell_type": "markdown",
   "id": "8504600a-f546-4258-92e7-61283f3f68f2",
   "metadata": {
    "id": "8504600a-f546-4258-92e7-61283f3f68f2"
   },
   "source": [
    "# Data Pre-Processing"
   ]
  },
  {
   "cell_type": "code",
   "execution_count": 3,
   "id": "5c07d8f8-e079-4e45-9b1a-05c75a56bd25",
   "metadata": {
    "execution": {
     "iopub.execute_input": "2023-02-25T08:40:23.946711Z",
     "iopub.status.busy": "2023-02-25T08:40:23.946198Z",
     "iopub.status.idle": "2023-02-25T08:40:24.361639Z",
     "shell.execute_reply": "2023-02-25T08:40:24.361313Z",
     "shell.execute_reply.started": "2023-02-25T08:40:23.946425Z"
    },
    "id": "5c07d8f8-e079-4e45-9b1a-05c75a56bd25"
   },
   "outputs": [],
   "source": [
    "import os\n",
    "import pathlib\n",
    "\n",
    "import pandas as pd"
   ]
  },
  {
   "cell_type": "code",
   "execution_count": 4,
   "id": "7d1f0e05-7f0a-423b-8e60-d43afe9d30b1",
   "metadata": {
    "colab": {
     "base_uri": "https://localhost:8080/",
     "height": 270
    },
    "execution": {
     "iopub.execute_input": "2023-02-25T08:40:24.362487Z",
     "iopub.status.busy": "2023-02-25T08:40:24.362256Z",
     "iopub.status.idle": "2023-02-25T08:40:24.454215Z",
     "shell.execute_reply": "2023-02-25T08:40:24.453846Z",
     "shell.execute_reply.started": "2023-02-25T08:40:24.362468Z"
    },
    "id": "7d1f0e05-7f0a-423b-8e60-d43afe9d30b1",
    "outputId": "efab887e-a3e7-4884-8190-e58a314791c3"
   },
   "outputs": [
    {
     "data": {
      "text/html": [
       "<div>\n",
       "<style scoped>\n",
       "    .dataframe tbody tr th:only-of-type {\n",
       "        vertical-align: middle;\n",
       "    }\n",
       "\n",
       "    .dataframe tbody tr th {\n",
       "        vertical-align: top;\n",
       "    }\n",
       "\n",
       "    .dataframe thead th {\n",
       "        text-align: right;\n",
       "    }\n",
       "</style>\n",
       "<table border=\"1\" class=\"dataframe\">\n",
       "  <thead>\n",
       "    <tr style=\"text-align: right;\">\n",
       "      <th></th>\n",
       "      <th>img_idx</th>\n",
       "      <th>labels</th>\n",
       "      <th>age</th>\n",
       "      <th>gender</th>\n",
       "      <th>view_pos</th>\n",
       "      <th>label_cardiomegaly</th>\n",
       "      <th>label_effusion</th>\n",
       "      <th>label_no_finding</th>\n",
       "      <th>label_pneumothorax</th>\n",
       "      <th>label_pleural_thickening</th>\n",
       "      <th>label_pneumonia</th>\n",
       "      <th>label_consolidation</th>\n",
       "      <th>label_other</th>\n",
       "    </tr>\n",
       "  </thead>\n",
       "  <tbody>\n",
       "    <tr>\n",
       "      <th>0</th>\n",
       "      <td>00000001_000.png</td>\n",
       "      <td>Cardiomegaly</td>\n",
       "      <td>58</td>\n",
       "      <td>M</td>\n",
       "      <td>PA</td>\n",
       "      <td>True</td>\n",
       "      <td>False</td>\n",
       "      <td>False</td>\n",
       "      <td>False</td>\n",
       "      <td>False</td>\n",
       "      <td>False</td>\n",
       "      <td>False</td>\n",
       "      <td>False</td>\n",
       "    </tr>\n",
       "    <tr>\n",
       "      <th>1</th>\n",
       "      <td>00000001_001.png</td>\n",
       "      <td>Cardiomegaly|Emphysema</td>\n",
       "      <td>58</td>\n",
       "      <td>M</td>\n",
       "      <td>PA</td>\n",
       "      <td>True</td>\n",
       "      <td>False</td>\n",
       "      <td>False</td>\n",
       "      <td>False</td>\n",
       "      <td>False</td>\n",
       "      <td>False</td>\n",
       "      <td>False</td>\n",
       "      <td>True</td>\n",
       "    </tr>\n",
       "    <tr>\n",
       "      <th>2</th>\n",
       "      <td>00000001_002.png</td>\n",
       "      <td>Cardiomegaly|Effusion</td>\n",
       "      <td>58</td>\n",
       "      <td>M</td>\n",
       "      <td>PA</td>\n",
       "      <td>True</td>\n",
       "      <td>True</td>\n",
       "      <td>False</td>\n",
       "      <td>False</td>\n",
       "      <td>False</td>\n",
       "      <td>False</td>\n",
       "      <td>False</td>\n",
       "      <td>False</td>\n",
       "    </tr>\n",
       "    <tr>\n",
       "      <th>3</th>\n",
       "      <td>00000002_000.png</td>\n",
       "      <td>No Finding</td>\n",
       "      <td>81</td>\n",
       "      <td>M</td>\n",
       "      <td>PA</td>\n",
       "      <td>False</td>\n",
       "      <td>False</td>\n",
       "      <td>True</td>\n",
       "      <td>False</td>\n",
       "      <td>False</td>\n",
       "      <td>False</td>\n",
       "      <td>False</td>\n",
       "      <td>False</td>\n",
       "    </tr>\n",
       "    <tr>\n",
       "      <th>4</th>\n",
       "      <td>00000003_000.png</td>\n",
       "      <td>Hernia</td>\n",
       "      <td>81</td>\n",
       "      <td>F</td>\n",
       "      <td>PA</td>\n",
       "      <td>False</td>\n",
       "      <td>False</td>\n",
       "      <td>False</td>\n",
       "      <td>False</td>\n",
       "      <td>False</td>\n",
       "      <td>False</td>\n",
       "      <td>False</td>\n",
       "      <td>True</td>\n",
       "    </tr>\n",
       "  </tbody>\n",
       "</table>\n",
       "</div>"
      ],
      "text/plain": [
       "            img_idx                  labels  age gender view_pos  \\\n",
       "0  00000001_000.png            Cardiomegaly   58      M       PA   \n",
       "1  00000001_001.png  Cardiomegaly|Emphysema   58      M       PA   \n",
       "2  00000001_002.png   Cardiomegaly|Effusion   58      M       PA   \n",
       "3  00000002_000.png              No Finding   81      M       PA   \n",
       "4  00000003_000.png                  Hernia   81      F       PA   \n",
       "\n",
       "   label_cardiomegaly  label_effusion  label_no_finding  label_pneumothorax  \\\n",
       "0                True           False             False               False   \n",
       "1                True           False             False               False   \n",
       "2                True            True             False               False   \n",
       "3               False           False              True               False   \n",
       "4               False           False             False               False   \n",
       "\n",
       "   label_pleural_thickening  label_pneumonia  label_consolidation  label_other  \n",
       "0                     False            False                False        False  \n",
       "1                     False            False                False         True  \n",
       "2                     False            False                False        False  \n",
       "3                     False            False                False        False  \n",
       "4                     False            False                False         True  "
      ]
     },
     "execution_count": 4,
     "metadata": {},
     "output_type": "execute_result"
    }
   ],
   "source": [
    "cwd = os.getcwd()\n",
    "data_path = pathlib.Path(cwd, \"..\", \"clean_data\", \"cleaned_data.csv\")\n",
    "\n",
    "data = pd.read_csv(data_path)\n",
    "data.head()"
   ]
  },
  {
   "cell_type": "code",
   "execution_count": 5,
   "id": "254d3054-b153-4396-938e-3ad847c559c7",
   "metadata": {
    "execution": {
     "iopub.execute_input": "2023-02-25T08:40:24.455576Z",
     "iopub.status.busy": "2023-02-25T08:40:24.455468Z",
     "iopub.status.idle": "2023-02-25T08:40:24.462435Z",
     "shell.execute_reply": "2023-02-25T08:40:24.462153Z",
     "shell.execute_reply.started": "2023-02-25T08:40:24.455567Z"
    }
   },
   "outputs": [
    {
     "data": {
      "text/plain": [
       "(112104, 12)"
      ]
     },
     "execution_count": 5,
     "metadata": {},
     "output_type": "execute_result"
    }
   ],
   "source": [
    "# data = data.drop(columns=\"label_other\")\n",
    "data = data.drop(columns=\"label_no_finding\")\n",
    "data.shape"
   ]
  },
  {
   "cell_type": "code",
   "execution_count": 6,
   "id": "TXtUBirgqHri",
   "metadata": {
    "execution": {
     "iopub.execute_input": "2023-02-25T08:40:24.462989Z",
     "iopub.status.busy": "2023-02-25T08:40:24.462900Z",
     "iopub.status.idle": "2023-02-25T08:40:24.464842Z",
     "shell.execute_reply": "2023-02-25T08:40:24.464527Z",
     "shell.execute_reply.started": "2023-02-25T08:40:24.462980Z"
    },
    "id": "TXtUBirgqHri",
    "tags": []
   },
   "outputs": [],
   "source": [
    "# # For Google Colab\n",
    "# def is_uploaded(filename: str) -> bool:\n",
    "#     filepath = str(pathlib.Path(cwd, \"..\", \"raw_data\", \"images_224_224\", filename))\n",
    "#     if os.path.exists(filepath):\n",
    "#         return os.stat(filepath).st_size != 0\n",
    "#     return False\n",
    "\n",
    "# data[\"image_is_uploaded\"] = data.img_idx.apply(lambda x: is_uploaded(x))\n",
    "# data = data[data.image_is_uploaded]\n",
    "# data.shape"
   ]
  },
  {
   "cell_type": "code",
   "execution_count": 7,
   "id": "6b869784-c376-4e9b-a6f7-d52d59463f8a",
   "metadata": {
    "colab": {
     "base_uri": "https://localhost:8080/"
    },
    "execution": {
     "iopub.execute_input": "2023-02-25T08:40:24.465505Z",
     "iopub.status.busy": "2023-02-25T08:40:24.465359Z",
     "iopub.status.idle": "2023-02-25T08:40:24.467994Z",
     "shell.execute_reply": "2023-02-25T08:40:24.467676Z",
     "shell.execute_reply.started": "2023-02-25T08:40:24.465495Z"
    },
    "id": "6b869784-c376-4e9b-a6f7-d52d59463f8a",
    "outputId": "ef38e193-3784-4a0d-e267-d9cfb8b48c0d"
   },
   "outputs": [
    {
     "data": {
      "text/plain": [
       "['label_cardiomegaly',\n",
       " 'label_effusion',\n",
       " 'label_pneumothorax',\n",
       " 'label_pleural_thickening',\n",
       " 'label_pneumonia',\n",
       " 'label_consolidation',\n",
       " 'label_other']"
      ]
     },
     "execution_count": 7,
     "metadata": {},
     "output_type": "execute_result"
    }
   ],
   "source": [
    "label_names = [l for l in data.columns if l.startswith(\"label_\")]\n",
    "label_names"
   ]
  },
  {
   "cell_type": "code",
   "execution_count": 8,
   "id": "3cf34114-2cd5-4e38-905c-537dafed3d25",
   "metadata": {
    "colab": {
     "base_uri": "https://localhost:8080/"
    },
    "execution": {
     "iopub.execute_input": "2023-02-25T08:40:24.468618Z",
     "iopub.status.busy": "2023-02-25T08:40:24.468499Z",
     "iopub.status.idle": "2023-02-25T08:40:24.472711Z",
     "shell.execute_reply": "2023-02-25T08:40:24.472387Z",
     "shell.execute_reply.started": "2023-02-25T08:40:24.468608Z"
    },
    "id": "3cf34114-2cd5-4e38-905c-537dafed3d25",
    "outputId": "830b81b4-bcdb-4653-d2aa-af06aa71c28b"
   },
   "outputs": [
    {
     "data": {
      "text/plain": [
       "label_pneumonia              1430\n",
       "label_cardiomegaly           2776\n",
       "label_pleural_thickening     3384\n",
       "label_consolidation          4667\n",
       "label_pneumothorax           5301\n",
       "label_effusion              13316\n",
       "label_other                 39770\n",
       "dtype: int64"
      ]
     },
     "execution_count": 8,
     "metadata": {},
     "output_type": "execute_result"
    }
   ],
   "source": [
    "label_counts_sorted = data[label_names].sum(axis=0).sort_values()\n",
    "label_counts_sorted"
   ]
  },
  {
   "cell_type": "markdown",
   "id": "ae949f0e-5b60-4f62-82cc-7d31ce90d706",
   "metadata": {
    "id": "ae949f0e-5b60-4f62-82cc-7d31ce90d706",
    "tags": []
   },
   "source": [
    "We want to have a balanced dataset that contains an equal number of examples of each condition (+\"no finding\"), regardless of 'overlaps' (i.e. multiple conditions).  \n",
    "\n",
    "We will start from the lowest common denominator, i.e. the condition with the fewest number of examples, i.e. pnemonia. We will choose **all** of the pneumonia cases, `N0 = N_pneumonia = 1430` above. Then we have to choose the same number of examples from each of the other conditions, in increasing order of the number of cases. But there are overlaps, so we will exclude cases already chosen from previous labels (i.e. those with fewer examples). We will keep adding examples until we have `N0` rows with each label."
   ]
  },
  {
   "cell_type": "code",
   "execution_count": 9,
   "id": "e4300583-52ac-44a7-8651-f7030d22a219",
   "metadata": {
    "colab": {
     "base_uri": "https://localhost:8080/"
    },
    "execution": {
     "iopub.execute_input": "2023-02-25T08:40:24.473380Z",
     "iopub.status.busy": "2023-02-25T08:40:24.473236Z",
     "iopub.status.idle": "2023-02-25T08:40:24.580886Z",
     "shell.execute_reply": "2023-02-25T08:40:24.580574Z",
     "shell.execute_reply.started": "2023-02-25T08:40:24.473370Z"
    },
    "id": "e4300583-52ac-44a7-8651-f7030d22a219",
    "outputId": "ce74f8c8-84f5-4ac8-d486-a0b992eae105",
    "tags": []
   },
   "outputs": [
    {
     "data": {
      "text/plain": [
       "label_pneumothorax          1430\n",
       "label_pneumonia             1430\n",
       "label_consolidation         1435\n",
       "label_cardiomegaly          1436\n",
       "label_pleural_thickening    1525\n",
       "label_effusion              1603\n",
       "label_other                 3293\n",
       "dtype: int64"
      ]
     },
     "execution_count": 9,
     "metadata": {},
     "output_type": "execute_result"
    }
   ],
   "source": [
    "rarest_label = label_counts_sorted.index[0]\n",
    "rarest_label_count = data[data[rarest_label]].shape[0]\n",
    "data_balanced = data[data[rarest_label]]\n",
    "n_min = data_balanced.shape[0]\n",
    "for label, count in zip(label_counts_sorted.index[1:], label_counts_sorted[1:]):\n",
    "    n_already_captured = data_balanced[data_balanced[label]].shape[0]\n",
    "    n_additional = n_min - n_already_captured\n",
    "    if n_additional > 0:\n",
    "        not_selected_indices = data.index.difference(data_balanced.index)\n",
    "        not_selected_data = data.loc[not_selected_indices]\n",
    "        not_selected_data_pa = not_selected_data.query(\"view_pos == 'PA'\").copy()\n",
    "        not_selected_data_ap = not_selected_data.query(\"view_pos == 'AP'\").copy()\n",
    "        rows_to_add = not_selected_data_pa[not_selected_data_pa[label]].sample(\n",
    "            n_additional\n",
    "        )\n",
    "        data_balanced = pd.concat([data_balanced, rows_to_add], axis=0)\n",
    "\n",
    "data_balanced[label_names].sum(axis=0).sort_values()"
   ]
  },
  {
   "cell_type": "markdown",
   "id": "5e30e3c5-ea59-4062-8db4-9020aa21ecc1",
   "metadata": {
    "id": "5e30e3c5-ea59-4062-8db4-9020aa21ecc1"
   },
   "source": [
    "Actually let's keep a small percentage of the rarest class (pneumonia) for testing..."
   ]
  },
  {
   "cell_type": "code",
   "execution_count": 10,
   "id": "0c1e2d43-990c-47e5-8e0d-597642bdb37f",
   "metadata": {
    "execution": {
     "iopub.execute_input": "2023-02-25T08:40:24.581547Z",
     "iopub.status.busy": "2023-02-25T08:40:24.581446Z",
     "iopub.status.idle": "2023-02-25T08:40:24.585263Z",
     "shell.execute_reply": "2023-02-25T08:40:24.584910Z",
     "shell.execute_reply.started": "2023-02-25T08:40:24.581538Z"
    },
    "id": "0c1e2d43-990c-47e5-8e0d-597642bdb37f",
    "tags": []
   },
   "outputs": [],
   "source": [
    "rarest_label_fraction_to_keep = 0.1\n",
    "indices_to_remove = (\n",
    "    data_balanced[data_balanced[rarest_label]]\n",
    "    .sample(int(rarest_label_count * rarest_label_fraction_to_keep))\n",
    "    .index\n",
    ")\n",
    "data_balanced.drop(indices_to_remove, inplace=True)"
   ]
  },
  {
   "cell_type": "code",
   "execution_count": 11,
   "id": "d7c63b40-b694-4643-96dc-bdeccdda5b86",
   "metadata": {
    "colab": {
     "base_uri": "https://localhost:8080/"
    },
    "execution": {
     "iopub.execute_input": "2023-02-25T08:40:24.585898Z",
     "iopub.status.busy": "2023-02-25T08:40:24.585804Z",
     "iopub.status.idle": "2023-02-25T08:40:24.588160Z",
     "shell.execute_reply": "2023-02-25T08:40:24.587890Z",
     "shell.execute_reply.started": "2023-02-25T08:40:24.585889Z"
    },
    "id": "d7c63b40-b694-4643-96dc-bdeccdda5b86",
    "outputId": "abd7190e-c981-43e4-cd4a-d89e34399799",
    "tags": []
   },
   "outputs": [
    {
     "data": {
      "text/plain": [
       "(6364, 12)"
      ]
     },
     "execution_count": 11,
     "metadata": {},
     "output_type": "execute_result"
    }
   ],
   "source": [
    "data_balanced.shape"
   ]
  },
  {
   "cell_type": "code",
   "execution_count": 12,
   "id": "1e9ab967-8e37-484b-93cc-ddc3ed6429fb",
   "metadata": {
    "colab": {
     "base_uri": "https://localhost:8080/",
     "height": 377
    },
    "execution": {
     "iopub.execute_input": "2023-02-25T08:40:24.588829Z",
     "iopub.status.busy": "2023-02-25T08:40:24.588696Z",
     "iopub.status.idle": "2023-02-25T08:40:24.913518Z",
     "shell.execute_reply": "2023-02-25T08:40:24.913178Z",
     "shell.execute_reply.started": "2023-02-25T08:40:24.588818Z"
    },
    "id": "1e9ab967-8e37-484b-93cc-ddc3ed6429fb",
    "outputId": "417ecaa6-f045-405d-a274-a5a22f31f841",
    "tags": []
   },
   "outputs": [
    {
     "data": {
      "image/png": "[encoded data removed]",
      "text/plain": [
       "<Figure size 640x480 with 1 Axes>"
      ]
     },
     "metadata": {},
     "output_type": "display_data"
    }
   ],
   "source": [
    "data_balanced[label_names].sum(axis=0).sort_values().plot(kind=\"bar\");"
   ]
  },
  {
   "cell_type": "markdown",
   "id": "597a13e7-7211-4cec-9e80-edbba78afcca",
   "metadata": {
    "id": "597a13e7-7211-4cec-9e80-edbba78afcca"
   },
   "source": [
    "We can use the remaining (i.e. not selected) data for our test set later on..."
   ]
  },
  {
   "cell_type": "code",
   "execution_count": 13,
   "id": "11123ac4-4c52-4ad9-8f8b-f54d2cd91990",
   "metadata": {
    "colab": {
     "base_uri": "https://localhost:8080/",
     "height": 376
    },
    "execution": {
     "iopub.execute_input": "2023-02-25T08:40:24.914271Z",
     "iopub.status.busy": "2023-02-25T08:40:24.914146Z",
     "iopub.status.idle": "2023-02-25T08:40:24.997478Z",
     "shell.execute_reply": "2023-02-25T08:40:24.997004Z",
     "shell.execute_reply.started": "2023-02-25T08:40:24.914262Z"
    },
    "id": "11123ac4-4c52-4ad9-8f8b-f54d2cd91990",
    "outputId": "4401b62b-7ee5-4286-eff8-13904a6d595f",
    "tags": []
   },
   "outputs": [
    {
     "data": {
      "image/png": "[encoded data removed]",
      "text/plain": [
       "<Figure size 640x480 with 1 Axes>"
      ]
     },
     "metadata": {},
     "output_type": "display_data"
    }
   ],
   "source": [
    "remaining_indices = data.index.difference(data_balanced.index)\n",
    "remaining_data = data.loc[remaining_indices]\n",
    "remaining_data[label_names].sum(axis=0).sort_values().plot(kind=\"bar\");"
   ]
  },
  {
   "cell_type": "code",
   "execution_count": 14,
   "id": "a20ee2ec-3ede-4e0c-a71a-7a845f5007a7",
   "metadata": {
    "execution": {
     "iopub.execute_input": "2023-02-25T08:40:25.000856Z",
     "iopub.status.busy": "2023-02-25T08:40:25.000728Z",
     "iopub.status.idle": "2023-02-25T08:40:25.055726Z",
     "shell.execute_reply": "2023-02-25T08:40:25.055301Z",
     "shell.execute_reply.started": "2023-02-25T08:40:25.000847Z"
    },
    "id": "a20ee2ec-3ede-4e0c-a71a-7a845f5007a7",
    "tags": []
   },
   "outputs": [
    {
     "data": {
      "image/png": "[encoded data removed]",
      "text/plain": [
       "<Figure size 640x480 with 1 Axes>"
      ]
     },
     "metadata": {},
     "output_type": "display_data"
    }
   ],
   "source": [
    "# TO DO: Try to prioritize Posterior-Anterior (PA) projection when building a balanced dataset\n",
    "data_balanced.view_pos.value_counts().plot(kind=\"bar\");"
   ]
  },
  {
   "cell_type": "markdown",
   "id": "f2580dc2-80cc-4f47-9e28-37fb905bb4a1",
   "metadata": {
    "id": "f2580dc2-80cc-4f47-9e28-37fb905bb4a1",
    "tags": []
   },
   "source": [
    "# Loading the Images"
   ]
  },
  {
   "cell_type": "markdown",
   "id": "6cec4150-96a6-4cc6-bf4a-2770994fb612",
   "metadata": {
    "id": "6cec4150-96a6-4cc6-bf4a-2770994fb612"
   },
   "source": [
    "There are two ways to go about this:\n",
    "1. Load the entire data set in memory if we have enough RAM, which we do. We estimate ~8000 images will take up between 4 to 8 gigabytes in RAM.\n",
    "2. \"Dataset generator\": Keras has an \"[image data generator](https://www.tensorflow.org/api_docs/python/tf/keras/preprocessing/image/ImageDataGenerator)\"."
   ]
  },
  {
   "cell_type": "markdown",
   "id": "3b99be35-a48c-4e9a-bb4e-2ae934c83b89",
   "metadata": {
    "execution": {
     "iopub.execute_input": "2023-02-18T00:29:54.101427Z",
     "iopub.status.busy": "2023-02-18T00:29:54.100329Z",
     "iopub.status.idle": "2023-02-18T00:29:54.114273Z",
     "shell.execute_reply": "2023-02-18T00:29:54.111551Z",
     "shell.execute_reply.started": "2023-02-18T00:29:54.101367Z"
    },
    "id": "3b99be35-a48c-4e9a-bb4e-2ae934c83b89",
    "tags": []
   },
   "source": [
    "## Loading the Entire Dataset"
   ]
  },
  {
   "cell_type": "markdown",
   "id": "680b2875-b0ad-44cb-b94a-05593a5f6422",
   "metadata": {
    "id": "680b2875-b0ad-44cb-b94a-05593a5f6422"
   },
   "source": [
    "Let's try the first method first..."
   ]
  },
  {
   "cell_type": "code",
   "execution_count": 15,
   "id": "0b4de01d-2523-4463-87d2-cb5c2ea846ae",
   "metadata": {
    "execution": {
     "iopub.execute_input": "2023-02-25T08:40:25.056530Z",
     "iopub.status.busy": "2023-02-25T08:40:25.056426Z",
     "iopub.status.idle": "2023-02-25T08:40:25.059890Z",
     "shell.execute_reply": "2023-02-25T08:40:25.059442Z",
     "shell.execute_reply.started": "2023-02-25T08:40:25.056521Z"
    },
    "id": "0b4de01d-2523-4463-87d2-cb5c2ea846ae",
    "tags": []
   },
   "outputs": [],
   "source": [
    "import os\n",
    "import pathlib\n",
    "\n",
    "import numpy as np\n",
    "import PIL"
   ]
  },
  {
   "cell_type": "code",
   "execution_count": 16,
   "id": "c9a73848-7296-42e1-9e99-945bd2ddf375",
   "metadata": {
    "execution": {
     "iopub.execute_input": "2023-02-25T08:40:25.060635Z",
     "iopub.status.busy": "2023-02-25T08:40:25.060353Z",
     "iopub.status.idle": "2023-02-25T08:40:25.062794Z",
     "shell.execute_reply": "2023-02-25T08:40:25.062526Z",
     "shell.execute_reply.started": "2023-02-25T08:40:25.060623Z"
    },
    "id": "c9a73848-7296-42e1-9e99-945bd2ddf375",
    "tags": []
   },
   "outputs": [],
   "source": [
    "def load_img(img_filename):\n",
    "    data_dir = pathlib.Path(\"../raw_data/images_224_224\")\n",
    "    image_filename = img_filename\n",
    "    image = PIL.Image.open(pathlib.Path(data_dir, image_filename))\n",
    "    return image"
   ]
  },
  {
   "cell_type": "code",
   "execution_count": 17,
   "id": "1ec4e96e-ea3d-483d-aa3b-cf784cf9da0d",
   "metadata": {
    "colab": {
     "base_uri": "https://localhost:8080/"
    },
    "execution": {
     "iopub.execute_input": "2023-02-25T08:40:25.063842Z",
     "iopub.status.busy": "2023-02-25T08:40:25.063540Z",
     "iopub.status.idle": "2023-02-25T08:40:25.067274Z",
     "shell.execute_reply": "2023-02-25T08:40:25.067002Z",
     "shell.execute_reply.started": "2023-02-25T08:40:25.063828Z"
    },
    "id": "1ec4e96e-ea3d-483d-aa3b-cf784cf9da0d",
    "outputId": "03027aa2-d4c5-464a-f0e9-510c630d793a",
    "tags": []
   },
   "outputs": [
    {
     "data": {
      "text/plain": [
       "(224, 224)"
      ]
     },
     "execution_count": 17,
     "metadata": {},
     "output_type": "execute_result"
    }
   ],
   "source": [
    "n_images = data_balanced.shape[0]\n",
    "example_img = load_img(data_balanced.iloc[0, :][\"img_idx\"])\n",
    "img_dims = example_img.size\n",
    "img_dims"
   ]
  },
  {
   "cell_type": "code",
   "execution_count": 18,
   "id": "68945115-6f3f-46f5-96b6-231e704d9f3d",
   "metadata": {
    "colab": {
     "base_uri": "https://localhost:8080/"
    },
    "execution": {
     "iopub.execute_input": "2023-02-25T08:40:25.067758Z",
     "iopub.status.busy": "2023-02-25T08:40:25.067673Z",
     "iopub.status.idle": "2023-02-25T08:40:25.070936Z",
     "shell.execute_reply": "2023-02-25T08:40:25.070516Z",
     "shell.execute_reply.started": "2023-02-25T08:40:25.067749Z"
    },
    "id": "68945115-6f3f-46f5-96b6-231e704d9f3d",
    "outputId": "c32de1b5-2d78-4638-e796-f4ebc1298f81",
    "tags": []
   },
   "outputs": [
    {
     "data": {
      "text/plain": [
       "(6364, 224, 224)"
      ]
     },
     "execution_count": 18,
     "metadata": {},
     "output_type": "execute_result"
    }
   ],
   "source": [
    "img_data = np.zeros((n_images, *img_dims))\n",
    "img_data.shape"
   ]
  },
  {
   "cell_type": "code",
   "execution_count": 19,
   "id": "f16098ef-2a27-4eeb-9e86-d909e5158f3f",
   "metadata": {
    "execution": {
     "iopub.execute_input": "2023-02-25T08:40:25.071476Z",
     "iopub.status.busy": "2023-02-25T08:40:25.071386Z",
     "iopub.status.idle": "2023-02-25T08:40:25.073258Z",
     "shell.execute_reply": "2023-02-25T08:40:25.072917Z",
     "shell.execute_reply.started": "2023-02-25T08:40:25.071468Z"
    },
    "id": "f16098ef-2a27-4eeb-9e86-d909e5158f3f",
    "tags": []
   },
   "outputs": [],
   "source": [
    "# # This crashes Jupyter Notebook\n",
    "# for img in data_balanced.loc[:, \"img_idx\"]:\n",
    "#     # np.append(img_data, load_img(img))\n",
    "#     pass"
   ]
  },
  {
   "cell_type": "markdown",
   "id": "932daf17-a678-49c0-a263-4f356148deb7",
   "metadata": {
    "id": "932daf17-a678-49c0-a263-4f356148deb7"
   },
   "source": [
    "That was a dud. It crashes Jupyter Notebook. Let us now explore the second method."
   ]
  },
  {
   "cell_type": "markdown",
   "id": "69babdb7-55d8-4e5d-9227-c5bb74bdd3ff",
   "metadata": {
    "id": "69babdb7-55d8-4e5d-9227-c5bb74bdd3ff"
   },
   "source": [
    "## Generating the Dataset on the Fly"
   ]
  },
  {
   "cell_type": "markdown",
   "id": "5e184236-774c-4fbd-b8e0-af301d53a897",
   "metadata": {
    "id": "5e184236-774c-4fbd-b8e0-af301d53a897"
   },
   "source": [
    "It turns out [`tf.keras.preprocessing.image.ImageDataGenerator`](https://www.tensorflow.org/api_docs/python/tf/keras/preprocessing/image/ImageDataGenerator) is deprecated and hence not recommended for new code. Neither it nor its successor, [`tf.keras.utils.image_dataset_from_directory`](https://www.tensorflow.org/api_docs/python/tf/keras/utils/image_dataset_from_directory) are really applicable to our multi-label problem. (They are suited to single-label classification problems). I found [this blog post](https://towardsdatascience.com/multi-label-image-classification-in-tensorflow-2-0-7d4cf8a4bc72) on how to leverage the underlying API, [`tf.data`](https://www.tensorflow.org/guide/data) for multi-label problems. Let us explore that."
   ]
  },
  {
   "cell_type": "code",
   "execution_count": 20,
   "id": "d2cdc6cc-5330-4385-82b5-5445d5709753",
   "metadata": {
    "execution": {
     "iopub.execute_input": "2023-02-25T08:40:25.074145Z",
     "iopub.status.busy": "2023-02-25T08:40:25.073972Z",
     "iopub.status.idle": "2023-02-25T08:40:27.528081Z",
     "shell.execute_reply": "2023-02-25T08:40:27.527765Z",
     "shell.execute_reply.started": "2023-02-25T08:40:25.074135Z"
    },
    "id": "d2cdc6cc-5330-4385-82b5-5445d5709753"
   },
   "outputs": [],
   "source": [
    "import tensorflow as tf\n"
   ]
  },
  {
   "cell_type": "code",
   "execution_count": 21,
   "id": "2f73f540-5c71-4830-b4f9-d6a1000af377",
   "metadata": {
    "execution": {
     "iopub.execute_input": "2023-02-25T08:40:27.528863Z",
     "iopub.status.busy": "2023-02-25T08:40:27.528648Z",
     "iopub.status.idle": "2023-02-25T08:40:27.532431Z",
     "shell.execute_reply": "2023-02-25T08:40:27.532004Z",
     "shell.execute_reply.started": "2023-02-25T08:40:27.528853Z"
    },
    "id": "2f73f540-5c71-4830-b4f9-d6a1000af377",
    "tags": []
   },
   "outputs": [],
   "source": [
    "# from tensorflow.keras.applications.resnet50 import preprocess_input\n",
    "from tensorflow.keras.applications.vgg16 import preprocess_input\n",
    "\n",
    "# In order to do 'transfer learning' using VGG16, ResNet, etc. our image needs to have three channels.\n",
    "# We will simply duplicate the one grayscale channel 2 more times.\n",
    "def expand_greyscale_image_channels(image):\n",
    "    if image.shape[-1] == 1:\n",
    "        grey_image_3_channel = tf.tile(image, tf.constant([1, 1, 3], tf.int32))\n",
    "    else:\n",
    "        grey_image_3_channel = image\n",
    "\n",
    "    return preprocess_input(grey_image_3_channel)"
   ]
  },
  {
   "cell_type": "code",
   "execution_count": 22,
   "id": "7fcbfe1b-02be-4c54-859f-ffb5fc700d66",
   "metadata": {
    "execution": {
     "iopub.execute_input": "2023-02-25T08:40:27.532970Z",
     "iopub.status.busy": "2023-02-25T08:40:27.532871Z",
     "iopub.status.idle": "2023-02-25T08:40:27.536056Z",
     "shell.execute_reply": "2023-02-25T08:40:27.535715Z",
     "shell.execute_reply.started": "2023-02-25T08:40:27.532961Z"
    },
    "id": "7fcbfe1b-02be-4c54-859f-ffb5fc700d66",
    "tags": []
   },
   "outputs": [],
   "source": [
    "IMG_SIZE = 224  # img_dims[0]\n",
    "CHANNELS = 3  # The images WERE grayscale but we converted them to 3-channel\n",
    "\n",
    "\n",
    "def parse_function(filename, label):\n",
    "    \"\"\"Function that returns a tuple of normalized image array and labels array.\n",
    "    Args:\n",
    "        filename: string representing path to image\n",
    "        label: 0/1 one-dimensional array of size N_LABELS\n",
    "    \"\"\"\n",
    "    # Read an image from a file\n",
    "    image_string = tf.io.read_file(filename)\n",
    "    # Decode it into a dense vector\n",
    "    image_decoded = tf.image.decode_png(image_string, channels=CHANNELS)\n",
    "    # Resize it to fixed shape\n",
    "    image_resized = (\n",
    "        image_decoded  # tf.image.resize(image_decoded, [IMG_SIZE, IMG_SIZE])\n",
    "    )\n",
    "    # Normalize it from [0, 255] to [0.0, 1.0]\n",
    "    image_normalized = tf.cast(image_resized, tf.float32) # / 255.0 The scaling is taken care of by `preprocess_input()` above\n",
    "    image_normalized_rgb = expand_greyscale_image_channels(image_normalized)\n",
    "    label_tensor = tf.convert_to_tensor(label, dtype=tf.uint8)\n",
    "    return image_normalized_rgb, label_tensor"
   ]
  },
  {
   "cell_type": "code",
   "execution_count": 23,
   "id": "52d232b7-4da7-4f28-bc46-d0bd28699c28",
   "metadata": {
    "colab": {
     "base_uri": "https://localhost:8080/"
    },
    "execution": {
     "iopub.execute_input": "2023-02-25T08:40:27.536573Z",
     "iopub.status.busy": "2023-02-25T08:40:27.536482Z",
     "iopub.status.idle": "2023-02-25T08:40:27.559244Z",
     "shell.execute_reply": "2023-02-25T08:40:27.558936Z",
     "shell.execute_reply.started": "2023-02-25T08:40:27.536563Z"
    },
    "id": "52d232b7-4da7-4f28-bc46-d0bd28699c28",
    "outputId": "acc4a430-568d-40db-eee5-091ea3eae760",
    "tags": []
   },
   "outputs": [
    {
     "data": {
      "text/plain": [
       "TensorShape([224, 224, 3])"
      ]
     },
     "execution_count": 23,
     "metadata": {},
     "output_type": "execute_result"
    }
   ],
   "source": [
    "cwd = os.getcwd()\n",
    "data_dir = pathlib.Path(cwd, \"..\", \"raw_data\", \"images_224_224\")\n",
    "\n",
    "# This works\n",
    "img_norm_rgb, label_tensor = parse_function(\n",
    "    str(pathlib.Path(data_dir, \"00000009_000.png\")),\n",
    "    np.array([True, False, False, True]) + 0,\n",
    ")\n",
    "img_norm_rgb.shape"
   ]
  },
  {
   "cell_type": "code",
   "execution_count": 24,
   "id": "5713fcd7-349b-49e9-89a9-57f91bd3d3ec",
   "metadata": {
    "colab": {
     "base_uri": "https://localhost:8080/",
     "height": 287
    },
    "execution": {
     "iopub.execute_input": "2023-02-25T08:40:27.560109Z",
     "iopub.status.busy": "2023-02-25T08:40:27.559945Z",
     "iopub.status.idle": "2023-02-25T08:40:27.660845Z",
     "shell.execute_reply": "2023-02-25T08:40:27.660408Z",
     "shell.execute_reply.started": "2023-02-25T08:40:27.560099Z"
    },
    "id": "5713fcd7-349b-49e9-89a9-57f91bd3d3ec",
    "outputId": "c5d5db35-5510-4c04-c337-1a75c6aed1e6",
    "tags": []
   },
   "outputs": [
    {
     "data": {
      "text/plain": [
       "(224, 224)"
      ]
     },
     "execution_count": 24,
     "metadata": {},
     "output_type": "execute_result"
    },
    {
     "data": {
      "image/png": "[encoded data removed]",
      "text/plain": [
       "<Figure size 640x480 with 1 Axes>"
      ]
     },
     "metadata": {},
     "output_type": "display_data"
    }
   ],
   "source": [
    "import matplotlib.image as mpimg\n",
    "import matplotlib.pyplot as plt\n",
    "\n",
    "img = mpimg.imread(pathlib.Path(data_dir, \"00000009_000.png\"))\n",
    "plt.imshow(img, cmap=\"gray\")\n",
    "img.shape"
   ]
  },
  {
   "cell_type": "code",
   "execution_count": 67,
   "id": "72789baf-a72d-4f39-b9f3-3b28a84b5dfa",
   "metadata": {
    "execution": {
     "iopub.execute_input": "2023-02-26T03:57:03.546329Z",
     "iopub.status.busy": "2023-02-26T03:57:03.544423Z",
     "iopub.status.idle": "2023-02-26T03:57:03.558472Z",
     "shell.execute_reply": "2023-02-26T03:57:03.557862Z",
     "shell.execute_reply.started": "2023-02-26T03:57:03.546266Z"
    },
    "id": "72789baf-a72d-4f39-b9f3-3b28a84b5dfa",
    "tags": []
   },
   "outputs": [],
   "source": [
    "BATCH_SIZE = 32 # 256  # The blog post suggested 256 is big enough to measure an F1-score but I suspect this was leading to this error while I was training the model: BiasGrad requires tensor size <= int32 max\n",
    "AUTOTUNE = (\n",
    "    tf.data.experimental.AUTOTUNE\n",
    ")  # Adapt preprocessing and prefetching dynamically to reduce GPU and CPU idle time\n",
    "SHUFFLE_BUFFER_SIZE = (\n",
    "    256  # 1024  # Shuffle the training data by a chunck of 1024 observations\n",
    ")\n",
    "\n",
    "N_LABELS = len(label_names)"
   ]
  },
  {
   "cell_type": "code",
   "execution_count": 26,
   "id": "cd029e70-ca81-47dc-9ea4-14ac9ffa93b6",
   "metadata": {
    "execution": {
     "iopub.execute_input": "2023-02-25T08:40:27.664343Z",
     "iopub.status.busy": "2023-02-25T08:40:27.664223Z",
     "iopub.status.idle": "2023-02-25T08:40:27.667233Z",
     "shell.execute_reply": "2023-02-25T08:40:27.666836Z",
     "shell.execute_reply.started": "2023-02-25T08:40:27.664334Z"
    },
    "id": "cd029e70-ca81-47dc-9ea4-14ac9ffa93b6",
    "tags": []
   },
   "outputs": [],
   "source": [
    "def create_dataset(filenames, labels, is_training=True):\n",
    "    \"\"\"Load and parse dataset.\n",
    "    Args:\n",
    "        filenames: list of image paths\n",
    "        labels: numpy array of shape (BATCH_SIZE, N_LABELS)\n",
    "        is_training: boolean to indicate training mode\n",
    "    \"\"\"\n",
    "\n",
    "    # Create a first dataset of file paths and labels\n",
    "    dataset = tf.data.Dataset.from_tensor_slices((filenames, labels))\n",
    "    # Parse and preprocess observations in parallel\n",
    "    dataset = dataset.map(parse_function, num_parallel_calls=AUTOTUNE)\n",
    "\n",
    "    if is_training == True:\n",
    "        # This is a small dataset, only load it once, and keep it in memory.\n",
    "        dataset = dataset.cache()\n",
    "        # Shuffle the data each buffer size\n",
    "        dataset = dataset.shuffle(buffer_size=SHUFFLE_BUFFER_SIZE)\n",
    "\n",
    "    # Batch the data for multiple steps\n",
    "    dataset = dataset.batch(BATCH_SIZE)\n",
    "    # Fetch batches in the background while the model is training.\n",
    "    dataset = dataset.prefetch(buffer_size=AUTOTUNE)\n",
    "\n",
    "    return dataset"
   ]
  },
  {
   "cell_type": "code",
   "execution_count": 27,
   "id": "48448164-e18a-4908-b810-a4cc53243565",
   "metadata": {
    "execution": {
     "iopub.execute_input": "2023-02-25T08:40:27.667855Z",
     "iopub.status.busy": "2023-02-25T08:40:27.667739Z",
     "iopub.status.idle": "2023-02-25T08:40:27.702493Z",
     "shell.execute_reply": "2023-02-25T08:40:27.702044Z",
     "shell.execute_reply.started": "2023-02-25T08:40:27.667845Z"
    },
    "id": "48448164-e18a-4908-b810-a4cc53243565",
    "tags": []
   },
   "outputs": [],
   "source": [
    "filenames = data_balanced.img_idx.to_list()\n",
    "filepaths = [str(pathlib.Path(data_dir, filename)) for filename in filenames]\n",
    "label_sets_binarized = np.array(\n",
    "    data_balanced[label_names].apply(lambda x: x + 0), dtype=np.uint8\n",
    ")"
   ]
  },
  {
   "cell_type": "code",
   "execution_count": 28,
   "id": "578427ce-6145-4fc5-88ce-48a910850f84",
   "metadata": {
    "execution": {
     "iopub.execute_input": "2023-02-25T08:40:27.703032Z",
     "iopub.status.busy": "2023-02-25T08:40:27.702941Z",
     "iopub.status.idle": "2023-02-25T08:40:28.054130Z",
     "shell.execute_reply": "2023-02-25T08:40:28.053747Z",
     "shell.execute_reply.started": "2023-02-25T08:40:27.703023Z"
    },
    "id": "578427ce-6145-4fc5-88ce-48a910850f84",
    "tags": []
   },
   "outputs": [],
   "source": [
    "from sklearn.model_selection import train_test_split\n",
    "\n",
    "X_train, X_val, y_train_bin, y_val_bin = train_test_split(\n",
    "    filepaths, label_sets_binarized, test_size=0.2\n",
    ")"
   ]
  },
  {
   "cell_type": "code",
   "execution_count": 29,
   "id": "07f321de-c8e3-4561-853e-ed558b2cae3d",
   "metadata": {
    "execution": {
     "iopub.execute_input": "2023-02-25T08:40:28.054676Z",
     "iopub.status.busy": "2023-02-25T08:40:28.054570Z",
     "iopub.status.idle": "2023-02-25T08:40:28.134974Z",
     "shell.execute_reply": "2023-02-25T08:40:28.134607Z",
     "shell.execute_reply.started": "2023-02-25T08:40:28.054667Z"
    },
    "id": "07f321de-c8e3-4561-853e-ed558b2cae3d",
    "tags": []
   },
   "outputs": [],
   "source": [
    "train_ds = create_dataset(X_train, y_train_bin)\n",
    "val_ds = create_dataset(X_val, y_val_bin)"
   ]
  },
  {
   "cell_type": "markdown",
   "id": "dc07afce-e819-4c6b-be05-3f5579954531",
   "metadata": {
    "id": "dc07afce-e819-4c6b-be05-3f5579954531"
   },
   "source": [
    "We now, finally, have our training and validation data sets with the correct tensor sizes and data types.  \n",
    "Now let's create the test set from the data that was _not_ selected while creating the balanced dataset. (Stored in `remaining_data`)"
   ]
  },
  {
   "cell_type": "code",
   "execution_count": 30,
   "id": "0Dz8ktSe-dFn",
   "metadata": {
    "colab": {
     "base_uri": "https://localhost:8080/"
    },
    "execution": {
     "iopub.execute_input": "2023-02-25T08:40:28.135591Z",
     "iopub.status.busy": "2023-02-25T08:40:28.135482Z",
     "iopub.status.idle": "2023-02-25T08:40:28.176255Z",
     "shell.execute_reply": "2023-02-25T08:40:28.175824Z",
     "shell.execute_reply.started": "2023-02-25T08:40:28.135581Z"
    },
    "id": "0Dz8ktSe-dFn",
    "outputId": "2c8669ce-b33e-435f-c07c-6245fc148caf"
   },
   "outputs": [
    {
     "data": {
      "text/plain": [
       "label_pneumothorax          143\n",
       "label_pneumonia             143\n",
       "label_cardiomegaly          150\n",
       "label_consolidation         150\n",
       "label_pleural_thickening    153\n",
       "label_effusion              180\n",
       "label_other                 351\n",
       "dtype: int64"
      ]
     },
     "execution_count": 30,
     "metadata": {},
     "output_type": "execute_result"
    }
   ],
   "source": [
    "# Let's take a balanced subset...\n",
    "test_data_balanced = remaining_data[remaining_data[rarest_label]]\n",
    "n_min = test_data_balanced.shape[0]\n",
    "\n",
    "for label, count in zip(label_counts_sorted.index[1:], label_counts_sorted[1:]):\n",
    "    n_already_captured = test_data_balanced[test_data_balanced[label]].shape[0]\n",
    "    n_additional = n_min - n_already_captured\n",
    "    if n_additional > 0:\n",
    "        not_selected_indices = remaining_data.index.difference(test_data_balanced.index)\n",
    "        not_selected_data = remaining_data.loc[not_selected_indices]\n",
    "        rows_to_add = not_selected_data[not_selected_data[label]].sample(n_additional)\n",
    "        test_data_balanced = pd.concat([test_data_balanced, rows_to_add], axis=0)\n",
    "\n",
    "test_data_balanced[label_names].sum(axis=0).sort_values()"
   ]
  },
  {
   "cell_type": "code",
   "execution_count": 31,
   "id": "8416c797-34f4-49b0-a869-8ba9c6eaa80c",
   "metadata": {
    "execution": {
     "iopub.execute_input": "2023-02-25T08:40:28.177114Z",
     "iopub.status.busy": "2023-02-25T08:40:28.176998Z",
     "iopub.status.idle": "2023-02-25T08:40:28.194205Z",
     "shell.execute_reply": "2023-02-25T08:40:28.193746Z",
     "shell.execute_reply.started": "2023-02-25T08:40:28.177104Z"
    },
    "id": "8416c797-34f4-49b0-a869-8ba9c6eaa80c",
    "tags": []
   },
   "outputs": [],
   "source": [
    "filenames_test = test_data_balanced.img_idx.to_list()\n",
    "X_test = [str(pathlib.Path(data_dir, filename)) for filename in filenames_test]\n",
    "y_test_bin = np.array(\n",
    "    test_data_balanced[label_names].apply(lambda x: x + 0), dtype=np.uint8\n",
    ")\n",
    "test_ds = create_dataset(X_test, y_test_bin)"
   ]
  },
  {
   "cell_type": "markdown",
   "id": "1ac05cae-cfc0-4306-b611-1fab5552e390",
   "metadata": {
    "id": "1ac05cae-cfc0-4306-b611-1fab5552e390"
   },
   "source": [
    "# Modelling"
   ]
  },
  {
   "cell_type": "markdown",
   "id": "05b49c66-669b-4057-899b-3290537cdeee",
   "metadata": {},
   "source": [
    "## Loss Function and Evaluation Metrics"
   ]
  },
  {
   "cell_type": "markdown",
   "id": "7f72d6ae-de4d-477a-adab-c9e2010af3a1",
   "metadata": {
    "id": "7f72d6ae-de4d-477a-adab-c9e2010af3a1"
   },
   "source": [
    "The function below, from [the Medium post mentioned earlier](https://towardsdatascience.com/multi-label-image-classification-in-tensorflow-2-0-7d4cf8a4bc72), will provide our evaluation metric:"
   ]
  },
  {
   "cell_type": "code",
   "execution_count": 32,
   "id": "2c3a2129-0689-4629-9138-ee2243b8e26f",
   "metadata": {
    "execution": {
     "iopub.execute_input": "2023-02-25T08:40:28.194856Z",
     "iopub.status.busy": "2023-02-25T08:40:28.194754Z",
     "iopub.status.idle": "2023-02-25T08:40:28.197811Z",
     "shell.execute_reply": "2023-02-25T08:40:28.197534Z",
     "shell.execute_reply.started": "2023-02-25T08:40:28.194846Z"
    },
    "id": "2c3a2129-0689-4629-9138-ee2243b8e26f",
    "tags": []
   },
   "outputs": [],
   "source": [
    "def macro_f1(y, y_hat, thresh=0.5):\n",
    "    \"\"\"Compute the macro F1-score on a batch of observations (average F1 across labels)\n",
    "\n",
    "    Args:\n",
    "        y (int32 Tensor): labels array of shape (BATCH_SIZE, N_LABELS)\n",
    "        y_hat (float32 Tensor): probability matrix from forward propagation of shape (BATCH_SIZE, N_LABELS)\n",
    "        thresh: probability value above which we predict positive\n",
    "\n",
    "    Returns:\n",
    "        macro_f1 (scalar Tensor): value of macro F1 for the batch\n",
    "    \"\"\"\n",
    "    y_pred = tf.cast(tf.greater(y_hat, thresh), tf.float32)\n",
    "    tp = tf.cast(tf.math.count_nonzero(y_pred * y, axis=0), tf.float32)\n",
    "    fp = tf.cast(tf.math.count_nonzero(y_pred * (1 - y), axis=0), tf.float32)\n",
    "    fn = tf.cast(tf.math.count_nonzero((1 - y_pred) * y, axis=0), tf.float32)\n",
    "    f1 = 2 * tp / (2 * tp + fn + fp + 1e-16)\n",
    "    macro_f1 = tf.reduce_mean(f1)\n",
    "    return macro_f1"
   ]
  },
  {
   "cell_type": "markdown",
   "id": "5552cd2b-c1f2-4de6-a113-a224aa7b7bfc",
   "metadata": {
    "id": "5552cd2b-c1f2-4de6-a113-a224aa7b7bfc"
   },
   "source": [
    "And the one below, from a related blog post ([here](https://towardsdatascience.com/the-unknown-benefits-of-using-a-soft-f1-loss-in-classification-systems-753902c0105d)), provides a differentiable version of the above, for our loss function:"
   ]
  },
  {
   "cell_type": "code",
   "execution_count": 33,
   "id": "d7bfd91f-e5d4-4911-8ff9-5ec9fc05bdae",
   "metadata": {
    "execution": {
     "iopub.execute_input": "2023-02-25T08:40:28.198331Z",
     "iopub.status.busy": "2023-02-25T08:40:28.198251Z",
     "iopub.status.idle": "2023-02-25T08:40:28.201284Z",
     "shell.execute_reply": "2023-02-25T08:40:28.200765Z",
     "shell.execute_reply.started": "2023-02-25T08:40:28.198323Z"
    },
    "id": "d7bfd91f-e5d4-4911-8ff9-5ec9fc05bdae",
    "tags": []
   },
   "outputs": [],
   "source": [
    "def macro_soft_f1(y, y_hat):\n",
    "    \"\"\"Compute the macro soft F1-score as a cost.\n",
    "    Average (1 - soft-F1) across all labels.\n",
    "    Use probability values instead of binary predictions.\n",
    "\n",
    "    Args:\n",
    "        y (int32 Tensor): targets array of shape (BATCH_SIZE, N_LABELS)\n",
    "        y_hat (float32 Tensor): probability matrix of shape (BATCH_SIZE, N_LABELS)\n",
    "\n",
    "    Returns:\n",
    "        cost (scalar Tensor): value of the cost function for the batch\n",
    "    \"\"\"\n",
    "\n",
    "    y = tf.cast(y, tf.float32)\n",
    "    y_hat = tf.cast(y_hat, tf.float32)\n",
    "    tp = tf.reduce_sum(y_hat * y, axis=0)\n",
    "    fp = tf.reduce_sum(y_hat * (1 - y), axis=0)\n",
    "    fn = tf.reduce_sum((1 - y_hat) * y, axis=0)\n",
    "    soft_f1 = 2 * tp / (2 * tp + fn + fp + 1e-16)\n",
    "    cost = 1 - soft_f1  # reduce 1 - soft-f1 in order to increase soft-f1\n",
    "    macro_cost = tf.reduce_mean(cost)  # average on all labels\n",
    "\n",
    "    return macro_cost"
   ]
  },
  {
   "cell_type": "markdown",
   "id": "397a5ec4-72cf-4ffd-9c16-288e6a3195cf",
   "metadata": {},
   "source": [
    "## Baseline Model"
   ]
  },
  {
   "cell_type": "markdown",
   "id": "95a5978b-c44a-4879-a5df-b451bb85f3d0",
   "metadata": {},
   "source": [
    "What if we just returned ones across the board? (i.e. naively predict that all patients have all of the conditions)  \n",
    "Or if we randomly predicted the conditions based on their frequencies of occurrence?  \n",
    "We need _something_ to compare our eventual model's evaluation metrics to.  \n",
    "Let us explore this further now."
   ]
  },
  {
   "cell_type": "markdown",
   "id": "5e29e76b-9180-4e4e-8afd-b3d2be459dac",
   "metadata": {},
   "source": [
    "### Naive baseline #1: All ones across the board"
   ]
  },
  {
   "cell_type": "code",
   "execution_count": 34,
   "id": "95e210b8-b30f-4828-b87c-17c2d65ee861",
   "metadata": {
    "execution": {
     "iopub.execute_input": "2023-02-25T08:40:28.201923Z",
     "iopub.status.busy": "2023-02-25T08:40:28.201799Z",
     "iopub.status.idle": "2023-02-25T08:40:28.211337Z",
     "shell.execute_reply": "2023-02-25T08:40:28.210928Z",
     "shell.execute_reply.started": "2023-02-25T08:40:28.201912Z"
    },
    "tags": []
   },
   "outputs": [
    {
     "data": {
      "text/plain": [
       "<tf.Tensor: shape=(), dtype=float32, numpy=0.43346095>"
      ]
     },
     "execution_count": 34,
     "metadata": {},
     "output_type": "execute_result"
    }
   ],
   "source": [
    "pred_all_ones = np.ones(y_test_bin.shape)\n",
    "macro_f1(y_test_bin, pred_all_ones)"
   ]
  },
  {
   "cell_type": "code",
   "execution_count": 35,
   "id": "d28876e0-56a8-4fcb-b32d-2d45e7bfdce0",
   "metadata": {
    "execution": {
     "iopub.execute_input": "2023-02-25T08:40:28.212029Z",
     "iopub.status.busy": "2023-02-25T08:40:28.211911Z",
     "iopub.status.idle": "2023-02-25T08:40:28.221426Z",
     "shell.execute_reply": "2023-02-25T08:40:28.221116Z",
     "shell.execute_reply.started": "2023-02-25T08:40:28.212019Z"
    },
    "tags": []
   },
   "outputs": [
    {
     "name": "stdout",
     "output_type": "stream",
     "text": [
      "                          precision    recall  f1-score   support\n",
      "\n",
      "      label_cardiomegaly       0.24      1.00      0.38       150\n",
      "          label_effusion       0.28      1.00      0.44       180\n",
      "      label_pneumothorax       0.22      1.00      0.37       143\n",
      "label_pleural_thickening       0.24      1.00      0.39       153\n",
      "         label_pneumonia       0.22      1.00      0.37       143\n",
      "     label_consolidation       0.24      1.00      0.38       150\n",
      "             label_other       0.55      1.00      0.71       351\n",
      "\n",
      "               micro avg       0.28      1.00      0.44      1270\n",
      "               macro avg       0.28      1.00      0.43      1270\n",
      "            weighted avg       0.33      1.00      0.48      1270\n",
      "             samples avg       0.28      1.00      0.43      1270\n",
      "\n"
     ]
    }
   ],
   "source": [
    "from sklearn.metrics import classification_report\n",
    "\n",
    "print(classification_report(y_test_bin, pred_all_ones, target_names=label_names))"
   ]
  },
  {
   "cell_type": "markdown",
   "id": "32524c82-d7bc-4748-b0d8-7a257b7c131f",
   "metadata": {
    "tags": []
   },
   "source": [
    "### Naive Baseline #2: Random based on frequency"
   ]
  },
  {
   "cell_type": "code",
   "execution_count": 36,
   "id": "54fc57b8-7ea9-4980-8fb8-172f47127b66",
   "metadata": {
    "execution": {
     "iopub.execute_input": "2023-02-25T08:40:28.222198Z",
     "iopub.status.busy": "2023-02-25T08:40:28.221992Z",
     "iopub.status.idle": "2023-02-25T08:40:28.225994Z",
     "shell.execute_reply": "2023-02-25T08:40:28.225634Z",
     "shell.execute_reply.started": "2023-02-25T08:40:28.222188Z"
    },
    "tags": []
   },
   "outputs": [
    {
     "data": {
      "text/plain": [
       "label_cardiomegaly          0.224544\n",
       "label_effusion              0.245915\n",
       "label_pneumothorax          0.223916\n",
       "label_pleural_thickening    0.237901\n",
       "label_pneumonia             0.202231\n",
       "label_consolidation         0.223602\n",
       "label_other                 0.503143\n",
       "dtype: float64"
      ]
     },
     "execution_count": 36,
     "metadata": {},
     "output_type": "execute_result"
    }
   ],
   "source": [
    "label_ratios = data_balanced[label_names].sum(axis=0) / len(data_balanced)\n",
    "label_ratios"
   ]
  },
  {
   "cell_type": "code",
   "execution_count": 37,
   "id": "3a81f9e1-5a84-459f-a854-24aff07a84a9",
   "metadata": {
    "execution": {
     "iopub.execute_input": "2023-02-25T08:40:28.227257Z",
     "iopub.status.busy": "2023-02-25T08:40:28.227091Z",
     "iopub.status.idle": "2023-02-25T08:40:28.230962Z",
     "shell.execute_reply": "2023-02-25T08:40:28.230448Z",
     "shell.execute_reply.started": "2023-02-25T08:40:28.227246Z"
    },
    "tags": []
   },
   "outputs": [
    {
     "data": {
      "text/plain": [
       "label_cardiomegaly          143.0\n",
       "label_effusion              157.0\n",
       "label_pneumothorax          143.0\n",
       "label_pleural_thickening    152.0\n",
       "label_pneumonia             129.0\n",
       "label_consolidation         142.0\n",
       "label_other                 321.0\n",
       "dtype: float64"
      ]
     },
     "execution_count": 37,
     "metadata": {},
     "output_type": "execute_result"
    }
   ],
   "source": [
    "pred_random_label_counts = round(y_test_bin.shape[0] * label_ratios)\n",
    "pred_random_label_counts"
   ]
  },
  {
   "cell_type": "code",
   "execution_count": 38,
   "id": "1f47305e-9373-41c1-859c-6f8838939e2d",
   "metadata": {
    "execution": {
     "iopub.execute_input": "2023-02-25T08:40:28.231824Z",
     "iopub.status.busy": "2023-02-25T08:40:28.231704Z",
     "iopub.status.idle": "2023-02-25T08:40:28.237279Z",
     "shell.execute_reply": "2023-02-25T08:40:28.236907Z",
     "shell.execute_reply.started": "2023-02-25T08:40:28.231814Z"
    },
    "tags": []
   },
   "outputs": [
    {
     "data": {
      "text/plain": [
       "<tf.Tensor: shape=(), dtype=float32, numpy=0.29309282>"
      ]
     },
     "execution_count": 38,
     "metadata": {},
     "output_type": "execute_result"
    }
   ],
   "source": [
    "pred_random = np.zeros(y_test_bin.shape)\n",
    "\n",
    "for i, label in enumerate(label_names):\n",
    "    pred_random[\n",
    "        np.random.choice(\n",
    "            pred_random.shape[0], int(pred_random_label_counts[label]), replace=False\n",
    "        ),\n",
    "        i,\n",
    "    ] = 1\n",
    "\n",
    "# pred_random.sum(axis=0)\n",
    "macro_f1(y_test_bin, pred_random)"
   ]
  },
  {
   "cell_type": "code",
   "execution_count": 39,
   "id": "bbaefd76-7d14-4064-be44-8b3eff84dd63",
   "metadata": {
    "execution": {
     "iopub.execute_input": "2023-02-25T08:40:28.237868Z",
     "iopub.status.busy": "2023-02-25T08:40:28.237755Z",
     "iopub.status.idle": "2023-02-25T08:40:28.245915Z",
     "shell.execute_reply": "2023-02-25T08:40:28.245445Z",
     "shell.execute_reply.started": "2023-02-25T08:40:28.237858Z"
    },
    "tags": []
   },
   "outputs": [
    {
     "name": "stdout",
     "output_type": "stream",
     "text": [
      "                          precision    recall  f1-score   support\n",
      "\n",
      "      label_cardiomegaly       0.25      0.24      0.25       150\n",
      "          label_effusion       0.26      0.23      0.24       180\n",
      "      label_pneumothorax       0.22      0.22      0.22       143\n",
      "label_pleural_thickening       0.28      0.27      0.28       153\n",
      "         label_pneumonia       0.22      0.20      0.21       143\n",
      "     label_consolidation       0.30      0.28      0.29       150\n",
      "             label_other       0.59      0.54      0.56       351\n",
      "\n",
      "               micro avg       0.35      0.32      0.33      1270\n",
      "               macro avg       0.30      0.28      0.29      1270\n",
      "            weighted avg       0.35      0.32      0.34      1270\n",
      "             samples avg       0.31      0.31      0.28      1270\n",
      "\n"
     ]
    },
    {
     "name": "stderr",
     "output_type": "stream",
     "text": [
      "/Users/fafa/.pyenv/versions/3.10.6/envs/cxray/lib/python3.10/site-packages/sklearn/metrics/_classification.py:1344: UndefinedMetricWarning: Precision and F-score are ill-defined and being set to 0.0 in samples with no predicted labels. Use `zero_division` parameter to control this behavior.\n",
      "  _warn_prf(average, modifier, msg_start, len(result))\n"
     ]
    }
   ],
   "source": [
    "print(classification_report(y_test_bin, pred_random, target_names=label_names))"
   ]
  },
  {
   "cell_type": "markdown",
   "id": "4a142a8c-79a8-47a7-82cf-79f2b40bff46",
   "metadata": {},
   "source": [
    "## Transfer Learning"
   ]
  },
  {
   "cell_type": "markdown",
   "id": "81470564-3cf6-4512-bf1c-2fc8ea91d4de",
   "metadata": {},
   "source": [
    "We will be performing transfer learning using one of the many available pre-trained deep convolutional neural networks such as those listed in [this paper](https://www.nature.com/articles/s41598-020-70479-z.pdf?origin=ppubhttps://www.nature.com/articles/s41598-020-70479-z.pdf?origin=ppub)."
   ]
  },
  {
   "cell_type": "code",
   "execution_count": 68,
   "id": "6ecc0b5d-7fbc-4324-9877-129784cdbf73",
   "metadata": {
    "execution": {
     "iopub.execute_input": "2023-02-26T03:57:42.211851Z",
     "iopub.status.busy": "2023-02-26T03:57:42.210147Z",
     "iopub.status.idle": "2023-02-26T03:57:42.222078Z",
     "shell.execute_reply": "2023-02-26T03:57:42.221175Z",
     "shell.execute_reply.started": "2023-02-26T03:57:42.211794Z"
    },
    "id": "6ecc0b5d-7fbc-4324-9877-129784cdbf73",
    "tags": []
   },
   "outputs": [],
   "source": [
    "LR = 1e-5  # For transfer learning, use a small value such as 1e5\n",
    "EPOCHS = 50\n",
    "\n",
    "\n",
    "def get_pretrained_model():\n",
    "    pretrained_model = tf.keras.applications.vgg16.VGG16( # tf.keras.applications.resnet50.ResNet50(\n",
    "        include_top=False,\n",
    "        input_shape=(IMG_SIZE, IMG_SIZE, CHANNELS),\n",
    "    )\n",
    "    pretrained_model.trainable = False\n",
    "    return pretrained_model"
   ]
  },
  {
   "cell_type": "code",
   "execution_count": 69,
   "id": "65d745b5-138b-4a2a-ab5c-067be8a89e38",
   "metadata": {
    "execution": {
     "iopub.execute_input": "2023-02-26T03:57:42.225124Z",
     "iopub.status.busy": "2023-02-26T03:57:42.224867Z",
     "iopub.status.idle": "2023-02-26T03:57:42.229492Z",
     "shell.execute_reply": "2023-02-26T03:57:42.229090Z",
     "shell.execute_reply.started": "2023-02-26T03:57:42.225100Z"
    },
    "id": "65d745b5-138b-4a2a-ab5c-067be8a89e38",
    "tags": []
   },
   "outputs": [],
   "source": [
    "# pretrained = get_pretrained_model()\n",
    "# pretrained.summary()"
   ]
  },
  {
   "cell_type": "code",
   "execution_count": 70,
   "id": "40ffa302-d03e-4f9d-b6b2-6976b358c2ec",
   "metadata": {
    "execution": {
     "iopub.execute_input": "2023-02-26T03:57:42.230240Z",
     "iopub.status.busy": "2023-02-26T03:57:42.230131Z",
     "iopub.status.idle": "2023-02-26T03:57:42.236233Z",
     "shell.execute_reply": "2023-02-26T03:57:42.235899Z",
     "shell.execute_reply.started": "2023-02-26T03:57:42.230230Z"
    },
    "id": "40ffa302-d03e-4f9d-b6b2-6976b358c2ec",
    "tags": []
   },
   "outputs": [],
   "source": [
    "def create_compiled_custom_model():\n",
    "    base_model = get_pretrained_model()\n",
    "    flattening_layer = tf.keras.layers.Flatten()\n",
    "    dense_layer_1 = tf.keras.layers.Dense(250, activation=\"relu\", kernel_regularizer=tf.keras.regularizers.l2(0.0001))\n",
    "    dropout_layer_1 = tf.keras.layers.Dropout(0.4)\n",
    "    dense_layer_2 = tf.keras.layers.Dense(100, activation=\"relu\", kernel_regularizer=tf.keras.regularizers.l2(0.0001))\n",
    "    dropout_layer_2 = tf.keras.layers.Dropout(0.2)\n",
    "    dense_layer_3 = tf.keras.layers.Dense(50, activation=\"relu\", kernel_regularizer=tf.keras.regularizers.l2(0.0001))\n",
    "    dropout_layer_3 = tf.keras.layers.Dropout(0.1)\n",
    "    prediction_layer = tf.keras.layers.Dense(N_LABELS, activation=\"sigmoid\")\n",
    "\n",
    "    model = tf.keras.models.Sequential(\n",
    "        [\n",
    "            base_model,\n",
    "            flattening_layer,\n",
    "            dense_layer_1,\n",
    "            dropout_layer_1,\n",
    "            dense_layer_2,\n",
    "            dropout_layer_2,\n",
    "            dense_layer_3,\n",
    "            dropout_layer_3,\n",
    "            prediction_layer,\n",
    "        ]\n",
    "    )\n",
    "\n",
    "    opt = tf.keras.optimizers.Adam(learning_rate=LR)\n",
    "\n",
    "    model.compile(\n",
    "        optimizer=opt,\n",
    "        loss=macro_soft_f1,\n",
    "        metrics=[macro_f1],\n",
    "    )\n",
    "\n",
    "    return model"
   ]
  },
  {
   "cell_type": "code",
   "execution_count": 71,
   "id": "fe33c255-b992-4ef9-a3b0-6afcb8270d2d",
   "metadata": {
    "colab": {
     "base_uri": "https://localhost:8080/"
    },
    "execution": {
     "iopub.execute_input": "2023-02-26T03:57:42.237213Z",
     "iopub.status.busy": "2023-02-26T03:57:42.237094Z",
     "iopub.status.idle": "2023-02-26T03:57:42.706477Z",
     "shell.execute_reply": "2023-02-26T03:57:42.705969Z",
     "shell.execute_reply.started": "2023-02-26T03:57:42.237204Z"
    },
    "id": "fe33c255-b992-4ef9-a3b0-6afcb8270d2d",
    "outputId": "8d64f9d1-4c5e-49b0-d871-f3fb1304ab9f",
    "tags": []
   },
   "outputs": [
    {
     "name": "stdout",
     "output_type": "stream",
     "text": [
      "Model: \"sequential_3\"\n",
      "_________________________________________________________________\n",
      " Layer (type)                Output Shape              Param #   \n",
      "=================================================================\n",
      " vgg16 (Functional)          (None, 7, 7, 512)         14714688  \n",
      "                                                                 \n",
      " flatten_3 (Flatten)         (None, 25088)             0         \n",
      "                                                                 \n",
      " dense_12 (Dense)            (None, 250)               6272250   \n",
      "                                                                 \n",
      " dropout_9 (Dropout)         (None, 250)               0         \n",
      "                                                                 \n",
      " dense_13 (Dense)            (None, 100)               25100     \n",
      "                                                                 \n",
      " dropout_10 (Dropout)        (None, 100)               0         \n",
      "                                                                 \n",
      " dense_14 (Dense)            (None, 50)                5050      \n",
      "                                                                 \n",
      " dropout_11 (Dropout)        (None, 50)                0         \n",
      "                                                                 \n",
      " dense_15 (Dense)            (None, 7)                 357       \n",
      "                                                                 \n",
      "=================================================================\n",
      "Total params: 21,017,445\n",
      "Trainable params: 6,302,757\n",
      "Non-trainable params: 14,714,688\n",
      "_________________________________________________________________\n"
     ]
    }
   ],
   "source": [
    "test_model = create_compiled_custom_model()\n",
    "test_model.summary()"
   ]
  },
  {
   "cell_type": "code",
   "execution_count": 72,
   "id": "97cfc223-e395-4018-a44f-5055982e471e",
   "metadata": {
    "colab": {
     "base_uri": "https://localhost:8080/"
    },
    "execution": {
     "iopub.execute_input": "2023-02-26T03:57:42.709138Z",
     "iopub.status.busy": "2023-02-26T03:57:42.708978Z",
     "iopub.status.idle": "2023-02-26T09:34:22.397931Z",
     "shell.execute_reply": "2023-02-26T09:34:22.391866Z",
     "shell.execute_reply.started": "2023-02-26T03:57:42.709126Z"
    },
    "id": "97cfc223-e395-4018-a44f-5055982e471e",
    "outputId": "6a3671e0-1a41-4be1-a308-d16e9cc6fa88",
    "tags": []
   },
   "outputs": [
    {
     "name": "stdout",
     "output_type": "stream",
     "text": [
      "Epoch 1/50\n",
      "20/20 [==============================] - 430s 22s/step - loss: 0.7144 - macro_f1: 0.3564 - val_loss: 0.6801 - val_macro_f1: 0.3889\n",
      "Epoch 2/50\n",
      "20/20 [==============================] - 422s 21s/step - loss: 0.6742 - macro_f1: 0.3982 - val_loss: 0.6529 - val_macro_f1: 0.4176\n",
      "Epoch 3/50\n",
      "20/20 [==============================] - 417s 21s/step - loss: 0.6627 - macro_f1: 0.4088 - val_loss: 0.6476 - val_macro_f1: 0.4235\n",
      "Epoch 4/50\n",
      "20/20 [==============================] - 416s 21s/step - loss: 0.6566 - macro_f1: 0.4148 - val_loss: 0.6376 - val_macro_f1: 0.4341\n",
      "Epoch 5/50\n",
      "20/20 [==============================] - 401s 20s/step - loss: 0.6482 - macro_f1: 0.4226 - val_loss: 0.6222 - val_macro_f1: 0.4494\n",
      "Epoch 6/50\n",
      "20/20 [==============================] - 400s 20s/step - loss: 0.6409 - macro_f1: 0.4305 - val_loss: 0.6133 - val_macro_f1: 0.4570\n",
      "Epoch 7/50\n",
      "20/20 [==============================] - 400s 20s/step - loss: 0.6318 - macro_f1: 0.4402 - val_loss: 0.6084 - val_macro_f1: 0.4627\n",
      "Epoch 8/50\n",
      "20/20 [==============================] - 402s 20s/step - loss: 0.6266 - macro_f1: 0.4450 - val_loss: 0.6033 - val_macro_f1: 0.4677\n",
      "Epoch 9/50\n",
      "20/20 [==============================] - 402s 20s/step - loss: 0.6223 - macro_f1: 0.4492 - val_loss: 0.5988 - val_macro_f1: 0.4720\n",
      "Epoch 10/50\n",
      "20/20 [==============================] - 402s 20s/step - loss: 0.6144 - macro_f1: 0.4580 - val_loss: 0.5961 - val_macro_f1: 0.4754\n",
      "Epoch 11/50\n",
      "20/20 [==============================] - 400s 20s/step - loss: 0.6136 - macro_f1: 0.4575 - val_loss: 0.5902 - val_macro_f1: 0.4809\n",
      "Epoch 12/50\n",
      "20/20 [==============================] - 401s 20s/step - loss: 0.6086 - macro_f1: 0.4619 - val_loss: 0.5877 - val_macro_f1: 0.4825\n",
      "Epoch 13/50\n",
      "20/20 [==============================] - 400s 20s/step - loss: 0.6031 - macro_f1: 0.4680 - val_loss: 0.5860 - val_macro_f1: 0.4840\n",
      "Epoch 14/50\n",
      "20/20 [==============================] - 411s 21s/step - loss: 0.6021 - macro_f1: 0.4684 - val_loss: 0.5823 - val_macro_f1: 0.4868\n",
      "Epoch 15/50\n",
      "20/20 [==============================] - 404s 20s/step - loss: 0.5997 - macro_f1: 0.4700 - val_loss: 0.5805 - val_macro_f1: 0.4879\n",
      "Epoch 16/50\n",
      "20/20 [==============================] - 401s 20s/step - loss: 0.5964 - macro_f1: 0.4743 - val_loss: 0.5781 - val_macro_f1: 0.4907\n",
      "Epoch 17/50\n",
      "20/20 [==============================] - 404s 20s/step - loss: 0.5893 - macro_f1: 0.4811 - val_loss: 0.5749 - val_macro_f1: 0.4931\n",
      "Epoch 18/50\n",
      "20/20 [==============================] - 404s 20s/step - loss: 0.5913 - macro_f1: 0.4800 - val_loss: 0.5721 - val_macro_f1: 0.4972\n",
      "Epoch 19/50\n",
      "20/20 [==============================] - 408s 21s/step - loss: 0.5876 - macro_f1: 0.4831 - val_loss: 0.5695 - val_macro_f1: 0.4997\n",
      "Epoch 20/50\n",
      "20/20 [==============================] - 412s 21s/step - loss: 0.5840 - macro_f1: 0.4863 - val_loss: 0.5672 - val_macro_f1: 0.5027\n",
      "Epoch 21/50\n",
      "20/20 [==============================] - 411s 21s/step - loss: 0.5804 - macro_f1: 0.4901 - val_loss: 0.5626 - val_macro_f1: 0.5071\n",
      "Epoch 22/50\n",
      "20/20 [==============================] - 406s 21s/step - loss: 0.5756 - macro_f1: 0.4956 - val_loss: 0.5585 - val_macro_f1: 0.5131\n",
      "Epoch 23/50\n",
      "20/20 [==============================] - 397s 20s/step - loss: 0.5740 - macro_f1: 0.4958 - val_loss: 0.5570 - val_macro_f1: 0.5128\n",
      "Epoch 24/50\n",
      "20/20 [==============================] - 409s 21s/step - loss: 0.5761 - macro_f1: 0.4942 - val_loss: 0.5546 - val_macro_f1: 0.5166\n",
      "Epoch 25/50\n",
      "20/20 [==============================] - 401s 20s/step - loss: 0.5712 - macro_f1: 0.4989 - val_loss: 0.5543 - val_macro_f1: 0.5164\n",
      "Epoch 26/50\n",
      "20/20 [==============================] - 404s 20s/step - loss: 0.5676 - macro_f1: 0.5047 - val_loss: 0.5525 - val_macro_f1: 0.5193\n",
      "Epoch 27/50\n",
      "20/20 [==============================] - 400s 20s/step - loss: 0.5611 - macro_f1: 0.5105 - val_loss: 0.5493 - val_macro_f1: 0.5213\n",
      "Epoch 28/50\n",
      "20/20 [==============================] - 398s 20s/step - loss: 0.5599 - macro_f1: 0.5111 - val_loss: 0.5482 - val_macro_f1: 0.5235\n",
      "Epoch 29/50\n",
      "20/20 [==============================] - 399s 20s/step - loss: 0.5548 - macro_f1: 0.5158 - val_loss: 0.5479 - val_macro_f1: 0.5235\n",
      "Epoch 30/50\n",
      "20/20 [==============================] - 399s 20s/step - loss: 0.5546 - macro_f1: 0.5164 - val_loss: 0.5460 - val_macro_f1: 0.5250\n",
      "Epoch 31/50\n",
      "20/20 [==============================] - 398s 20s/step - loss: 0.5518 - macro_f1: 0.5186 - val_loss: 0.5437 - val_macro_f1: 0.5275\n",
      "Epoch 32/50\n",
      "20/20 [==============================] - 401s 20s/step - loss: 0.5473 - macro_f1: 0.5238 - val_loss: 0.5435 - val_macro_f1: 0.5258\n",
      "Epoch 33/50\n",
      "20/20 [==============================] - 399s 20s/step - loss: 0.5471 - macro_f1: 0.5241 - val_loss: 0.5421 - val_macro_f1: 0.5280\n",
      "Epoch 34/50\n",
      "20/20 [==============================] - 399s 20s/step - loss: 0.5442 - macro_f1: 0.5275 - val_loss: 0.5404 - val_macro_f1: 0.5294\n",
      "Epoch 35/50\n",
      "20/20 [==============================] - 399s 20s/step - loss: 0.5444 - macro_f1: 0.5277 - val_loss: 0.5427 - val_macro_f1: 0.5270\n",
      "Epoch 36/50\n",
      "20/20 [==============================] - 405s 20s/step - loss: 0.5406 - macro_f1: 0.5308 - val_loss: 0.5405 - val_macro_f1: 0.5302\n",
      "Epoch 37/50\n",
      "20/20 [==============================] - 405s 20s/step - loss: 0.5399 - macro_f1: 0.5315 - val_loss: 0.5397 - val_macro_f1: 0.5288\n",
      "Epoch 38/50\n",
      "20/20 [==============================] - 400s 20s/step - loss: 0.5410 - macro_f1: 0.5302 - val_loss: 0.5421 - val_macro_f1: 0.5255\n",
      "Epoch 39/50\n",
      "20/20 [==============================] - 401s 20s/step - loss: 0.5337 - macro_f1: 0.5360 - val_loss: 0.5371 - val_macro_f1: 0.5334\n",
      "Epoch 40/50\n",
      "20/20 [==============================] - 401s 20s/step - loss: 0.5328 - macro_f1: 0.5377 - val_loss: 0.5386 - val_macro_f1: 0.5295\n",
      "Epoch 41/50\n",
      "20/20 [==============================] - 399s 20s/step - loss: 0.5287 - macro_f1: 0.5419 - val_loss: 0.5371 - val_macro_f1: 0.5298\n",
      "Epoch 42/50\n",
      "20/20 [==============================] - 414s 21s/step - loss: 0.5324 - macro_f1: 0.5376 - val_loss: 0.5345 - val_macro_f1: 0.5361\n",
      "Epoch 43/50\n",
      "20/20 [==============================] - 408s 21s/step - loss: 0.5252 - macro_f1: 0.5461 - val_loss: 0.5357 - val_macro_f1: 0.5340\n",
      "Epoch 44/50\n",
      "20/20 [==============================] - 399s 20s/step - loss: 0.5241 - macro_f1: 0.5474 - val_loss: 0.5343 - val_macro_f1: 0.5349\n",
      "Epoch 45/50\n",
      "20/20 [==============================] - 403s 20s/step - loss: 0.5230 - macro_f1: 0.5486 - val_loss: 0.5346 - val_macro_f1: 0.5332\n",
      "Epoch 46/50\n",
      "20/20 [==============================] - 402s 20s/step - loss: 0.5191 - macro_f1: 0.5530 - val_loss: 0.5335 - val_macro_f1: 0.5357\n",
      "Epoch 47/50\n",
      "20/20 [==============================] - 399s 20s/step - loss: 0.5217 - macro_f1: 0.5491 - val_loss: 0.5301 - val_macro_f1: 0.5409\n",
      "Epoch 48/50\n",
      "20/20 [==============================] - 403s 20s/step - loss: 0.5186 - macro_f1: 0.5519 - val_loss: 0.5306 - val_macro_f1: 0.5392\n",
      "Epoch 49/50\n",
      "20/20 [==============================] - 403s 20s/step - loss: 0.5173 - macro_f1: 0.5535 - val_loss: 0.5283 - val_macro_f1: 0.5410\n",
      "Epoch 50/50\n",
      "20/20 [==============================] - 402s 20s/step - loss: 0.5134 - macro_f1: 0.5581 - val_loss: 0.5277 - val_macro_f1: 0.5427\n"
     ]
    }
   ],
   "source": [
    "es = tf.keras.callbacks.EarlyStopping(\n",
    "    # monitor=\"val_macro_f1\", mode=\"max\", patience=5, verbose=1, restore_best_weights=True\n",
    "    monitor=\"val_loss\",\n",
    "    mode=\"min\",\n",
    "    patience=5,\n",
    "    verbose=1,\n",
    "    restore_best_weights=True,\n",
    ")\n",
    "history = test_model.fit(\n",
    "    train_ds, epochs=EPOCHS, validation_data=val_ds, verbose=1, callbacks=[es]\n",
    ")"
   ]
  },
  {
   "cell_type": "code",
   "execution_count": 73,
   "id": "UxftrAHT9Syd",
   "metadata": {
    "execution": {
     "iopub.execute_input": "2023-02-26T09:34:22.413289Z",
     "iopub.status.busy": "2023-02-26T09:34:22.411820Z",
     "iopub.status.idle": "2023-02-26T09:34:22.440752Z",
     "shell.execute_reply": "2023-02-26T09:34:22.440370Z",
     "shell.execute_reply.started": "2023-02-26T09:34:22.413125Z"
    },
    "id": "UxftrAHT9Syd",
    "tags": []
   },
   "outputs": [],
   "source": [
    "def plot_history(history):\n",
    "    fig, ax = plt.subplots(1, 2, figsize=(20, 7))\n",
    "    # --- LOSS: Soft Macro F1 ---\n",
    "    ax[0].plot(history.history[\"loss\"])\n",
    "    ax[0].plot(history.history[\"val_loss\"])\n",
    "    ax[0].set_title(\"Loss\")\n",
    "    ax[0].set_ylabel(\"Soft Macro F1\")\n",
    "    ax[0].set_xlabel(\"Epoch\")\n",
    "    ax[0].legend([\"Train\", \"Validation\"], loc=\"best\")\n",
    "    ax[0].grid(axis=\"x\", linewidth=0.5)\n",
    "    ax[0].grid(axis=\"y\", linewidth=0.5)\n",
    "\n",
    "    # --- METRICS: Macro F1 ---\n",
    "\n",
    "    ax[1].plot(history.history[\"macro_f1\"])\n",
    "    ax[1].plot(history.history[\"val_macro_f1\"])\n",
    "    ax[1].set_title(\"Metric\")\n",
    "    ax[1].set_ylabel(\"Macro F1\")\n",
    "    ax[1].set_xlabel(\"Epoch\")\n",
    "    ax[1].legend([\"Train\", \"Validation\"], loc=\"best\")\n",
    "    ax[1].grid(axis=\"x\", linewidth=0.5)\n",
    "    ax[1].grid(axis=\"y\", linewidth=0.5)\n",
    "\n",
    "    return ax"
   ]
  },
  {
   "cell_type": "code",
   "execution_count": 74,
   "id": "7FLpbinD9U3R",
   "metadata": {
    "colab": {
     "base_uri": "https://localhost:8080/",
     "height": 458
    },
    "execution": {
     "iopub.execute_input": "2023-02-26T09:34:22.442424Z",
     "iopub.status.busy": "2023-02-26T09:34:22.442241Z",
     "iopub.status.idle": "2023-02-26T09:34:22.806161Z",
     "shell.execute_reply": "2023-02-26T09:34:22.805820Z",
     "shell.execute_reply.started": "2023-02-26T09:34:22.442402Z"
    },
    "id": "7FLpbinD9U3R",
    "outputId": "0b4e03dd-cc29-4216-ad02-d290fd8ce97a",
    "tags": []
   },
   "outputs": [
    {
     "data": {
      "image/png": "[encoded data removed]",
      "text/plain": [
       "<Figure size 2000x700 with 2 Axes>"
      ]
     },
     "metadata": {},
     "output_type": "display_data"
    }
   ],
   "source": [
    "plot_history(history);"
   ]
  },
  {
   "cell_type": "code",
   "execution_count": 75,
   "id": "ed1c0d4c-4e1f-40de-b1ff-1b40033fe09b",
   "metadata": {
    "colab": {
     "base_uri": "https://localhost:8080/"
    },
    "execution": {
     "iopub.execute_input": "2023-02-26T09:34:22.806927Z",
     "iopub.status.busy": "2023-02-26T09:34:22.806842Z",
     "iopub.status.idle": "2023-02-26T09:35:02.210734Z",
     "shell.execute_reply": "2023-02-26T09:35:02.210149Z",
     "shell.execute_reply.started": "2023-02-26T09:34:22.806919Z"
    },
    "id": "ed1c0d4c-4e1f-40de-b1ff-1b40033fe09b",
    "outputId": "bf737315-fd4c-4d21-9b1d-2100323888a7",
    "tags": []
   },
   "outputs": [
    {
     "name": "stdout",
     "output_type": "stream",
     "text": [
      "3/3 [==============================] - 39s 11s/step - loss: 0.6958 - macro_f1: 0.3631\n"
     ]
    },
    {
     "data": {
      "text/plain": [
       "{'loss': 0.6958465576171875, 'macro_f1': 0.36313602328300476}"
      ]
     },
     "execution_count": 75,
     "metadata": {},
     "output_type": "execute_result"
    }
   ],
   "source": [
    "res = test_model.evaluate(test_ds, return_dict=True)\n",
    "res"
   ]
  },
  {
   "cell_type": "code",
   "execution_count": 76,
   "id": "3dfb8ace-5f81-4aa4-ba5b-118793929b40",
   "metadata": {
    "execution": {
     "iopub.execute_input": "2023-02-26T09:35:02.212402Z",
     "iopub.status.busy": "2023-02-26T09:35:02.212194Z",
     "iopub.status.idle": "2023-02-26T09:35:06.153505Z",
     "shell.execute_reply": "2023-02-26T09:35:06.153029Z",
     "shell.execute_reply.started": "2023-02-26T09:35:02.212383Z"
    },
    "tags": []
   },
   "outputs": [
    {
     "name": "stderr",
     "output_type": "stream",
     "text": [
      "WARNING:absl:Found untraced functions such as _jit_compiled_convolution_op, _jit_compiled_convolution_op, _jit_compiled_convolution_op, _jit_compiled_convolution_op, _jit_compiled_convolution_op while saving (showing 5 of 13). These functions will not be directly callable after loading.\n"
     ]
    },
    {
     "name": "stdout",
     "output_type": "stream",
     "text": [
      "INFO:tensorflow:Assets written to: ram://990eb2e0-b6fe-4bf8-87c9-b9e21e7fd28b/assets\n"
     ]
    },
    {
     "name": "stderr",
     "output_type": "stream",
     "text": [
      "INFO:tensorflow:Assets written to: ram://990eb2e0-b6fe-4bf8-87c9-b9e21e7fd28b/assets\n"
     ]
    }
   ],
   "source": [
    "import pickle\n",
    "\n",
    "filename = \"test_model_vgg16_bs32_do40-20-10_l2-0001.pickle\"\n",
    "pickle.dump(test_model, open(filename, \"wb\"))\n",
    "\n",
    "# loaded_model = pickle.load(open(filename, \"rb\"))"
   ]
  },
  {
   "cell_type": "code",
   "execution_count": 77,
   "id": "932ac7dd-75b1-4ddf-9598-46d08c3e9797",
   "metadata": {
    "execution": {
     "iopub.execute_input": "2023-02-26T09:35:06.154825Z",
     "iopub.status.busy": "2023-02-26T09:35:06.154735Z",
     "iopub.status.idle": "2023-02-26T09:35:41.991215Z",
     "shell.execute_reply": "2023-02-26T09:35:41.990925Z",
     "shell.execute_reply.started": "2023-02-26T09:35:06.154817Z"
    },
    "tags": []
   },
   "outputs": [
    {
     "name": "stdout",
     "output_type": "stream",
     "text": [
      "8/8 [==============================] - 14s 2s/step\n",
      "8/8 [==============================] - 14s 2s/step\n",
      "4/4 [==============================] - 7s 2s/step\n"
     ]
    }
   ],
   "source": [
    "y_pred = []  # store predicted labels\n",
    "y_true = []  # store true labels\n",
    "\n",
    "# iterate over the dataset\n",
    "for image_batch, label_batch in test_ds:   # use dataset.unbatch() with repeat\n",
    "   # append true labels\n",
    "   y_true.append(label_batch)\n",
    "   # compute predictions\n",
    "   preds = test_model.predict(image_batch)\n",
    "   # append predicted labels\n",
    "#    y_pred.append(preds)\n",
    "#    y_pred.append((preds > 0.5))\n",
    "   y_pred.append((preds > 0.5) * 1)\n",
    "\n",
    "# convert the true and predicted labels into tensors\n",
    "correct_labels = tf.concat([item for item in y_true], axis = 0)\n",
    "predicted_labels = tf.concat([item for item in y_pred], axis = 0)"
   ]
  },
  {
   "cell_type": "code",
   "execution_count": 78,
   "id": "1c83a007-ca9c-44b2-95ad-007313f8a642",
   "metadata": {
    "execution": {
     "iopub.execute_input": "2023-02-26T09:35:41.992060Z",
     "iopub.status.busy": "2023-02-26T09:35:41.991968Z",
     "iopub.status.idle": "2023-02-26T09:35:41.994102Z",
     "shell.execute_reply": "2023-02-26T09:35:41.993837Z",
     "shell.execute_reply.started": "2023-02-26T09:35:41.992050Z"
    }
   },
   "outputs": [],
   "source": [
    "from sklearn.metrics import classification_report\n",
    "labels_array = np.array(label_names)\n",
    "y_true = correct_labels\n",
    "y_pred = predicted_labels"
   ]
  },
  {
   "cell_type": "code",
   "execution_count": 79,
   "id": "45918d24-4eb1-48bd-95c8-1f05bc2f2eec",
   "metadata": {
    "execution": {
     "iopub.execute_input": "2023-02-26T09:35:41.994559Z",
     "iopub.status.busy": "2023-02-26T09:35:41.994476Z",
     "iopub.status.idle": "2023-02-26T09:35:42.003337Z",
     "shell.execute_reply": "2023-02-26T09:35:42.003007Z",
     "shell.execute_reply.started": "2023-02-26T09:35:41.994551Z"
    },
    "tags": []
   },
   "outputs": [
    {
     "name": "stdout",
     "output_type": "stream",
     "text": [
      "                          precision    recall  f1-score   support\n",
      "\n",
      "      label_cardiomegaly       0.50      0.17      0.25       150\n",
      "          label_effusion       0.28      1.00      0.44       180\n",
      "      label_pneumothorax       0.44      0.34      0.38       143\n",
      "label_pleural_thickening       0.39      0.42      0.41       153\n",
      "         label_pneumonia       0.18      0.52      0.27       143\n",
      "     label_consolidation       0.10      0.17      0.12       150\n",
      "             label_other       0.55      1.00      0.71       351\n",
      "\n",
      "               micro avg       0.34      0.61      0.43      1270\n",
      "               macro avg       0.35      0.52      0.37      1270\n",
      "            weighted avg       0.38      0.61      0.43      1270\n",
      "             samples avg       0.34      0.56      0.41      1270\n",
      "\n"
     ]
    }
   ],
   "source": [
    "print(classification_report(y_true, y_pred , target_names=label_names))"
   ]
  }
 ],
 "metadata": {
  "accelerator": "GPU",
  "colab": {
   "provenance": []
  },
  "gpuClass": "standard",
  "kernelspec": {
   "display_name": "Python 3 (ipykernel)",
   "language": "python",
   "name": "python3"
  },
  "language_info": {
   "codemirror_mode": {
    "name": "ipython",
    "version": 3
   },
   "file_extension": ".py",
   "mimetype": "text/x-python",
   "name": "python",
   "nbconvert_exporter": "python",
   "pygments_lexer": "ipython3",
   "version": "3.10.6"
  }
 },
 "nbformat": 4,
 "nbformat_minor": 5
}
