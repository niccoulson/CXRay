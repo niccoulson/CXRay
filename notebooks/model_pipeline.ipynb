{
 "cells": [
  {
   "cell_type": "markdown",
   "id": "8504600a-f546-4258-92e7-61283f3f68f2",
   "metadata": {},
   "source": [
    "# Data Pre-Processing"
   ]
  },
  {
   "cell_type": "code",
   "execution_count": 1,
   "id": "5c07d8f8-e079-4e45-9b1a-05c75a56bd25",
   "metadata": {
    "execution": {
     "iopub.execute_input": "2023-02-18T01:05:47.631370Z",
     "iopub.status.busy": "2023-02-18T01:05:47.631109Z",
     "iopub.status.idle": "2023-02-18T01:05:47.935311Z",
     "shell.execute_reply": "2023-02-18T01:05:47.934977Z",
     "shell.execute_reply.started": "2023-02-18T01:05:47.631349Z"
    }
   },
   "outputs": [],
   "source": [
    "import os\n",
    "import pathlib\n",
    "\n",
    "import pandas as pd"
   ]
  },
  {
   "cell_type": "code",
   "execution_count": 2,
   "id": "7d1f0e05-7f0a-423b-8e60-d43afe9d30b1",
   "metadata": {
    "execution": {
     "iopub.execute_input": "2023-02-18T01:05:47.935926Z",
     "iopub.status.busy": "2023-02-18T01:05:47.935781Z",
     "iopub.status.idle": "2023-02-18T01:05:48.027001Z",
     "shell.execute_reply": "2023-02-18T01:05:48.026662Z",
     "shell.execute_reply.started": "2023-02-18T01:05:47.935917Z"
    }
   },
   "outputs": [
    {
     "data": {
      "text/html": [
       "<div>\n",
       "<style scoped>\n",
       "    .dataframe tbody tr th:only-of-type {\n",
       "        vertical-align: middle;\n",
       "    }\n",
       "\n",
       "    .dataframe tbody tr th {\n",
       "        vertical-align: top;\n",
       "    }\n",
       "\n",
       "    .dataframe thead th {\n",
       "        text-align: right;\n",
       "    }\n",
       "</style>\n",
       "<table border=\"1\" class=\"dataframe\">\n",
       "  <thead>\n",
       "    <tr style=\"text-align: right;\">\n",
       "      <th></th>\n",
       "      <th>img_idx</th>\n",
       "      <th>labels</th>\n",
       "      <th>age</th>\n",
       "      <th>gender</th>\n",
       "      <th>view_pos</th>\n",
       "      <th>label_cardiomegaly</th>\n",
       "      <th>label_effusion</th>\n",
       "      <th>label_no_finding</th>\n",
       "      <th>label_pneumothorax</th>\n",
       "      <th>label_pleural_thickening</th>\n",
       "      <th>label_pneumonia</th>\n",
       "      <th>label_consolidation</th>\n",
       "      <th>label_other</th>\n",
       "    </tr>\n",
       "  </thead>\n",
       "  <tbody>\n",
       "    <tr>\n",
       "      <th>0</th>\n",
       "      <td>00000001_000.png</td>\n",
       "      <td>Cardiomegaly</td>\n",
       "      <td>58</td>\n",
       "      <td>M</td>\n",
       "      <td>PA</td>\n",
       "      <td>True</td>\n",
       "      <td>False</td>\n",
       "      <td>False</td>\n",
       "      <td>False</td>\n",
       "      <td>False</td>\n",
       "      <td>False</td>\n",
       "      <td>False</td>\n",
       "      <td>False</td>\n",
       "    </tr>\n",
       "    <tr>\n",
       "      <th>1</th>\n",
       "      <td>00000001_001.png</td>\n",
       "      <td>Cardiomegaly|Emphysema</td>\n",
       "      <td>58</td>\n",
       "      <td>M</td>\n",
       "      <td>PA</td>\n",
       "      <td>True</td>\n",
       "      <td>False</td>\n",
       "      <td>False</td>\n",
       "      <td>False</td>\n",
       "      <td>False</td>\n",
       "      <td>False</td>\n",
       "      <td>False</td>\n",
       "      <td>True</td>\n",
       "    </tr>\n",
       "    <tr>\n",
       "      <th>2</th>\n",
       "      <td>00000001_002.png</td>\n",
       "      <td>Cardiomegaly|Effusion</td>\n",
       "      <td>58</td>\n",
       "      <td>M</td>\n",
       "      <td>PA</td>\n",
       "      <td>True</td>\n",
       "      <td>True</td>\n",
       "      <td>False</td>\n",
       "      <td>False</td>\n",
       "      <td>False</td>\n",
       "      <td>False</td>\n",
       "      <td>False</td>\n",
       "      <td>False</td>\n",
       "    </tr>\n",
       "    <tr>\n",
       "      <th>3</th>\n",
       "      <td>00000002_000.png</td>\n",
       "      <td>No Finding</td>\n",
       "      <td>81</td>\n",
       "      <td>M</td>\n",
       "      <td>PA</td>\n",
       "      <td>False</td>\n",
       "      <td>False</td>\n",
       "      <td>True</td>\n",
       "      <td>False</td>\n",
       "      <td>False</td>\n",
       "      <td>False</td>\n",
       "      <td>False</td>\n",
       "      <td>False</td>\n",
       "    </tr>\n",
       "    <tr>\n",
       "      <th>4</th>\n",
       "      <td>00000003_000.png</td>\n",
       "      <td>Hernia</td>\n",
       "      <td>81</td>\n",
       "      <td>F</td>\n",
       "      <td>PA</td>\n",
       "      <td>False</td>\n",
       "      <td>False</td>\n",
       "      <td>False</td>\n",
       "      <td>False</td>\n",
       "      <td>False</td>\n",
       "      <td>False</td>\n",
       "      <td>False</td>\n",
       "      <td>True</td>\n",
       "    </tr>\n",
       "  </tbody>\n",
       "</table>\n",
       "</div>"
      ],
      "text/plain": [
       "            img_idx                  labels  age gender view_pos  \\\n",
       "0  00000001_000.png            Cardiomegaly   58      M       PA   \n",
       "1  00000001_001.png  Cardiomegaly|Emphysema   58      M       PA   \n",
       "2  00000001_002.png   Cardiomegaly|Effusion   58      M       PA   \n",
       "3  00000002_000.png              No Finding   81      M       PA   \n",
       "4  00000003_000.png                  Hernia   81      F       PA   \n",
       "\n",
       "   label_cardiomegaly  label_effusion  label_no_finding  label_pneumothorax  \\\n",
       "0                True           False             False               False   \n",
       "1                True           False             False               False   \n",
       "2                True            True             False               False   \n",
       "3               False           False              True               False   \n",
       "4               False           False             False               False   \n",
       "\n",
       "   label_pleural_thickening  label_pneumonia  label_consolidation  label_other  \n",
       "0                     False            False                False        False  \n",
       "1                     False            False                False         True  \n",
       "2                     False            False                False        False  \n",
       "3                     False            False                False        False  \n",
       "4                     False            False                False         True  "
      ]
     },
     "execution_count": 2,
     "metadata": {},
     "output_type": "execute_result"
    }
   ],
   "source": [
    "cwd = os.getcwd()\n",
    "data_path = pathlib.Path(cwd, \"..\", \"clean_data\", \"cleaned_data.csv\")\n",
    "\n",
    "data = pd.read_csv(data_path)\n",
    "data.head()"
   ]
  },
  {
   "cell_type": "code",
   "execution_count": 3,
   "id": "6b869784-c376-4e9b-a6f7-d52d59463f8a",
   "metadata": {
    "execution": {
     "iopub.execute_input": "2023-02-18T01:05:48.027670Z",
     "iopub.status.busy": "2023-02-18T01:05:48.027575Z",
     "iopub.status.idle": "2023-02-18T01:05:48.030603Z",
     "shell.execute_reply": "2023-02-18T01:05:48.030300Z",
     "shell.execute_reply.started": "2023-02-18T01:05:48.027661Z"
    }
   },
   "outputs": [
    {
     "data": {
      "text/plain": [
       "['label_cardiomegaly',\n",
       " 'label_effusion',\n",
       " 'label_no_finding',\n",
       " 'label_pneumothorax',\n",
       " 'label_pleural_thickening',\n",
       " 'label_pneumonia',\n",
       " 'label_consolidation',\n",
       " 'label_other']"
      ]
     },
     "execution_count": 3,
     "metadata": {},
     "output_type": "execute_result"
    }
   ],
   "source": [
    "label_names = [l for l in data.columns if l.startswith(\"label_\")]\n",
    "label_names"
   ]
  },
  {
   "cell_type": "code",
   "execution_count": 4,
   "id": "3cf34114-2cd5-4e38-905c-537dafed3d25",
   "metadata": {
    "execution": {
     "iopub.execute_input": "2023-02-18T01:05:48.032300Z",
     "iopub.status.busy": "2023-02-18T01:05:48.032059Z",
     "iopub.status.idle": "2023-02-18T01:05:48.044525Z",
     "shell.execute_reply": "2023-02-18T01:05:48.036111Z",
     "shell.execute_reply.started": "2023-02-18T01:05:48.032287Z"
    }
   },
   "outputs": [
    {
     "data": {
      "text/plain": [
       "label_pneumonia              1430\n",
       "label_cardiomegaly           2776\n",
       "label_pleural_thickening     3384\n",
       "label_consolidation          4667\n",
       "label_pneumothorax           5301\n",
       "label_effusion              13316\n",
       "label_other                 39770\n",
       "label_no_finding            60353\n",
       "dtype: int64"
      ]
     },
     "execution_count": 4,
     "metadata": {},
     "output_type": "execute_result"
    }
   ],
   "source": [
    "label_counts_sorted = data[label_names].sum(axis=0).sort_values()\n",
    "label_counts_sorted"
   ]
  },
  {
   "cell_type": "markdown",
   "id": "ae949f0e-5b60-4f62-82cc-7d31ce90d706",
   "metadata": {
    "tags": []
   },
   "source": [
    "We want to have a balanced dataset that contains an equal number of examples of each condition (+\"no finding\"), regardless of 'overlaps' (i.e. multiple conditions).  \n",
    "\n",
    "We will start from the lowest common denominator, i.e. the condition with the fewest number of examples, i.e. pnemonia. We will choose **all** of the pneumonia cases, `N0 = N_pneumonia = 1430` above. Then we have to choose the same number of examples from each of the other conditions, in increasing order of the number of cases. But there are overlaps, so we will exclude cases already chosen from previous labels (i.e. those with fewer examples). We will keep adding examples until we have `N0` rows with each label.  \n",
    "\n",
    "Note that `label_other` will have no overlap with any other label."
   ]
  },
  {
   "cell_type": "code",
   "execution_count": 34,
   "id": "e4300583-52ac-44a7-8651-f7030d22a219",
   "metadata": {
    "execution": {
     "iopub.execute_input": "2023-02-18T01:22:41.257418Z",
     "iopub.status.busy": "2023-02-18T01:22:41.256647Z",
     "iopub.status.idle": "2023-02-18T01:22:41.341857Z",
     "shell.execute_reply": "2023-02-18T01:22:41.341370Z",
     "shell.execute_reply.started": "2023-02-18T01:22:41.257365Z"
    },
    "tags": []
   },
   "outputs": [
    {
     "data": {
      "text/plain": [
       "label_no_finding            1430\n",
       "label_pneumothorax          1430\n",
       "label_pneumonia             1430\n",
       "label_consolidation         1463\n",
       "label_cardiomegaly          1473\n",
       "label_pleural_thickening    1503\n",
       "label_effusion              1624\n",
       "label_other                 3427\n",
       "dtype: int64"
      ]
     },
     "execution_count": 34,
     "metadata": {},
     "output_type": "execute_result"
    }
   ],
   "source": [
    "rarest_label = label_counts_sorted.index[0]\n",
    "rarest_label_count = data[data[rarest_label]].shape[0]\n",
    "data_balanced = data[data[rarest_label]]\n",
    "n_min = data_balanced.shape[0]\n",
    "\n",
    "for label, count in zip(label_counts_sorted.index[1:], label_counts_sorted[1:]):\n",
    "    n_already_captured = data_balanced[data_balanced[label]].shape[0]\n",
    "    n_additional = n_min - n_already_captured\n",
    "    if n_additional > 0:\n",
    "        not_selected_indices = data.index.difference(data_balanced.index)\n",
    "        not_selected_data = data.loc[not_selected_indices]\n",
    "        rows_to_add = not_selected_data[not_selected_data[label]].sample(n_additional)\n",
    "        data_balanced = pd.concat([data_balanced, rows_to_add], axis=0)\n",
    "\n",
    "data_balanced[label_names].sum(axis=0).sort_values()"
   ]
  },
  {
   "cell_type": "markdown",
   "id": "5e30e3c5-ea59-4062-8db4-9020aa21ecc1",
   "metadata": {},
   "source": [
    "Actually let's keep a small percentage of the rarest class (pneumonia) for testing..."
   ]
  },
  {
   "cell_type": "code",
   "execution_count": 49,
   "id": "0c1e2d43-990c-47e5-8e0d-597642bdb37f",
   "metadata": {
    "execution": {
     "iopub.execute_input": "2023-02-18T01:29:22.229664Z",
     "iopub.status.busy": "2023-02-18T01:29:22.228939Z",
     "iopub.status.idle": "2023-02-18T01:29:22.249015Z",
     "shell.execute_reply": "2023-02-18T01:29:22.248143Z",
     "shell.execute_reply.started": "2023-02-18T01:29:22.229610Z"
    },
    "tags": []
   },
   "outputs": [],
   "source": [
    "rarest_label_pct_to_keep = 0.1\n",
    "indices_to_remove = (\n",
    "    data_balanced[data_balanced[rarest_label]]\n",
    "    .sample(int(rarest_label_count * rarest_label_pct_to_keep))\n",
    "    .index\n",
    ")\n",
    "data_balanced.drop(indices_to_remove, inplace=True)"
   ]
  },
  {
   "cell_type": "code",
   "execution_count": 50,
   "id": "d7c63b40-b694-4643-96dc-bdeccdda5b86",
   "metadata": {
    "execution": {
     "iopub.execute_input": "2023-02-18T01:29:22.556942Z",
     "iopub.status.busy": "2023-02-18T01:29:22.556540Z",
     "iopub.status.idle": "2023-02-18T01:29:22.572121Z",
     "shell.execute_reply": "2023-02-18T01:29:22.571012Z",
     "shell.execute_reply.started": "2023-02-18T01:29:22.556912Z"
    },
    "tags": []
   },
   "outputs": [
    {
     "data": {
      "text/plain": [
       "(7766, 13)"
      ]
     },
     "execution_count": 50,
     "metadata": {},
     "output_type": "execute_result"
    }
   ],
   "source": [
    "data_balanced.shape"
   ]
  },
  {
   "cell_type": "code",
   "execution_count": 51,
   "id": "1e9ab967-8e37-484b-93cc-ddc3ed6429fb",
   "metadata": {
    "execution": {
     "iopub.execute_input": "2023-02-18T01:29:23.621429Z",
     "iopub.status.busy": "2023-02-18T01:29:23.619297Z",
     "iopub.status.idle": "2023-02-18T01:29:23.721758Z",
     "shell.execute_reply": "2023-02-18T01:29:23.721395Z",
     "shell.execute_reply.started": "2023-02-18T01:29:23.621383Z"
    },
    "tags": []
   },
   "outputs": [
    {
     "data": {
      "image/png": "[encoded data removed]",
      "text/plain": [
       "<Figure size 640x480 with 1 Axes>"
      ]
     },
     "metadata": {},
     "output_type": "display_data"
    }
   ],
   "source": [
    "data_balanced[label_names].sum(axis=0).sort_values().plot(kind=\"bar\");"
   ]
  },
  {
   "cell_type": "markdown",
   "id": "597a13e7-7211-4cec-9e80-edbba78afcca",
   "metadata": {},
   "source": [
    "We can use the remaining (i.e. not selected) data for our test set later on..."
   ]
  },
  {
   "cell_type": "code",
   "execution_count": 53,
   "id": "11123ac4-4c52-4ad9-8f8b-f54d2cd91990",
   "metadata": {
    "execution": {
     "iopub.execute_input": "2023-02-18T01:32:35.609048Z",
     "iopub.status.busy": "2023-02-18T01:32:35.608069Z",
     "iopub.status.idle": "2023-02-18T01:32:35.712087Z",
     "shell.execute_reply": "2023-02-18T01:32:35.711488Z",
     "shell.execute_reply.started": "2023-02-18T01:32:35.609007Z"
    },
    "tags": []
   },
   "outputs": [
    {
     "data": {
      "image/png": "[encoded data removed]",
      "text/plain": [
       "<Figure size 640x480 with 1 Axes>"
      ]
     },
     "metadata": {},
     "output_type": "display_data"
    }
   ],
   "source": [
    "remaining_indices = data.index.difference(data_balanced.index)\n",
    "remaining_data = data.loc[remaining_indices]\n",
    "remaining_data[label_names].sum(axis=0).sort_values().plot(kind=\"bar\");"
   ]
  },
  {
   "cell_type": "code",
   "execution_count": 52,
   "id": "a20ee2ec-3ede-4e0c-a71a-7a845f5007a7",
   "metadata": {
    "execution": {
     "iopub.execute_input": "2023-02-18T01:30:50.642389Z",
     "iopub.status.busy": "2023-02-18T01:30:50.641841Z",
     "iopub.status.idle": "2023-02-18T01:30:50.648511Z",
     "shell.execute_reply": "2023-02-18T01:30:50.647473Z",
     "shell.execute_reply.started": "2023-02-18T01:30:50.642355Z"
    },
    "tags": []
   },
   "outputs": [],
   "source": [
    "# TO DO: Try to prioritize Posterior-Anterior (PA) projection when building a balanced dataset\n",
    "# data_balanced.view_pos.value_counts().plot(kind=\"bar\");"
   ]
  },
  {
   "cell_type": "markdown",
   "id": "f2580dc2-80cc-4f47-9e28-37fb905bb4a1",
   "metadata": {
    "tags": []
   },
   "source": [
    "# Loading the Images"
   ]
  },
  {
   "cell_type": "markdown",
   "id": "6cec4150-96a6-4cc6-bf4a-2770994fb612",
   "metadata": {},
   "source": [
    "There are two ways to go about this:\n",
    "1. Load the entire data set in memory if we have enough RAM, which we do. We estimate ~8000 images will take up between 4 to 8 gigabytes in RAM.\n",
    "2. \"Dataset generator\": Keras has an \"[image data generator](https://www.tensorflow.org/api_docs/python/tf/keras/preprocessing/image/ImageDataGenerator)\"."
   ]
  },
  {
   "cell_type": "markdown",
   "id": "3b99be35-a48c-4e9a-bb4e-2ae934c83b89",
   "metadata": {
    "execution": {
     "iopub.execute_input": "2023-02-18T00:29:54.101427Z",
     "iopub.status.busy": "2023-02-18T00:29:54.100329Z",
     "iopub.status.idle": "2023-02-18T00:29:54.114273Z",
     "shell.execute_reply": "2023-02-18T00:29:54.111551Z",
     "shell.execute_reply.started": "2023-02-18T00:29:54.101367Z"
    },
    "tags": []
   },
   "source": [
    "## Loading the Entire Dataset"
   ]
  },
  {
   "cell_type": "markdown",
   "id": "680b2875-b0ad-44cb-b94a-05593a5f6422",
   "metadata": {},
   "source": [
    "Let's try the first method first..."
   ]
  },
  {
   "cell_type": "code",
   "execution_count": 9,
   "id": "0b4de01d-2523-4463-87d2-cb5c2ea846ae",
   "metadata": {
    "execution": {
     "iopub.execute_input": "2023-02-18T01:05:48.473086Z",
     "iopub.status.busy": "2023-02-18T01:05:48.472969Z",
     "iopub.status.idle": "2023-02-18T01:05:48.475480Z",
     "shell.execute_reply": "2023-02-18T01:05:48.475065Z",
     "shell.execute_reply.started": "2023-02-18T01:05:48.473076Z"
    },
    "tags": []
   },
   "outputs": [],
   "source": [
    "import os\n",
    "import pathlib\n",
    "\n",
    "import numpy as np\n",
    "import PIL"
   ]
  },
  {
   "cell_type": "code",
   "execution_count": 10,
   "id": "c9a73848-7296-42e1-9e99-945bd2ddf375",
   "metadata": {
    "execution": {
     "iopub.execute_input": "2023-02-18T01:05:48.476086Z",
     "iopub.status.busy": "2023-02-18T01:05:48.475988Z",
     "iopub.status.idle": "2023-02-18T01:05:48.478607Z",
     "shell.execute_reply": "2023-02-18T01:05:48.478347Z",
     "shell.execute_reply.started": "2023-02-18T01:05:48.476076Z"
    },
    "tags": []
   },
   "outputs": [],
   "source": [
    "def load_img(img_filename):\n",
    "    data_dir = pathlib.Path(\"../raw_data/images\")\n",
    "    image_filename = img_filename\n",
    "    image = PIL.Image.open(pathlib.Path(data_dir, image_filename))\n",
    "    return image"
   ]
  },
  {
   "cell_type": "code",
   "execution_count": 11,
   "id": "1ec4e96e-ea3d-483d-aa3b-cf784cf9da0d",
   "metadata": {
    "execution": {
     "iopub.execute_input": "2023-02-18T01:05:48.479236Z",
     "iopub.status.busy": "2023-02-18T01:05:48.479103Z",
     "iopub.status.idle": "2023-02-18T01:05:48.484466Z",
     "shell.execute_reply": "2023-02-18T01:05:48.483734Z",
     "shell.execute_reply.started": "2023-02-18T01:05:48.479224Z"
    },
    "tags": []
   },
   "outputs": [
    {
     "data": {
      "text/plain": [
       "(1024, 1024)"
      ]
     },
     "execution_count": 11,
     "metadata": {},
     "output_type": "execute_result"
    }
   ],
   "source": [
    "n_images = data_balanced.shape[0]\n",
    "example_img = load_img(data_balanced.iloc[0, :][\"img_idx\"])\n",
    "img_dims = example_img.size\n",
    "img_dims"
   ]
  },
  {
   "cell_type": "code",
   "execution_count": 12,
   "id": "68945115-6f3f-46f5-96b6-231e704d9f3d",
   "metadata": {
    "execution": {
     "iopub.execute_input": "2023-02-18T01:05:48.485036Z",
     "iopub.status.busy": "2023-02-18T01:05:48.484922Z",
     "iopub.status.idle": "2023-02-18T01:05:48.488297Z",
     "shell.execute_reply": "2023-02-18T01:05:48.487738Z",
     "shell.execute_reply.started": "2023-02-18T01:05:48.485025Z"
    },
    "tags": []
   },
   "outputs": [
    {
     "data": {
      "text/plain": [
       "(7903, 1024, 1024)"
      ]
     },
     "execution_count": 12,
     "metadata": {},
     "output_type": "execute_result"
    }
   ],
   "source": [
    "img_data = np.zeros((n_images, *img_dims))\n",
    "img_data.shape"
   ]
  },
  {
   "cell_type": "code",
   "execution_count": 13,
   "id": "f16098ef-2a27-4eeb-9e86-d909e5158f3f",
   "metadata": {
    "execution": {
     "iopub.execute_input": "2023-02-18T01:05:48.491973Z",
     "iopub.status.busy": "2023-02-18T01:05:48.491182Z",
     "iopub.status.idle": "2023-02-18T01:05:48.494222Z",
     "shell.execute_reply": "2023-02-18T01:05:48.493827Z",
     "shell.execute_reply.started": "2023-02-18T01:05:48.491955Z"
    },
    "tags": []
   },
   "outputs": [],
   "source": [
    "# # This crashes Jupyter Notebook\n",
    "# for img in data_balanced.loc[:, \"img_idx\"]:\n",
    "#     # np.append(img_data, load_img(img))\n",
    "#     pass"
   ]
  },
  {
   "cell_type": "markdown",
   "id": "932daf17-a678-49c0-a263-4f356148deb7",
   "metadata": {},
   "source": [
    "That was a dud. It crashes Jupyter Notebook. Let us now explore the second method."
   ]
  },
  {
   "cell_type": "markdown",
   "id": "69babdb7-55d8-4e5d-9227-c5bb74bdd3ff",
   "metadata": {},
   "source": [
    "## Generating the Dataset on the Fly"
   ]
  },
  {
   "cell_type": "markdown",
   "id": "5e184236-774c-4fbd-b8e0-af301d53a897",
   "metadata": {},
   "source": [
    "It turns out [`tf.keras.preprocessing.image.ImageDataGenerator`](https://www.tensorflow.org/api_docs/python/tf/keras/preprocessing/image/ImageDataGenerator) is deprecated and hence not recommended for new code. Its successor, [`tf.keras.utils.image_dataset_from_directory`](https://www.tensorflow.org/api_docs/python/tf/keras/utils/image_dataset_from_directory) is unfortunately not really applicable to our multi-label problem. I found [this blog post](https://towardsdatascience.com/multi-label-image-classification-in-tensorflow-2-0-7d4cf8a4bc72) on how to leverage the underlying API, [`tf.data`](https://www.tensorflow.org/guide/data) for multi-label problems. Let us explore that."
   ]
  },
  {
   "cell_type": "code",
   "execution_count": 14,
   "id": "d2cdc6cc-5330-4385-82b5-5445d5709753",
   "metadata": {
    "execution": {
     "iopub.execute_input": "2023-02-18T01:05:48.494999Z",
     "iopub.status.busy": "2023-02-18T01:05:48.494864Z",
     "iopub.status.idle": "2023-02-18T01:05:50.356704Z",
     "shell.execute_reply": "2023-02-18T01:05:50.356404Z",
     "shell.execute_reply.started": "2023-02-18T01:05:48.494987Z"
    },
    "tags": []
   },
   "outputs": [],
   "source": [
    "import tensorflow as tf"
   ]
  },
  {
   "cell_type": "code",
   "execution_count": 15,
   "id": "7fcbfe1b-02be-4c54-859f-ffb5fc700d66",
   "metadata": {
    "execution": {
     "iopub.execute_input": "2023-02-18T01:05:50.357421Z",
     "iopub.status.busy": "2023-02-18T01:05:50.357241Z",
     "iopub.status.idle": "2023-02-18T01:05:50.360027Z",
     "shell.execute_reply": "2023-02-18T01:05:50.359784Z",
     "shell.execute_reply.started": "2023-02-18T01:05:50.357412Z"
    },
    "tags": []
   },
   "outputs": [],
   "source": [
    "IMG_SIZE = img_dims[0]\n",
    "CHANNELS = 1  # The images are grayscale\n",
    "\n",
    "\n",
    "def parse_function(filename, label):\n",
    "    \"\"\"Function that returns a tuple of normalized image array and labels array.\n",
    "    Args:\n",
    "        filename: string representing path to image\n",
    "        label: 0/1 one-dimensional array of size N_LABELS\n",
    "    \"\"\"\n",
    "    # Read an image from a file\n",
    "    image_string = tf.io.read_file(filename)\n",
    "    # Decode it into a dense vector\n",
    "    image_decoded = tf.image.decode_png(image_string, channels=CHANNELS)\n",
    "    # Resize it to fixed shape\n",
    "    image_resized = (\n",
    "        image_decoded  # tf.image.resize(image_decoded, [IMG_SIZE, IMG_SIZE])\n",
    "    )\n",
    "    # Normalize it from [0, 255] to [0.0, 1.0]\n",
    "    image_normalized = tf.cast(image_resized, tf.float32) / 255.0\n",
    "    label_tensor = tf.convert_to_tensor(label, dtype=tf.uint8)\n",
    "    return image_normalized, label_tensor"
   ]
  },
  {
   "cell_type": "code",
   "execution_count": 70,
   "id": "590a4246-1bdc-47e9-8210-56d9eff762fa",
   "metadata": {
    "execution": {
     "iopub.execute_input": "2023-02-18T02:26:09.096815Z",
     "iopub.status.busy": "2023-02-18T02:26:09.096075Z",
     "iopub.status.idle": "2023-02-18T02:26:09.130539Z",
     "shell.execute_reply": "2023-02-18T02:26:09.130039Z",
     "shell.execute_reply.started": "2023-02-18T02:26:09.096779Z"
    },
    "tags": []
   },
   "outputs": [],
   "source": [
    "cwd = os.getcwd()\n",
    "data_dir = pathlib.Path(cwd, \"..\", \"raw_data\", \"images\")\n",
    "\n",
    "# This works\n",
    "img_norm, label_tensor = parse_function(\n",
    "    str(pathlib.Path(data_dir, \"00030805_000.png\")),\n",
    "    np.array([True, False, False, True]) + 0,\n",
    ")"
   ]
  },
  {
   "cell_type": "code",
   "execution_count": 17,
   "id": "ba443766-75c5-44b8-95e8-1b24fb39a7d2",
   "metadata": {
    "execution": {
     "iopub.execute_input": "2023-02-18T01:05:50.362882Z",
     "iopub.status.busy": "2023-02-18T01:05:50.362787Z",
     "iopub.status.idle": "2023-02-18T01:05:50.364767Z",
     "shell.execute_reply": "2023-02-18T01:05:50.364495Z",
     "shell.execute_reply.started": "2023-02-18T01:05:50.362873Z"
    },
    "tags": []
   },
   "outputs": [],
   "source": [
    "# # This works too... So far so good.\n",
    "# for index, row in data_balanced.iterrows():\n",
    "#     img_path = str(pathlib.Path(data_dir, row.img_idx))\n",
    "#     label_set_binarized = np.array(row[label_names]) + 0\n",
    "#     parse_function(img_path, label_set_binarized)"
   ]
  },
  {
   "cell_type": "code",
   "execution_count": 84,
   "id": "72789baf-a72d-4f39-b9f3-3b28a84b5dfa",
   "metadata": {
    "execution": {
     "iopub.execute_input": "2023-02-18T02:29:13.947116Z",
     "iopub.status.busy": "2023-02-18T02:29:13.946385Z",
     "iopub.status.idle": "2023-02-18T02:29:13.956568Z",
     "shell.execute_reply": "2023-02-18T02:29:13.953942Z",
     "shell.execute_reply.started": "2023-02-18T02:29:13.947065Z"
    },
    "tags": []
   },
   "outputs": [],
   "source": [
    "BATCH_SIZE = 256  # Big enough to measure an F1-score\n",
    "AUTOTUNE = (\n",
    "    tf.data.experimental.AUTOTUNE\n",
    ")  # Adapt preprocessing and prefetching dynamically to reduce GPU and CPU idle time\n",
    "SHUFFLE_BUFFER_SIZE = 1024  # Shuffle the training data by a chunck of 1024 observations\n",
    "\n",
    "N_LABELS = len(label_names)"
   ]
  },
  {
   "cell_type": "code",
   "execution_count": 19,
   "id": "cd029e70-ca81-47dc-9ea4-14ac9ffa93b6",
   "metadata": {
    "execution": {
     "iopub.execute_input": "2023-02-18T01:05:50.367907Z",
     "iopub.status.busy": "2023-02-18T01:05:50.367821Z",
     "iopub.status.idle": "2023-02-18T01:05:50.370579Z",
     "shell.execute_reply": "2023-02-18T01:05:50.370238Z",
     "shell.execute_reply.started": "2023-02-18T01:05:50.367898Z"
    },
    "tags": []
   },
   "outputs": [],
   "source": [
    "def create_dataset(filenames, labels, is_training=True):\n",
    "    \"\"\"Load and parse dataset.\n",
    "    Args:\n",
    "        filenames: list of image paths\n",
    "        labels: numpy array of shape (BATCH_SIZE, N_LABELS)\n",
    "        is_training: boolean to indicate training mode\n",
    "    \"\"\"\n",
    "\n",
    "    # Create a first dataset of file paths and labels\n",
    "    dataset = tf.data.Dataset.from_tensor_slices((filenames, labels))\n",
    "    # Parse and preprocess observations in parallel\n",
    "    dataset = dataset.map(parse_function, num_parallel_calls=AUTOTUNE)\n",
    "\n",
    "    if is_training == True:\n",
    "        # This is a small dataset, only load it once, and keep it in memory.\n",
    "        dataset = dataset.cache()\n",
    "        # Shuffle the data each buffer size\n",
    "        dataset = dataset.shuffle(buffer_size=SHUFFLE_BUFFER_SIZE)\n",
    "\n",
    "    # Batch the data for multiple steps\n",
    "    dataset = dataset.batch(BATCH_SIZE)\n",
    "    # Fetch batches in the background while the model is training.\n",
    "    dataset = dataset.prefetch(buffer_size=AUTOTUNE)\n",
    "\n",
    "    return dataset"
   ]
  },
  {
   "cell_type": "code",
   "execution_count": 64,
   "id": "48448164-e18a-4908-b810-a4cc53243565",
   "metadata": {
    "execution": {
     "iopub.execute_input": "2023-02-18T01:38:57.996942Z",
     "iopub.status.busy": "2023-02-18T01:38:57.996551Z",
     "iopub.status.idle": "2023-02-18T01:38:58.017978Z",
     "shell.execute_reply": "2023-02-18T01:38:58.017456Z",
     "shell.execute_reply.started": "2023-02-18T01:38:57.996916Z"
    },
    "tags": []
   },
   "outputs": [],
   "source": [
    "filenames = data_balanced.img_idx.to_list()\n",
    "label_sets_binarized = np.array(\n",
    "    data_balanced[label_names].apply(lambda x: x + 0), dtype=np.uint8\n",
    ")"
   ]
  },
  {
   "cell_type": "code",
   "execution_count": 65,
   "id": "578427ce-6145-4fc5-88ce-48a910850f84",
   "metadata": {
    "execution": {
     "iopub.execute_input": "2023-02-18T01:38:59.029558Z",
     "iopub.status.busy": "2023-02-18T01:38:59.029023Z",
     "iopub.status.idle": "2023-02-18T01:38:59.046830Z",
     "shell.execute_reply": "2023-02-18T01:38:59.044698Z",
     "shell.execute_reply.started": "2023-02-18T01:38:59.029518Z"
    },
    "tags": []
   },
   "outputs": [],
   "source": [
    "from sklearn.model_selection import train_test_split\n",
    "\n",
    "X_train, X_val, y_train_bin, y_val_bin = train_test_split(\n",
    "    filenames, label_sets_binarized, test_size=0.2\n",
    ")"
   ]
  },
  {
   "cell_type": "code",
   "execution_count": 66,
   "id": "07f321de-c8e3-4561-853e-ed558b2cae3d",
   "metadata": {
    "execution": {
     "iopub.execute_input": "2023-02-18T01:38:59.391138Z",
     "iopub.status.busy": "2023-02-18T01:38:59.390329Z",
     "iopub.status.idle": "2023-02-18T01:38:59.436596Z",
     "shell.execute_reply": "2023-02-18T01:38:59.436225Z",
     "shell.execute_reply.started": "2023-02-18T01:38:59.391098Z"
    },
    "tags": []
   },
   "outputs": [],
   "source": [
    "train_ds = create_dataset(X_train, y_train_bin)\n",
    "val_ds = create_dataset(X_val, y_val_bin)"
   ]
  },
  {
   "cell_type": "markdown",
   "id": "dc07afce-e819-4c6b-be05-3f5579954531",
   "metadata": {},
   "source": [
    "We now, finally, have our training and validation data sets with the correct tensor sizes and data types.  \n",
    "Now let's create the test set from the data that was _not_ selected while creating the balanced dataset. (Stored in `remaining_data`)"
   ]
  },
  {
   "cell_type": "code",
   "execution_count": 68,
   "id": "8416c797-34f4-49b0-a869-8ba9c6eaa80c",
   "metadata": {
    "execution": {
     "iopub.execute_input": "2023-02-18T02:24:48.289127Z",
     "iopub.status.busy": "2023-02-18T02:24:48.288687Z",
     "iopub.status.idle": "2023-02-18T02:24:48.311048Z",
     "shell.execute_reply": "2023-02-18T02:24:48.310144Z",
     "shell.execute_reply.started": "2023-02-18T02:24:48.289099Z"
    },
    "tags": []
   },
   "outputs": [],
   "source": [
    "X_test = remaining_data.img_idx.to_list()\n",
    "y_test_bin = np.array(\n",
    "    remaining_data[label_names].apply(lambda x: x + 0), dtype=np.uint8\n",
    ")"
   ]
  },
  {
   "cell_type": "markdown",
   "id": "1ac05cae-cfc0-4306-b611-1fab5552e390",
   "metadata": {},
   "source": [
    "# Modelling"
   ]
  },
  {
   "cell_type": "markdown",
   "id": "b8edac64-4925-471f-9109-c4407faba6bd",
   "metadata": {},
   "source": [
    "Let us first attempt to get a generic custom CNN working just as a sanity check."
   ]
  },
  {
   "cell_type": "code",
   "execution_count": 85,
   "id": "ab983ca2-5865-474c-92c1-384cdf1f60f3",
   "metadata": {
    "execution": {
     "iopub.execute_input": "2023-02-18T02:29:28.459543Z",
     "iopub.status.busy": "2023-02-18T02:29:28.458925Z",
     "iopub.status.idle": "2023-02-18T02:29:28.467880Z",
     "shell.execute_reply": "2023-02-18T02:29:28.467097Z",
     "shell.execute_reply.started": "2023-02-18T02:29:28.459503Z"
    },
    "tags": []
   },
   "outputs": [],
   "source": [
    "def load_own_model():\n",
    "    model = tf.keras.models.Sequential()\n",
    "\n",
    "    # model.add(, input_shape=(256, 256, 3))"
   ]
  },
  {
   "cell_type": "code",
   "execution_count": null,
   "id": "fe33c255-b992-4ef9-a3b0-6afcb8270d2d",
   "metadata": {},
   "outputs": [],
   "source": [
    "# model = tf.keras.Sequential(\n",
    "#     [\n",
    "#         feature_extractor_layer,\n",
    "#         layers.Dense(1024, activation=\"relu\", name=\"hidden_layer\"),\n",
    "#         layers.Dense(N_LABELS, activation=\"sigmoid\", name=\"output\"),\n",
    "#     ]\n",
    "# )"
   ]
  }
 ],
 "metadata": {
  "kernelspec": {
   "display_name": "Python 3 (ipykernel)",
   "language": "python",
   "name": "python3"
  },
  "language_info": {
   "codemirror_mode": {
    "name": "ipython",
    "version": 3
   },
   "file_extension": ".py",
   "mimetype": "text/x-python",
   "name": "python",
   "nbconvert_exporter": "python",
   "pygments_lexer": "ipython3",
   "version": "3.10.6"
  }
 },
 "nbformat": 4,
 "nbformat_minor": 5
}
