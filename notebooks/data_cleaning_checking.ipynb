{
 "cells": [
  {
   "cell_type": "code",
   "execution_count": 1,
   "id": "7eeff6b5-c4c4-4420-ae05-e83ab154c1fc",
   "metadata": {
    "execution": {
     "iopub.execute_input": "2023-02-16T07:01:58.909843Z",
     "iopub.status.busy": "2023-02-16T07:01:58.909187Z",
     "iopub.status.idle": "2023-02-16T07:01:58.915850Z",
     "shell.execute_reply": "2023-02-16T07:01:58.915256Z",
     "shell.execute_reply.started": "2023-02-16T07:01:58.909802Z"
    },
    "tags": []
   },
   "outputs": [],
   "source": [
    "# Group all `import`s here at a later date."
   ]
  },
  {
   "cell_type": "markdown",
   "id": "cf95ef50-3442-4864-b582-f8d88636c95e",
   "metadata": {},
   "source": [
    "# Data Cleaning & Checking"
   ]
  },
  {
   "cell_type": "markdown",
   "id": "2eae1504-8728-474f-9a5b-db7e5eaa5961",
   "metadata": {},
   "source": [
    "## Importing, checking and cleaning the (non-image) data"
   ]
  },
  {
   "cell_type": "markdown",
   "id": "edfd40ce-02a4-4a21-ae42-c1c6c6fe962d",
   "metadata": {},
   "source": [
    "First, import the csv file for non-image features and take a look at it."
   ]
  },
  {
   "cell_type": "code",
   "execution_count": 2,
   "id": "0b93f103-5307-4470-8b47-ca02239a534d",
   "metadata": {
    "execution": {
     "iopub.execute_input": "2023-02-16T07:01:58.917706Z",
     "iopub.status.busy": "2023-02-16T07:01:58.917109Z",
     "iopub.status.idle": "2023-02-16T07:01:59.350559Z",
     "shell.execute_reply": "2023-02-16T07:01:59.350268Z",
     "shell.execute_reply.started": "2023-02-16T07:01:58.917665Z"
    },
    "tags": []
   },
   "outputs": [],
   "source": [
    "import pandas as pd"
   ]
  },
  {
   "cell_type": "code",
   "execution_count": 3,
   "id": "0909e307-f726-439e-a422-32f34c72b97d",
   "metadata": {
    "execution": {
     "iopub.execute_input": "2023-02-16T07:01:59.351096Z",
     "iopub.status.busy": "2023-02-16T07:01:59.350968Z",
     "iopub.status.idle": "2023-02-16T07:01:59.438232Z",
     "shell.execute_reply": "2023-02-16T07:01:59.437850Z",
     "shell.execute_reply.started": "2023-02-16T07:01:59.351087Z"
    },
    "tags": []
   },
   "outputs": [
    {
     "ename": "FileNotFoundError",
     "evalue": "[Errno 2] No such file or directory: '../raw_data/Data_Entry_2017.csv'",
     "output_type": "error",
     "traceback": [
      "\u001b[0;31m---------------------------------------------------------------------------\u001b[0m",
      "\u001b[0;31mFileNotFoundError\u001b[0m                         Traceback (most recent call last)",
      "Cell \u001b[0;32mIn[3], line 3\u001b[0m\n\u001b[1;32m      1\u001b[0m raw_data_path \u001b[38;5;241m=\u001b[39m \u001b[38;5;124m\"\u001b[39m\u001b[38;5;124m../raw_data/Data_Entry_2017.csv\u001b[39m\u001b[38;5;124m\"\u001b[39m\n\u001b[1;32m      2\u001b[0m bb_data_path \u001b[38;5;241m=\u001b[39m \u001b[38;5;124m\"\u001b[39m\u001b[38;5;124m../raw_data/BBox_List_2017.csv\u001b[39m\u001b[38;5;124m\"\u001b[39m\n\u001b[0;32m----> 3\u001b[0m data \u001b[38;5;241m=\u001b[39m \u001b[43mpd\u001b[49m\u001b[38;5;241;43m.\u001b[39;49m\u001b[43mread_csv\u001b[49m\u001b[43m(\u001b[49m\u001b[43mraw_data_path\u001b[49m\u001b[43m)\u001b[49m\n\u001b[1;32m      4\u001b[0m data_bb \u001b[38;5;241m=\u001b[39m pd\u001b[38;5;241m.\u001b[39mread_csv(bb_data_path)\n",
      "File \u001b[0;32m~/.pyenv/versions/3.8.12/envs/CXRay/lib/python3.8/site-packages/pandas/util/_decorators.py:211\u001b[0m, in \u001b[0;36mdeprecate_kwarg.<locals>._deprecate_kwarg.<locals>.wrapper\u001b[0;34m(*args, **kwargs)\u001b[0m\n\u001b[1;32m    209\u001b[0m     \u001b[38;5;28;01melse\u001b[39;00m:\n\u001b[1;32m    210\u001b[0m         kwargs[new_arg_name] \u001b[38;5;241m=\u001b[39m new_arg_value\n\u001b[0;32m--> 211\u001b[0m \u001b[38;5;28;01mreturn\u001b[39;00m \u001b[43mfunc\u001b[49m\u001b[43m(\u001b[49m\u001b[38;5;241;43m*\u001b[39;49m\u001b[43margs\u001b[49m\u001b[43m,\u001b[49m\u001b[43m \u001b[49m\u001b[38;5;241;43m*\u001b[39;49m\u001b[38;5;241;43m*\u001b[39;49m\u001b[43mkwargs\u001b[49m\u001b[43m)\u001b[49m\n",
      "File \u001b[0;32m~/.pyenv/versions/3.8.12/envs/CXRay/lib/python3.8/site-packages/pandas/util/_decorators.py:331\u001b[0m, in \u001b[0;36mdeprecate_nonkeyword_arguments.<locals>.decorate.<locals>.wrapper\u001b[0;34m(*args, **kwargs)\u001b[0m\n\u001b[1;32m    325\u001b[0m \u001b[38;5;28;01mif\u001b[39;00m \u001b[38;5;28mlen\u001b[39m(args) \u001b[38;5;241m>\u001b[39m num_allow_args:\n\u001b[1;32m    326\u001b[0m     warnings\u001b[38;5;241m.\u001b[39mwarn(\n\u001b[1;32m    327\u001b[0m         msg\u001b[38;5;241m.\u001b[39mformat(arguments\u001b[38;5;241m=\u001b[39m_format_argument_list(allow_args)),\n\u001b[1;32m    328\u001b[0m         \u001b[38;5;167;01mFutureWarning\u001b[39;00m,\n\u001b[1;32m    329\u001b[0m         stacklevel\u001b[38;5;241m=\u001b[39mfind_stack_level(),\n\u001b[1;32m    330\u001b[0m     )\n\u001b[0;32m--> 331\u001b[0m \u001b[38;5;28;01mreturn\u001b[39;00m \u001b[43mfunc\u001b[49m\u001b[43m(\u001b[49m\u001b[38;5;241;43m*\u001b[39;49m\u001b[43margs\u001b[49m\u001b[43m,\u001b[49m\u001b[43m \u001b[49m\u001b[38;5;241;43m*\u001b[39;49m\u001b[38;5;241;43m*\u001b[39;49m\u001b[43mkwargs\u001b[49m\u001b[43m)\u001b[49m\n",
      "File \u001b[0;32m~/.pyenv/versions/3.8.12/envs/CXRay/lib/python3.8/site-packages/pandas/io/parsers/readers.py:950\u001b[0m, in \u001b[0;36mread_csv\u001b[0;34m(filepath_or_buffer, sep, delimiter, header, names, index_col, usecols, squeeze, prefix, mangle_dupe_cols, dtype, engine, converters, true_values, false_values, skipinitialspace, skiprows, skipfooter, nrows, na_values, keep_default_na, na_filter, verbose, skip_blank_lines, parse_dates, infer_datetime_format, keep_date_col, date_parser, dayfirst, cache_dates, iterator, chunksize, compression, thousands, decimal, lineterminator, quotechar, quoting, doublequote, escapechar, comment, encoding, encoding_errors, dialect, error_bad_lines, warn_bad_lines, on_bad_lines, delim_whitespace, low_memory, memory_map, float_precision, storage_options)\u001b[0m\n\u001b[1;32m    935\u001b[0m kwds_defaults \u001b[38;5;241m=\u001b[39m _refine_defaults_read(\n\u001b[1;32m    936\u001b[0m     dialect,\n\u001b[1;32m    937\u001b[0m     delimiter,\n\u001b[0;32m   (...)\u001b[0m\n\u001b[1;32m    946\u001b[0m     defaults\u001b[38;5;241m=\u001b[39m{\u001b[38;5;124m\"\u001b[39m\u001b[38;5;124mdelimiter\u001b[39m\u001b[38;5;124m\"\u001b[39m: \u001b[38;5;124m\"\u001b[39m\u001b[38;5;124m,\u001b[39m\u001b[38;5;124m\"\u001b[39m},\n\u001b[1;32m    947\u001b[0m )\n\u001b[1;32m    948\u001b[0m kwds\u001b[38;5;241m.\u001b[39mupdate(kwds_defaults)\n\u001b[0;32m--> 950\u001b[0m \u001b[38;5;28;01mreturn\u001b[39;00m \u001b[43m_read\u001b[49m\u001b[43m(\u001b[49m\u001b[43mfilepath_or_buffer\u001b[49m\u001b[43m,\u001b[49m\u001b[43m \u001b[49m\u001b[43mkwds\u001b[49m\u001b[43m)\u001b[49m\n",
      "File \u001b[0;32m~/.pyenv/versions/3.8.12/envs/CXRay/lib/python3.8/site-packages/pandas/io/parsers/readers.py:605\u001b[0m, in \u001b[0;36m_read\u001b[0;34m(filepath_or_buffer, kwds)\u001b[0m\n\u001b[1;32m    602\u001b[0m _validate_names(kwds\u001b[38;5;241m.\u001b[39mget(\u001b[38;5;124m\"\u001b[39m\u001b[38;5;124mnames\u001b[39m\u001b[38;5;124m\"\u001b[39m, \u001b[38;5;28;01mNone\u001b[39;00m))\n\u001b[1;32m    604\u001b[0m \u001b[38;5;66;03m# Create the parser.\u001b[39;00m\n\u001b[0;32m--> 605\u001b[0m parser \u001b[38;5;241m=\u001b[39m \u001b[43mTextFileReader\u001b[49m\u001b[43m(\u001b[49m\u001b[43mfilepath_or_buffer\u001b[49m\u001b[43m,\u001b[49m\u001b[43m \u001b[49m\u001b[38;5;241;43m*\u001b[39;49m\u001b[38;5;241;43m*\u001b[39;49m\u001b[43mkwds\u001b[49m\u001b[43m)\u001b[49m\n\u001b[1;32m    607\u001b[0m \u001b[38;5;28;01mif\u001b[39;00m chunksize \u001b[38;5;129;01mor\u001b[39;00m iterator:\n\u001b[1;32m    608\u001b[0m     \u001b[38;5;28;01mreturn\u001b[39;00m parser\n",
      "File \u001b[0;32m~/.pyenv/versions/3.8.12/envs/CXRay/lib/python3.8/site-packages/pandas/io/parsers/readers.py:1442\u001b[0m, in \u001b[0;36mTextFileReader.__init__\u001b[0;34m(self, f, engine, **kwds)\u001b[0m\n\u001b[1;32m   1439\u001b[0m     \u001b[38;5;28mself\u001b[39m\u001b[38;5;241m.\u001b[39moptions[\u001b[38;5;124m\"\u001b[39m\u001b[38;5;124mhas_index_names\u001b[39m\u001b[38;5;124m\"\u001b[39m] \u001b[38;5;241m=\u001b[39m kwds[\u001b[38;5;124m\"\u001b[39m\u001b[38;5;124mhas_index_names\u001b[39m\u001b[38;5;124m\"\u001b[39m]\n\u001b[1;32m   1441\u001b[0m \u001b[38;5;28mself\u001b[39m\u001b[38;5;241m.\u001b[39mhandles: IOHandles \u001b[38;5;241m|\u001b[39m \u001b[38;5;28;01mNone\u001b[39;00m \u001b[38;5;241m=\u001b[39m \u001b[38;5;28;01mNone\u001b[39;00m\n\u001b[0;32m-> 1442\u001b[0m \u001b[38;5;28mself\u001b[39m\u001b[38;5;241m.\u001b[39m_engine \u001b[38;5;241m=\u001b[39m \u001b[38;5;28;43mself\u001b[39;49m\u001b[38;5;241;43m.\u001b[39;49m\u001b[43m_make_engine\u001b[49m\u001b[43m(\u001b[49m\u001b[43mf\u001b[49m\u001b[43m,\u001b[49m\u001b[43m \u001b[49m\u001b[38;5;28;43mself\u001b[39;49m\u001b[38;5;241;43m.\u001b[39;49m\u001b[43mengine\u001b[49m\u001b[43m)\u001b[49m\n",
      "File \u001b[0;32m~/.pyenv/versions/3.8.12/envs/CXRay/lib/python3.8/site-packages/pandas/io/parsers/readers.py:1735\u001b[0m, in \u001b[0;36mTextFileReader._make_engine\u001b[0;34m(self, f, engine)\u001b[0m\n\u001b[1;32m   1733\u001b[0m     \u001b[38;5;28;01mif\u001b[39;00m \u001b[38;5;124m\"\u001b[39m\u001b[38;5;124mb\u001b[39m\u001b[38;5;124m\"\u001b[39m \u001b[38;5;129;01mnot\u001b[39;00m \u001b[38;5;129;01min\u001b[39;00m mode:\n\u001b[1;32m   1734\u001b[0m         mode \u001b[38;5;241m+\u001b[39m\u001b[38;5;241m=\u001b[39m \u001b[38;5;124m\"\u001b[39m\u001b[38;5;124mb\u001b[39m\u001b[38;5;124m\"\u001b[39m\n\u001b[0;32m-> 1735\u001b[0m \u001b[38;5;28mself\u001b[39m\u001b[38;5;241m.\u001b[39mhandles \u001b[38;5;241m=\u001b[39m \u001b[43mget_handle\u001b[49m\u001b[43m(\u001b[49m\n\u001b[1;32m   1736\u001b[0m \u001b[43m    \u001b[49m\u001b[43mf\u001b[49m\u001b[43m,\u001b[49m\n\u001b[1;32m   1737\u001b[0m \u001b[43m    \u001b[49m\u001b[43mmode\u001b[49m\u001b[43m,\u001b[49m\n\u001b[1;32m   1738\u001b[0m \u001b[43m    \u001b[49m\u001b[43mencoding\u001b[49m\u001b[38;5;241;43m=\u001b[39;49m\u001b[38;5;28;43mself\u001b[39;49m\u001b[38;5;241;43m.\u001b[39;49m\u001b[43moptions\u001b[49m\u001b[38;5;241;43m.\u001b[39;49m\u001b[43mget\u001b[49m\u001b[43m(\u001b[49m\u001b[38;5;124;43m\"\u001b[39;49m\u001b[38;5;124;43mencoding\u001b[39;49m\u001b[38;5;124;43m\"\u001b[39;49m\u001b[43m,\u001b[49m\u001b[43m \u001b[49m\u001b[38;5;28;43;01mNone\u001b[39;49;00m\u001b[43m)\u001b[49m\u001b[43m,\u001b[49m\n\u001b[1;32m   1739\u001b[0m \u001b[43m    \u001b[49m\u001b[43mcompression\u001b[49m\u001b[38;5;241;43m=\u001b[39;49m\u001b[38;5;28;43mself\u001b[39;49m\u001b[38;5;241;43m.\u001b[39;49m\u001b[43moptions\u001b[49m\u001b[38;5;241;43m.\u001b[39;49m\u001b[43mget\u001b[49m\u001b[43m(\u001b[49m\u001b[38;5;124;43m\"\u001b[39;49m\u001b[38;5;124;43mcompression\u001b[39;49m\u001b[38;5;124;43m\"\u001b[39;49m\u001b[43m,\u001b[49m\u001b[43m \u001b[49m\u001b[38;5;28;43;01mNone\u001b[39;49;00m\u001b[43m)\u001b[49m\u001b[43m,\u001b[49m\n\u001b[1;32m   1740\u001b[0m \u001b[43m    \u001b[49m\u001b[43mmemory_map\u001b[49m\u001b[38;5;241;43m=\u001b[39;49m\u001b[38;5;28;43mself\u001b[39;49m\u001b[38;5;241;43m.\u001b[39;49m\u001b[43moptions\u001b[49m\u001b[38;5;241;43m.\u001b[39;49m\u001b[43mget\u001b[49m\u001b[43m(\u001b[49m\u001b[38;5;124;43m\"\u001b[39;49m\u001b[38;5;124;43mmemory_map\u001b[39;49m\u001b[38;5;124;43m\"\u001b[39;49m\u001b[43m,\u001b[49m\u001b[43m \u001b[49m\u001b[38;5;28;43;01mFalse\u001b[39;49;00m\u001b[43m)\u001b[49m\u001b[43m,\u001b[49m\n\u001b[1;32m   1741\u001b[0m \u001b[43m    \u001b[49m\u001b[43mis_text\u001b[49m\u001b[38;5;241;43m=\u001b[39;49m\u001b[43mis_text\u001b[49m\u001b[43m,\u001b[49m\n\u001b[1;32m   1742\u001b[0m \u001b[43m    \u001b[49m\u001b[43merrors\u001b[49m\u001b[38;5;241;43m=\u001b[39;49m\u001b[38;5;28;43mself\u001b[39;49m\u001b[38;5;241;43m.\u001b[39;49m\u001b[43moptions\u001b[49m\u001b[38;5;241;43m.\u001b[39;49m\u001b[43mget\u001b[49m\u001b[43m(\u001b[49m\u001b[38;5;124;43m\"\u001b[39;49m\u001b[38;5;124;43mencoding_errors\u001b[39;49m\u001b[38;5;124;43m\"\u001b[39;49m\u001b[43m,\u001b[49m\u001b[43m \u001b[49m\u001b[38;5;124;43m\"\u001b[39;49m\u001b[38;5;124;43mstrict\u001b[39;49m\u001b[38;5;124;43m\"\u001b[39;49m\u001b[43m)\u001b[49m\u001b[43m,\u001b[49m\n\u001b[1;32m   1743\u001b[0m \u001b[43m    \u001b[49m\u001b[43mstorage_options\u001b[49m\u001b[38;5;241;43m=\u001b[39;49m\u001b[38;5;28;43mself\u001b[39;49m\u001b[38;5;241;43m.\u001b[39;49m\u001b[43moptions\u001b[49m\u001b[38;5;241;43m.\u001b[39;49m\u001b[43mget\u001b[49m\u001b[43m(\u001b[49m\u001b[38;5;124;43m\"\u001b[39;49m\u001b[38;5;124;43mstorage_options\u001b[39;49m\u001b[38;5;124;43m\"\u001b[39;49m\u001b[43m,\u001b[49m\u001b[43m \u001b[49m\u001b[38;5;28;43;01mNone\u001b[39;49;00m\u001b[43m)\u001b[49m\u001b[43m,\u001b[49m\n\u001b[1;32m   1744\u001b[0m \u001b[43m\u001b[49m\u001b[43m)\u001b[49m\n\u001b[1;32m   1745\u001b[0m \u001b[38;5;28;01massert\u001b[39;00m \u001b[38;5;28mself\u001b[39m\u001b[38;5;241m.\u001b[39mhandles \u001b[38;5;129;01mis\u001b[39;00m \u001b[38;5;129;01mnot\u001b[39;00m \u001b[38;5;28;01mNone\u001b[39;00m\n\u001b[1;32m   1746\u001b[0m f \u001b[38;5;241m=\u001b[39m \u001b[38;5;28mself\u001b[39m\u001b[38;5;241m.\u001b[39mhandles\u001b[38;5;241m.\u001b[39mhandle\n",
      "File \u001b[0;32m~/.pyenv/versions/3.8.12/envs/CXRay/lib/python3.8/site-packages/pandas/io/common.py:856\u001b[0m, in \u001b[0;36mget_handle\u001b[0;34m(path_or_buf, mode, encoding, compression, memory_map, is_text, errors, storage_options)\u001b[0m\n\u001b[1;32m    851\u001b[0m \u001b[38;5;28;01melif\u001b[39;00m \u001b[38;5;28misinstance\u001b[39m(handle, \u001b[38;5;28mstr\u001b[39m):\n\u001b[1;32m    852\u001b[0m     \u001b[38;5;66;03m# Check whether the filename is to be opened in binary mode.\u001b[39;00m\n\u001b[1;32m    853\u001b[0m     \u001b[38;5;66;03m# Binary mode does not support 'encoding' and 'newline'.\u001b[39;00m\n\u001b[1;32m    854\u001b[0m     \u001b[38;5;28;01mif\u001b[39;00m ioargs\u001b[38;5;241m.\u001b[39mencoding \u001b[38;5;129;01mand\u001b[39;00m \u001b[38;5;124m\"\u001b[39m\u001b[38;5;124mb\u001b[39m\u001b[38;5;124m\"\u001b[39m \u001b[38;5;129;01mnot\u001b[39;00m \u001b[38;5;129;01min\u001b[39;00m ioargs\u001b[38;5;241m.\u001b[39mmode:\n\u001b[1;32m    855\u001b[0m         \u001b[38;5;66;03m# Encoding\u001b[39;00m\n\u001b[0;32m--> 856\u001b[0m         handle \u001b[38;5;241m=\u001b[39m \u001b[38;5;28;43mopen\u001b[39;49m\u001b[43m(\u001b[49m\n\u001b[1;32m    857\u001b[0m \u001b[43m            \u001b[49m\u001b[43mhandle\u001b[49m\u001b[43m,\u001b[49m\n\u001b[1;32m    858\u001b[0m \u001b[43m            \u001b[49m\u001b[43mioargs\u001b[49m\u001b[38;5;241;43m.\u001b[39;49m\u001b[43mmode\u001b[49m\u001b[43m,\u001b[49m\n\u001b[1;32m    859\u001b[0m \u001b[43m            \u001b[49m\u001b[43mencoding\u001b[49m\u001b[38;5;241;43m=\u001b[39;49m\u001b[43mioargs\u001b[49m\u001b[38;5;241;43m.\u001b[39;49m\u001b[43mencoding\u001b[49m\u001b[43m,\u001b[49m\n\u001b[1;32m    860\u001b[0m \u001b[43m            \u001b[49m\u001b[43merrors\u001b[49m\u001b[38;5;241;43m=\u001b[39;49m\u001b[43merrors\u001b[49m\u001b[43m,\u001b[49m\n\u001b[1;32m    861\u001b[0m \u001b[43m            \u001b[49m\u001b[43mnewline\u001b[49m\u001b[38;5;241;43m=\u001b[39;49m\u001b[38;5;124;43m\"\u001b[39;49m\u001b[38;5;124;43m\"\u001b[39;49m\u001b[43m,\u001b[49m\n\u001b[1;32m    862\u001b[0m \u001b[43m        \u001b[49m\u001b[43m)\u001b[49m\n\u001b[1;32m    863\u001b[0m     \u001b[38;5;28;01melse\u001b[39;00m:\n\u001b[1;32m    864\u001b[0m         \u001b[38;5;66;03m# Binary mode\u001b[39;00m\n\u001b[1;32m    865\u001b[0m         handle \u001b[38;5;241m=\u001b[39m \u001b[38;5;28mopen\u001b[39m(handle, ioargs\u001b[38;5;241m.\u001b[39mmode)\n",
      "\u001b[0;31mFileNotFoundError\u001b[0m: [Errno 2] No such file or directory: '../raw_data/Data_Entry_2017.csv'"
     ]
    }
   ],
   "source": [
    "raw_data_path = \"../raw_data/Data_Entry_2017.csv\"\n",
    "bb_data_path = \"../raw_data/BBox_List_2017.csv\"\n",
    "data = pd.read_csv(raw_data_path)\n",
    "data_bb = pd.read_csv(bb_data_path)"
   ]
  },
  {
   "cell_type": "code",
   "execution_count": null,
   "id": "7128208e-5729-4ae9-8181-20da42a667c6",
   "metadata": {
    "execution": {
     "iopub.execute_input": "2023-02-16T07:01:59.439772Z",
     "iopub.status.busy": "2023-02-16T07:01:59.439535Z",
     "iopub.status.idle": "2023-02-16T07:01:59.447611Z",
     "shell.execute_reply": "2023-02-16T07:01:59.447293Z",
     "shell.execute_reply.started": "2023-02-16T07:01:59.439760Z"
    },
    "tags": []
   },
   "outputs": [],
   "source": [
    "data_bb.head()"
   ]
  },
  {
   "cell_type": "code",
   "execution_count": null,
   "id": "7d497925-5365-4497-891a-56d7004299a1",
   "metadata": {
    "execution": {
     "iopub.execute_input": "2023-02-16T07:01:59.448080Z",
     "iopub.status.busy": "2023-02-16T07:01:59.447997Z",
     "iopub.status.idle": "2023-02-16T07:01:59.450946Z",
     "shell.execute_reply": "2023-02-16T07:01:59.450684Z",
     "shell.execute_reply.started": "2023-02-16T07:01:59.448072Z"
    },
    "tags": []
   },
   "outputs": [],
   "source": [
    "data_bb.drop(data_bb.columns[-3:], axis=1, inplace=True)\n",
    "data_bb.columns = [\"img_idx\", \"label\", \"bb_x\", \"bb_y\", \"bb_w\", \"bb_h\"]"
   ]
  },
  {
   "cell_type": "code",
   "execution_count": null,
   "id": "67f70fd5-2273-4af6-97ed-f592252ab039",
   "metadata": {
    "execution": {
     "iopub.execute_input": "2023-02-16T07:01:59.451505Z",
     "iopub.status.busy": "2023-02-16T07:01:59.451409Z",
     "iopub.status.idle": "2023-02-16T07:01:59.455973Z",
     "shell.execute_reply": "2023-02-16T07:01:59.455605Z",
     "shell.execute_reply.started": "2023-02-16T07:01:59.451496Z"
    },
    "tags": []
   },
   "outputs": [],
   "source": [
    "data_bb.head()"
   ]
  },
  {
   "cell_type": "code",
   "execution_count": null,
   "id": "608c9218-7ddf-45c1-9d2f-21dd5f351356",
   "metadata": {
    "execution": {
     "iopub.execute_input": "2023-02-16T07:01:59.456478Z",
     "iopub.status.busy": "2023-02-16T07:01:59.456385Z",
     "iopub.status.idle": "2023-02-16T07:01:59.460038Z",
     "shell.execute_reply": "2023-02-16T07:01:59.459761Z",
     "shell.execute_reply.started": "2023-02-16T07:01:59.456469Z"
    },
    "tags": []
   },
   "outputs": [],
   "source": [
    "data_bb.img_idx.nunique()"
   ]
  },
  {
   "cell_type": "code",
   "execution_count": null,
   "id": "b75a83bf-792f-4878-9dd1-226428a241c5",
   "metadata": {
    "execution": {
     "iopub.execute_input": "2023-02-16T07:01:59.460582Z",
     "iopub.status.busy": "2023-02-16T07:01:59.460501Z",
     "iopub.status.idle": "2023-02-16T07:01:59.463312Z",
     "shell.execute_reply": "2023-02-16T07:01:59.463031Z",
     "shell.execute_reply.started": "2023-02-16T07:01:59.460574Z"
    },
    "tags": []
   },
   "outputs": [],
   "source": [
    "data_bb.shape"
   ]
  },
  {
   "cell_type": "markdown",
   "id": "d6a2ec57-a488-4d01-aa56-9d8ef99a7301",
   "metadata": {},
   "source": [
    "**Note:** We will forget about the BB data for the time being and move on to the main CSV."
   ]
  },
  {
   "cell_type": "code",
   "execution_count": null,
   "id": "2fbeccd9-981c-4291-b660-143fc20cf156",
   "metadata": {
    "execution": {
     "iopub.execute_input": "2023-02-16T07:01:59.463922Z",
     "iopub.status.busy": "2023-02-16T07:01:59.463819Z",
     "iopub.status.idle": "2023-02-16T07:01:59.465986Z",
     "shell.execute_reply": "2023-02-16T07:01:59.465727Z",
     "shell.execute_reply.started": "2023-02-16T07:01:59.463914Z"
    },
    "tags": []
   },
   "outputs": [],
   "source": [
    "data.shape"
   ]
  },
  {
   "cell_type": "code",
   "execution_count": null,
   "id": "16a96a34-7453-462e-9d07-1a2074174b6a",
   "metadata": {
    "execution": {
     "iopub.execute_input": "2023-02-16T07:01:59.466502Z",
     "iopub.status.busy": "2023-02-16T07:01:59.466419Z",
     "iopub.status.idle": "2023-02-16T07:01:59.471941Z",
     "shell.execute_reply": "2023-02-16T07:01:59.471613Z",
     "shell.execute_reply.started": "2023-02-16T07:01:59.466493Z"
    },
    "tags": []
   },
   "outputs": [],
   "source": [
    "data.head()"
   ]
  },
  {
   "cell_type": "markdown",
   "id": "bac26965-a7c0-4ddd-b137-ec385417344d",
   "metadata": {},
   "source": [
    "Drop the columns we don't need and set shorter column names."
   ]
  },
  {
   "cell_type": "code",
   "execution_count": null,
   "id": "670a4c90-7b6a-45a1-b0ce-c4fc4587b290",
   "metadata": {
    "execution": {
     "iopub.execute_input": "2023-02-16T07:01:59.472575Z",
     "iopub.status.busy": "2023-02-16T07:01:59.472469Z",
     "iopub.status.idle": "2023-02-16T07:01:59.485226Z",
     "shell.execute_reply": "2023-02-16T07:01:59.484855Z",
     "shell.execute_reply.started": "2023-02-16T07:01:59.472565Z"
    },
    "tags": []
   },
   "outputs": [],
   "source": [
    "data.drop(data.columns[-1], axis=1, inplace=True)\n",
    "data.drop(columns=[\"Follow-up #\", \"Patient ID\"], inplace=True)\n",
    "data.columns = [\"img_idx\", \"labels\", \"age\", \"gender\", \"view_pos\", \"img_w\", \"img_h\", \"img_pix_spc_x\", \"img_pix_spc_y\"]"
   ]
  },
  {
   "cell_type": "code",
   "execution_count": null,
   "id": "650bbd0c-dd2f-4ada-a7a4-0e861848255d",
   "metadata": {
    "execution": {
     "iopub.execute_input": "2023-02-16T07:01:59.485799Z",
     "iopub.status.busy": "2023-02-16T07:01:59.485699Z",
     "iopub.status.idle": "2023-02-16T07:01:59.488358Z",
     "shell.execute_reply": "2023-02-16T07:01:59.487963Z",
     "shell.execute_reply.started": "2023-02-16T07:01:59.485790Z"
    },
    "tags": []
   },
   "outputs": [],
   "source": [
    "data.shape"
   ]
  },
  {
   "cell_type": "code",
   "execution_count": null,
   "id": "2b7e4475-9704-49b6-bb53-19265143b88a",
   "metadata": {
    "execution": {
     "iopub.execute_input": "2023-02-16T07:01:59.491158Z",
     "iopub.status.busy": "2023-02-16T07:01:59.490992Z",
     "iopub.status.idle": "2023-02-16T07:01:59.496617Z",
     "shell.execute_reply": "2023-02-16T07:01:59.496230Z",
     "shell.execute_reply.started": "2023-02-16T07:01:59.491148Z"
    },
    "tags": []
   },
   "outputs": [],
   "source": [
    "data.head()"
   ]
  },
  {
   "cell_type": "markdown",
   "id": "63fdc242-2d0e-45b5-b570-9d65d382dce9",
   "metadata": {
    "execution": {
     "iopub.execute_input": "2023-02-11T01:05:47.146912Z",
     "iopub.status.busy": "2023-02-11T01:05:47.146443Z",
     "iopub.status.idle": "2023-02-11T01:05:47.158968Z",
     "shell.execute_reply": "2023-02-11T01:05:47.157016Z",
     "shell.execute_reply.started": "2023-02-11T01:05:47.146874Z"
    },
    "tags": []
   },
   "source": [
    "Take a look at data statistics, cardinality, types, etc."
   ]
  },
  {
   "cell_type": "code",
   "execution_count": null,
   "id": "d917949f-3232-4419-a53d-d4bb30e410b0",
   "metadata": {
    "execution": {
     "iopub.execute_input": "2023-02-16T07:01:59.497118Z",
     "iopub.status.busy": "2023-02-16T07:01:59.497029Z",
     "iopub.status.idle": "2023-02-16T07:01:59.534808Z",
     "shell.execute_reply": "2023-02-16T07:01:59.534513Z",
     "shell.execute_reply.started": "2023-02-16T07:01:59.497109Z"
    },
    "tags": []
   },
   "outputs": [],
   "source": [
    "data.info()"
   ]
  },
  {
   "cell_type": "code",
   "execution_count": null,
   "id": "567a9cf2-5a67-49df-a5a3-5331b9a4b8c0",
   "metadata": {
    "execution": {
     "iopub.execute_input": "2023-02-16T07:01:59.535328Z",
     "iopub.status.busy": "2023-02-16T07:01:59.535237Z",
     "iopub.status.idle": "2023-02-16T07:01:59.568868Z",
     "shell.execute_reply": "2023-02-16T07:01:59.568561Z",
     "shell.execute_reply.started": "2023-02-16T07:01:59.535319Z"
    },
    "tags": []
   },
   "outputs": [],
   "source": [
    "data.isnull().values.any()"
   ]
  },
  {
   "cell_type": "markdown",
   "id": "e301d0bf-43f8-4313-9f3f-b8fcd23d7e57",
   "metadata": {},
   "source": [
    "It appears that we do not have any `null`s, which is good.  \n",
    "**_To do:_** Consider downcasting data types to save memory.  \n",
    "For example:  \n",
    "```python\n",
    "data[\"age\"] = pd.to_numeric(data[\"age\"], downcast=’uint8’) # 0-255\n",
    "```\n",
    "Binary columns can be `bool` and image specs can be smaller variants of `int`."
   ]
  },
  {
   "cell_type": "code",
   "execution_count": null,
   "id": "86a88bca-e64e-4e05-9949-5407444ff120",
   "metadata": {
    "execution": {
     "iopub.execute_input": "2023-02-16T07:01:59.569501Z",
     "iopub.status.busy": "2023-02-16T07:01:59.569388Z",
     "iopub.status.idle": "2023-02-16T07:01:59.594436Z",
     "shell.execute_reply": "2023-02-16T07:01:59.594140Z",
     "shell.execute_reply.started": "2023-02-16T07:01:59.569492Z"
    },
    "tags": []
   },
   "outputs": [],
   "source": [
    "data.nunique()"
   ]
  },
  {
   "cell_type": "code",
   "execution_count": null,
   "id": "7b16c873-79c1-450b-8d18-4541d4fe3d0f",
   "metadata": {
    "execution": {
     "iopub.execute_input": "2023-02-16T07:01:59.595110Z",
     "iopub.status.busy": "2023-02-16T07:01:59.594972Z",
     "iopub.status.idle": "2023-02-16T07:01:59.617400Z",
     "shell.execute_reply": "2023-02-16T07:01:59.617006Z",
     "shell.execute_reply.started": "2023-02-16T07:01:59.595100Z"
    },
    "tags": []
   },
   "outputs": [],
   "source": [
    "data.describe()"
   ]
  },
  {
   "cell_type": "markdown",
   "id": "46f82b40-8b92-44d8-9c3b-cf27fdff0c7f",
   "metadata": {},
   "source": [
    "Maximum age of `414` does not make sense. There appears to be an issue with the `age` column."
   ]
  },
  {
   "cell_type": "code",
   "execution_count": null,
   "id": "da655a66-2b34-488a-8bea-dc6416a9331f",
   "metadata": {
    "execution": {
     "iopub.execute_input": "2023-02-16T07:01:59.618119Z",
     "iopub.status.busy": "2023-02-16T07:01:59.618006Z",
     "iopub.status.idle": "2023-02-16T07:02:00.299153Z",
     "shell.execute_reply": "2023-02-16T07:02:00.298837Z",
     "shell.execute_reply.started": "2023-02-16T07:01:59.618105Z"
    },
    "tags": []
   },
   "outputs": [],
   "source": [
    "# import matplotlib.pyplot as plt\n",
    "import seaborn as sns"
   ]
  },
  {
   "cell_type": "code",
   "execution_count": null,
   "id": "c80b4e6b-19d3-4f28-b0ca-933583928260",
   "metadata": {
    "execution": {
     "iopub.execute_input": "2023-02-16T07:02:00.299804Z",
     "iopub.status.busy": "2023-02-16T07:02:00.299671Z",
     "iopub.status.idle": "2023-02-16T07:02:00.380349Z",
     "shell.execute_reply": "2023-02-16T07:02:00.379950Z",
     "shell.execute_reply.started": "2023-02-16T07:02:00.299795Z"
    },
    "tags": []
   },
   "outputs": [],
   "source": [
    "sns.boxenplot(data.age, orient=\"horizontal\");"
   ]
  },
  {
   "cell_type": "code",
   "execution_count": null,
   "id": "462c4d93-bc2b-4e35-9611-0269f9780051",
   "metadata": {
    "execution": {
     "iopub.execute_input": "2023-02-16T07:02:00.380934Z",
     "iopub.status.busy": "2023-02-16T07:02:00.380842Z",
     "iopub.status.idle": "2023-02-16T07:02:00.388490Z",
     "shell.execute_reply": "2023-02-16T07:02:00.388012Z",
     "shell.execute_reply.started": "2023-02-16T07:02:00.380925Z"
    },
    "tags": []
   },
   "outputs": [],
   "source": [
    "data = data[data.age < 125] # The oldest person to ever live was ~122 years old when they passed."
   ]
  },
  {
   "cell_type": "code",
   "execution_count": null,
   "id": "4dd32d9b-0976-4412-a3f4-09b0cda90763",
   "metadata": {
    "execution": {
     "iopub.execute_input": "2023-02-16T07:02:00.389463Z",
     "iopub.status.busy": "2023-02-16T07:02:00.389348Z",
     "iopub.status.idle": "2023-02-16T07:02:00.493528Z",
     "shell.execute_reply": "2023-02-16T07:02:00.493090Z",
     "shell.execute_reply.started": "2023-02-16T07:02:00.389453Z"
    },
    "tags": []
   },
   "outputs": [],
   "source": [
    "sns.boxenplot(data.age, orient=\"horizontal\");"
   ]
  },
  {
   "cell_type": "code",
   "execution_count": null,
   "id": "459edfe2-c3e2-48ee-948b-538f611ff971",
   "metadata": {
    "execution": {
     "iopub.execute_input": "2023-02-16T07:02:00.494272Z",
     "iopub.status.busy": "2023-02-16T07:02:00.494166Z",
     "iopub.status.idle": "2023-02-16T07:02:00.497603Z",
     "shell.execute_reply": "2023-02-16T07:02:00.497242Z",
     "shell.execute_reply.started": "2023-02-16T07:02:00.494262Z"
    },
    "tags": []
   },
   "outputs": [],
   "source": [
    "data.shape"
   ]
  },
  {
   "cell_type": "markdown",
   "id": "8e661ddc-595d-4679-afc6-c79f7467d2ea",
   "metadata": {},
   "source": [
    "Check for duplicates."
   ]
  },
  {
   "cell_type": "code",
   "execution_count": null,
   "id": "7ceb7865-9d35-492d-a39d-70ce55c360f9",
   "metadata": {
    "execution": {
     "iopub.execute_input": "2023-02-16T07:02:00.498223Z",
     "iopub.status.busy": "2023-02-16T07:02:00.498061Z",
     "iopub.status.idle": "2023-02-16T07:02:00.531295Z",
     "shell.execute_reply": "2023-02-16T07:02:00.530967Z",
     "shell.execute_reply.started": "2023-02-16T07:02:00.498213Z"
    },
    "tags": []
   },
   "outputs": [],
   "source": [
    "data.drop_duplicates(inplace=True)"
   ]
  },
  {
   "cell_type": "code",
   "execution_count": null,
   "id": "7f3161fa-fda3-444a-93b6-e031c1f2430a",
   "metadata": {
    "execution": {
     "iopub.execute_input": "2023-02-16T07:02:00.531859Z",
     "iopub.status.busy": "2023-02-16T07:02:00.531760Z",
     "iopub.status.idle": "2023-02-16T07:02:00.535609Z",
     "shell.execute_reply": "2023-02-16T07:02:00.535161Z",
     "shell.execute_reply.started": "2023-02-16T07:02:00.531850Z"
    },
    "tags": []
   },
   "outputs": [],
   "source": [
    "data.shape"
   ]
  },
  {
   "cell_type": "code",
   "execution_count": null,
   "id": "845e66fe-401e-4f81-97df-09f9ca6f57f0",
   "metadata": {
    "execution": {
     "iopub.execute_input": "2023-02-16T07:02:00.536437Z",
     "iopub.status.busy": "2023-02-16T07:02:00.536232Z",
     "iopub.status.idle": "2023-02-16T07:02:00.542593Z",
     "shell.execute_reply": "2023-02-16T07:02:00.542262Z",
     "shell.execute_reply.started": "2023-02-16T07:02:00.536426Z"
    },
    "tags": []
   },
   "outputs": [],
   "source": [
    "data.tail()"
   ]
  },
  {
   "cell_type": "markdown",
   "id": "05c2a78d-74e4-4c8f-9e8f-f1e0283424a1",
   "metadata": {},
   "source": [
    "Visualize the data."
   ]
  },
  {
   "cell_type": "code",
   "execution_count": null,
   "id": "e7f73047-d393-497e-8003-fc1eea23342e",
   "metadata": {
    "execution": {
     "iopub.execute_input": "2023-02-16T07:02:00.543361Z",
     "iopub.status.busy": "2023-02-16T07:02:00.543180Z",
     "iopub.status.idle": "2023-02-16T07:02:00.853984Z",
     "shell.execute_reply": "2023-02-16T07:02:00.853626Z",
     "shell.execute_reply.started": "2023-02-16T07:02:00.543342Z"
    },
    "tags": []
   },
   "outputs": [],
   "source": [
    "data.hist(figsize=(10,10));"
   ]
  },
  {
   "cell_type": "code",
   "execution_count": null,
   "id": "bc3bd169-efb4-452c-a94f-e23895f78f4f",
   "metadata": {
    "execution": {
     "iopub.execute_input": "2023-02-16T07:02:00.854612Z",
     "iopub.status.busy": "2023-02-16T07:02:00.854499Z",
     "iopub.status.idle": "2023-02-16T07:02:01.014485Z",
     "shell.execute_reply": "2023-02-16T07:02:01.014178Z",
     "shell.execute_reply.started": "2023-02-16T07:02:00.854603Z"
    },
    "tags": []
   },
   "outputs": [],
   "source": [
    "# Split labels based on a delimiter \n",
    "data[\"labels\"].str.split(\"|\").explode(\"labels\").value_counts().plot(kind=\"bar\");"
   ]
  },
  {
   "cell_type": "code",
   "execution_count": null,
   "id": "9726527b-8b46-4f5a-b33f-dc6014a1fef3",
   "metadata": {
    "execution": {
     "iopub.execute_input": "2023-02-16T07:02:01.015078Z",
     "iopub.status.busy": "2023-02-16T07:02:01.014987Z",
     "iopub.status.idle": "2023-02-16T07:02:01.072878Z",
     "shell.execute_reply": "2023-02-16T07:02:01.072469Z",
     "shell.execute_reply.started": "2023-02-16T07:02:01.015069Z"
    },
    "tags": []
   },
   "outputs": [],
   "source": [
    "data[\"gender\"].value_counts().plot(kind=\"bar\");"
   ]
  },
  {
   "cell_type": "code",
   "execution_count": null,
   "id": "f972db87-8ba3-404d-8399-b374c252a566",
   "metadata": {
    "execution": {
     "iopub.execute_input": "2023-02-16T07:02:01.073523Z",
     "iopub.status.busy": "2023-02-16T07:02:01.073417Z",
     "iopub.status.idle": "2023-02-16T07:02:01.133069Z",
     "shell.execute_reply": "2023-02-16T07:02:01.132627Z",
     "shell.execute_reply.started": "2023-02-16T07:02:01.073514Z"
    },
    "tags": []
   },
   "outputs": [],
   "source": [
    "data[\"view_pos\"].value_counts().plot(kind=\"bar\");"
   ]
  },
  {
   "cell_type": "markdown",
   "id": "c11c9956-88e0-4890-ba2f-a35e56931a84",
   "metadata": {},
   "source": [
    "Next, convert and expand the `labels` column to corresponding individual columns with boolean values for each condition that we care about, plus an aggregate \"other\" column for all the other ones. We will keep the original `labels` column because the EDA notebook uses it. But we should remove it (or pass it through the pipeline without using it) during training.\n",
    "Effectively, we are multi-label binary-encoding the labels (manually for now; in the future, we could use a [`MultiLabelBinarizer`](https://scikit-learn.org/stable/modules/generated/sklearn.preprocessing.MultiLabelBinarizer.html) in our pipeline)."
   ]
  },
  {
   "cell_type": "code",
   "execution_count": null,
   "id": "fd2a230c-a754-40cb-91b6-cc5290fa4fa9",
   "metadata": {
    "execution": {
     "iopub.execute_input": "2023-02-16T07:02:01.133745Z",
     "iopub.status.busy": "2023-02-16T07:02:01.133630Z",
     "iopub.status.idle": "2023-02-16T07:02:01.206615Z",
     "shell.execute_reply": "2023-02-16T07:02:01.206259Z",
     "shell.execute_reply.started": "2023-02-16T07:02:01.133735Z"
    }
   },
   "outputs": [],
   "source": [
    "all_labels = list(\n",
    "    pd.DataFrame(data[\"labels\"].str.split(\"|\").explode(\"labels\")).labels.unique()\n",
    ")\n",
    "\n",
    "do_care_labels = [\n",
    "    \"Pneumonia\",\n",
    "    \"Cardiomegaly\",\n",
    "    \"Pleural_Thickening\",\n",
    "    \"Consolidation\",\n",
    "    \"Pneumothorax\",\n",
    "    \"Effusion\",\n",
    "    \"No Finding\",\n",
    "]\n",
    "other_labels = [l for l in all_labels if l not in do_care_labels]"
   ]
  },
  {
   "cell_type": "code",
   "execution_count": null,
   "id": "7eff431f-08e9-4884-9bf0-032595f9a2f8",
   "metadata": {
    "execution": {
     "iopub.execute_input": "2023-02-16T07:02:01.207149Z",
     "iopub.status.busy": "2023-02-16T07:02:01.207052Z",
     "iopub.status.idle": "2023-02-16T07:02:01.381359Z",
     "shell.execute_reply": "2023-02-16T07:02:01.380879Z",
     "shell.execute_reply.started": "2023-02-16T07:02:01.207140Z"
    }
   },
   "outputs": [],
   "source": [
    "for l in all_labels:\n",
    "    data[l] = data.labels.apply(lambda x: l in x)"
   ]
  },
  {
   "cell_type": "code",
   "execution_count": null,
   "id": "9fd15163-a3e2-459e-89e3-fe58ecfafbf1",
   "metadata": {
    "execution": {
     "iopub.execute_input": "2023-02-16T07:02:01.382014Z",
     "iopub.status.busy": "2023-02-16T07:02:01.381910Z",
     "iopub.status.idle": "2023-02-16T07:02:01.386669Z",
     "shell.execute_reply": "2023-02-16T07:02:01.386343Z",
     "shell.execute_reply.started": "2023-02-16T07:02:01.382005Z"
    },
    "tags": []
   },
   "outputs": [],
   "source": [
    "data[\"Other\"] = False\n",
    "for l in other_labels:\n",
    "    data[\"Other\"] = data[\"Other\"] | data[l]"
   ]
  },
  {
   "cell_type": "code",
   "execution_count": null,
   "id": "81edd371-3e14-4a9a-aab7-ddb8e058537d",
   "metadata": {
    "execution": {
     "iopub.execute_input": "2023-02-16T07:02:01.387309Z",
     "iopub.status.busy": "2023-02-16T07:02:01.387209Z",
     "iopub.status.idle": "2023-02-16T07:02:01.395824Z",
     "shell.execute_reply": "2023-02-16T07:02:01.395405Z",
     "shell.execute_reply.started": "2023-02-16T07:02:01.387300Z"
    }
   },
   "outputs": [],
   "source": [
    "data.drop(columns=other_labels, inplace=True)\n",
    "for l in do_care_labels + [\"Other\"]:\n",
    "    data.rename(columns={l: \"label_\"+l.lower().replace(\" \", \"_\")}, inplace=True)"
   ]
  },
  {
   "cell_type": "code",
   "execution_count": null,
   "id": "830316c5-6f0c-48cf-a31d-f4383524d200",
   "metadata": {
    "execution": {
     "iopub.execute_input": "2023-02-16T07:02:01.396546Z",
     "iopub.status.busy": "2023-02-16T07:02:01.396441Z",
     "iopub.status.idle": "2023-02-16T07:02:01.406163Z",
     "shell.execute_reply": "2023-02-16T07:02:01.405816Z",
     "shell.execute_reply.started": "2023-02-16T07:02:01.396536Z"
    }
   },
   "outputs": [],
   "source": [
    "data"
   ]
  },
  {
   "cell_type": "markdown",
   "id": "5585642f-7526-4657-a9c8-dd799a24e86a",
   "metadata": {},
   "source": [
    "Actually, we don't care about the colums related to the dimensions and \"pixel spacing\" of the  original images so we will now remove them."
   ]
  },
  {
   "cell_type": "code",
   "execution_count": null,
   "id": "43a223af-2d1e-462b-8754-9d61932525b9",
   "metadata": {
    "execution": {
     "iopub.execute_input": "2023-02-16T07:02:01.406859Z",
     "iopub.status.busy": "2023-02-16T07:02:01.406745Z",
     "iopub.status.idle": "2023-02-16T07:02:01.418183Z",
     "shell.execute_reply": "2023-02-16T07:02:01.417866Z",
     "shell.execute_reply.started": "2023-02-16T07:02:01.406850Z"
    },
    "tags": []
   },
   "outputs": [],
   "source": [
    "data.drop(columns=[\"img_w\", \"img_h\", \"img_pix_spc_x\", \"img_pix_spc_y\"], inplace=True)\n",
    "data.head()"
   ]
  },
  {
   "cell_type": "markdown",
   "id": "249c1533-48a7-4d36-8371-65b2e37a1a4b",
   "metadata": {},
   "source": [
    "Save the cleaned data to disk."
   ]
  },
  {
   "cell_type": "code",
   "execution_count": null,
   "id": "0dc05c4b-f96b-4aba-8993-ddedb1c216e6",
   "metadata": {
    "execution": {
     "iopub.execute_input": "2023-02-16T07:02:01.418775Z",
     "iopub.status.busy": "2023-02-16T07:02:01.418683Z",
     "iopub.status.idle": "2023-02-16T07:02:01.636201Z",
     "shell.execute_reply": "2023-02-16T07:02:01.635811Z",
     "shell.execute_reply.started": "2023-02-16T07:02:01.418765Z"
    },
    "tags": []
   },
   "outputs": [],
   "source": [
    "clean_data_path = \"../clean_data/cleaned_data.csv\"\n",
    "data.to_csv(clean_data_path, index=False)"
   ]
  },
  {
   "cell_type": "markdown",
   "id": "42970bbd-33df-4bec-a52f-93be808d4555",
   "metadata": {},
   "source": [
    "# Resizing (Downsizing) the Images"
   ]
  },
  {
   "cell_type": "markdown",
   "id": "d6627cdf-76e3-48d7-a7fd-69fe5473c40d",
   "metadata": {},
   "source": [
    "Saving the down-sized version of all images compatible with ResNet50 (224x224)"
   ]
  },
  {
   "cell_type": "code",
   "execution_count": null,
   "id": "546cae30-8a7f-4c01-aa63-db1d98aa7f1c",
   "metadata": {
    "execution": {
     "iopub.execute_input": "2023-02-18T08:10:55.322351Z",
     "iopub.status.busy": "2023-02-18T08:10:55.321949Z",
     "iopub.status.idle": "2023-02-18T09:26:13.880737Z",
     "shell.execute_reply": "2023-02-18T09:26:13.880231Z",
     "shell.execute_reply.started": "2023-02-18T08:10:55.322325Z"
    },
    "tags": []
   },
   "outputs": [],
   "source": [
    "import os, pathlib\n",
    "from PIL import Image\n",
    "\n",
    "new_height = 224\n",
    "new_width = 224\n",
    "\n",
    "cwd = os.getcwd()\n",
    "raw_images_dir = pathlib.Path(cwd, \"..\", \"raw_data\", \"images\")\n",
    "out_images_dir = pathlib.Path(cwd, \"..\", \"raw_data\", \"images_224_224\")\n",
    "\n",
    "for filename in os.listdir(raw_images_dir):\n",
    "    if filename.endswith('.png'):\n",
    "        img = Image.open(os.path.join(raw_images_dir, filename))\n",
    "        resized_img = img.resize((new_height, new_width))\n",
    "        resized_img.save(os.path.join(out_images_dir, filename))"
   ]
  },
  {
   "cell_type": "code",
   "execution_count": null,
   "id": "1542f9fb-80fa-4a3a-9671-4d34cbf73312",
   "metadata": {},
   "outputs": [],
   "source": []
  }
 ],
 "metadata": {
  "kernelspec": {
   "display_name": "Python 3 (ipykernel)",
   "language": "python",
   "name": "python3"
  },
  "language_info": {
   "codemirror_mode": {
    "name": "ipython",
    "version": 3
   },
   "file_extension": ".py",
   "mimetype": "text/x-python",
   "name": "python",
   "nbconvert_exporter": "python",
   "pygments_lexer": "ipython3",
   "version": "3.8.12"
  },
  "toc": {
   "base_numbering": 1,
   "nav_menu": {},
   "number_sections": true,
   "sideBar": true,
   "skip_h1_title": false,
   "title_cell": "Table of Contents",
   "title_sidebar": "Contents",
   "toc_cell": false,
   "toc_position": {},
   "toc_section_display": true,
   "toc_window_display": false
  }
 },
 "nbformat": 4,
 "nbformat_minor": 5
}
