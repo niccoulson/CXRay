{
 "cells": [
  {
   "cell_type": "code",
   "execution_count": 1,
   "id": "7eeff6b5-c4c4-4420-ae05-e83ab154c1fc",
   "metadata": {
    "execution": {
     "iopub.execute_input": "2023-02-14T11:53:59.777587Z",
     "iopub.status.busy": "2023-02-14T11:53:59.777312Z",
     "iopub.status.idle": "2023-02-14T11:53:59.782392Z",
     "shell.execute_reply": "2023-02-14T11:53:59.780831Z",
     "shell.execute_reply.started": "2023-02-14T11:53:59.777564Z"
    },
    "tags": []
   },
   "outputs": [],
   "source": [
    "# Group all `import`s here at a later date."
   ]
  },
  {
   "cell_type": "markdown",
   "id": "cf95ef50-3442-4864-b582-f8d88636c95e",
   "metadata": {},
   "source": [
    "# Data Cleaning & Checking"
   ]
  },
  {
   "cell_type": "markdown",
   "id": "2eae1504-8728-474f-9a5b-db7e5eaa5961",
   "metadata": {},
   "source": [
    "## Importing, checking and cleaning the (non-image) data"
   ]
  },
  {
   "cell_type": "markdown",
   "id": "edfd40ce-02a4-4a21-ae42-c1c6c6fe962d",
   "metadata": {},
   "source": [
    "First, import the csv file for non-image features and take a look at it."
   ]
  },
  {
   "cell_type": "code",
   "execution_count": 2,
   "id": "0b93f103-5307-4470-8b47-ca02239a534d",
   "metadata": {
    "execution": {
     "iopub.execute_input": "2023-02-14T11:53:59.783870Z",
     "iopub.status.busy": "2023-02-14T11:53:59.783651Z",
     "iopub.status.idle": "2023-02-14T11:54:00.179951Z",
     "shell.execute_reply": "2023-02-14T11:54:00.179631Z",
     "shell.execute_reply.started": "2023-02-14T11:53:59.783850Z"
    },
    "tags": []
   },
   "outputs": [],
   "source": [
    "import pandas as pd"
   ]
  },
  {
   "cell_type": "code",
   "execution_count": 3,
   "id": "0909e307-f726-439e-a422-32f34c72b97d",
   "metadata": {
    "execution": {
     "iopub.execute_input": "2023-02-14T11:54:00.180605Z",
     "iopub.status.busy": "2023-02-14T11:54:00.180493Z",
     "iopub.status.idle": "2023-02-14T11:54:00.268343Z",
     "shell.execute_reply": "2023-02-14T11:54:00.267906Z",
     "shell.execute_reply.started": "2023-02-14T11:54:00.180596Z"
    },
    "tags": []
   },
   "outputs": [],
   "source": [
    "raw_data_path = \"../raw_data/Data_Entry_2017.csv\"\n",
    "bb_data_path = \"../raw_data/BBox_List_2017.csv\"\n",
    "data = pd.read_csv(raw_data_path)\n",
    "data_bb = pd.read_csv(bb_data_path)"
   ]
  },
  {
   "cell_type": "code",
   "execution_count": 4,
   "id": "7128208e-5729-4ae9-8181-20da42a667c6",
   "metadata": {
    "execution": {
     "iopub.execute_input": "2023-02-14T11:54:00.269981Z",
     "iopub.status.busy": "2023-02-14T11:54:00.269842Z",
     "iopub.status.idle": "2023-02-14T11:54:00.278103Z",
     "shell.execute_reply": "2023-02-14T11:54:00.277739Z",
     "shell.execute_reply.started": "2023-02-14T11:54:00.269968Z"
    },
    "tags": []
   },
   "outputs": [
    {
     "data": {
      "text/html": [
       "<div>\n",
       "<style scoped>\n",
       "    .dataframe tbody tr th:only-of-type {\n",
       "        vertical-align: middle;\n",
       "    }\n",
       "\n",
       "    .dataframe tbody tr th {\n",
       "        vertical-align: top;\n",
       "    }\n",
       "\n",
       "    .dataframe thead th {\n",
       "        text-align: right;\n",
       "    }\n",
       "</style>\n",
       "<table border=\"1\" class=\"dataframe\">\n",
       "  <thead>\n",
       "    <tr style=\"text-align: right;\">\n",
       "      <th></th>\n",
       "      <th>Image Index</th>\n",
       "      <th>Finding Label</th>\n",
       "      <th>Bbox [x</th>\n",
       "      <th>y</th>\n",
       "      <th>w</th>\n",
       "      <th>h]</th>\n",
       "      <th>Unnamed: 6</th>\n",
       "      <th>Unnamed: 7</th>\n",
       "      <th>Unnamed: 8</th>\n",
       "    </tr>\n",
       "  </thead>\n",
       "  <tbody>\n",
       "    <tr>\n",
       "      <th>0</th>\n",
       "      <td>00013118_008.png</td>\n",
       "      <td>Atelectasis</td>\n",
       "      <td>225.084746</td>\n",
       "      <td>547.019217</td>\n",
       "      <td>86.779661</td>\n",
       "      <td>79.186441</td>\n",
       "      <td>NaN</td>\n",
       "      <td>NaN</td>\n",
       "      <td>NaN</td>\n",
       "    </tr>\n",
       "    <tr>\n",
       "      <th>1</th>\n",
       "      <td>00014716_007.png</td>\n",
       "      <td>Atelectasis</td>\n",
       "      <td>686.101695</td>\n",
       "      <td>131.543498</td>\n",
       "      <td>185.491525</td>\n",
       "      <td>313.491525</td>\n",
       "      <td>NaN</td>\n",
       "      <td>NaN</td>\n",
       "      <td>NaN</td>\n",
       "    </tr>\n",
       "    <tr>\n",
       "      <th>2</th>\n",
       "      <td>00029817_009.png</td>\n",
       "      <td>Atelectasis</td>\n",
       "      <td>221.830508</td>\n",
       "      <td>317.053115</td>\n",
       "      <td>155.118644</td>\n",
       "      <td>216.949153</td>\n",
       "      <td>NaN</td>\n",
       "      <td>NaN</td>\n",
       "      <td>NaN</td>\n",
       "    </tr>\n",
       "    <tr>\n",
       "      <th>3</th>\n",
       "      <td>00014687_001.png</td>\n",
       "      <td>Atelectasis</td>\n",
       "      <td>726.237288</td>\n",
       "      <td>494.951420</td>\n",
       "      <td>141.016949</td>\n",
       "      <td>55.322034</td>\n",
       "      <td>NaN</td>\n",
       "      <td>NaN</td>\n",
       "      <td>NaN</td>\n",
       "    </tr>\n",
       "    <tr>\n",
       "      <th>4</th>\n",
       "      <td>00017877_001.png</td>\n",
       "      <td>Atelectasis</td>\n",
       "      <td>660.067797</td>\n",
       "      <td>569.780787</td>\n",
       "      <td>200.677966</td>\n",
       "      <td>78.101695</td>\n",
       "      <td>NaN</td>\n",
       "      <td>NaN</td>\n",
       "      <td>NaN</td>\n",
       "    </tr>\n",
       "  </tbody>\n",
       "</table>\n",
       "</div>"
      ],
      "text/plain": [
       "        Image Index Finding Label     Bbox [x           y           w  \\\n",
       "0  00013118_008.png   Atelectasis  225.084746  547.019217   86.779661   \n",
       "1  00014716_007.png   Atelectasis  686.101695  131.543498  185.491525   \n",
       "2  00029817_009.png   Atelectasis  221.830508  317.053115  155.118644   \n",
       "3  00014687_001.png   Atelectasis  726.237288  494.951420  141.016949   \n",
       "4  00017877_001.png   Atelectasis  660.067797  569.780787  200.677966   \n",
       "\n",
       "           h]  Unnamed: 6  Unnamed: 7  Unnamed: 8  \n",
       "0   79.186441         NaN         NaN         NaN  \n",
       "1  313.491525         NaN         NaN         NaN  \n",
       "2  216.949153         NaN         NaN         NaN  \n",
       "3   55.322034         NaN         NaN         NaN  \n",
       "4   78.101695         NaN         NaN         NaN  "
      ]
     },
     "execution_count": 4,
     "metadata": {},
     "output_type": "execute_result"
    }
   ],
   "source": [
    "data_bb.head()"
   ]
  },
  {
   "cell_type": "code",
   "execution_count": 5,
   "id": "7d497925-5365-4497-891a-56d7004299a1",
   "metadata": {
    "execution": {
     "iopub.execute_input": "2023-02-14T11:54:00.278887Z",
     "iopub.status.busy": "2023-02-14T11:54:00.278779Z",
     "iopub.status.idle": "2023-02-14T11:54:00.282203Z",
     "shell.execute_reply": "2023-02-14T11:54:00.281801Z",
     "shell.execute_reply.started": "2023-02-14T11:54:00.278877Z"
    },
    "tags": []
   },
   "outputs": [],
   "source": [
    "data_bb.drop(data_bb.columns[-3:], axis=1, inplace=True)\n",
    "data_bb.columns = [\"img_idx\", \"label\", \"bb_x\", \"bb_y\", \"bb_w\", \"bb_h\"]"
   ]
  },
  {
   "cell_type": "code",
   "execution_count": 6,
   "id": "67f70fd5-2273-4af6-97ed-f592252ab039",
   "metadata": {
    "execution": {
     "iopub.execute_input": "2023-02-14T11:54:00.282905Z",
     "iopub.status.busy": "2023-02-14T11:54:00.282762Z",
     "iopub.status.idle": "2023-02-14T11:54:00.287403Z",
     "shell.execute_reply": "2023-02-14T11:54:00.287067Z",
     "shell.execute_reply.started": "2023-02-14T11:54:00.282894Z"
    },
    "tags": []
   },
   "outputs": [
    {
     "data": {
      "text/html": [
       "<div>\n",
       "<style scoped>\n",
       "    .dataframe tbody tr th:only-of-type {\n",
       "        vertical-align: middle;\n",
       "    }\n",
       "\n",
       "    .dataframe tbody tr th {\n",
       "        vertical-align: top;\n",
       "    }\n",
       "\n",
       "    .dataframe thead th {\n",
       "        text-align: right;\n",
       "    }\n",
       "</style>\n",
       "<table border=\"1\" class=\"dataframe\">\n",
       "  <thead>\n",
       "    <tr style=\"text-align: right;\">\n",
       "      <th></th>\n",
       "      <th>img_idx</th>\n",
       "      <th>label</th>\n",
       "      <th>bb_x</th>\n",
       "      <th>bb_y</th>\n",
       "      <th>bb_w</th>\n",
       "      <th>bb_h</th>\n",
       "    </tr>\n",
       "  </thead>\n",
       "  <tbody>\n",
       "    <tr>\n",
       "      <th>0</th>\n",
       "      <td>00013118_008.png</td>\n",
       "      <td>Atelectasis</td>\n",
       "      <td>225.084746</td>\n",
       "      <td>547.019217</td>\n",
       "      <td>86.779661</td>\n",
       "      <td>79.186441</td>\n",
       "    </tr>\n",
       "    <tr>\n",
       "      <th>1</th>\n",
       "      <td>00014716_007.png</td>\n",
       "      <td>Atelectasis</td>\n",
       "      <td>686.101695</td>\n",
       "      <td>131.543498</td>\n",
       "      <td>185.491525</td>\n",
       "      <td>313.491525</td>\n",
       "    </tr>\n",
       "    <tr>\n",
       "      <th>2</th>\n",
       "      <td>00029817_009.png</td>\n",
       "      <td>Atelectasis</td>\n",
       "      <td>221.830508</td>\n",
       "      <td>317.053115</td>\n",
       "      <td>155.118644</td>\n",
       "      <td>216.949153</td>\n",
       "    </tr>\n",
       "    <tr>\n",
       "      <th>3</th>\n",
       "      <td>00014687_001.png</td>\n",
       "      <td>Atelectasis</td>\n",
       "      <td>726.237288</td>\n",
       "      <td>494.951420</td>\n",
       "      <td>141.016949</td>\n",
       "      <td>55.322034</td>\n",
       "    </tr>\n",
       "    <tr>\n",
       "      <th>4</th>\n",
       "      <td>00017877_001.png</td>\n",
       "      <td>Atelectasis</td>\n",
       "      <td>660.067797</td>\n",
       "      <td>569.780787</td>\n",
       "      <td>200.677966</td>\n",
       "      <td>78.101695</td>\n",
       "    </tr>\n",
       "  </tbody>\n",
       "</table>\n",
       "</div>"
      ],
      "text/plain": [
       "            img_idx        label        bb_x        bb_y        bb_w  \\\n",
       "0  00013118_008.png  Atelectasis  225.084746  547.019217   86.779661   \n",
       "1  00014716_007.png  Atelectasis  686.101695  131.543498  185.491525   \n",
       "2  00029817_009.png  Atelectasis  221.830508  317.053115  155.118644   \n",
       "3  00014687_001.png  Atelectasis  726.237288  494.951420  141.016949   \n",
       "4  00017877_001.png  Atelectasis  660.067797  569.780787  200.677966   \n",
       "\n",
       "         bb_h  \n",
       "0   79.186441  \n",
       "1  313.491525  \n",
       "2  216.949153  \n",
       "3   55.322034  \n",
       "4   78.101695  "
      ]
     },
     "execution_count": 6,
     "metadata": {},
     "output_type": "execute_result"
    }
   ],
   "source": [
    "data_bb.head()"
   ]
  },
  {
   "cell_type": "code",
   "execution_count": 7,
   "id": "608c9218-7ddf-45c1-9d2f-21dd5f351356",
   "metadata": {
    "execution": {
     "iopub.execute_input": "2023-02-14T11:54:00.287997Z",
     "iopub.status.busy": "2023-02-14T11:54:00.287912Z",
     "iopub.status.idle": "2023-02-14T11:54:00.290921Z",
     "shell.execute_reply": "2023-02-14T11:54:00.290580Z",
     "shell.execute_reply.started": "2023-02-14T11:54:00.287988Z"
    },
    "tags": []
   },
   "outputs": [
    {
     "data": {
      "text/plain": [
       "880"
      ]
     },
     "execution_count": 7,
     "metadata": {},
     "output_type": "execute_result"
    }
   ],
   "source": [
    "data_bb.img_idx.nunique()"
   ]
  },
  {
   "cell_type": "code",
   "execution_count": 8,
   "id": "b75a83bf-792f-4878-9dd1-226428a241c5",
   "metadata": {
    "execution": {
     "iopub.execute_input": "2023-02-14T11:54:00.291509Z",
     "iopub.status.busy": "2023-02-14T11:54:00.291413Z",
     "iopub.status.idle": "2023-02-14T11:54:00.294788Z",
     "shell.execute_reply": "2023-02-14T11:54:00.294425Z",
     "shell.execute_reply.started": "2023-02-14T11:54:00.291500Z"
    },
    "tags": []
   },
   "outputs": [
    {
     "data": {
      "text/plain": [
       "(984, 6)"
      ]
     },
     "execution_count": 8,
     "metadata": {},
     "output_type": "execute_result"
    }
   ],
   "source": [
    "data_bb.shape"
   ]
  },
  {
   "cell_type": "markdown",
   "id": "d6a2ec57-a488-4d01-aa56-9d8ef99a7301",
   "metadata": {},
   "source": [
    "**Note:** We will forget about the BB data for the time being and move on to the main CSV."
   ]
  },
  {
   "cell_type": "code",
   "execution_count": 9,
   "id": "2fbeccd9-981c-4291-b660-143fc20cf156",
   "metadata": {
    "execution": {
     "iopub.execute_input": "2023-02-14T11:54:00.295536Z",
     "iopub.status.busy": "2023-02-14T11:54:00.295431Z",
     "iopub.status.idle": "2023-02-14T11:54:00.298089Z",
     "shell.execute_reply": "2023-02-14T11:54:00.297773Z",
     "shell.execute_reply.started": "2023-02-14T11:54:00.295526Z"
    },
    "tags": []
   },
   "outputs": [
    {
     "data": {
      "text/plain": [
       "(112120, 12)"
      ]
     },
     "execution_count": 9,
     "metadata": {},
     "output_type": "execute_result"
    }
   ],
   "source": [
    "data.shape"
   ]
  },
  {
   "cell_type": "code",
   "execution_count": 10,
   "id": "16a96a34-7453-462e-9d07-1a2074174b6a",
   "metadata": {
    "execution": {
     "iopub.execute_input": "2023-02-14T11:54:00.298568Z",
     "iopub.status.busy": "2023-02-14T11:54:00.298473Z",
     "iopub.status.idle": "2023-02-14T11:54:00.304180Z",
     "shell.execute_reply": "2023-02-14T11:54:00.303748Z",
     "shell.execute_reply.started": "2023-02-14T11:54:00.298559Z"
    },
    "tags": []
   },
   "outputs": [
    {
     "data": {
      "text/html": [
       "<div>\n",
       "<style scoped>\n",
       "    .dataframe tbody tr th:only-of-type {\n",
       "        vertical-align: middle;\n",
       "    }\n",
       "\n",
       "    .dataframe tbody tr th {\n",
       "        vertical-align: top;\n",
       "    }\n",
       "\n",
       "    .dataframe thead th {\n",
       "        text-align: right;\n",
       "    }\n",
       "</style>\n",
       "<table border=\"1\" class=\"dataframe\">\n",
       "  <thead>\n",
       "    <tr style=\"text-align: right;\">\n",
       "      <th></th>\n",
       "      <th>Image Index</th>\n",
       "      <th>Finding Labels</th>\n",
       "      <th>Follow-up #</th>\n",
       "      <th>Patient ID</th>\n",
       "      <th>Patient Age</th>\n",
       "      <th>Patient Gender</th>\n",
       "      <th>View Position</th>\n",
       "      <th>OriginalImage[Width</th>\n",
       "      <th>Height]</th>\n",
       "      <th>OriginalImagePixelSpacing[x</th>\n",
       "      <th>y]</th>\n",
       "      <th>Unnamed: 11</th>\n",
       "    </tr>\n",
       "  </thead>\n",
       "  <tbody>\n",
       "    <tr>\n",
       "      <th>0</th>\n",
       "      <td>00000001_000.png</td>\n",
       "      <td>Cardiomegaly</td>\n",
       "      <td>0</td>\n",
       "      <td>1</td>\n",
       "      <td>58</td>\n",
       "      <td>M</td>\n",
       "      <td>PA</td>\n",
       "      <td>2682</td>\n",
       "      <td>2749</td>\n",
       "      <td>0.143</td>\n",
       "      <td>0.143</td>\n",
       "      <td>NaN</td>\n",
       "    </tr>\n",
       "    <tr>\n",
       "      <th>1</th>\n",
       "      <td>00000001_001.png</td>\n",
       "      <td>Cardiomegaly|Emphysema</td>\n",
       "      <td>1</td>\n",
       "      <td>1</td>\n",
       "      <td>58</td>\n",
       "      <td>M</td>\n",
       "      <td>PA</td>\n",
       "      <td>2894</td>\n",
       "      <td>2729</td>\n",
       "      <td>0.143</td>\n",
       "      <td>0.143</td>\n",
       "      <td>NaN</td>\n",
       "    </tr>\n",
       "    <tr>\n",
       "      <th>2</th>\n",
       "      <td>00000001_002.png</td>\n",
       "      <td>Cardiomegaly|Effusion</td>\n",
       "      <td>2</td>\n",
       "      <td>1</td>\n",
       "      <td>58</td>\n",
       "      <td>M</td>\n",
       "      <td>PA</td>\n",
       "      <td>2500</td>\n",
       "      <td>2048</td>\n",
       "      <td>0.168</td>\n",
       "      <td>0.168</td>\n",
       "      <td>NaN</td>\n",
       "    </tr>\n",
       "    <tr>\n",
       "      <th>3</th>\n",
       "      <td>00000002_000.png</td>\n",
       "      <td>No Finding</td>\n",
       "      <td>0</td>\n",
       "      <td>2</td>\n",
       "      <td>81</td>\n",
       "      <td>M</td>\n",
       "      <td>PA</td>\n",
       "      <td>2500</td>\n",
       "      <td>2048</td>\n",
       "      <td>0.171</td>\n",
       "      <td>0.171</td>\n",
       "      <td>NaN</td>\n",
       "    </tr>\n",
       "    <tr>\n",
       "      <th>4</th>\n",
       "      <td>00000003_000.png</td>\n",
       "      <td>Hernia</td>\n",
       "      <td>0</td>\n",
       "      <td>3</td>\n",
       "      <td>81</td>\n",
       "      <td>F</td>\n",
       "      <td>PA</td>\n",
       "      <td>2582</td>\n",
       "      <td>2991</td>\n",
       "      <td>0.143</td>\n",
       "      <td>0.143</td>\n",
       "      <td>NaN</td>\n",
       "    </tr>\n",
       "  </tbody>\n",
       "</table>\n",
       "</div>"
      ],
      "text/plain": [
       "        Image Index          Finding Labels  Follow-up #  Patient ID  \\\n",
       "0  00000001_000.png            Cardiomegaly            0           1   \n",
       "1  00000001_001.png  Cardiomegaly|Emphysema            1           1   \n",
       "2  00000001_002.png   Cardiomegaly|Effusion            2           1   \n",
       "3  00000002_000.png              No Finding            0           2   \n",
       "4  00000003_000.png                  Hernia            0           3   \n",
       "\n",
       "   Patient Age Patient Gender View Position  OriginalImage[Width  Height]  \\\n",
       "0           58              M            PA                 2682     2749   \n",
       "1           58              M            PA                 2894     2729   \n",
       "2           58              M            PA                 2500     2048   \n",
       "3           81              M            PA                 2500     2048   \n",
       "4           81              F            PA                 2582     2991   \n",
       "\n",
       "   OriginalImagePixelSpacing[x     y]  Unnamed: 11  \n",
       "0                        0.143  0.143          NaN  \n",
       "1                        0.143  0.143          NaN  \n",
       "2                        0.168  0.168          NaN  \n",
       "3                        0.171  0.171          NaN  \n",
       "4                        0.143  0.143          NaN  "
      ]
     },
     "execution_count": 10,
     "metadata": {},
     "output_type": "execute_result"
    }
   ],
   "source": [
    "data.head()"
   ]
  },
  {
   "cell_type": "markdown",
   "id": "bac26965-a7c0-4ddd-b137-ec385417344d",
   "metadata": {},
   "source": [
    "Drop the columns we don't need and set shorter column names."
   ]
  },
  {
   "cell_type": "code",
   "execution_count": 11,
   "id": "670a4c90-7b6a-45a1-b0ce-c4fc4587b290",
   "metadata": {
    "execution": {
     "iopub.execute_input": "2023-02-14T11:54:00.304951Z",
     "iopub.status.busy": "2023-02-14T11:54:00.304819Z",
     "iopub.status.idle": "2023-02-14T11:54:00.318499Z",
     "shell.execute_reply": "2023-02-14T11:54:00.318117Z",
     "shell.execute_reply.started": "2023-02-14T11:54:00.304941Z"
    },
    "tags": []
   },
   "outputs": [],
   "source": [
    "data.drop(data.columns[-1], axis=1, inplace=True)\n",
    "data.drop(columns=[\"Follow-up #\", \"Patient ID\"], inplace=True)\n",
    "data.columns = [\"img_idx\", \"labels\", \"age\", \"gender\", \"view_pos\", \"img_w\", \"img_h\", \"img_pix_spc_x\", \"img_pix_spc_y\"]"
   ]
  },
  {
   "cell_type": "code",
   "execution_count": 12,
   "id": "650bbd0c-dd2f-4ada-a7a4-0e861848255d",
   "metadata": {
    "execution": {
     "iopub.execute_input": "2023-02-14T11:54:00.319256Z",
     "iopub.status.busy": "2023-02-14T11:54:00.319142Z",
     "iopub.status.idle": "2023-02-14T11:54:00.321796Z",
     "shell.execute_reply": "2023-02-14T11:54:00.321401Z",
     "shell.execute_reply.started": "2023-02-14T11:54:00.319246Z"
    },
    "tags": []
   },
   "outputs": [
    {
     "data": {
      "text/plain": [
       "(112120, 9)"
      ]
     },
     "execution_count": 12,
     "metadata": {},
     "output_type": "execute_result"
    }
   ],
   "source": [
    "data.shape"
   ]
  },
  {
   "cell_type": "code",
   "execution_count": 13,
   "id": "2b7e4475-9704-49b6-bb53-19265143b88a",
   "metadata": {
    "execution": {
     "iopub.execute_input": "2023-02-14T11:54:00.324652Z",
     "iopub.status.busy": "2023-02-14T11:54:00.324511Z",
     "iopub.status.idle": "2023-02-14T11:54:00.329811Z",
     "shell.execute_reply": "2023-02-14T11:54:00.329359Z",
     "shell.execute_reply.started": "2023-02-14T11:54:00.324641Z"
    },
    "tags": []
   },
   "outputs": [
    {
     "data": {
      "text/html": [
       "<div>\n",
       "<style scoped>\n",
       "    .dataframe tbody tr th:only-of-type {\n",
       "        vertical-align: middle;\n",
       "    }\n",
       "\n",
       "    .dataframe tbody tr th {\n",
       "        vertical-align: top;\n",
       "    }\n",
       "\n",
       "    .dataframe thead th {\n",
       "        text-align: right;\n",
       "    }\n",
       "</style>\n",
       "<table border=\"1\" class=\"dataframe\">\n",
       "  <thead>\n",
       "    <tr style=\"text-align: right;\">\n",
       "      <th></th>\n",
       "      <th>img_idx</th>\n",
       "      <th>labels</th>\n",
       "      <th>age</th>\n",
       "      <th>gender</th>\n",
       "      <th>view_pos</th>\n",
       "      <th>img_w</th>\n",
       "      <th>img_h</th>\n",
       "      <th>img_pix_spc_x</th>\n",
       "      <th>img_pix_spc_y</th>\n",
       "    </tr>\n",
       "  </thead>\n",
       "  <tbody>\n",
       "    <tr>\n",
       "      <th>0</th>\n",
       "      <td>00000001_000.png</td>\n",
       "      <td>Cardiomegaly</td>\n",
       "      <td>58</td>\n",
       "      <td>M</td>\n",
       "      <td>PA</td>\n",
       "      <td>2682</td>\n",
       "      <td>2749</td>\n",
       "      <td>0.143</td>\n",
       "      <td>0.143</td>\n",
       "    </tr>\n",
       "    <tr>\n",
       "      <th>1</th>\n",
       "      <td>00000001_001.png</td>\n",
       "      <td>Cardiomegaly|Emphysema</td>\n",
       "      <td>58</td>\n",
       "      <td>M</td>\n",
       "      <td>PA</td>\n",
       "      <td>2894</td>\n",
       "      <td>2729</td>\n",
       "      <td>0.143</td>\n",
       "      <td>0.143</td>\n",
       "    </tr>\n",
       "    <tr>\n",
       "      <th>2</th>\n",
       "      <td>00000001_002.png</td>\n",
       "      <td>Cardiomegaly|Effusion</td>\n",
       "      <td>58</td>\n",
       "      <td>M</td>\n",
       "      <td>PA</td>\n",
       "      <td>2500</td>\n",
       "      <td>2048</td>\n",
       "      <td>0.168</td>\n",
       "      <td>0.168</td>\n",
       "    </tr>\n",
       "    <tr>\n",
       "      <th>3</th>\n",
       "      <td>00000002_000.png</td>\n",
       "      <td>No Finding</td>\n",
       "      <td>81</td>\n",
       "      <td>M</td>\n",
       "      <td>PA</td>\n",
       "      <td>2500</td>\n",
       "      <td>2048</td>\n",
       "      <td>0.171</td>\n",
       "      <td>0.171</td>\n",
       "    </tr>\n",
       "    <tr>\n",
       "      <th>4</th>\n",
       "      <td>00000003_000.png</td>\n",
       "      <td>Hernia</td>\n",
       "      <td>81</td>\n",
       "      <td>F</td>\n",
       "      <td>PA</td>\n",
       "      <td>2582</td>\n",
       "      <td>2991</td>\n",
       "      <td>0.143</td>\n",
       "      <td>0.143</td>\n",
       "    </tr>\n",
       "  </tbody>\n",
       "</table>\n",
       "</div>"
      ],
      "text/plain": [
       "            img_idx                  labels  age gender view_pos  img_w  \\\n",
       "0  00000001_000.png            Cardiomegaly   58      M       PA   2682   \n",
       "1  00000001_001.png  Cardiomegaly|Emphysema   58      M       PA   2894   \n",
       "2  00000001_002.png   Cardiomegaly|Effusion   58      M       PA   2500   \n",
       "3  00000002_000.png              No Finding   81      M       PA   2500   \n",
       "4  00000003_000.png                  Hernia   81      F       PA   2582   \n",
       "\n",
       "   img_h  img_pix_spc_x  img_pix_spc_y  \n",
       "0   2749          0.143          0.143  \n",
       "1   2729          0.143          0.143  \n",
       "2   2048          0.168          0.168  \n",
       "3   2048          0.171          0.171  \n",
       "4   2991          0.143          0.143  "
      ]
     },
     "execution_count": 13,
     "metadata": {},
     "output_type": "execute_result"
    }
   ],
   "source": [
    "data.head()"
   ]
  },
  {
   "cell_type": "markdown",
   "id": "63fdc242-2d0e-45b5-b570-9d65d382dce9",
   "metadata": {
    "execution": {
     "iopub.execute_input": "2023-02-11T01:05:47.146912Z",
     "iopub.status.busy": "2023-02-11T01:05:47.146443Z",
     "iopub.status.idle": "2023-02-11T01:05:47.158968Z",
     "shell.execute_reply": "2023-02-11T01:05:47.157016Z",
     "shell.execute_reply.started": "2023-02-11T01:05:47.146874Z"
    },
    "tags": []
   },
   "source": [
    "Take a look at data statistics, cardinality, types, etc."
   ]
  },
  {
   "cell_type": "code",
   "execution_count": 14,
   "id": "d917949f-3232-4419-a53d-d4bb30e410b0",
   "metadata": {
    "execution": {
     "iopub.execute_input": "2023-02-14T11:54:00.330477Z",
     "iopub.status.busy": "2023-02-14T11:54:00.330372Z",
     "iopub.status.idle": "2023-02-14T11:54:00.367668Z",
     "shell.execute_reply": "2023-02-14T11:54:00.367310Z",
     "shell.execute_reply.started": "2023-02-14T11:54:00.330467Z"
    },
    "tags": []
   },
   "outputs": [
    {
     "name": "stdout",
     "output_type": "stream",
     "text": [
      "<class 'pandas.core.frame.DataFrame'>\n",
      "RangeIndex: 112120 entries, 0 to 112119\n",
      "Data columns (total 9 columns):\n",
      " #   Column         Non-Null Count   Dtype  \n",
      "---  ------         --------------   -----  \n",
      " 0   img_idx        112120 non-null  object \n",
      " 1   labels         112120 non-null  object \n",
      " 2   age            112120 non-null  int64  \n",
      " 3   gender         112120 non-null  object \n",
      " 4   view_pos       112120 non-null  object \n",
      " 5   img_w          112120 non-null  int64  \n",
      " 6   img_h          112120 non-null  int64  \n",
      " 7   img_pix_spc_x  112120 non-null  float64\n",
      " 8   img_pix_spc_y  112120 non-null  float64\n",
      "dtypes: float64(2), int64(3), object(4)\n",
      "memory usage: 7.7+ MB\n"
     ]
    }
   ],
   "source": [
    "data.info()"
   ]
  },
  {
   "cell_type": "code",
   "execution_count": 15,
   "id": "567a9cf2-5a67-49df-a5a3-5331b9a4b8c0",
   "metadata": {
    "execution": {
     "iopub.execute_input": "2023-02-14T11:54:00.368278Z",
     "iopub.status.busy": "2023-02-14T11:54:00.368182Z",
     "iopub.status.idle": "2023-02-14T11:54:00.401838Z",
     "shell.execute_reply": "2023-02-14T11:54:00.401483Z",
     "shell.execute_reply.started": "2023-02-14T11:54:00.368269Z"
    },
    "tags": []
   },
   "outputs": [
    {
     "data": {
      "text/plain": [
       "False"
      ]
     },
     "execution_count": 15,
     "metadata": {},
     "output_type": "execute_result"
    }
   ],
   "source": [
    "data.isnull().values.any()"
   ]
  },
  {
   "cell_type": "markdown",
   "id": "e301d0bf-43f8-4313-9f3f-b8fcd23d7e57",
   "metadata": {},
   "source": [
    "It appears that we do not have any `null`s, which is good.  \n",
    "**_To do:_** Consider downcasting data types to save memory.  \n",
    "For example:  \n",
    "```python\n",
    "data[\"age\"] = pd.to_numeric(data[\"age\"], downcast=’uint8’) # 0-255\n",
    "```\n",
    "Binary columns can be `bool` and image specs can be smaller variants of `int`."
   ]
  },
  {
   "cell_type": "code",
   "execution_count": 16,
   "id": "86a88bca-e64e-4e05-9949-5407444ff120",
   "metadata": {
    "execution": {
     "iopub.execute_input": "2023-02-14T11:54:00.402823Z",
     "iopub.status.busy": "2023-02-14T11:54:00.402646Z",
     "iopub.status.idle": "2023-02-14T11:54:00.426590Z",
     "shell.execute_reply": "2023-02-14T11:54:00.426313Z",
     "shell.execute_reply.started": "2023-02-14T11:54:00.402808Z"
    },
    "tags": []
   },
   "outputs": [
    {
     "data": {
      "text/plain": [
       "img_idx          112120\n",
       "labels              836\n",
       "age                 107\n",
       "gender                2\n",
       "view_pos              2\n",
       "img_w               904\n",
       "img_h              1137\n",
       "img_pix_spc_x        23\n",
       "img_pix_spc_y        23\n",
       "dtype: int64"
      ]
     },
     "execution_count": 16,
     "metadata": {},
     "output_type": "execute_result"
    }
   ],
   "source": [
    "data.nunique()"
   ]
  },
  {
   "cell_type": "code",
   "execution_count": 17,
   "id": "7b16c873-79c1-450b-8d18-4541d4fe3d0f",
   "metadata": {
    "execution": {
     "iopub.execute_input": "2023-02-14T11:54:00.427302Z",
     "iopub.status.busy": "2023-02-14T11:54:00.427180Z",
     "iopub.status.idle": "2023-02-14T11:54:00.446787Z",
     "shell.execute_reply": "2023-02-14T11:54:00.446433Z",
     "shell.execute_reply.started": "2023-02-14T11:54:00.427292Z"
    },
    "tags": []
   },
   "outputs": [
    {
     "data": {
      "text/html": [
       "<div>\n",
       "<style scoped>\n",
       "    .dataframe tbody tr th:only-of-type {\n",
       "        vertical-align: middle;\n",
       "    }\n",
       "\n",
       "    .dataframe tbody tr th {\n",
       "        vertical-align: top;\n",
       "    }\n",
       "\n",
       "    .dataframe thead th {\n",
       "        text-align: right;\n",
       "    }\n",
       "</style>\n",
       "<table border=\"1\" class=\"dataframe\">\n",
       "  <thead>\n",
       "    <tr style=\"text-align: right;\">\n",
       "      <th></th>\n",
       "      <th>age</th>\n",
       "      <th>img_w</th>\n",
       "      <th>img_h</th>\n",
       "      <th>img_pix_spc_x</th>\n",
       "      <th>img_pix_spc_y</th>\n",
       "    </tr>\n",
       "  </thead>\n",
       "  <tbody>\n",
       "    <tr>\n",
       "      <th>count</th>\n",
       "      <td>112120.000000</td>\n",
       "      <td>112120.000000</td>\n",
       "      <td>112120.000000</td>\n",
       "      <td>112120.000000</td>\n",
       "      <td>112120.000000</td>\n",
       "    </tr>\n",
       "    <tr>\n",
       "      <th>mean</th>\n",
       "      <td>46.901463</td>\n",
       "      <td>2646.078844</td>\n",
       "      <td>2486.438842</td>\n",
       "      <td>0.155649</td>\n",
       "      <td>0.155649</td>\n",
       "    </tr>\n",
       "    <tr>\n",
       "      <th>std</th>\n",
       "      <td>16.839923</td>\n",
       "      <td>341.246429</td>\n",
       "      <td>401.268227</td>\n",
       "      <td>0.016174</td>\n",
       "      <td>0.016174</td>\n",
       "    </tr>\n",
       "    <tr>\n",
       "      <th>min</th>\n",
       "      <td>1.000000</td>\n",
       "      <td>1143.000000</td>\n",
       "      <td>966.000000</td>\n",
       "      <td>0.115000</td>\n",
       "      <td>0.115000</td>\n",
       "    </tr>\n",
       "    <tr>\n",
       "      <th>25%</th>\n",
       "      <td>35.000000</td>\n",
       "      <td>2500.000000</td>\n",
       "      <td>2048.000000</td>\n",
       "      <td>0.143000</td>\n",
       "      <td>0.143000</td>\n",
       "    </tr>\n",
       "    <tr>\n",
       "      <th>50%</th>\n",
       "      <td>49.000000</td>\n",
       "      <td>2518.000000</td>\n",
       "      <td>2544.000000</td>\n",
       "      <td>0.143000</td>\n",
       "      <td>0.143000</td>\n",
       "    </tr>\n",
       "    <tr>\n",
       "      <th>75%</th>\n",
       "      <td>59.000000</td>\n",
       "      <td>2992.000000</td>\n",
       "      <td>2991.000000</td>\n",
       "      <td>0.168000</td>\n",
       "      <td>0.168000</td>\n",
       "    </tr>\n",
       "    <tr>\n",
       "      <th>max</th>\n",
       "      <td>414.000000</td>\n",
       "      <td>3827.000000</td>\n",
       "      <td>4715.000000</td>\n",
       "      <td>0.198800</td>\n",
       "      <td>0.198800</td>\n",
       "    </tr>\n",
       "  </tbody>\n",
       "</table>\n",
       "</div>"
      ],
      "text/plain": [
       "                 age          img_w          img_h  img_pix_spc_x  \\\n",
       "count  112120.000000  112120.000000  112120.000000  112120.000000   \n",
       "mean       46.901463    2646.078844    2486.438842       0.155649   \n",
       "std        16.839923     341.246429     401.268227       0.016174   \n",
       "min         1.000000    1143.000000     966.000000       0.115000   \n",
       "25%        35.000000    2500.000000    2048.000000       0.143000   \n",
       "50%        49.000000    2518.000000    2544.000000       0.143000   \n",
       "75%        59.000000    2992.000000    2991.000000       0.168000   \n",
       "max       414.000000    3827.000000    4715.000000       0.198800   \n",
       "\n",
       "       img_pix_spc_y  \n",
       "count  112120.000000  \n",
       "mean        0.155649  \n",
       "std         0.016174  \n",
       "min         0.115000  \n",
       "25%         0.143000  \n",
       "50%         0.143000  \n",
       "75%         0.168000  \n",
       "max         0.198800  "
      ]
     },
     "execution_count": 17,
     "metadata": {},
     "output_type": "execute_result"
    }
   ],
   "source": [
    "data.describe()"
   ]
  },
  {
   "cell_type": "markdown",
   "id": "46f82b40-8b92-44d8-9c3b-cf27fdff0c7f",
   "metadata": {},
   "source": [
    "Maximum age of `414` does not make sense. There appears to be an issue with the `age` column."
   ]
  },
  {
   "cell_type": "code",
   "execution_count": 18,
   "id": "da655a66-2b34-488a-8bea-dc6416a9331f",
   "metadata": {
    "execution": {
     "iopub.execute_input": "2023-02-14T11:54:00.447493Z",
     "iopub.status.busy": "2023-02-14T11:54:00.447396Z",
     "iopub.status.idle": "2023-02-14T11:54:00.998523Z",
     "shell.execute_reply": "2023-02-14T11:54:00.998206Z",
     "shell.execute_reply.started": "2023-02-14T11:54:00.447483Z"
    },
    "tags": []
   },
   "outputs": [],
   "source": [
    "# import matplotlib.pyplot as plt\n",
    "import seaborn as sns"
   ]
  },
  {
   "cell_type": "code",
   "execution_count": 19,
   "id": "c80b4e6b-19d3-4f28-b0ca-933583928260",
   "metadata": {
    "execution": {
     "iopub.execute_input": "2023-02-14T11:54:00.999106Z",
     "iopub.status.busy": "2023-02-14T11:54:00.998958Z",
     "iopub.status.idle": "2023-02-14T11:54:01.078765Z",
     "shell.execute_reply": "2023-02-14T11:54:01.078363Z",
     "shell.execute_reply.started": "2023-02-14T11:54:00.999096Z"
    },
    "tags": []
   },
   "outputs": [
    {
     "data": {
      "image/png": "[encoded data removed]",
      "text/plain": [
       "<Figure size 640x480 with 1 Axes>"
      ]
     },
     "metadata": {},
     "output_type": "display_data"
    }
   ],
   "source": [
    "sns.boxenplot(data.age, orient=\"horizontal\");"
   ]
  },
  {
   "cell_type": "code",
   "execution_count": 20,
   "id": "462c4d93-bc2b-4e35-9611-0269f9780051",
   "metadata": {
    "execution": {
     "iopub.execute_input": "2023-02-14T11:54:01.079389Z",
     "iopub.status.busy": "2023-02-14T11:54:01.079277Z",
     "iopub.status.idle": "2023-02-14T11:54:01.087012Z",
     "shell.execute_reply": "2023-02-14T11:54:01.086548Z",
     "shell.execute_reply.started": "2023-02-14T11:54:01.079380Z"
    },
    "tags": []
   },
   "outputs": [],
   "source": [
    "data = data[data.age < 125] # The oldest person to ever live was ~122 years old when they passed."
   ]
  },
  {
   "cell_type": "code",
   "execution_count": 21,
   "id": "4dd32d9b-0976-4412-a3f4-09b0cda90763",
   "metadata": {
    "execution": {
     "iopub.execute_input": "2023-02-14T11:54:01.087722Z",
     "iopub.status.busy": "2023-02-14T11:54:01.087617Z",
     "iopub.status.idle": "2023-02-14T11:54:01.187356Z",
     "shell.execute_reply": "2023-02-14T11:54:01.186953Z",
     "shell.execute_reply.started": "2023-02-14T11:54:01.087713Z"
    },
    "tags": []
   },
   "outputs": [
    {
     "data": {
      "image/png": "[encoded data removed]",
      "text/plain": [
       "<Figure size 640x480 with 1 Axes>"
      ]
     },
     "metadata": {},
     "output_type": "display_data"
    }
   ],
   "source": [
    "sns.boxenplot(data.age, orient=\"horizontal\");"
   ]
  },
  {
   "cell_type": "code",
   "execution_count": 22,
   "id": "459edfe2-c3e2-48ee-948b-538f611ff971",
   "metadata": {
    "execution": {
     "iopub.execute_input": "2023-02-14T11:54:01.187995Z",
     "iopub.status.busy": "2023-02-14T11:54:01.187896Z",
     "iopub.status.idle": "2023-02-14T11:54:01.191075Z",
     "shell.execute_reply": "2023-02-14T11:54:01.190758Z",
     "shell.execute_reply.started": "2023-02-14T11:54:01.187985Z"
    },
    "tags": []
   },
   "outputs": [
    {
     "data": {
      "text/plain": [
       "(112104, 9)"
      ]
     },
     "execution_count": 22,
     "metadata": {},
     "output_type": "execute_result"
    }
   ],
   "source": [
    "data.shape"
   ]
  },
  {
   "cell_type": "markdown",
   "id": "8e661ddc-595d-4679-afc6-c79f7467d2ea",
   "metadata": {},
   "source": [
    "Check for duplicates."
   ]
  },
  {
   "cell_type": "code",
   "execution_count": 23,
   "id": "7ceb7865-9d35-492d-a39d-70ce55c360f9",
   "metadata": {
    "execution": {
     "iopub.execute_input": "2023-02-14T11:54:01.191652Z",
     "iopub.status.busy": "2023-02-14T11:54:01.191558Z",
     "iopub.status.idle": "2023-02-14T11:54:01.224814Z",
     "shell.execute_reply": "2023-02-14T11:54:01.224470Z",
     "shell.execute_reply.started": "2023-02-14T11:54:01.191642Z"
    },
    "tags": []
   },
   "outputs": [],
   "source": [
    "data.drop_duplicates(inplace=True)"
   ]
  },
  {
   "cell_type": "code",
   "execution_count": 24,
   "id": "7f3161fa-fda3-444a-93b6-e031c1f2430a",
   "metadata": {
    "execution": {
     "iopub.execute_input": "2023-02-14T11:54:01.225362Z",
     "iopub.status.busy": "2023-02-14T11:54:01.225264Z",
     "iopub.status.idle": "2023-02-14T11:54:01.228851Z",
     "shell.execute_reply": "2023-02-14T11:54:01.228515Z",
     "shell.execute_reply.started": "2023-02-14T11:54:01.225353Z"
    },
    "tags": []
   },
   "outputs": [
    {
     "data": {
      "text/plain": [
       "(112104, 9)"
      ]
     },
     "execution_count": 24,
     "metadata": {},
     "output_type": "execute_result"
    }
   ],
   "source": [
    "data.shape"
   ]
  },
  {
   "cell_type": "code",
   "execution_count": 25,
   "id": "845e66fe-401e-4f81-97df-09f9ca6f57f0",
   "metadata": {
    "execution": {
     "iopub.execute_input": "2023-02-14T11:54:01.229466Z",
     "iopub.status.busy": "2023-02-14T11:54:01.229374Z",
     "iopub.status.idle": "2023-02-14T11:54:01.234943Z",
     "shell.execute_reply": "2023-02-14T11:54:01.234596Z",
     "shell.execute_reply.started": "2023-02-14T11:54:01.229457Z"
    },
    "tags": []
   },
   "outputs": [
    {
     "data": {
      "text/html": [
       "<div>\n",
       "<style scoped>\n",
       "    .dataframe tbody tr th:only-of-type {\n",
       "        vertical-align: middle;\n",
       "    }\n",
       "\n",
       "    .dataframe tbody tr th {\n",
       "        vertical-align: top;\n",
       "    }\n",
       "\n",
       "    .dataframe thead th {\n",
       "        text-align: right;\n",
       "    }\n",
       "</style>\n",
       "<table border=\"1\" class=\"dataframe\">\n",
       "  <thead>\n",
       "    <tr style=\"text-align: right;\">\n",
       "      <th></th>\n",
       "      <th>img_idx</th>\n",
       "      <th>labels</th>\n",
       "      <th>age</th>\n",
       "      <th>gender</th>\n",
       "      <th>view_pos</th>\n",
       "      <th>img_w</th>\n",
       "      <th>img_h</th>\n",
       "      <th>img_pix_spc_x</th>\n",
       "      <th>img_pix_spc_y</th>\n",
       "    </tr>\n",
       "  </thead>\n",
       "  <tbody>\n",
       "    <tr>\n",
       "      <th>112115</th>\n",
       "      <td>00030801_001.png</td>\n",
       "      <td>Mass|Pneumonia</td>\n",
       "      <td>39</td>\n",
       "      <td>M</td>\n",
       "      <td>PA</td>\n",
       "      <td>2048</td>\n",
       "      <td>2500</td>\n",
       "      <td>0.168</td>\n",
       "      <td>0.168</td>\n",
       "    </tr>\n",
       "    <tr>\n",
       "      <th>112116</th>\n",
       "      <td>00030802_000.png</td>\n",
       "      <td>No Finding</td>\n",
       "      <td>29</td>\n",
       "      <td>M</td>\n",
       "      <td>PA</td>\n",
       "      <td>2048</td>\n",
       "      <td>2500</td>\n",
       "      <td>0.168</td>\n",
       "      <td>0.168</td>\n",
       "    </tr>\n",
       "    <tr>\n",
       "      <th>112117</th>\n",
       "      <td>00030803_000.png</td>\n",
       "      <td>No Finding</td>\n",
       "      <td>42</td>\n",
       "      <td>F</td>\n",
       "      <td>PA</td>\n",
       "      <td>2048</td>\n",
       "      <td>2500</td>\n",
       "      <td>0.168</td>\n",
       "      <td>0.168</td>\n",
       "    </tr>\n",
       "    <tr>\n",
       "      <th>112118</th>\n",
       "      <td>00030804_000.png</td>\n",
       "      <td>No Finding</td>\n",
       "      <td>30</td>\n",
       "      <td>F</td>\n",
       "      <td>PA</td>\n",
       "      <td>2048</td>\n",
       "      <td>2500</td>\n",
       "      <td>0.168</td>\n",
       "      <td>0.168</td>\n",
       "    </tr>\n",
       "    <tr>\n",
       "      <th>112119</th>\n",
       "      <td>00030805_000.png</td>\n",
       "      <td>No Finding</td>\n",
       "      <td>27</td>\n",
       "      <td>M</td>\n",
       "      <td>PA</td>\n",
       "      <td>2048</td>\n",
       "      <td>2500</td>\n",
       "      <td>0.171</td>\n",
       "      <td>0.171</td>\n",
       "    </tr>\n",
       "  </tbody>\n",
       "</table>\n",
       "</div>"
      ],
      "text/plain": [
       "                 img_idx          labels  age gender view_pos  img_w  img_h  \\\n",
       "112115  00030801_001.png  Mass|Pneumonia   39      M       PA   2048   2500   \n",
       "112116  00030802_000.png      No Finding   29      M       PA   2048   2500   \n",
       "112117  00030803_000.png      No Finding   42      F       PA   2048   2500   \n",
       "112118  00030804_000.png      No Finding   30      F       PA   2048   2500   \n",
       "112119  00030805_000.png      No Finding   27      M       PA   2048   2500   \n",
       "\n",
       "        img_pix_spc_x  img_pix_spc_y  \n",
       "112115          0.168          0.168  \n",
       "112116          0.168          0.168  \n",
       "112117          0.168          0.168  \n",
       "112118          0.168          0.168  \n",
       "112119          0.171          0.171  "
      ]
     },
     "execution_count": 25,
     "metadata": {},
     "output_type": "execute_result"
    }
   ],
   "source": [
    "data.tail()"
   ]
  },
  {
   "cell_type": "markdown",
   "id": "05c2a78d-74e4-4c8f-9e8f-f1e0283424a1",
   "metadata": {},
   "source": [
    "Visualize the data."
   ]
  },
  {
   "cell_type": "code",
   "execution_count": 26,
   "id": "e7f73047-d393-497e-8003-fc1eea23342e",
   "metadata": {
    "execution": {
     "iopub.execute_input": "2023-02-14T11:54:01.235451Z",
     "iopub.status.busy": "2023-02-14T11:54:01.235352Z",
     "iopub.status.idle": "2023-02-14T11:54:01.543229Z",
     "shell.execute_reply": "2023-02-14T11:54:01.542926Z",
     "shell.execute_reply.started": "2023-02-14T11:54:01.235442Z"
    },
    "tags": []
   },
   "outputs": [
    {
     "data": {
      "image/png": "[encoded data removed]",
      "text/plain": [
       "<Figure size 1000x1000 with 6 Axes>"
      ]
     },
     "metadata": {},
     "output_type": "display_data"
    }
   ],
   "source": [
    "data.hist(figsize=(10,10));"
   ]
  },
  {
   "cell_type": "code",
   "execution_count": 27,
   "id": "bc3bd169-efb4-452c-a94f-e23895f78f4f",
   "metadata": {
    "execution": {
     "iopub.execute_input": "2023-02-14T11:54:01.543944Z",
     "iopub.status.busy": "2023-02-14T11:54:01.543828Z",
     "iopub.status.idle": "2023-02-14T11:54:01.710854Z",
     "shell.execute_reply": "2023-02-14T11:54:01.710519Z",
     "shell.execute_reply.started": "2023-02-14T11:54:01.543935Z"
    },
    "tags": []
   },
   "outputs": [
    {
     "data": {
      "image/png": "[encoded data removed]",
      "text/plain": [
       "<Figure size 640x480 with 1 Axes>"
      ]
     },
     "metadata": {},
     "output_type": "display_data"
    }
   ],
   "source": [
    "# Split labels based on a delimiter \n",
    "data[\"labels\"].str.split(\"|\").explode(\"labels\").value_counts().plot(kind=\"bar\");"
   ]
  },
  {
   "cell_type": "code",
   "execution_count": 28,
   "id": "9726527b-8b46-4f5a-b33f-dc6014a1fef3",
   "metadata": {
    "execution": {
     "iopub.execute_input": "2023-02-14T11:54:01.711589Z",
     "iopub.status.busy": "2023-02-14T11:54:01.711493Z",
     "iopub.status.idle": "2023-02-14T11:54:01.769707Z",
     "shell.execute_reply": "2023-02-14T11:54:01.769283Z",
     "shell.execute_reply.started": "2023-02-14T11:54:01.711580Z"
    },
    "tags": []
   },
   "outputs": [
    {
     "data": {
      "image/png": "[encoded data removed]",
      "text/plain": [
       "<Figure size 640x480 with 1 Axes>"
      ]
     },
     "metadata": {},
     "output_type": "display_data"
    }
   ],
   "source": [
    "data[\"gender\"].value_counts().plot(kind=\"bar\");"
   ]
  },
  {
   "cell_type": "code",
   "execution_count": 29,
   "id": "f972db87-8ba3-404d-8399-b374c252a566",
   "metadata": {
    "execution": {
     "iopub.execute_input": "2023-02-14T11:54:01.770326Z",
     "iopub.status.busy": "2023-02-14T11:54:01.770224Z",
     "iopub.status.idle": "2023-02-14T11:54:01.831946Z",
     "shell.execute_reply": "2023-02-14T11:54:01.831565Z",
     "shell.execute_reply.started": "2023-02-14T11:54:01.770317Z"
    },
    "tags": []
   },
   "outputs": [
    {
     "data": {
      "image/png": "[encoded data removed]",
      "text/plain": [
       "<Figure size 640x480 with 1 Axes>"
      ]
     },
     "metadata": {},
     "output_type": "display_data"
    }
   ],
   "source": [
    "data[\"view_pos\"].value_counts().plot(kind=\"bar\");"
   ]
  },
  {
   "cell_type": "markdown",
   "id": "c11c9956-88e0-4890-ba2f-a35e56931a84",
   "metadata": {},
   "source": [
    "Next, convert and expand the `labels` column to corresponding individual columns with boolean values for each condition that we care about, plus an aggregate \"other\" column for all the other ones. We will keep the original `labels` column because the EDA notebook uses it. But we should remove it (or pass it through the pipeline without using it) during training.\n",
    "Effectively, we are multi-label binary-encoding the labels (manually for now; in the future, we could use a [`MultiLabelBinarizer`](https://scikit-learn.org/stable/modules/generated/sklearn.preprocessing.MultiLabelBinarizer.html) in our pipeline)."
   ]
  },
  {
   "cell_type": "code",
   "execution_count": 30,
   "id": "fd2a230c-a754-40cb-91b6-cc5290fa4fa9",
   "metadata": {
    "execution": {
     "iopub.execute_input": "2023-02-14T11:54:01.832631Z",
     "iopub.status.busy": "2023-02-14T11:54:01.832524Z",
     "iopub.status.idle": "2023-02-14T11:54:01.907364Z",
     "shell.execute_reply": "2023-02-14T11:54:01.906847Z",
     "shell.execute_reply.started": "2023-02-14T11:54:01.832622Z"
    }
   },
   "outputs": [],
   "source": [
    "all_labels = list(\n",
    "    pd.DataFrame(data[\"labels\"].str.split(\"|\").explode(\"labels\")).labels.unique()\n",
    ")\n",
    "\n",
    "do_care_labels = [\n",
    "    \"Pneumonia\",\n",
    "    \"Cardiomegaly\",\n",
    "    \"Pleural_Thickening\",\n",
    "    \"Consolidation\",\n",
    "    \"Pneumothorax\",\n",
    "    \"Effusion\",\n",
    "    \"No Finding\",\n",
    "]\n",
    "other_labels = [l for l in all_labels if l not in do_care_labels]"
   ]
  },
  {
   "cell_type": "code",
   "execution_count": 31,
   "id": "7eff431f-08e9-4884-9bf0-032595f9a2f8",
   "metadata": {
    "execution": {
     "iopub.execute_input": "2023-02-14T11:54:01.907972Z",
     "iopub.status.busy": "2023-02-14T11:54:01.907860Z",
     "iopub.status.idle": "2023-02-14T11:54:02.083863Z",
     "shell.execute_reply": "2023-02-14T11:54:02.083472Z",
     "shell.execute_reply.started": "2023-02-14T11:54:01.907962Z"
    }
   },
   "outputs": [],
   "source": [
    "for l in all_labels:\n",
    "    data[l] = data.labels.apply(lambda x: l in x)"
   ]
  },
  {
   "cell_type": "code",
   "execution_count": 32,
   "id": "9fd15163-a3e2-459e-89e3-fe58ecfafbf1",
   "metadata": {
    "execution": {
     "iopub.execute_input": "2023-02-14T11:54:02.084468Z",
     "iopub.status.busy": "2023-02-14T11:54:02.084366Z",
     "iopub.status.idle": "2023-02-14T11:54:02.089286Z",
     "shell.execute_reply": "2023-02-14T11:54:02.088826Z",
     "shell.execute_reply.started": "2023-02-14T11:54:02.084456Z"
    },
    "tags": []
   },
   "outputs": [],
   "source": [
    "data[\"Other\"] = False\n",
    "for l in other_labels:\n",
    "    data[\"Other\"] = data[\"Other\"] | data[l]"
   ]
  },
  {
   "cell_type": "code",
   "execution_count": 33,
   "id": "81edd371-3e14-4a9a-aab7-ddb8e058537d",
   "metadata": {
    "execution": {
     "iopub.execute_input": "2023-02-14T11:54:02.090146Z",
     "iopub.status.busy": "2023-02-14T11:54:02.090024Z",
     "iopub.status.idle": "2023-02-14T11:54:02.099014Z",
     "shell.execute_reply": "2023-02-14T11:54:02.098449Z",
     "shell.execute_reply.started": "2023-02-14T11:54:02.090135Z"
    }
   },
   "outputs": [],
   "source": [
    "data.drop(columns=other_labels, inplace=True)\n",
    "for l in do_care_labels + [\"Other\"]:\n",
    "    data.rename(columns={l: \"label_\"+l.lower().replace(\" \", \"_\")}, inplace=True)"
   ]
  },
  {
   "cell_type": "code",
   "execution_count": 34,
   "id": "830316c5-6f0c-48cf-a31d-f4383524d200",
   "metadata": {
    "execution": {
     "iopub.execute_input": "2023-02-14T11:54:02.099727Z",
     "iopub.status.busy": "2023-02-14T11:54:02.099626Z",
     "iopub.status.idle": "2023-02-14T11:54:02.117452Z",
     "shell.execute_reply": "2023-02-14T11:54:02.117043Z",
     "shell.execute_reply.started": "2023-02-14T11:54:02.099718Z"
    }
   },
   "outputs": [
    {
     "data": {
      "text/html": [
       "<div>\n",
       "<style scoped>\n",
       "    .dataframe tbody tr th:only-of-type {\n",
       "        vertical-align: middle;\n",
       "    }\n",
       "\n",
       "    .dataframe tbody tr th {\n",
       "        vertical-align: top;\n",
       "    }\n",
       "\n",
       "    .dataframe thead th {\n",
       "        text-align: right;\n",
       "    }\n",
       "</style>\n",
       "<table border=\"1\" class=\"dataframe\">\n",
       "  <thead>\n",
       "    <tr style=\"text-align: right;\">\n",
       "      <th></th>\n",
       "      <th>img_idx</th>\n",
       "      <th>labels</th>\n",
       "      <th>age</th>\n",
       "      <th>gender</th>\n",
       "      <th>view_pos</th>\n",
       "      <th>img_w</th>\n",
       "      <th>img_h</th>\n",
       "      <th>img_pix_spc_x</th>\n",
       "      <th>img_pix_spc_y</th>\n",
       "      <th>label_cardiomegaly</th>\n",
       "      <th>label_effusion</th>\n",
       "      <th>label_no_finding</th>\n",
       "      <th>label_pneumothorax</th>\n",
       "      <th>label_pleural_thickening</th>\n",
       "      <th>label_pneumonia</th>\n",
       "      <th>label_consolidation</th>\n",
       "      <th>label_other</th>\n",
       "    </tr>\n",
       "  </thead>\n",
       "  <tbody>\n",
       "    <tr>\n",
       "      <th>0</th>\n",
       "      <td>00000001_000.png</td>\n",
       "      <td>Cardiomegaly</td>\n",
       "      <td>58</td>\n",
       "      <td>M</td>\n",
       "      <td>PA</td>\n",
       "      <td>2682</td>\n",
       "      <td>2749</td>\n",
       "      <td>0.143</td>\n",
       "      <td>0.143</td>\n",
       "      <td>True</td>\n",
       "      <td>False</td>\n",
       "      <td>False</td>\n",
       "      <td>False</td>\n",
       "      <td>False</td>\n",
       "      <td>False</td>\n",
       "      <td>False</td>\n",
       "      <td>False</td>\n",
       "    </tr>\n",
       "    <tr>\n",
       "      <th>1</th>\n",
       "      <td>00000001_001.png</td>\n",
       "      <td>Cardiomegaly|Emphysema</td>\n",
       "      <td>58</td>\n",
       "      <td>M</td>\n",
       "      <td>PA</td>\n",
       "      <td>2894</td>\n",
       "      <td>2729</td>\n",
       "      <td>0.143</td>\n",
       "      <td>0.143</td>\n",
       "      <td>True</td>\n",
       "      <td>False</td>\n",
       "      <td>False</td>\n",
       "      <td>False</td>\n",
       "      <td>False</td>\n",
       "      <td>False</td>\n",
       "      <td>False</td>\n",
       "      <td>True</td>\n",
       "    </tr>\n",
       "    <tr>\n",
       "      <th>2</th>\n",
       "      <td>00000001_002.png</td>\n",
       "      <td>Cardiomegaly|Effusion</td>\n",
       "      <td>58</td>\n",
       "      <td>M</td>\n",
       "      <td>PA</td>\n",
       "      <td>2500</td>\n",
       "      <td>2048</td>\n",
       "      <td>0.168</td>\n",
       "      <td>0.168</td>\n",
       "      <td>True</td>\n",
       "      <td>True</td>\n",
       "      <td>False</td>\n",
       "      <td>False</td>\n",
       "      <td>False</td>\n",
       "      <td>False</td>\n",
       "      <td>False</td>\n",
       "      <td>False</td>\n",
       "    </tr>\n",
       "    <tr>\n",
       "      <th>3</th>\n",
       "      <td>00000002_000.png</td>\n",
       "      <td>No Finding</td>\n",
       "      <td>81</td>\n",
       "      <td>M</td>\n",
       "      <td>PA</td>\n",
       "      <td>2500</td>\n",
       "      <td>2048</td>\n",
       "      <td>0.171</td>\n",
       "      <td>0.171</td>\n",
       "      <td>False</td>\n",
       "      <td>False</td>\n",
       "      <td>True</td>\n",
       "      <td>False</td>\n",
       "      <td>False</td>\n",
       "      <td>False</td>\n",
       "      <td>False</td>\n",
       "      <td>False</td>\n",
       "    </tr>\n",
       "    <tr>\n",
       "      <th>4</th>\n",
       "      <td>00000003_000.png</td>\n",
       "      <td>Hernia</td>\n",
       "      <td>81</td>\n",
       "      <td>F</td>\n",
       "      <td>PA</td>\n",
       "      <td>2582</td>\n",
       "      <td>2991</td>\n",
       "      <td>0.143</td>\n",
       "      <td>0.143</td>\n",
       "      <td>False</td>\n",
       "      <td>False</td>\n",
       "      <td>False</td>\n",
       "      <td>False</td>\n",
       "      <td>False</td>\n",
       "      <td>False</td>\n",
       "      <td>False</td>\n",
       "      <td>True</td>\n",
       "    </tr>\n",
       "    <tr>\n",
       "      <th>...</th>\n",
       "      <td>...</td>\n",
       "      <td>...</td>\n",
       "      <td>...</td>\n",
       "      <td>...</td>\n",
       "      <td>...</td>\n",
       "      <td>...</td>\n",
       "      <td>...</td>\n",
       "      <td>...</td>\n",
       "      <td>...</td>\n",
       "      <td>...</td>\n",
       "      <td>...</td>\n",
       "      <td>...</td>\n",
       "      <td>...</td>\n",
       "      <td>...</td>\n",
       "      <td>...</td>\n",
       "      <td>...</td>\n",
       "      <td>...</td>\n",
       "    </tr>\n",
       "    <tr>\n",
       "      <th>112115</th>\n",
       "      <td>00030801_001.png</td>\n",
       "      <td>Mass|Pneumonia</td>\n",
       "      <td>39</td>\n",
       "      <td>M</td>\n",
       "      <td>PA</td>\n",
       "      <td>2048</td>\n",
       "      <td>2500</td>\n",
       "      <td>0.168</td>\n",
       "      <td>0.168</td>\n",
       "      <td>False</td>\n",
       "      <td>False</td>\n",
       "      <td>False</td>\n",
       "      <td>False</td>\n",
       "      <td>False</td>\n",
       "      <td>True</td>\n",
       "      <td>False</td>\n",
       "      <td>True</td>\n",
       "    </tr>\n",
       "    <tr>\n",
       "      <th>112116</th>\n",
       "      <td>00030802_000.png</td>\n",
       "      <td>No Finding</td>\n",
       "      <td>29</td>\n",
       "      <td>M</td>\n",
       "      <td>PA</td>\n",
       "      <td>2048</td>\n",
       "      <td>2500</td>\n",
       "      <td>0.168</td>\n",
       "      <td>0.168</td>\n",
       "      <td>False</td>\n",
       "      <td>False</td>\n",
       "      <td>True</td>\n",
       "      <td>False</td>\n",
       "      <td>False</td>\n",
       "      <td>False</td>\n",
       "      <td>False</td>\n",
       "      <td>False</td>\n",
       "    </tr>\n",
       "    <tr>\n",
       "      <th>112117</th>\n",
       "      <td>00030803_000.png</td>\n",
       "      <td>No Finding</td>\n",
       "      <td>42</td>\n",
       "      <td>F</td>\n",
       "      <td>PA</td>\n",
       "      <td>2048</td>\n",
       "      <td>2500</td>\n",
       "      <td>0.168</td>\n",
       "      <td>0.168</td>\n",
       "      <td>False</td>\n",
       "      <td>False</td>\n",
       "      <td>True</td>\n",
       "      <td>False</td>\n",
       "      <td>False</td>\n",
       "      <td>False</td>\n",
       "      <td>False</td>\n",
       "      <td>False</td>\n",
       "    </tr>\n",
       "    <tr>\n",
       "      <th>112118</th>\n",
       "      <td>00030804_000.png</td>\n",
       "      <td>No Finding</td>\n",
       "      <td>30</td>\n",
       "      <td>F</td>\n",
       "      <td>PA</td>\n",
       "      <td>2048</td>\n",
       "      <td>2500</td>\n",
       "      <td>0.168</td>\n",
       "      <td>0.168</td>\n",
       "      <td>False</td>\n",
       "      <td>False</td>\n",
       "      <td>True</td>\n",
       "      <td>False</td>\n",
       "      <td>False</td>\n",
       "      <td>False</td>\n",
       "      <td>False</td>\n",
       "      <td>False</td>\n",
       "    </tr>\n",
       "    <tr>\n",
       "      <th>112119</th>\n",
       "      <td>00030805_000.png</td>\n",
       "      <td>No Finding</td>\n",
       "      <td>27</td>\n",
       "      <td>M</td>\n",
       "      <td>PA</td>\n",
       "      <td>2048</td>\n",
       "      <td>2500</td>\n",
       "      <td>0.171</td>\n",
       "      <td>0.171</td>\n",
       "      <td>False</td>\n",
       "      <td>False</td>\n",
       "      <td>True</td>\n",
       "      <td>False</td>\n",
       "      <td>False</td>\n",
       "      <td>False</td>\n",
       "      <td>False</td>\n",
       "      <td>False</td>\n",
       "    </tr>\n",
       "  </tbody>\n",
       "</table>\n",
       "<p>112104 rows × 17 columns</p>\n",
       "</div>"
      ],
      "text/plain": [
       "                 img_idx                  labels  age gender view_pos  img_w  \\\n",
       "0       00000001_000.png            Cardiomegaly   58      M       PA   2682   \n",
       "1       00000001_001.png  Cardiomegaly|Emphysema   58      M       PA   2894   \n",
       "2       00000001_002.png   Cardiomegaly|Effusion   58      M       PA   2500   \n",
       "3       00000002_000.png              No Finding   81      M       PA   2500   \n",
       "4       00000003_000.png                  Hernia   81      F       PA   2582   \n",
       "...                  ...                     ...  ...    ...      ...    ...   \n",
       "112115  00030801_001.png          Mass|Pneumonia   39      M       PA   2048   \n",
       "112116  00030802_000.png              No Finding   29      M       PA   2048   \n",
       "112117  00030803_000.png              No Finding   42      F       PA   2048   \n",
       "112118  00030804_000.png              No Finding   30      F       PA   2048   \n",
       "112119  00030805_000.png              No Finding   27      M       PA   2048   \n",
       "\n",
       "        img_h  img_pix_spc_x  img_pix_spc_y  label_cardiomegaly  \\\n",
       "0        2749          0.143          0.143                True   \n",
       "1        2729          0.143          0.143                True   \n",
       "2        2048          0.168          0.168                True   \n",
       "3        2048          0.171          0.171               False   \n",
       "4        2991          0.143          0.143               False   \n",
       "...       ...            ...            ...                 ...   \n",
       "112115   2500          0.168          0.168               False   \n",
       "112116   2500          0.168          0.168               False   \n",
       "112117   2500          0.168          0.168               False   \n",
       "112118   2500          0.168          0.168               False   \n",
       "112119   2500          0.171          0.171               False   \n",
       "\n",
       "        label_effusion  label_no_finding  label_pneumothorax  \\\n",
       "0                False             False               False   \n",
       "1                False             False               False   \n",
       "2                 True             False               False   \n",
       "3                False              True               False   \n",
       "4                False             False               False   \n",
       "...                ...               ...                 ...   \n",
       "112115           False             False               False   \n",
       "112116           False              True               False   \n",
       "112117           False              True               False   \n",
       "112118           False              True               False   \n",
       "112119           False              True               False   \n",
       "\n",
       "        label_pleural_thickening  label_pneumonia  label_consolidation  \\\n",
       "0                          False            False                False   \n",
       "1                          False            False                False   \n",
       "2                          False            False                False   \n",
       "3                          False            False                False   \n",
       "4                          False            False                False   \n",
       "...                          ...              ...                  ...   \n",
       "112115                     False             True                False   \n",
       "112116                     False            False                False   \n",
       "112117                     False            False                False   \n",
       "112118                     False            False                False   \n",
       "112119                     False            False                False   \n",
       "\n",
       "        label_other  \n",
       "0             False  \n",
       "1              True  \n",
       "2             False  \n",
       "3             False  \n",
       "4              True  \n",
       "...             ...  \n",
       "112115         True  \n",
       "112116        False  \n",
       "112117        False  \n",
       "112118        False  \n",
       "112119        False  \n",
       "\n",
       "[112104 rows x 17 columns]"
      ]
     },
     "execution_count": 34,
     "metadata": {},
     "output_type": "execute_result"
    }
   ],
   "source": [
    "data"
   ]
  },
  {
   "cell_type": "markdown",
   "id": "5585642f-7526-4657-a9c8-dd799a24e86a",
   "metadata": {},
   "source": [
    "Actually, we don't care about the colums related to the dimensions and \"pixel spacing\" of the  original images so we will now remove them."
   ]
  },
  {
   "cell_type": "code",
   "execution_count": 35,
   "id": "43a223af-2d1e-462b-8754-9d61932525b9",
   "metadata": {
    "execution": {
     "iopub.execute_input": "2023-02-14T11:54:02.118484Z",
     "iopub.status.busy": "2023-02-14T11:54:02.118369Z",
     "iopub.status.idle": "2023-02-14T11:54:02.130130Z",
     "shell.execute_reply": "2023-02-14T11:54:02.129694Z",
     "shell.execute_reply.started": "2023-02-14T11:54:02.118473Z"
    },
    "tags": []
   },
   "outputs": [
    {
     "data": {
      "text/html": [
       "<div>\n",
       "<style scoped>\n",
       "    .dataframe tbody tr th:only-of-type {\n",
       "        vertical-align: middle;\n",
       "    }\n",
       "\n",
       "    .dataframe tbody tr th {\n",
       "        vertical-align: top;\n",
       "    }\n",
       "\n",
       "    .dataframe thead th {\n",
       "        text-align: right;\n",
       "    }\n",
       "</style>\n",
       "<table border=\"1\" class=\"dataframe\">\n",
       "  <thead>\n",
       "    <tr style=\"text-align: right;\">\n",
       "      <th></th>\n",
       "      <th>img_idx</th>\n",
       "      <th>labels</th>\n",
       "      <th>age</th>\n",
       "      <th>gender</th>\n",
       "      <th>label_cardiomegaly</th>\n",
       "      <th>label_effusion</th>\n",
       "      <th>label_no_finding</th>\n",
       "      <th>label_pneumothorax</th>\n",
       "      <th>label_pleural_thickening</th>\n",
       "      <th>label_pneumonia</th>\n",
       "      <th>label_consolidation</th>\n",
       "      <th>label_other</th>\n",
       "    </tr>\n",
       "  </thead>\n",
       "  <tbody>\n",
       "    <tr>\n",
       "      <th>0</th>\n",
       "      <td>00000001_000.png</td>\n",
       "      <td>Cardiomegaly</td>\n",
       "      <td>58</td>\n",
       "      <td>M</td>\n",
       "      <td>True</td>\n",
       "      <td>False</td>\n",
       "      <td>False</td>\n",
       "      <td>False</td>\n",
       "      <td>False</td>\n",
       "      <td>False</td>\n",
       "      <td>False</td>\n",
       "      <td>False</td>\n",
       "    </tr>\n",
       "    <tr>\n",
       "      <th>1</th>\n",
       "      <td>00000001_001.png</td>\n",
       "      <td>Cardiomegaly|Emphysema</td>\n",
       "      <td>58</td>\n",
       "      <td>M</td>\n",
       "      <td>True</td>\n",
       "      <td>False</td>\n",
       "      <td>False</td>\n",
       "      <td>False</td>\n",
       "      <td>False</td>\n",
       "      <td>False</td>\n",
       "      <td>False</td>\n",
       "      <td>True</td>\n",
       "    </tr>\n",
       "    <tr>\n",
       "      <th>2</th>\n",
       "      <td>00000001_002.png</td>\n",
       "      <td>Cardiomegaly|Effusion</td>\n",
       "      <td>58</td>\n",
       "      <td>M</td>\n",
       "      <td>True</td>\n",
       "      <td>True</td>\n",
       "      <td>False</td>\n",
       "      <td>False</td>\n",
       "      <td>False</td>\n",
       "      <td>False</td>\n",
       "      <td>False</td>\n",
       "      <td>False</td>\n",
       "    </tr>\n",
       "    <tr>\n",
       "      <th>3</th>\n",
       "      <td>00000002_000.png</td>\n",
       "      <td>No Finding</td>\n",
       "      <td>81</td>\n",
       "      <td>M</td>\n",
       "      <td>False</td>\n",
       "      <td>False</td>\n",
       "      <td>True</td>\n",
       "      <td>False</td>\n",
       "      <td>False</td>\n",
       "      <td>False</td>\n",
       "      <td>False</td>\n",
       "      <td>False</td>\n",
       "    </tr>\n",
       "    <tr>\n",
       "      <th>4</th>\n",
       "      <td>00000003_000.png</td>\n",
       "      <td>Hernia</td>\n",
       "      <td>81</td>\n",
       "      <td>F</td>\n",
       "      <td>False</td>\n",
       "      <td>False</td>\n",
       "      <td>False</td>\n",
       "      <td>False</td>\n",
       "      <td>False</td>\n",
       "      <td>False</td>\n",
       "      <td>False</td>\n",
       "      <td>True</td>\n",
       "    </tr>\n",
       "  </tbody>\n",
       "</table>\n",
       "</div>"
      ],
      "text/plain": [
       "            img_idx                  labels  age gender  label_cardiomegaly  \\\n",
       "0  00000001_000.png            Cardiomegaly   58      M                True   \n",
       "1  00000001_001.png  Cardiomegaly|Emphysema   58      M                True   \n",
       "2  00000001_002.png   Cardiomegaly|Effusion   58      M                True   \n",
       "3  00000002_000.png              No Finding   81      M               False   \n",
       "4  00000003_000.png                  Hernia   81      F               False   \n",
       "\n",
       "   label_effusion  label_no_finding  label_pneumothorax  \\\n",
       "0           False             False               False   \n",
       "1           False             False               False   \n",
       "2            True             False               False   \n",
       "3           False              True               False   \n",
       "4           False             False               False   \n",
       "\n",
       "   label_pleural_thickening  label_pneumonia  label_consolidation  label_other  \n",
       "0                     False            False                False        False  \n",
       "1                     False            False                False         True  \n",
       "2                     False            False                False        False  \n",
       "3                     False            False                False        False  \n",
       "4                     False            False                False         True  "
      ]
     },
     "execution_count": 35,
     "metadata": {},
     "output_type": "execute_result"
    }
   ],
   "source": [
    "data.drop(columns=[\"view_pos\", \"img_w\", \"img_h\", \"img_pix_spc_x\", \"img_pix_spc_y\"], inplace=True)\n",
    "data.head()"
   ]
  },
  {
   "cell_type": "markdown",
   "id": "249c1533-48a7-4d36-8371-65b2e37a1a4b",
   "metadata": {},
   "source": [
    "Save the cleaned data to disk."
   ]
  },
  {
   "cell_type": "code",
   "execution_count": 36,
   "id": "0dc05c4b-f96b-4aba-8993-ddedb1c216e6",
   "metadata": {
    "execution": {
     "iopub.execute_input": "2023-02-14T11:54:02.131046Z",
     "iopub.status.busy": "2023-02-14T11:54:02.130785Z",
     "iopub.status.idle": "2023-02-14T11:54:02.348799Z",
     "shell.execute_reply": "2023-02-14T11:54:02.348336Z",
     "shell.execute_reply.started": "2023-02-14T11:54:02.131031Z"
    },
    "tags": []
   },
   "outputs": [],
   "source": [
    "clean_data_path = \"../clean_data/cleaned_data.csv\"\n",
    "data.to_csv(clean_data_path, index=False)"
   ]
  }
 ],
 "metadata": {
  "kernelspec": {
   "display_name": "Python 3 (ipykernel)",
   "language": "python",
   "name": "python3"
  },
  "language_info": {
   "codemirror_mode": {
    "name": "ipython",
    "version": 3
   },
   "file_extension": ".py",
   "mimetype": "text/x-python",
   "name": "python",
   "nbconvert_exporter": "python",
   "pygments_lexer": "ipython3",
   "version": "3.10.6"
  }
 },
 "nbformat": 4,
 "nbformat_minor": 5
}
