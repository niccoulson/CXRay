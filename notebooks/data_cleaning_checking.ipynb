{
 "cells": [
  {
   "cell_type": "code",
   "execution_count": 1,
   "id": "7eeff6b5-c4c4-4420-ae05-e83ab154c1fc",
   "metadata": {
    "execution": {
     "iopub.execute_input": "2023-02-11T01:31:05.087506Z",
     "iopub.status.busy": "2023-02-11T01:31:05.087167Z",
     "iopub.status.idle": "2023-02-11T01:31:05.093449Z",
     "shell.execute_reply": "2023-02-11T01:31:05.092198Z",
     "shell.execute_reply.started": "2023-02-11T01:31:05.087475Z"
    },
    "tags": []
   },
   "outputs": [],
   "source": [
    "# Group all `import`s here at a later date."
   ]
  },
  {
   "cell_type": "markdown",
   "id": "cf95ef50-3442-4864-b582-f8d88636c95e",
   "metadata": {},
   "source": [
    "# Data Cleaning & Checking"
   ]
  },
  {
   "cell_type": "markdown",
   "id": "2eae1504-8728-474f-9a5b-db7e5eaa5961",
   "metadata": {},
   "source": [
    "## Importing, checking and cleaning the (non-image) data"
   ]
  },
  {
   "cell_type": "markdown",
   "id": "edfd40ce-02a4-4a21-ae42-c1c6c6fe962d",
   "metadata": {},
   "source": [
    "First, import the csv file for non-image features and take a look at it."
   ]
  },
  {
   "cell_type": "code",
   "execution_count": 2,
   "id": "0b93f103-5307-4470-8b47-ca02239a534d",
   "metadata": {
    "execution": {
     "iopub.execute_input": "2023-02-11T01:31:05.095933Z",
     "iopub.status.busy": "2023-02-11T01:31:05.095700Z",
     "iopub.status.idle": "2023-02-11T01:31:05.363453Z",
     "shell.execute_reply": "2023-02-11T01:31:05.362451Z",
     "shell.execute_reply.started": "2023-02-11T01:31:05.095910Z"
    },
    "tags": []
   },
   "outputs": [],
   "source": [
    "import pandas as pd"
   ]
  },
  {
   "cell_type": "code",
   "execution_count": 3,
   "id": "0909e307-f726-439e-a422-32f34c72b97d",
   "metadata": {
    "execution": {
     "iopub.execute_input": "2023-02-11T01:31:05.364977Z",
     "iopub.status.busy": "2023-02-11T01:31:05.364619Z",
     "iopub.status.idle": "2023-02-11T01:31:05.457350Z",
     "shell.execute_reply": "2023-02-11T01:31:05.457010Z",
     "shell.execute_reply.started": "2023-02-11T01:31:05.364952Z"
    },
    "tags": []
   },
   "outputs": [],
   "source": [
    "raw_data_path = \"../raw_data/Data_Entry_2017.csv\"\n",
    "data = pd.read_csv(raw_data_path)"
   ]
  },
  {
   "cell_type": "code",
   "execution_count": 4,
   "id": "2fbeccd9-981c-4291-b660-143fc20cf156",
   "metadata": {
    "execution": {
     "iopub.execute_input": "2023-02-11T01:31:05.459037Z",
     "iopub.status.busy": "2023-02-11T01:31:05.458924Z",
     "iopub.status.idle": "2023-02-11T01:31:05.463319Z",
     "shell.execute_reply": "2023-02-11T01:31:05.462917Z",
     "shell.execute_reply.started": "2023-02-11T01:31:05.459027Z"
    },
    "tags": []
   },
   "outputs": [
    {
     "data": {
      "text/plain": [
       "(112120, 12)"
      ]
     },
     "execution_count": 4,
     "metadata": {},
     "output_type": "execute_result"
    }
   ],
   "source": [
    "data.shape"
   ]
  },
  {
   "cell_type": "code",
   "execution_count": 5,
   "id": "16a96a34-7453-462e-9d07-1a2074174b6a",
   "metadata": {
    "execution": {
     "iopub.execute_input": "2023-02-11T01:31:05.463979Z",
     "iopub.status.busy": "2023-02-11T01:31:05.463739Z",
     "iopub.status.idle": "2023-02-11T01:31:05.473602Z",
     "shell.execute_reply": "2023-02-11T01:31:05.470725Z",
     "shell.execute_reply.started": "2023-02-11T01:31:05.463959Z"
    },
    "tags": []
   },
   "outputs": [
    {
     "data": {
      "text/html": [
       "<div>\n",
       "<style scoped>\n",
       "    .dataframe tbody tr th:only-of-type {\n",
       "        vertical-align: middle;\n",
       "    }\n",
       "\n",
       "    .dataframe tbody tr th {\n",
       "        vertical-align: top;\n",
       "    }\n",
       "\n",
       "    .dataframe thead th {\n",
       "        text-align: right;\n",
       "    }\n",
       "</style>\n",
       "<table border=\"1\" class=\"dataframe\">\n",
       "  <thead>\n",
       "    <tr style=\"text-align: right;\">\n",
       "      <th></th>\n",
       "      <th>Image Index</th>\n",
       "      <th>Finding Labels</th>\n",
       "      <th>Follow-up #</th>\n",
       "      <th>Patient ID</th>\n",
       "      <th>Patient Age</th>\n",
       "      <th>Patient Gender</th>\n",
       "      <th>View Position</th>\n",
       "      <th>OriginalImage[Width</th>\n",
       "      <th>Height]</th>\n",
       "      <th>OriginalImagePixelSpacing[x</th>\n",
       "      <th>y]</th>\n",
       "      <th>Unnamed: 11</th>\n",
       "    </tr>\n",
       "  </thead>\n",
       "  <tbody>\n",
       "    <tr>\n",
       "      <th>0</th>\n",
       "      <td>00000001_000.png</td>\n",
       "      <td>Cardiomegaly</td>\n",
       "      <td>0</td>\n",
       "      <td>1</td>\n",
       "      <td>58</td>\n",
       "      <td>M</td>\n",
       "      <td>PA</td>\n",
       "      <td>2682</td>\n",
       "      <td>2749</td>\n",
       "      <td>0.143</td>\n",
       "      <td>0.143</td>\n",
       "      <td>NaN</td>\n",
       "    </tr>\n",
       "    <tr>\n",
       "      <th>1</th>\n",
       "      <td>00000001_001.png</td>\n",
       "      <td>Cardiomegaly|Emphysema</td>\n",
       "      <td>1</td>\n",
       "      <td>1</td>\n",
       "      <td>58</td>\n",
       "      <td>M</td>\n",
       "      <td>PA</td>\n",
       "      <td>2894</td>\n",
       "      <td>2729</td>\n",
       "      <td>0.143</td>\n",
       "      <td>0.143</td>\n",
       "      <td>NaN</td>\n",
       "    </tr>\n",
       "    <tr>\n",
       "      <th>2</th>\n",
       "      <td>00000001_002.png</td>\n",
       "      <td>Cardiomegaly|Effusion</td>\n",
       "      <td>2</td>\n",
       "      <td>1</td>\n",
       "      <td>58</td>\n",
       "      <td>M</td>\n",
       "      <td>PA</td>\n",
       "      <td>2500</td>\n",
       "      <td>2048</td>\n",
       "      <td>0.168</td>\n",
       "      <td>0.168</td>\n",
       "      <td>NaN</td>\n",
       "    </tr>\n",
       "    <tr>\n",
       "      <th>3</th>\n",
       "      <td>00000002_000.png</td>\n",
       "      <td>No Finding</td>\n",
       "      <td>0</td>\n",
       "      <td>2</td>\n",
       "      <td>81</td>\n",
       "      <td>M</td>\n",
       "      <td>PA</td>\n",
       "      <td>2500</td>\n",
       "      <td>2048</td>\n",
       "      <td>0.171</td>\n",
       "      <td>0.171</td>\n",
       "      <td>NaN</td>\n",
       "    </tr>\n",
       "    <tr>\n",
       "      <th>4</th>\n",
       "      <td>00000003_000.png</td>\n",
       "      <td>Hernia</td>\n",
       "      <td>0</td>\n",
       "      <td>3</td>\n",
       "      <td>81</td>\n",
       "      <td>F</td>\n",
       "      <td>PA</td>\n",
       "      <td>2582</td>\n",
       "      <td>2991</td>\n",
       "      <td>0.143</td>\n",
       "      <td>0.143</td>\n",
       "      <td>NaN</td>\n",
       "    </tr>\n",
       "  </tbody>\n",
       "</table>\n",
       "</div>"
      ],
      "text/plain": [
       "        Image Index          Finding Labels  Follow-up #  Patient ID  \\\n",
       "0  00000001_000.png            Cardiomegaly            0           1   \n",
       "1  00000001_001.png  Cardiomegaly|Emphysema            1           1   \n",
       "2  00000001_002.png   Cardiomegaly|Effusion            2           1   \n",
       "3  00000002_000.png              No Finding            0           2   \n",
       "4  00000003_000.png                  Hernia            0           3   \n",
       "\n",
       "   Patient Age Patient Gender View Position  OriginalImage[Width  Height]  \\\n",
       "0           58              M            PA                 2682     2749   \n",
       "1           58              M            PA                 2894     2729   \n",
       "2           58              M            PA                 2500     2048   \n",
       "3           81              M            PA                 2500     2048   \n",
       "4           81              F            PA                 2582     2991   \n",
       "\n",
       "   OriginalImagePixelSpacing[x     y]  Unnamed: 11  \n",
       "0                        0.143  0.143          NaN  \n",
       "1                        0.143  0.143          NaN  \n",
       "2                        0.168  0.168          NaN  \n",
       "3                        0.171  0.171          NaN  \n",
       "4                        0.143  0.143          NaN  "
      ]
     },
     "execution_count": 5,
     "metadata": {},
     "output_type": "execute_result"
    }
   ],
   "source": [
    "data.head()"
   ]
  },
  {
   "cell_type": "markdown",
   "id": "bac26965-a7c0-4ddd-b137-ec385417344d",
   "metadata": {},
   "source": [
    "Drop the columns we don't need and set shorter column names."
   ]
  },
  {
   "cell_type": "code",
   "execution_count": 6,
   "id": "670a4c90-7b6a-45a1-b0ce-c4fc4587b290",
   "metadata": {
    "execution": {
     "iopub.execute_input": "2023-02-11T01:31:05.485206Z",
     "iopub.status.busy": "2023-02-11T01:31:05.481867Z",
     "iopub.status.idle": "2023-02-11T01:31:05.499059Z",
     "shell.execute_reply": "2023-02-11T01:31:05.498650Z",
     "shell.execute_reply.started": "2023-02-11T01:31:05.485180Z"
    },
    "tags": []
   },
   "outputs": [],
   "source": [
    "data.drop(data.columns[-1], axis=1, inplace=True)\n",
    "data.drop(columns=[\"Follow-up #\"], inplace=True)\n",
    "data.columns = [\"img_idx\", \"labels\", \"id\", \"age\", \"gender\", \"view_pos\", \"img_w\", \"img_h\", \"img_pix_spc_x\", \"img_pix_spc_y\"]"
   ]
  },
  {
   "cell_type": "code",
   "execution_count": 7,
   "id": "650bbd0c-dd2f-4ada-a7a4-0e861848255d",
   "metadata": {
    "execution": {
     "iopub.execute_input": "2023-02-11T01:31:05.499651Z",
     "iopub.status.busy": "2023-02-11T01:31:05.499549Z",
     "iopub.status.idle": "2023-02-11T01:31:05.502765Z",
     "shell.execute_reply": "2023-02-11T01:31:05.502436Z",
     "shell.execute_reply.started": "2023-02-11T01:31:05.499641Z"
    },
    "tags": []
   },
   "outputs": [
    {
     "data": {
      "text/plain": [
       "(112120, 10)"
      ]
     },
     "execution_count": 7,
     "metadata": {},
     "output_type": "execute_result"
    }
   ],
   "source": [
    "data.shape"
   ]
  },
  {
   "cell_type": "code",
   "execution_count": 8,
   "id": "2b7e4475-9704-49b6-bb53-19265143b88a",
   "metadata": {
    "execution": {
     "iopub.execute_input": "2023-02-11T01:31:05.503241Z",
     "iopub.status.busy": "2023-02-11T01:31:05.503155Z",
     "iopub.status.idle": "2023-02-11T01:31:05.508714Z",
     "shell.execute_reply": "2023-02-11T01:31:05.508406Z",
     "shell.execute_reply.started": "2023-02-11T01:31:05.503231Z"
    },
    "tags": []
   },
   "outputs": [
    {
     "data": {
      "text/html": [
       "<div>\n",
       "<style scoped>\n",
       "    .dataframe tbody tr th:only-of-type {\n",
       "        vertical-align: middle;\n",
       "    }\n",
       "\n",
       "    .dataframe tbody tr th {\n",
       "        vertical-align: top;\n",
       "    }\n",
       "\n",
       "    .dataframe thead th {\n",
       "        text-align: right;\n",
       "    }\n",
       "</style>\n",
       "<table border=\"1\" class=\"dataframe\">\n",
       "  <thead>\n",
       "    <tr style=\"text-align: right;\">\n",
       "      <th></th>\n",
       "      <th>img_idx</th>\n",
       "      <th>labels</th>\n",
       "      <th>id</th>\n",
       "      <th>age</th>\n",
       "      <th>gender</th>\n",
       "      <th>view_pos</th>\n",
       "      <th>img_w</th>\n",
       "      <th>img_h</th>\n",
       "      <th>img_pix_spc_x</th>\n",
       "      <th>img_pix_spc_y</th>\n",
       "    </tr>\n",
       "  </thead>\n",
       "  <tbody>\n",
       "    <tr>\n",
       "      <th>0</th>\n",
       "      <td>00000001_000.png</td>\n",
       "      <td>Cardiomegaly</td>\n",
       "      <td>1</td>\n",
       "      <td>58</td>\n",
       "      <td>M</td>\n",
       "      <td>PA</td>\n",
       "      <td>2682</td>\n",
       "      <td>2749</td>\n",
       "      <td>0.143</td>\n",
       "      <td>0.143</td>\n",
       "    </tr>\n",
       "    <tr>\n",
       "      <th>1</th>\n",
       "      <td>00000001_001.png</td>\n",
       "      <td>Cardiomegaly|Emphysema</td>\n",
       "      <td>1</td>\n",
       "      <td>58</td>\n",
       "      <td>M</td>\n",
       "      <td>PA</td>\n",
       "      <td>2894</td>\n",
       "      <td>2729</td>\n",
       "      <td>0.143</td>\n",
       "      <td>0.143</td>\n",
       "    </tr>\n",
       "    <tr>\n",
       "      <th>2</th>\n",
       "      <td>00000001_002.png</td>\n",
       "      <td>Cardiomegaly|Effusion</td>\n",
       "      <td>1</td>\n",
       "      <td>58</td>\n",
       "      <td>M</td>\n",
       "      <td>PA</td>\n",
       "      <td>2500</td>\n",
       "      <td>2048</td>\n",
       "      <td>0.168</td>\n",
       "      <td>0.168</td>\n",
       "    </tr>\n",
       "    <tr>\n",
       "      <th>3</th>\n",
       "      <td>00000002_000.png</td>\n",
       "      <td>No Finding</td>\n",
       "      <td>2</td>\n",
       "      <td>81</td>\n",
       "      <td>M</td>\n",
       "      <td>PA</td>\n",
       "      <td>2500</td>\n",
       "      <td>2048</td>\n",
       "      <td>0.171</td>\n",
       "      <td>0.171</td>\n",
       "    </tr>\n",
       "    <tr>\n",
       "      <th>4</th>\n",
       "      <td>00000003_000.png</td>\n",
       "      <td>Hernia</td>\n",
       "      <td>3</td>\n",
       "      <td>81</td>\n",
       "      <td>F</td>\n",
       "      <td>PA</td>\n",
       "      <td>2582</td>\n",
       "      <td>2991</td>\n",
       "      <td>0.143</td>\n",
       "      <td>0.143</td>\n",
       "    </tr>\n",
       "  </tbody>\n",
       "</table>\n",
       "</div>"
      ],
      "text/plain": [
       "            img_idx                  labels  id  age gender view_pos  img_w  \\\n",
       "0  00000001_000.png            Cardiomegaly   1   58      M       PA   2682   \n",
       "1  00000001_001.png  Cardiomegaly|Emphysema   1   58      M       PA   2894   \n",
       "2  00000001_002.png   Cardiomegaly|Effusion   1   58      M       PA   2500   \n",
       "3  00000002_000.png              No Finding   2   81      M       PA   2500   \n",
       "4  00000003_000.png                  Hernia   3   81      F       PA   2582   \n",
       "\n",
       "   img_h  img_pix_spc_x  img_pix_spc_y  \n",
       "0   2749          0.143          0.143  \n",
       "1   2729          0.143          0.143  \n",
       "2   2048          0.168          0.168  \n",
       "3   2048          0.171          0.171  \n",
       "4   2991          0.143          0.143  "
      ]
     },
     "execution_count": 8,
     "metadata": {},
     "output_type": "execute_result"
    }
   ],
   "source": [
    "data.head()"
   ]
  },
  {
   "cell_type": "markdown",
   "id": "63fdc242-2d0e-45b5-b570-9d65d382dce9",
   "metadata": {
    "execution": {
     "iopub.execute_input": "2023-02-11T01:05:47.146912Z",
     "iopub.status.busy": "2023-02-11T01:05:47.146443Z",
     "iopub.status.idle": "2023-02-11T01:05:47.158968Z",
     "shell.execute_reply": "2023-02-11T01:05:47.157016Z",
     "shell.execute_reply.started": "2023-02-11T01:05:47.146874Z"
    },
    "tags": []
   },
   "source": [
    "Take a look at data statistics, cardinality, types, etc."
   ]
  },
  {
   "cell_type": "code",
   "execution_count": 9,
   "id": "d917949f-3232-4419-a53d-d4bb30e410b0",
   "metadata": {
    "execution": {
     "iopub.execute_input": "2023-02-11T01:31:05.509236Z",
     "iopub.status.busy": "2023-02-11T01:31:05.509132Z",
     "iopub.status.idle": "2023-02-11T01:31:05.545615Z",
     "shell.execute_reply": "2023-02-11T01:31:05.545184Z",
     "shell.execute_reply.started": "2023-02-11T01:31:05.509226Z"
    },
    "tags": []
   },
   "outputs": [
    {
     "name": "stdout",
     "output_type": "stream",
     "text": [
      "<class 'pandas.core.frame.DataFrame'>\n",
      "RangeIndex: 112120 entries, 0 to 112119\n",
      "Data columns (total 10 columns):\n",
      " #   Column         Non-Null Count   Dtype  \n",
      "---  ------         --------------   -----  \n",
      " 0   img_idx        112120 non-null  object \n",
      " 1   labels         112120 non-null  object \n",
      " 2   id             112120 non-null  int64  \n",
      " 3   age            112120 non-null  int64  \n",
      " 4   gender         112120 non-null  object \n",
      " 5   view_pos       112120 non-null  object \n",
      " 6   img_w          112120 non-null  int64  \n",
      " 7   img_h          112120 non-null  int64  \n",
      " 8   img_pix_spc_x  112120 non-null  float64\n",
      " 9   img_pix_spc_y  112120 non-null  float64\n",
      "dtypes: float64(2), int64(4), object(4)\n",
      "memory usage: 8.6+ MB\n"
     ]
    }
   ],
   "source": [
    "data.info()"
   ]
  },
  {
   "cell_type": "code",
   "execution_count": 22,
   "id": "567a9cf2-5a67-49df-a5a3-5331b9a4b8c0",
   "metadata": {
    "execution": {
     "iopub.execute_input": "2023-02-11T02:14:14.456715Z",
     "iopub.status.busy": "2023-02-11T02:14:14.456030Z",
     "iopub.status.idle": "2023-02-11T02:14:14.522868Z",
     "shell.execute_reply": "2023-02-11T02:14:14.522426Z",
     "shell.execute_reply.started": "2023-02-11T02:14:14.456593Z"
    },
    "tags": []
   },
   "outputs": [
    {
     "data": {
      "text/plain": [
       "False"
      ]
     },
     "execution_count": 22,
     "metadata": {},
     "output_type": "execute_result"
    }
   ],
   "source": [
    "data.isnull().values.any()"
   ]
  },
  {
   "cell_type": "markdown",
   "id": "e301d0bf-43f8-4313-9f3f-b8fcd23d7e57",
   "metadata": {},
   "source": [
    "It appears that we do not have any `null`s, which is good.  \n",
    "**_To do:_** Consider downcasting data types to save memory.  \n",
    "For example:  \n",
    "```python\n",
    "data[\"age\"] = pd.to_numeric(data[\"age\"], downcast=’uint8’) # 0-255\n",
    "```\n",
    "Binary columns can be `bool` and image specs can be smaller variants of `int`."
   ]
  },
  {
   "cell_type": "code",
   "execution_count": 10,
   "id": "86a88bca-e64e-4e05-9949-5407444ff120",
   "metadata": {
    "execution": {
     "iopub.execute_input": "2023-02-11T01:31:05.546418Z",
     "iopub.status.busy": "2023-02-11T01:31:05.546200Z",
     "iopub.status.idle": "2023-02-11T01:31:05.571387Z",
     "shell.execute_reply": "2023-02-11T01:31:05.571053Z",
     "shell.execute_reply.started": "2023-02-11T01:31:05.546397Z"
    },
    "tags": []
   },
   "outputs": [
    {
     "data": {
      "text/plain": [
       "img_idx          112120\n",
       "labels              836\n",
       "id                30805\n",
       "age                 107\n",
       "gender                2\n",
       "view_pos              2\n",
       "img_w               904\n",
       "img_h              1137\n",
       "img_pix_spc_x        23\n",
       "img_pix_spc_y        23\n",
       "dtype: int64"
      ]
     },
     "execution_count": 10,
     "metadata": {},
     "output_type": "execute_result"
    }
   ],
   "source": [
    "data.nunique()"
   ]
  },
  {
   "cell_type": "code",
   "execution_count": 11,
   "id": "7b16c873-79c1-450b-8d18-4541d4fe3d0f",
   "metadata": {
    "execution": {
     "iopub.execute_input": "2023-02-11T01:31:05.572108Z",
     "iopub.status.busy": "2023-02-11T01:31:05.572010Z",
     "iopub.status.idle": "2023-02-11T01:31:05.592879Z",
     "shell.execute_reply": "2023-02-11T01:31:05.592551Z",
     "shell.execute_reply.started": "2023-02-11T01:31:05.572098Z"
    },
    "tags": []
   },
   "outputs": [
    {
     "data": {
      "text/html": [
       "<div>\n",
       "<style scoped>\n",
       "    .dataframe tbody tr th:only-of-type {\n",
       "        vertical-align: middle;\n",
       "    }\n",
       "\n",
       "    .dataframe tbody tr th {\n",
       "        vertical-align: top;\n",
       "    }\n",
       "\n",
       "    .dataframe thead th {\n",
       "        text-align: right;\n",
       "    }\n",
       "</style>\n",
       "<table border=\"1\" class=\"dataframe\">\n",
       "  <thead>\n",
       "    <tr style=\"text-align: right;\">\n",
       "      <th></th>\n",
       "      <th>id</th>\n",
       "      <th>age</th>\n",
       "      <th>img_w</th>\n",
       "      <th>img_h</th>\n",
       "      <th>img_pix_spc_x</th>\n",
       "      <th>img_pix_spc_y</th>\n",
       "    </tr>\n",
       "  </thead>\n",
       "  <tbody>\n",
       "    <tr>\n",
       "      <th>count</th>\n",
       "      <td>112120.000000</td>\n",
       "      <td>112120.000000</td>\n",
       "      <td>112120.000000</td>\n",
       "      <td>112120.000000</td>\n",
       "      <td>112120.000000</td>\n",
       "      <td>112120.000000</td>\n",
       "    </tr>\n",
       "    <tr>\n",
       "      <th>mean</th>\n",
       "      <td>14346.381743</td>\n",
       "      <td>46.901463</td>\n",
       "      <td>2646.078844</td>\n",
       "      <td>2486.438842</td>\n",
       "      <td>0.155649</td>\n",
       "      <td>0.155649</td>\n",
       "    </tr>\n",
       "    <tr>\n",
       "      <th>std</th>\n",
       "      <td>8403.876972</td>\n",
       "      <td>16.839923</td>\n",
       "      <td>341.246429</td>\n",
       "      <td>401.268227</td>\n",
       "      <td>0.016174</td>\n",
       "      <td>0.016174</td>\n",
       "    </tr>\n",
       "    <tr>\n",
       "      <th>min</th>\n",
       "      <td>1.000000</td>\n",
       "      <td>1.000000</td>\n",
       "      <td>1143.000000</td>\n",
       "      <td>966.000000</td>\n",
       "      <td>0.115000</td>\n",
       "      <td>0.115000</td>\n",
       "    </tr>\n",
       "    <tr>\n",
       "      <th>25%</th>\n",
       "      <td>7310.750000</td>\n",
       "      <td>35.000000</td>\n",
       "      <td>2500.000000</td>\n",
       "      <td>2048.000000</td>\n",
       "      <td>0.143000</td>\n",
       "      <td>0.143000</td>\n",
       "    </tr>\n",
       "    <tr>\n",
       "      <th>50%</th>\n",
       "      <td>13993.000000</td>\n",
       "      <td>49.000000</td>\n",
       "      <td>2518.000000</td>\n",
       "      <td>2544.000000</td>\n",
       "      <td>0.143000</td>\n",
       "      <td>0.143000</td>\n",
       "    </tr>\n",
       "    <tr>\n",
       "      <th>75%</th>\n",
       "      <td>20673.000000</td>\n",
       "      <td>59.000000</td>\n",
       "      <td>2992.000000</td>\n",
       "      <td>2991.000000</td>\n",
       "      <td>0.168000</td>\n",
       "      <td>0.168000</td>\n",
       "    </tr>\n",
       "    <tr>\n",
       "      <th>max</th>\n",
       "      <td>30805.000000</td>\n",
       "      <td>414.000000</td>\n",
       "      <td>3827.000000</td>\n",
       "      <td>4715.000000</td>\n",
       "      <td>0.198800</td>\n",
       "      <td>0.198800</td>\n",
       "    </tr>\n",
       "  </tbody>\n",
       "</table>\n",
       "</div>"
      ],
      "text/plain": [
       "                  id            age          img_w          img_h  \\\n",
       "count  112120.000000  112120.000000  112120.000000  112120.000000   \n",
       "mean    14346.381743      46.901463    2646.078844    2486.438842   \n",
       "std      8403.876972      16.839923     341.246429     401.268227   \n",
       "min         1.000000       1.000000    1143.000000     966.000000   \n",
       "25%      7310.750000      35.000000    2500.000000    2048.000000   \n",
       "50%     13993.000000      49.000000    2518.000000    2544.000000   \n",
       "75%     20673.000000      59.000000    2992.000000    2991.000000   \n",
       "max     30805.000000     414.000000    3827.000000    4715.000000   \n",
       "\n",
       "       img_pix_spc_x  img_pix_spc_y  \n",
       "count  112120.000000  112120.000000  \n",
       "mean        0.155649       0.155649  \n",
       "std         0.016174       0.016174  \n",
       "min         0.115000       0.115000  \n",
       "25%         0.143000       0.143000  \n",
       "50%         0.143000       0.143000  \n",
       "75%         0.168000       0.168000  \n",
       "max         0.198800       0.198800  "
      ]
     },
     "execution_count": 11,
     "metadata": {},
     "output_type": "execute_result"
    }
   ],
   "source": [
    "data.describe()"
   ]
  },
  {
   "cell_type": "markdown",
   "id": "46f82b40-8b92-44d8-9c3b-cf27fdff0c7f",
   "metadata": {},
   "source": [
    "Maximum age of `414` does not make sense. There appears to be an issue with the `age` column."
   ]
  },
  {
   "cell_type": "code",
   "execution_count": 12,
   "id": "da655a66-2b34-488a-8bea-dc6416a9331f",
   "metadata": {
    "execution": {
     "iopub.execute_input": "2023-02-11T01:31:05.593511Z",
     "iopub.status.busy": "2023-02-11T01:31:05.593409Z",
     "iopub.status.idle": "2023-02-11T01:31:06.099374Z",
     "shell.execute_reply": "2023-02-11T01:31:06.099064Z",
     "shell.execute_reply.started": "2023-02-11T01:31:05.593502Z"
    },
    "tags": []
   },
   "outputs": [],
   "source": [
    "# import matplotlib.pyplot as plt\n",
    "import seaborn as sns"
   ]
  },
  {
   "cell_type": "code",
   "execution_count": 13,
   "id": "c80b4e6b-19d3-4f28-b0ca-933583928260",
   "metadata": {
    "execution": {
     "iopub.execute_input": "2023-02-11T01:31:06.101727Z",
     "iopub.status.busy": "2023-02-11T01:31:06.101539Z",
     "iopub.status.idle": "2023-02-11T01:31:06.179882Z",
     "shell.execute_reply": "2023-02-11T01:31:06.179559Z",
     "shell.execute_reply.started": "2023-02-11T01:31:06.101717Z"
    },
    "tags": []
   },
   "outputs": [
    {
     "data": {
      "image/png": "[encoded data removed]",
      "text/plain": [
       "<Figure size 640x480 with 1 Axes>"
      ]
     },
     "metadata": {},
     "output_type": "display_data"
    }
   ],
   "source": [
    "sns.boxenplot(data.age, orient=\"horizontal\");"
   ]
  },
  {
   "cell_type": "code",
   "execution_count": 14,
   "id": "462c4d93-bc2b-4e35-9611-0269f9780051",
   "metadata": {
    "execution": {
     "iopub.execute_input": "2023-02-11T01:31:06.180367Z",
     "iopub.status.busy": "2023-02-11T01:31:06.180273Z",
     "iopub.status.idle": "2023-02-11T01:31:06.187852Z",
     "shell.execute_reply": "2023-02-11T01:31:06.187497Z",
     "shell.execute_reply.started": "2023-02-11T01:31:06.180355Z"
    },
    "tags": []
   },
   "outputs": [],
   "source": [
    "data = data[data.age < 125] # The oldest person to ever live was ~122 years old when they passed."
   ]
  },
  {
   "cell_type": "code",
   "execution_count": 15,
   "id": "4dd32d9b-0976-4412-a3f4-09b0cda90763",
   "metadata": {
    "execution": {
     "iopub.execute_input": "2023-02-11T01:31:06.188600Z",
     "iopub.status.busy": "2023-02-11T01:31:06.188482Z",
     "iopub.status.idle": "2023-02-11T01:31:06.255067Z",
     "shell.execute_reply": "2023-02-11T01:31:06.254711Z",
     "shell.execute_reply.started": "2023-02-11T01:31:06.188590Z"
    },
    "tags": []
   },
   "outputs": [
    {
     "data": {
      "image/png": "[encoded data removed]",
      "text/plain": [
       "<Figure size 640x480 with 1 Axes>"
      ]
     },
     "metadata": {},
     "output_type": "display_data"
    }
   ],
   "source": [
    "sns.boxenplot(data.age, orient=\"horizontal\");"
   ]
  },
  {
   "cell_type": "code",
   "execution_count": 16,
   "id": "459edfe2-c3e2-48ee-948b-538f611ff971",
   "metadata": {
    "execution": {
     "iopub.execute_input": "2023-02-11T01:31:06.255677Z",
     "iopub.status.busy": "2023-02-11T01:31:06.255576Z",
     "iopub.status.idle": "2023-02-11T01:31:06.258640Z",
     "shell.execute_reply": "2023-02-11T01:31:06.258218Z",
     "shell.execute_reply.started": "2023-02-11T01:31:06.255667Z"
    },
    "tags": []
   },
   "outputs": [
    {
     "data": {
      "text/plain": [
       "(112104, 10)"
      ]
     },
     "execution_count": 16,
     "metadata": {},
     "output_type": "execute_result"
    }
   ],
   "source": [
    "data.shape"
   ]
  },
  {
   "cell_type": "markdown",
   "id": "8e661ddc-595d-4679-afc6-c79f7467d2ea",
   "metadata": {},
   "source": [
    "Check for duplicates."
   ]
  },
  {
   "cell_type": "code",
   "execution_count": 17,
   "id": "7ceb7865-9d35-492d-a39d-70ce55c360f9",
   "metadata": {
    "execution": {
     "iopub.execute_input": "2023-02-11T01:31:06.259376Z",
     "iopub.status.busy": "2023-02-11T01:31:06.259252Z",
     "iopub.status.idle": "2023-02-11T01:31:06.292163Z",
     "shell.execute_reply": "2023-02-11T01:31:06.291759Z",
     "shell.execute_reply.started": "2023-02-11T01:31:06.259366Z"
    },
    "tags": []
   },
   "outputs": [],
   "source": [
    "data.drop_duplicates(inplace=True)"
   ]
  },
  {
   "cell_type": "code",
   "execution_count": 18,
   "id": "7f3161fa-fda3-444a-93b6-e031c1f2430a",
   "metadata": {
    "execution": {
     "iopub.execute_input": "2023-02-11T01:31:06.292671Z",
     "iopub.status.busy": "2023-02-11T01:31:06.292579Z",
     "iopub.status.idle": "2023-02-11T01:31:06.295720Z",
     "shell.execute_reply": "2023-02-11T01:31:06.295264Z",
     "shell.execute_reply.started": "2023-02-11T01:31:06.292661Z"
    },
    "tags": []
   },
   "outputs": [
    {
     "data": {
      "text/plain": [
       "(112104, 10)"
      ]
     },
     "execution_count": 18,
     "metadata": {},
     "output_type": "execute_result"
    }
   ],
   "source": [
    "data.shape"
   ]
  },
  {
   "cell_type": "code",
   "execution_count": 19,
   "id": "845e66fe-401e-4f81-97df-09f9ca6f57f0",
   "metadata": {
    "execution": {
     "iopub.execute_input": "2023-02-11T01:43:57.063408Z",
     "iopub.status.busy": "2023-02-11T01:43:57.062347Z",
     "iopub.status.idle": "2023-02-11T01:43:57.089981Z",
     "shell.execute_reply": "2023-02-11T01:43:57.089334Z",
     "shell.execute_reply.started": "2023-02-11T01:43:57.063357Z"
    },
    "tags": []
   },
   "outputs": [
    {
     "data": {
      "text/html": [
       "<div>\n",
       "<style scoped>\n",
       "    .dataframe tbody tr th:only-of-type {\n",
       "        vertical-align: middle;\n",
       "    }\n",
       "\n",
       "    .dataframe tbody tr th {\n",
       "        vertical-align: top;\n",
       "    }\n",
       "\n",
       "    .dataframe thead th {\n",
       "        text-align: right;\n",
       "    }\n",
       "</style>\n",
       "<table border=\"1\" class=\"dataframe\">\n",
       "  <thead>\n",
       "    <tr style=\"text-align: right;\">\n",
       "      <th></th>\n",
       "      <th>img_idx</th>\n",
       "      <th>labels</th>\n",
       "      <th>id</th>\n",
       "      <th>age</th>\n",
       "      <th>gender</th>\n",
       "      <th>view_pos</th>\n",
       "      <th>img_w</th>\n",
       "      <th>img_h</th>\n",
       "      <th>img_pix_spc_x</th>\n",
       "      <th>img_pix_spc_y</th>\n",
       "    </tr>\n",
       "  </thead>\n",
       "  <tbody>\n",
       "    <tr>\n",
       "      <th>112115</th>\n",
       "      <td>00030801_001.png</td>\n",
       "      <td>Mass|Pneumonia</td>\n",
       "      <td>30801</td>\n",
       "      <td>39</td>\n",
       "      <td>M</td>\n",
       "      <td>PA</td>\n",
       "      <td>2048</td>\n",
       "      <td>2500</td>\n",
       "      <td>0.168</td>\n",
       "      <td>0.168</td>\n",
       "    </tr>\n",
       "    <tr>\n",
       "      <th>112116</th>\n",
       "      <td>00030802_000.png</td>\n",
       "      <td>No Finding</td>\n",
       "      <td>30802</td>\n",
       "      <td>29</td>\n",
       "      <td>M</td>\n",
       "      <td>PA</td>\n",
       "      <td>2048</td>\n",
       "      <td>2500</td>\n",
       "      <td>0.168</td>\n",
       "      <td>0.168</td>\n",
       "    </tr>\n",
       "    <tr>\n",
       "      <th>112117</th>\n",
       "      <td>00030803_000.png</td>\n",
       "      <td>No Finding</td>\n",
       "      <td>30803</td>\n",
       "      <td>42</td>\n",
       "      <td>F</td>\n",
       "      <td>PA</td>\n",
       "      <td>2048</td>\n",
       "      <td>2500</td>\n",
       "      <td>0.168</td>\n",
       "      <td>0.168</td>\n",
       "    </tr>\n",
       "    <tr>\n",
       "      <th>112118</th>\n",
       "      <td>00030804_000.png</td>\n",
       "      <td>No Finding</td>\n",
       "      <td>30804</td>\n",
       "      <td>30</td>\n",
       "      <td>F</td>\n",
       "      <td>PA</td>\n",
       "      <td>2048</td>\n",
       "      <td>2500</td>\n",
       "      <td>0.168</td>\n",
       "      <td>0.168</td>\n",
       "    </tr>\n",
       "    <tr>\n",
       "      <th>112119</th>\n",
       "      <td>00030805_000.png</td>\n",
       "      <td>No Finding</td>\n",
       "      <td>30805</td>\n",
       "      <td>27</td>\n",
       "      <td>M</td>\n",
       "      <td>PA</td>\n",
       "      <td>2048</td>\n",
       "      <td>2500</td>\n",
       "      <td>0.171</td>\n",
       "      <td>0.171</td>\n",
       "    </tr>\n",
       "  </tbody>\n",
       "</table>\n",
       "</div>"
      ],
      "text/plain": [
       "                 img_idx          labels     id  age gender view_pos  img_w  \\\n",
       "112115  00030801_001.png  Mass|Pneumonia  30801   39      M       PA   2048   \n",
       "112116  00030802_000.png      No Finding  30802   29      M       PA   2048   \n",
       "112117  00030803_000.png      No Finding  30803   42      F       PA   2048   \n",
       "112118  00030804_000.png      No Finding  30804   30      F       PA   2048   \n",
       "112119  00030805_000.png      No Finding  30805   27      M       PA   2048   \n",
       "\n",
       "        img_h  img_pix_spc_x  img_pix_spc_y  \n",
       "112115   2500          0.168          0.168  \n",
       "112116   2500          0.168          0.168  \n",
       "112117   2500          0.168          0.168  \n",
       "112118   2500          0.168          0.168  \n",
       "112119   2500          0.171          0.171  "
      ]
     },
     "execution_count": 19,
     "metadata": {},
     "output_type": "execute_result"
    }
   ],
   "source": [
    "data.tail()"
   ]
  },
  {
   "cell_type": "markdown",
   "id": "05c2a78d-74e4-4c8f-9e8f-f1e0283424a1",
   "metadata": {},
   "source": [
    "Visualize the data."
   ]
  },
  {
   "cell_type": "code",
   "execution_count": 21,
   "id": "e7f73047-d393-497e-8003-fc1eea23342e",
   "metadata": {
    "execution": {
     "iopub.execute_input": "2023-02-11T02:13:43.523208Z",
     "iopub.status.busy": "2023-02-11T02:13:43.521875Z",
     "iopub.status.idle": "2023-02-11T02:13:43.891361Z",
     "shell.execute_reply": "2023-02-11T02:13:43.891063Z",
     "shell.execute_reply.started": "2023-02-11T02:13:43.523137Z"
    },
    "tags": []
   },
   "outputs": [
    {
     "data": {
      "image/png": "[encoded data removed]",
      "text/plain": [
       "<Figure size 1000x1000 with 6 Axes>"
      ]
     },
     "metadata": {},
     "output_type": "display_data"
    }
   ],
   "source": [
    "data.hist(figsize=(10,10));"
   ]
  },
  {
   "cell_type": "code",
   "execution_count": 24,
   "id": "bc3bd169-efb4-452c-a94f-e23895f78f4f",
   "metadata": {
    "execution": {
     "iopub.execute_input": "2023-02-11T02:15:06.812803Z",
     "iopub.status.busy": "2023-02-11T02:15:06.809768Z",
     "iopub.status.idle": "2023-02-11T02:15:07.036081Z",
     "shell.execute_reply": "2023-02-11T02:15:07.035720Z",
     "shell.execute_reply.started": "2023-02-11T02:15:06.812731Z"
    },
    "tags": []
   },
   "outputs": [
    {
     "data": {
      "image/png": "[encoded data removed]",
      "text/plain": [
       "<Figure size 640x480 with 1 Axes>"
      ]
     },
     "metadata": {},
     "output_type": "display_data"
    }
   ],
   "source": [
    "# Split labels based on a delimiter \n",
    "data[\"labels\"].str.split(\"|\").explode(\"labels\").value_counts().plot(kind=\"bar\");"
   ]
  },
  {
   "cell_type": "code",
   "execution_count": 26,
   "id": "9726527b-8b46-4f5a-b33f-dc6014a1fef3",
   "metadata": {
    "execution": {
     "iopub.execute_input": "2023-02-11T02:16:05.902016Z",
     "iopub.status.busy": "2023-02-11T02:16:05.901009Z",
     "iopub.status.idle": "2023-02-11T02:16:05.986813Z",
     "shell.execute_reply": "2023-02-11T02:16:05.986329Z",
     "shell.execute_reply.started": "2023-02-11T02:16:05.901956Z"
    },
    "tags": []
   },
   "outputs": [
    {
     "data": {
      "image/png": "[encoded data removed]",
      "text/plain": [
       "<Figure size 640x480 with 1 Axes>"
      ]
     },
     "metadata": {},
     "output_type": "display_data"
    }
   ],
   "source": [
    "data[\"gender\"].value_counts().plot(kind=\"bar\");"
   ]
  },
  {
   "cell_type": "code",
   "execution_count": 28,
   "id": "f972db87-8ba3-404d-8399-b374c252a566",
   "metadata": {
    "execution": {
     "iopub.execute_input": "2023-02-11T02:16:27.214979Z",
     "iopub.status.busy": "2023-02-11T02:16:27.213943Z",
     "iopub.status.idle": "2023-02-11T02:16:27.309843Z",
     "shell.execute_reply": "2023-02-11T02:16:27.309288Z",
     "shell.execute_reply.started": "2023-02-11T02:16:27.214937Z"
    },
    "tags": []
   },
   "outputs": [
    {
     "data": {
      "image/png": "[encoded data removed]",
      "text/plain": [
       "<Figure size 640x480 with 1 Axes>"
      ]
     },
     "metadata": {},
     "output_type": "display_data"
    }
   ],
   "source": [
    "data[\"view_pos\"].value_counts().plot(kind=\"bar\");"
   ]
  },
  {
   "cell_type": "markdown",
   "id": "249c1533-48a7-4d36-8371-65b2e37a1a4b",
   "metadata": {},
   "source": [
    "Save the cleaned data to disk."
   ]
  },
  {
   "cell_type": "code",
   "execution_count": 29,
   "id": "0dc05c4b-f96b-4aba-8993-ddedb1c216e6",
   "metadata": {
    "execution": {
     "iopub.execute_input": "2023-02-11T02:21:04.143054Z",
     "iopub.status.busy": "2023-02-11T02:21:04.142656Z",
     "iopub.status.idle": "2023-02-11T02:21:04.449670Z",
     "shell.execute_reply": "2023-02-11T02:21:04.449346Z",
     "shell.execute_reply.started": "2023-02-11T02:21:04.143027Z"
    },
    "tags": []
   },
   "outputs": [],
   "source": [
    "clean_data_path = \"../clean_data/cleaned_data.csv\"\n",
    "data.to_csv(clean_data_path)"
   ]
  }
 ],
 "metadata": {
  "kernelspec": {
   "display_name": "Python 3 (ipykernel)",
   "language": "python",
   "name": "python3"
  },
  "language_info": {
   "codemirror_mode": {
    "name": "ipython",
    "version": 3
   },
   "file_extension": ".py",
   "mimetype": "text/x-python",
   "name": "python",
   "nbconvert_exporter": "python",
   "pygments_lexer": "ipython3",
   "version": "3.10.6"
  }
 },
 "nbformat": 4,
 "nbformat_minor": 5
}
